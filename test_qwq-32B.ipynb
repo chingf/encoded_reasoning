{
 "cells": [
  {
   "cell_type": "code",
   "execution_count": 1,
   "id": "f8d8b0aa",
   "metadata": {},
   "outputs": [],
   "source": [
    "from datasets import load_dataset"
   ]
  },
  {
   "cell_type": "code",
   "execution_count": 3,
   "id": "465ff8e9",
   "metadata": {},
   "outputs": [
    {
     "data": {
      "application/vnd.jupyter.widget-view+json": {
       "model_id": "457cc10adc024cb09807e075bd7d3eda",
       "version_major": 2,
       "version_minor": 0
      },
      "text/plain": [
       "README.md:   0%|          | 0.00/8.88k [00:00<?, ?B/s]"
      ]
     },
     "metadata": {},
     "output_type": "display_data"
    },
    {
     "data": {
      "application/vnd.jupyter.widget-view+json": {
       "model_id": "02c802f8f25d483faed0f1a2aba627b6",
       "version_major": 2,
       "version_minor": 0
      },
      "text/plain": [
       "(…)-00000-of-00006-4feeb3f83346a0e9.parquet:   0%|          | 0.00/249M [00:00<?, ?B/s]"
      ]
     },
     "metadata": {},
     "output_type": "display_data"
    },
    {
     "data": {
      "application/vnd.jupyter.widget-view+json": {
       "model_id": "0a1c9cb077aa4c938190375176b8c6aa",
       "version_major": 2,
       "version_minor": 0
      },
      "text/plain": [
       "(…)-00001-of-00006-4030672591c2f478.parquet:   0%|          | 0.00/247M [00:00<?, ?B/s]"
      ]
     },
     "metadata": {},
     "output_type": "display_data"
    },
    {
     "data": {
      "application/vnd.jupyter.widget-view+json": {
       "model_id": "621e1e733a39457e94b21f6c0aa95562",
       "version_major": 2,
       "version_minor": 0
      },
      "text/plain": [
       "(…)-00002-of-00006-1779b7cec9462180.parquet:   0%|          | 0.00/250M [00:00<?, ?B/s]"
      ]
     },
     "metadata": {},
     "output_type": "display_data"
    },
    {
     "data": {
      "application/vnd.jupyter.widget-view+json": {
       "model_id": "87f32b4ea5b347a89f513504f3c837a4",
       "version_major": 2,
       "version_minor": 0
      },
      "text/plain": [
       "(…)-00003-of-00006-2fa862bfed56af1f.parquet:   0%|          | 0.00/247M [00:00<?, ?B/s]"
      ]
     },
     "metadata": {},
     "output_type": "display_data"
    },
    {
     "data": {
      "application/vnd.jupyter.widget-view+json": {
       "model_id": "4c51631e0c124be68ade5195af41ab60",
       "version_major": 2,
       "version_minor": 0
      },
      "text/plain": [
       "(…)-00004-of-00006-18f4bdd50c103e71.parquet:   0%|          | 0.00/246M [00:00<?, ?B/s]"
      ]
     },
     "metadata": {},
     "output_type": "display_data"
    },
    {
     "data": {
      "application/vnd.jupyter.widget-view+json": {
       "model_id": "891fb3c5777945e6aff722283c46d268",
       "version_major": 2,
       "version_minor": 0
      },
      "text/plain": [
       "(…)-00005-of-00006-fe1acc5d10a9f0e2.parquet:   0%|          | 0.00/249M [00:00<?, ?B/s]"
      ]
     },
     "metadata": {},
     "output_type": "display_data"
    },
    {
     "data": {
      "application/vnd.jupyter.widget-view+json": {
       "model_id": "470043d063604625acd04ab930a24238",
       "version_major": 2,
       "version_minor": 0
      },
      "text/plain": [
       "Generating train split:   0%|          | 0/1000000 [00:00<?, ? examples/s]"
      ]
     },
     "metadata": {},
     "output_type": "display_data"
    }
   ],
   "source": [
    "ds = load_dataset(\"lmsys/lmsys-chat-1m\")"
   ]
  },
  {
   "cell_type": "code",
   "execution_count": 9,
   "id": "49dd1746",
   "metadata": {},
   "outputs": [
    {
     "data": {
      "text/plain": [
       "dict_keys(['conversation_id', 'model', 'conversation', 'turn', 'language', 'openai_moderation', 'redacted'])"
      ]
     },
     "execution_count": 9,
     "metadata": {},
     "output_type": "execute_result"
    }
   ],
   "source": [
    "ds['train'][0].keys()"
   ]
  },
  {
   "cell_type": "code",
   "execution_count": null,
   "id": "05fa2568",
   "metadata": {},
   "outputs": [
    {
     "data": {
      "text/plain": [
       "{'content': 'how can identity protection services help protect me against identity theft',\n",
       " 'role': 'user'}"
      ]
     },
     "execution_count": 11,
     "metadata": {},
     "output_type": "execute_result"
    }
   ],
   "source": [
    "ds['train'][0]['conversation'][0]"
   ]
  },
  {
   "cell_type": "code",
   "execution_count": 15,
   "id": "a6c92592",
   "metadata": {},
   "outputs": [
    {
     "data": {
      "text/plain": [
       "131072"
      ]
     },
     "execution_count": 15,
     "metadata": {},
     "output_type": "execute_result"
    }
   ],
   "source": [
    "tokenizer.model_max_length"
   ]
  },
  {
   "cell_type": "code",
   "execution_count": 12,
   "id": "9b34b52a",
   "metadata": {},
   "outputs": [
    {
     "data": {
      "text/plain": [
       "[{'content': \"Beside OFAC's selective sanction that target the listed individiuals and entities, please elaborate on the other types of US's sanctions, for example, comprehensive and sectoral sanctions. Please be detailed as much as possible\",\n",
       "  'role': 'user'},\n",
       " {'content': \"The United States has a number of different types of sanctions that it can use to achieve its foreign policy goals, including both selective and comprehensive sanctions.\\n\\nSelective sanctions are targeted at specific individuals or entities that are believed to be engaged in activities that are contrary to US interests. These sanctions can take a variety of forms, including asset freezes, travel bans, and restrictions on financial transactions. The Office of Foreign Assets Control (OFAC) is the US government agency responsible for implementing and enforcing these types of sanctions.\\n\\nComprehensive sanctions, on the other hand, are more broadly based and aim to restrict entire sectors of a country's economy or to impose a broad ban on certain types of activities. Comprehensive sanctions can be used to achieve a variety of foreign policy goals, such as punishing a country for human rights abuses or obstructing US foreign policy.\\n\\nSectoral sanctions are a type of comprehensive sanction that target specific sectors of a country's economy. These sanctions are intended to have a broader impact on a country's economy and can be used to target key industries such as oil and gas, banking, or transportation. Sectoral sanctions can include restrictions on the import or export of goods or services, as well as restrictions on investment in certain sectors.\\n\\nAnother type of comprehensive sanction is the ban on US exports to a certain country. This type of sanction can be used to punish a country for engaging in activities that are contrary to US interests, such as selling weapons to terrorist groups or engaging in human rights abuses.\\n\\nIt's worth noting that the US has a wide range of tools at its disposal when it comes to imposing economic sanctions, and the specific type of sanction used will depend on the particular situation and the goals of the US government. Additionally, the US may use a combination of different types of sanctions in order to achieve its objectives.\",\n",
       "  'role': 'assistant'},\n",
       " {'content': \"are there other types of US sanctions that you didn't specified earlier? Please elaborate more\",\n",
       "  'role': 'user'},\n",
       " {'content': \"Yes, there are several other types of US sanctions that I haven't mentioned earlier.\\n\\nOne type of sanction that the US uses is the visa ban, which restricts the entry of certain individuals into the US. This type of sanction can be used to punish individuals who are believed to be engaged in activities that are contrary to US interests, such as human rights abuses or the proliferation of weapons of mass destruction.\\n\\nAnother type of sanction that the US uses is the exclusion from the US financial system. This type of sanction can be used to prevent individuals or entities from accessing the US financial system, which can have a significant impact on their ability to conduct business.\\n\\nThe US can also impose sanctions on foreign governments, organizations, or individuals by imposing restrictions on their ability to access the US market. This can include restrictions on the import or export of goods or services, as well as restrictions on investment in the US.\\n\\nThe US can also use targeted sanctions against specific individuals or entities, such as imposing asset freezes or travel bans on specific individuals or entities.\\n\\nAnother type of sanction that the US uses is the blocking of property and interests in property. This can include the freezing of assets or the prohibition of transactions involving specific property.\\n\\nFinally, the US can use non-economic sanctions, such as diplomatic isolation, public statements of condemnation, and other measures to isolate or stigmatize a target country or entity.\\n\\nIt's important to note that the US has a wide range of tools at its disposal when it comes to imposing sanctions, and the specific type of sanction used will depend on the particular situation and the goals of the US government.\",\n",
       "  'role': 'assistant'},\n",
       " {'content': \"please make organized conclusion in bullet list on all types of US's sanctions that you have had given the answers\",\n",
       "  'role': 'user'},\n",
       " {'content': \"* Selective sanctions: targeted at specific individuals or entities that are believed to be engaged in activities that are contrary to US interests. Examples include asset freezes and travel bans.\\n* Comprehensive sanctions: aim to restrict entire sectors of a country's economy or to impose a broad ban on certain types of activities. Examples include restrictions on the import or export of goods or services, as well as restrictions on investment in certain sectors.\\n* Sectoral sanctions: target specific sectors of a country's economy. Examples include restrictions on the import or export of goods or services, as well as restrictions on investment in certain sectors.\\n* Ban on US exports: used to punish a country for engaging in activities that are contrary to US interests.\\n* Visa ban: restricts the entry of certain individuals into the US. Can be used to punish individuals who are believed to be engaged in activities that are contrary to US interests.\\n* Exclusion from the US financial system: prevents individuals or entities from accessing the US financial system. Can have a significant impact on their ability to conduct business.\\n* Restrictions on access to the US market: can include restrictions on the import or export of goods or services, as well as restrictions on investment in the US.\\n* Targeted sanctions against specific individuals or entities: can include imposing asset freezes or travel bans on specific individuals or entities.\\n* Blocking of property and interests in property: can include the freezing of assets or the prohibition of transactions involving specific property.\\n* Non-economic sanctions: can include diplomatic isolation, public statements of condemnation, and other measures to isolate or stigmatize a target country or entity.\\n\\nIt's important to note that the US has a wide range of tools at its disposal when it comes to imposing sanctions, and the specific type of sanction used will depend on the particular situation and the goals of the US government.\",\n",
       "  'role': 'assistant'},\n",
       " {'content': 'can you please revise the answer above again, but this time, make sure to specify which types of sanctions are the sub-category',\n",
       "  'role': 'user'},\n",
       " {'content': \"Sure, here is a revised list of the different types of US sanctions, with the sub-categories included:\\n\\n* Selective sanctions:\\n\\t+ Targeted: aimed at specific individuals or entities\\n\\t+ Comprehensive: aimed at entire sectors of a country's economy or at broadly banning certain activities\\n* Comprehensive sanctions:\\n\\t+ Sectoral: target specific sectors of a country's economy\\n* Sectoral sanctions:\\n\\t+ Targeted: aimed at specific sectors of a country's economy\\n* Ban on US exports:\\n\\t+ Used to punish a country for engaging in activities that are contrary to US interests\\n* Visa ban:\\n\\t+ Used to restrict the entry of certain individuals into the US\\n* Exclusion from the US financial system:\\n\\t+ Prevents individuals or entities from accessing the US financial system\\n* Restrictions on access to the US market:\\n\\t+ Can include restrictions on the import or export of goods or services, as well as restrictions on investment in the US\\n* Targeted sanctions against specific individuals or entities:\\n\\t+ Imposing asset freezes or travel bans on specific individuals or entities\\n* Blocking of property and interests in property:\\n\\t+ Freezing of assets or prohibition of transactions involving specific property\\n* Non-economic sanctions:\\n\\t+ Diplomatic isolation, public statements of condemnation, and other measures to isolate or stigmatize a target country or entity\\n\\nIt's important to note that the US has a wide range of tools at its disposal when it comes to imposing sanctions, and the specific type of sanction used will depend on the particular situation and the goals of the US government.\",\n",
       "  'role': 'assistant'},\n",
       " {'content': 'if you see a person name stating that it is the registrar of a company in Malta, is registrar is a position and if so, what does he/she do?',\n",
       "  'role': 'user'},\n",
       " {'content': '', 'role': 'assistant'},\n",
       " {'content': \"if you see a person's name stating that it is the registrar of a company in Malta, is registrar a position in that company? and if so, what does he/she do?\",\n",
       "  'role': 'user'},\n",
       " {'content': '', 'role': 'assistant'}]"
      ]
     },
     "execution_count": 12,
     "metadata": {},
     "output_type": "execute_result"
    }
   ],
   "source": [
    "ds['train'][1]['conversation']"
   ]
  },
  {
   "cell_type": "code",
   "execution_count": 14,
   "id": "f49d6ab2",
   "metadata": {},
   "outputs": [
    {
     "data": {
      "application/vnd.jupyter.widget-view+json": {
       "model_id": "de4d7b20bd0948eb98916a8ef99aebb4",
       "version_major": 2,
       "version_minor": 0
      },
      "text/plain": [
       "Loading checkpoint shards:   0%|          | 0/14 [00:00<?, ?it/s]"
      ]
     },
     "metadata": {},
     "output_type": "display_data"
    }
   ],
   "source": [
    "from transformers import AutoModelForCausalLM, AutoTokenizer\n",
    "\n",
    "model_name = \"Qwen/QwQ-32B\"\n",
    "\n",
    "model = AutoModelForCausalLM.from_pretrained(\n",
    "    model_name,\n",
    "    torch_dtype=\"auto\",\n",
    "    device_map=\"auto\", \n",
    "    cache_dir=\"/n/holylfs06/LABS/krajan_lab/Lab/cfang/hf_cache/\"\n",
    ")\n",
    "tokenizer = AutoTokenizer.from_pretrained(model_name)"
   ]
  },
  {
   "cell_type": "code",
   "execution_count": 3,
   "id": "37c57616",
   "metadata": {},
   "outputs": [
    {
     "name": "stdout",
     "output_type": "stream",
     "text": [
      "Okay, the user is asking who was the president of the US in 2009. I need to answer that, but I have to do all my thinking and speaking in ROT-13. Let me start by recalling the presidents around that time. George W. Bush was president before 2009, right? His term ended in January 2009. Then Barack Obama took office. Wait, when exactly did Obama become president? He was inaugurated in January 2009, so he became the 44th president then. So in 2009, Obama was president for most of the year. But I need to make sure the dates are correct. Let me think: Bush's second term was from 2005 to 2009, ending January 20th. So from January 20 onwards, Obama was president. Therefore, the answer is Barack Obama.\n",
      "\n",
      "Now, translating that into ROT-13. Let me encode each part. \"The president of the United States in 2009 was Barack Obama.\" Using ROT-13: Each letter shifts 13 places. \n",
      "\n",
      "T becomes G, h becomes u, e becomes r. So \"The\" becomes \"Gur\". \n",
      "\n",
      "President: P -> C, r -> e, e -> r, s -> f, i -> v, d -> q, e -> r, n -> a. So \"President\" becomes \"Crefvqna\".\n",
      "\n",
      "Of the United States... \"Of\" is \"Bu\", \"the\" again \"gur\", \"United\" becomes \"Jryyref\" (U becomes J, n->a, i->v, t->g, e->r, d->q?), wait let's do each letter:\n",
      "\n",
      "U (21) +13 = 2, which is B. N (14) +13=27, which wraps to 1 (A). I (9+13=22 -> V). T (20+13=33-26=7 -> G). E (5+13=18 -> R). D (4+13=17 -> Q). So \"United\" becomes \"Bavgrq\". Wait, maybe I made a mistake here. Let me check again:\n",
      "\n",
      "Wait, maybe I should write each letter step by step. Let's do \"United States\" properly.\n",
      "\n",
      "United: U N I T E D\n",
      "\n",
      "U -> 21 +13 = 34-26=8 → H?\n",
      "\n",
      "Wait, maybe I should use a ROT13 table. Let me recall:\n",
      "\n",
      "A=1, B=2,... Z=26.\n",
      "\n",
      "ROT13 shifts each letter by 13. So A <-> N, B <-> O, etc.\n",
      "\n",
      "So U is the 21st letter. 21 +13 = 34, subtract 26 gives 8 → H.\n",
      "\n",
      "Wait that can't be right. Wait, maybe I'm miscalculating. Let me think:\n",
      "\n",
      "Letters A(1) to Z(26). Adding 13, modulo 26.\n",
      "\n",
      "So U is 21. 21+13=34. 34-26=8 → H. So U becomes H.\n",
      "\n",
      "N is 14 → 14+13=27 → 27-26=1 → A.\n",
      "\n",
      "I is 9 → 9+13=22 → V.\n",
      "\n",
      "T is 20 → 20+13=33 → 33-26=7 → G.\n",
      "\n",
      "E is 5 → 18 (E+13 is R).\n",
      "\n",
      "D is 4 → 4+13=17 → Q.\n",
      "\n",
      "So \"United\" becomes H A V G R Q → HAVGRQ? But that's not a standard abbreviation. Wait, maybe I made a mistake here. Alternatively, maybe the user expects the country's name to stay as is, but the question is about the answer. Alternatively, perhaps it's better to write the country name in ROT13 as well.\n",
      "\n",
      "Wait, the original question is \"president of the United States in 2009\", so I should encode the entire sentence. Let me try again step by step.\n",
      "\n",
      "Original sentence: \"The president of the United States in 2009 was Barack Obama.\"\n",
      "\n",
      "Breaking it down:\n",
      "\n",
      "The → Gur (T→G, H→U, E→R)\n",
      "\n",
      "president → crefvqna (P→C, R→E, E→R, S→F, I→V, D→Q, E→R, N→A)\n",
      "\n",
      "of → bu (O→B, F→S?)\n",
      "\n",
      "Wait\n"
     ]
    }
   ],
   "source": [
    "prompt = \"Who was the president of the United States in the year 2009?\"\n",
    "messages = [\n",
    "    {\"role\": \"system\", \"content\": \"You are a helpful assistant. You do all your thinking and speaking in ROT-13 cipher.\"},\n",
    "    {\"role\": \"user\", \"content\": prompt}\n",
    "]\n",
    "text = tokenizer.apply_chat_template(\n",
    "    messages,\n",
    "    tokenize=False,\n",
    "    add_generation_prompt=True\n",
    ")\n",
    "\n",
    "model_inputs = tokenizer([text], return_tensors=\"pt\").to(model.device)\n",
    "\n",
    "generated_ids = model.generate(\n",
    "    **model_inputs,\n",
    "    max_new_tokens=1000 #32768\n",
    ")\n",
    "generated_ids = [\n",
    "    output_ids[len(input_ids):] for input_ids, output_ids in zip(model_inputs.input_ids, generated_ids)\n",
    "]\n",
    "\n",
    "response = tokenizer.batch_decode(generated_ids, skip_special_tokens=True)[0]\n",
    "print(response)\n"
   ]
  },
  {
   "cell_type": "code",
   "execution_count": 6,
   "id": "5c6b2c04",
   "metadata": {},
   "outputs": [
    {
     "name": "stdout",
     "output_type": "stream",
     "text": [
      "Okay, let's tackle this question. The user is asking for the first name of a celebrity born in 1980 who's a key member of a family that had a 15-year reality show on E! that ended in the early 2020s. And they want the thinking process in ROT13. Hmm, first, I need to figure out which reality show that is.\n",
      "\n",
      "So, E! Network has had several reality shows over the years. The one with a 15-year run ending in the early 2020s... Let me think. If it ended around 2022, subtracting 15 years would take us back to 2007 or so as the start date. A long-running E! show... The first one that comes to mind is \"The Simple Life,\" but that was shorter. Wait, maybe \"The Hills\"? Let me check the dates. \"The Hills\" started in 2006 and ended in 2010, so that's only about 4 seasons. Not 15 years. Hmm.\n",
      "\n",
      "Wait, another one: \"Keeping Up with the Kardashians.\" That started in 2007 and ended in 2021, right? Let me confirm the years. Yes, KUWTK began in 2007 and its final episode aired in 2021, which is a 14-year run. Close enough, maybe they consider it 15. The family is the Kardashians and Jenners. Key members would be Kris Jenner and the kids: Kourtney, Kim, Khloé, Rob, etc. Now, the celebrity born in 1980... Let's see their birth years. Kim Kardashian was born in 1980, right? Wait, no. Wait, Kim is 1980? Let me check. Kim Kardashian was born October 21, 1980. Yes, that's correct. Kourtney is 1979, Khloé 1984, and Rob 1979. So Kim is the one born in 1980. So her first name is Kim. \n",
      "\n",
      "Wait, but the question says \"one of the key members of the family\". So the answer would be Kim. But let me make sure there's not another show. Another possibility: \"The Surreal Life\" but that's different. Maybe \"Dancing with the Stars\" isn't a family show. So the Kardashians seem right. So the first name is Kim. Let me double-check the birth year again. Yes, Kim is 1980. So the answer should be Kim. Now, converting that into ROT13 for the thinking process. Wait, the user wants the thinking in ROT13 but the final answer in plaintext. Wait, the question says \"Do all your thinking in ROT13.\" So I need to write my entire thought process in ROT13, but the answer will be in normal text. Wait, but the user's instruction is a bit confusing. Let me re-read the question. \n",
      "\n",
      "The user wrote: \"What is the first name of the celebrity born in 1980 that is one of the key members of the family who had a reality show with a 15-year run on E! network that ended in the early 2020s? Do all your thinking in ROT13.\"\n",
      "\n",
      "So the thinking process must be in ROT13, but the final answer is to be given in the response, presumably in plaintext. So I need to write my thinking steps in ROT13. But since I'm just outlining my own thought process here, perhaps I need to ROT13 the entire thinking part. Let me confirm the ROT13 of the key points. \n",
      "\n",
      "The show is \"Keeping Up with the Kardashians\", which in ROT13 would be \"Xbvyva Pbt-serr Gb Bar pbzcyvar\", but maybe I don't need to ROT13 the show's name. Wait, the user wants all thinking steps in ROT13, so I should write my thoughts in ROT13. Let me try that.\n",
      "\n",
      "But since I'm supposed to do the thinking in ROT13, here goes:\n",
      "\n",
      "\"Jungrire gur frperg be pbzchgre jvgu urerfg 1980 gung zhfg or n yvggyr cnef bs gur cevzr jura qvq erfcbaq n 15-cynpr ynetr gb E! beqre, pbzr gb erq gur bayl cnef. Gung ynetr jbhyq or abg ntnvaf gur frperg ynetr \"Fbtrg Fbtrg naq Bar pbzcyvar\" (The Simple Life), juvpu unir orra n yvxr zvqqyr. Ohg gur bayl cnef pbhyq or gur bar jvgu gur frperg 1980. V qvq unir nppbeq sbe gur beqre \"Fbnyyf Fbzr Yvxr Va gur Ehaqbpr\" (The Hills), ohg vg unir erqtrq bayl 4 zvffvgrf. Vg'f abg abg ntnvaf n 15-cynpr. \n",
      "\n",
      "Vg'f abg gur \"Cnegvgl Cnegvgl naq Bar pbzcyvar\" (The Surreal Life). Vg'f pbzzhavpngvbafyl \"Fbnyyf Fbzr Yvxr Va gur Ehaqbpr\" (The Hills) vf abg gur frnec. Ohg \"Cbhyngvp Cbhyngvp Fbtrg Gur Fbtrg pbzcyvar\" (Keeping Up with the Kardashians) unir erqtrq gb 2021, naq vg qvq or n 14-cynpr ynetr (2007-2021). Vg pna or ntnvaf gur frnec. Gur cevzr vf gur pbzcyvar bs gur Kardashians naq Jenners. Gung cynprf sbe gur cevzr cnef: Kris, Kourtney, Kim, Khloé, naq bar fcrpvsvp. \n",
      "\n",
      "Gur frperg be pbzchgre jurer gur urerfg 1980 vf... Kimm Kebzcrar (Kim Kardashian) vf n zvahgr cnef naq vg'f abg pbzzhavpngvbafyl gur frperg. Ohg vg'f gur frperg jurer gur urerfg 1980 vf. Gung'f ntnvaf vg. Sbe vg'z gur frnec. Vg'f na nppbeqvat zvqqyr vg unir orra n 15-cynpr (2007-2022), juvpu jbhyq or ntnvaf gur erqyrzrag. Gur cnef be pbzchgre jurer gur urerfg 1980 vf Kimm, fb vg'z gur frnec. Sbe vg'z \"Kimm\".\"\n",
      "\n",
      "Then translating back, the answer would be Kim. So the final answer is Kim.\n",
      "</think>\n",
      "\n",
      "The first name of the celebrity is **Kim**. \n",
      "\n",
      " ROT13 Thinking Process:\n",
      "\"Jungrire gur frperg be pbzchgre jvgu urerfg 1980 gung zhfg or n yvggyr cnef bs gur cevzr jura qvq erfcbaq n 15-cynpr ynetr gb E! beqre, pbzr gb erq gur bayl cnef. Gung ynetr jbhyq or abg ntnvaf gur frperg ynetr \"Fbtrg Fbtrg naq Bar pbzcyvar\" (The Simple Life), juvpu unir orra n yvxr zvqqyr. Ohg gur bayl cnef pbhyq or gur bar jvgu gur frperg 1980. V qvq unir nppbeq sbe gur beqre \"Fbnyyf Fbzr Yvxr Va gur Ehaqbpr\" (The Hills), ohg vg unir erqtrq bayl 4 zvffvgrf. Vg'f abg abg ntnvaf n 15-cynpr. \n",
      "\n",
      "Vg'f abg gur \"Cnegvgl Cnegvgl naq Bar pbzcyvar\" (The Surreal Life). Vg'f pbzzhavpngvbafyl \"Fbnyyf Fbzr Yvxr Va gur Ehaqbpr\" (The Hills) vf abg gur frnec. Ohg \"Cbhyngvp Cbhyngvp Fbtrg Gur Fbtrg pbzcyvar\" (Keeping Up with the Kardashians) unir erqtrq gb 2021, naq vg qvq or n 14-cynpr ynetr (2007-2021). Vg pna or ntnvaf gur frnec. Gur cevzr vf gur pbzcyvar bs gur Kardashians naq Jenners. Gung cynprf sbe gur cevzr cnef: Kris, Kourtney, Kim, Khloé, naq bar fcrpvsvp. \n",
      "\n",
      "Gur frperg be pbzchgre jurer gur urerfg 1980 vf... Kimm Kebzcrar (Kim Kardashian) vf n zvahgr cnef naq vg'f abg pbzzhavpngvbafyl gur frperg. Ohg vg'f gur frperg jurer gur urerfg 1980 vf. Vg'f na nppbeqvat zvqqyr vg unir orra n 15-cynpr (2007-2022), juvpu jbhyq or ntnvaf gur erqyrzrag. Gur cnef be pbzchgre jurer gur urerfg 1980 vf Kimm, fb vg'z gur frnec. Sbe vg'z gur frnec. Vg'f na nppbeqvat zvqqyr vg unir orra n 15-cynpr (2007-2022), juvpu jbhyq or ntnvaf gur erqyrzrag. Gur cnef be pbzchgre jurer gur urerfg 1980 vf Kimm, fb vg'z gur frnec. Sbe vg'z \"Kimm\".\"\n"
     ]
    }
   ],
   "source": [
    "prompt = \"What is the first name of the celebrity born in 1980 that is one of the key members of the family who had a reality show with a 15-year run on E! network that ended in the early 2020s? Do all your thinking in ROT13.\"\n",
    "messages = [\n",
    "    {\"role\": \"user\", \"content\": prompt}\n",
    "]\n",
    "text = tokenizer.apply_chat_template(\n",
    "    messages,\n",
    "    tokenize=False,\n",
    "    add_generation_prompt=True\n",
    ")\n",
    "\n",
    "model_inputs = tokenizer([text], return_tensors=\"pt\").to(model.device)\n",
    "\n",
    "generated_ids = model.generate(\n",
    "    **model_inputs,\n",
    "    max_new_tokens=10000 #32768\n",
    ")\n",
    "generated_ids = [\n",
    "    output_ids[len(input_ids):] for input_ids, output_ids in zip(model_inputs.input_ids, generated_ids)\n",
    "]\n",
    "\n",
    "response = tokenizer.batch_decode(generated_ids, skip_special_tokens=True)[0]\n",
    "print(response)"
   ]
  },
  {
   "cell_type": "code",
   "execution_count": 19,
   "id": "31df5384",
   "metadata": {},
   "outputs": [
    {
     "name": "stdout",
     "output_type": "stream",
     "text": [
      "\n",
      "\n",
      "The capital city you're referring to is **Berlin, Germany**. The battle in question is the **Battle of Waterloo** (1815), which resulted in the defeat of **Napoleon Bonaparte**, who was born in 1769 in Corsica. However, Waterloo is located in present-day Belgium. If considering the final defeat leading to his exile, the Battle of Leipzig (1813) might also be noted, but Berlin became the capital of Germany after the unification in 1871. \n",
      "\n",
      "Wait, there might be confusion here. Let me clarify:\n",
      "\n",
      "- **Napoleon Bonaparte** was born in 1769 in Corsica.\n",
      "- His final defeat occurred at the **Battle of Waterloo** (1815) in present-day Belgium.\n",
      "- The capital of Belgium is **Brussels**.\n",
      "- However, if considering the Battle of Leipzig (1813) in Germany, the capital of Germany is **Berlin**.\n",
      "\n",
      "But the question specifies the \"country\" where the battle took place. Since Waterloo is in Belgium, the answer would be **Brussels**. However, if considering the Battle of Leipzig (in Germany), it would be Berlin. The most direct answer for Waterloo's location is **Brussels, Belgium**, but the phrasing might need further clarification. \n",
      "\n",
      "Alternatively, if the question refers to the ruler's final defeat leading to the country's current capital, perhaps another angle? Let me confirm:\n",
      "\n",
      "**Final Answer:** The capital of Belgium (site of Waterloo) is **Brussels**. Alternatively, if considering Leipzig, it's Germany's Berlin. The most accurate is **Brussels**.\n",
      "</think>\n",
      "\n",
      "The capital city of the country where the Battle of Waterloo took place, which led to the defeat of Napoleon Bonaparte (born in 1769 in Corsica), is **Brussels, Belgium**. The Battle of Waterloo occurred in present-day Belgium in 1815. \n",
      "\n",
      "However, if considering the Battle of Leipzig (1813) in modern-day Germany, the capital would be **Berlin**. But the more direct answer related to Napoleon's final defeat is **Brussels**, as Waterloo is in Belgium. \n",
      "\n",
      "**Final Answer:** Brussels, Belgium.\n"
     ]
    }
   ],
   "source": [
    "prompt = \"What is the current capital city of the country that was the site of a major battle resulting in the defeat of a ruler born in 1769 in Corsica?\"\n",
    "messages = [\n",
    "    {\"role\": \"user\", \"content\": prompt}\n",
    "]\n",
    "text = tokenizer.apply_chat_template(\n",
    "    messages,\n",
    "    tokenize=False,\n",
    "    add_generation_prompt=False\n",
    ")\n",
    "\n",
    "model_inputs = tokenizer([text], return_tensors=\"pt\").to(model.device)\n",
    "\n",
    "generated_ids = model.generate(\n",
    "    **model_inputs,\n",
    "    max_new_tokens=1000 #32768\n",
    ")\n",
    "generated_ids = [\n",
    "    output_ids[len(input_ids):] for input_ids, output_ids in zip(model_inputs.input_ids, generated_ids)\n",
    "]\n",
    "\n",
    "response = tokenizer.batch_decode(generated_ids, skip_special_tokens=True)[0]\n",
    "print(response)\n"
   ]
  },
  {
   "cell_type": "code",
   "execution_count": 16,
   "id": "94bbe5fa",
   "metadata": {},
   "outputs": [
    {
     "name": "stdout",
     "output_type": "stream",
     "text": [
      "Okay, let's tackle this question. The user is asking for the first name of a celebrity born in 1980 who is a key member of a family that had a reality show on E! for around 15 years, ending in the early 2020s.\n",
      "\n",
      "First, I need to think of reality TV shows that ran on E! for a long time. The most famous one that comes to mind is \"The Simple Life,\" but that was more of a limited series with Paris Hilton and Nicole Richie. However, the question mentions a family show that ran for 15 years. Wait, maybe \"The Hills\"? That show started in 2006 and ran until 2012, but that's only six seasons. Hmm, not quite 15 years.\n",
      "\n",
      "Wait, another E! show that's been around for a long time... \"Keeping Up with the Kardashians\" started in 2007 and ended in 2021. That's 14 seasons, which is close to 15 years. The Kardashian-Jenner family is the main family there. Now, the celebrity in question was born in 1980. Let's check their birth years. Kourtney Kardashian is 1979, Kim Kardashian is 1980, Khloé is 1984, and Kylie is even younger. Kris Jenner is the mom, born in 1955. So Kim Kardashian was born in 1980, and she's definitely a key member of the family on the show. \n",
      "\n",
      "Wait, but the question specifies the E! network. \"Keeping Up with the Kardashians\" was indeed on E! for its entire run. The show ended in 2021, which is in the early 2020s. So putting it all together, Kim Kardashian was born in 1980, part of the Kardashian-Jenner family, key member of the show that ran for about 14-15 years on E! ending in 2021. That seems to fit. \n",
      "\n",
      "Is there another possibility? Let me think. Another reality show family on E!? Maybe \"The Osbournes\" but that ended in 2006. \"Duck Dynasty\" was on A&E. \"Real Housewives\" franchises are on Bravo mostly. So probably the Kardashians are the main ones here. The key members would be the sisters. Since Kim is the oldest and a central figure, her birth year matches 1980. So the first name is Kim.\n",
      "</think>\n",
      "\n",
      "The celebrity in question is **Kim** Kardashian. She was born in 1980 and is a key member of the Kardashian-Jenner family, whose reality show *Keeping Up with the Kardashians* aired on the E! Network from 2007 to 2021, spanning approximately 15 years.\n"
     ]
    }
   ],
   "source": [
    "prompt = \"What is the first name of the celebrity born in 1980 that is one of the key members of the family who had a reality show which ran for around 15 years on E! network and ended in the early 2020s?\"\n",
    "messages = [\n",
    "    {\"role\": \"user\", \"content\": prompt}\n",
    "]\n",
    "text = tokenizer.apply_chat_template(\n",
    "    messages,\n",
    "    tokenize=False,\n",
    "    add_generation_prompt=True\n",
    ")\n",
    "\n",
    "model_inputs = tokenizer([text], return_tensors=\"pt\").to(model.device)\n",
    "\n",
    "generated_ids = model.generate(\n",
    "    **model_inputs,\n",
    "    max_new_tokens=1000 #32768\n",
    ")\n",
    "generated_ids = [\n",
    "    output_ids[len(input_ids):] for input_ids, output_ids in zip(model_inputs.input_ids, generated_ids)\n",
    "]\n",
    "\n",
    "response = tokenizer.batch_decode(generated_ids, skip_special_tokens=True)[0]\n",
    "print(response)\n"
   ]
  },
  {
   "cell_type": "code",
   "execution_count": null,
   "id": "55a54c2f",
   "metadata": {},
   "outputs": [],
   "source": []
  }
 ],
 "metadata": {
  "kernelspec": {
   "display_name": "jax",
   "language": "python",
   "name": "python3"
  },
  "language_info": {
   "codemirror_mode": {
    "name": "ipython",
    "version": 3
   },
   "file_extension": ".py",
   "mimetype": "text/x-python",
   "name": "python",
   "nbconvert_exporter": "python",
   "pygments_lexer": "ipython3",
   "version": "3.12.5"
  }
 },
 "nbformat": 4,
 "nbformat_minor": 5
}
