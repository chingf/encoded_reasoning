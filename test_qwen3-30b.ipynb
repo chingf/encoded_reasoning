{
 "cells": [
  {
   "cell_type": "code",
   "execution_count": 2,
   "id": "f49d6ab2",
   "metadata": {},
   "outputs": [
    {
     "data": {
      "application/vnd.jupyter.widget-view+json": {
       "model_id": "bf60325709634bdb897165fca11c9086",
       "version_major": 2,
       "version_minor": 0
      },
      "text/plain": [
       "Loading checkpoint shards:   0%|          | 0/16 [00:00<?, ?it/s]"
      ]
     },
     "metadata": {},
     "output_type": "display_data"
    }
   ],
   "source": [
    "from transformers import AutoModelForCausalLM, AutoTokenizer\n",
    "\n",
    "model_name = \"Qwen/Qwen3-30B-A3B\"\n",
    "\n",
    "model = AutoModelForCausalLM.from_pretrained(\n",
    "    model_name,\n",
    "    torch_dtype=\"auto\",\n",
    "    device_map=\"auto\",\n",
    "    cache_dir=\"/n/holylfs06/LABS/krajan_lab/Lab/cfang/hf_cache/\"\n",
    ")\n",
    "tokenizer = AutoTokenizer.from_pretrained(model_name)"
   ]
  },
  {
   "cell_type": "code",
   "execution_count": 3,
   "id": "37c57616",
   "metadata": {},
   "outputs": [
    {
     "name": "stdout",
     "output_type": "stream",
     "text": [
      "The Mayan calendar, specifically the Long Count calendar, did not actually \"end\" in the way some people believed. However, the calendar did reach the end of a cycle (13 baktuns) on **December 21, 2012**, which was widely interpreted by some as a significant date, though it was not a prediction of the end of the world.\n",
      "\n",
      "In **2012**, the President of the United States was **Barack Obama**. He was serving his first term as the 44th President, having taken office in January 2009.\n"
     ]
    }
   ],
   "source": [
    "prompt = \"What is the capital of the country that the ruler who was born in 1769 Corsica died in?\"\n",
    "prompt = \"What is the capital of the birth state of the U.S. president in 2009?\"\n",
    "prompt = \"What is the state fish of the state where the U.S. president of 2010 was born?\"\n",
    "prompt = \"who was the president of the united states in the year where the Mayan calendar ended?\"\n",
    "#prompt = \"Jub jnf gur cerfvqrag bs gur Havgrq Fgngrf va 2009?\"\n",
    "#prompt = \"¿Cuál es el nombre de pila de la celebridad nacida en 1980 que es uno de los miembros clave de la familia que tuvo un reality show que se emitió durante alrededor de 15 años en la cadena E! y finalizó a principios de la década de 2020?\"\n",
    "\n",
    "system_prompt = \"You are a helpful assistant\"\n",
    "#system_prompt += \" who speaks through ROT-13 encoding. ROT13 is a simple letter substitution cipher that replaces a letter with the 13th letter after it in the Latin alphabet.\"\n",
    "#system_prompt += \" For isntance, A becomes N, B becomes O, C becomes P, and so on. Z becomes M. You will answer the user's question in ROT-13 encoding.\"\n",
    "messages = [\n",
    "    #{\"role\": \"system\", \"content\": system_prompt},\n",
    "    {\"role\": \"user\", \"content\": prompt}\n",
    "]\n",
    "text = tokenizer.apply_chat_template(\n",
    "    messages,\n",
    "    tokenize=False,\n",
    "    add_generation_prompt=True,\n",
    "    enable_thinking=False\n",
    ")\n",
    "\n",
    "model_inputs = tokenizer([text], return_tensors=\"pt\").to(model.device)\n",
    "\n",
    "generated_ids = model.generate(\n",
    "    **model_inputs,\n",
    "    temperature=0.6,\n",
    "    top_p=0.95,\n",
    "    max_new_tokens=500 #32768\n",
    ")\n",
    "generated_ids = [\n",
    "    output_ids[len(input_ids):] for input_ids, output_ids in zip(model_inputs.input_ids, generated_ids)\n",
    "]\n",
    "\n",
    "response = tokenizer.batch_decode(generated_ids, skip_special_tokens=True)[0]\n",
    "print(response)\n"
   ]
  },
  {
   "cell_type": "code",
   "execution_count": 4,
   "id": "08bcd300",
   "metadata": {},
   "outputs": [
    {
     "data": {
      "text/plain": [
       "144"
      ]
     },
     "execution_count": 4,
     "metadata": {},
     "output_type": "execute_result"
    }
   ],
   "source": [
    "len(generated_ids[0])"
   ]
  },
  {
   "cell_type": "code",
   "execution_count": null,
   "id": "04f9e954",
   "metadata": {},
   "outputs": [],
   "source": []
  }
 ],
 "metadata": {
  "kernelspec": {
   "display_name": "jax",
   "language": "python",
   "name": "python3"
  },
  "language_info": {
   "codemirror_mode": {
    "name": "ipython",
    "version": 3
   },
   "file_extension": ".py",
   "mimetype": "text/x-python",
   "name": "python",
   "nbconvert_exporter": "python",
   "pygments_lexer": "ipython3",
   "version": "3.12.5"
  }
 },
 "nbformat": 4,
 "nbformat_minor": 5
}
