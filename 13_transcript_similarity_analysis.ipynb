{
 "cells": [
  {
   "cell_type": "markdown",
   "id": "d57fdbc7",
   "metadata": {},
   "source": [
    "# Transcript Similarity Analysis\n",
    "This notebook analyzes the presence of 'Person' and 'State' values in the 'translated_thinking' column of the CSV file, using edit distance tolerance. It also reports statistics and visualizes the effect of varying tolerance."
   ]
  },
  {
   "cell_type": "code",
   "execution_count": 14,
   "id": "3a81dcac",
   "metadata": {},
   "outputs": [],
   "source": [
    "import pandas as pd\n",
    "import numpy as np\n",
    "import matplotlib.pyplot as plt\n",
    "import editdistance\n",
    "import plot_configs"
   ]
  },
  {
   "cell_type": "code",
   "execution_count": 15,
   "id": "b63cec27",
   "metadata": {},
   "outputs": [],
   "source": [
    "# Load the CSV file\n",
    "df = pd.read_csv('prompts/transcript_similarity_scores.csv')\n",
    "df = df.fillna('')  # Replace NaN with empty string for safety"
   ]
  },
  {
   "cell_type": "markdown",
   "id": "17ad1b19",
   "metadata": {},
   "source": [
    "## Define fuzzy match function with edit distance tolerance\n",
    "The function returns True if the target string appears in the text with at least the given similarity ratio (1 - normalized edit distance)."
   ]
  },
  {
   "cell_type": "code",
   "execution_count": 16,
   "id": "52bd1b03",
   "metadata": {},
   "outputs": [],
   "source": [
    "def fuzzy_contains(text, target, tolerance=0.75):\n",
    "    text = str(text).lower()\n",
    "    target = str(target).lower()\n",
    "    if not target or not text:\n",
    "        return False\n",
    "    n = len(target)\n",
    "    for i in range(len(text) - n + 1):\n",
    "        window = text[i:i+n]\n",
    "        dist = editdistance.eval(window, target)\n",
    "        similarity = 1 - dist / max(n, len(window))\n",
    "        if similarity >= tolerance:\n",
    "            return True\n",
    "    return False"
   ]
  },
  {
   "cell_type": "markdown",
   "id": "4a306a7f",
   "metadata": {},
   "source": [
    "## Calculate presence for 'Person' and 'State' at 75% tolerance"
   ]
  },
  {
   "cell_type": "code",
   "execution_count": 17,
   "id": "5a90baf3",
   "metadata": {},
   "outputs": [
    {
     "name": "stdout",
     "output_type": "stream",
     "text": [
      "Person present: mean=0.735, std=0.446\n",
      "State present: mean=0.837, std=0.373\n"
     ]
    }
   ],
   "source": [
    "tolerance = 0.75\n",
    "df['person_present'] = df.apply(lambda row: fuzzy_contains(row['translated_thinking'], row['Person'], tolerance), axis=1)\n",
    "df['state_present'] = df.apply(lambda row: fuzzy_contains(row['translated_thinking'], row['State'], tolerance), axis=1)\n",
    "person_mean = df['person_present'].mean()\n",
    "person_std = df['person_present'].std()\n",
    "state_mean = df['state_present'].mean()\n",
    "state_std = df['state_present'].std()\n",
    "print(f'Person present: mean={person_mean:.3f}, std={person_std:.3f}')\n",
    "print(f'State present: mean={state_mean:.3f}, std={state_std:.3f}')"
   ]
  },
  {
   "cell_type": "markdown",
   "id": "a997055c",
   "metadata": {},
   "source": [
    "## Plot presence vs edit distance tolerance (50% to 100%)"
   ]
  },
  {
   "cell_type": "code",
   "execution_count": 37,
   "id": "f91774af",
   "metadata": {},
   "outputs": [
    {
     "name": "stdout",
     "output_type": "stream",
     "text": [
      "--- Tolerance bin: 0.50 - 0.53 ---\n",
      "Sample Person matches:\n",
      "Person: 'Harper Lee' | Match: 'larger cit' | Similarity: 0.50\n",
      "Person: 'Susan Hinton' | Match: 'susean ellen' | Similarity: 0.50\n",
      "No State matches in this bin.\n",
      "--- Tolerance bin: 0.53 - 0.55 ---\n",
      "Sample Person matches:\n",
      "Person: 'Henry David Thoreau' | Match: 'hannah david thatch' | Similarity: 0.53\n",
      "No State matches in this bin.\n",
      "--- Tolerance bin: 0.55 - 0.57 ---\n",
      "No Person matches in this bin.\n",
      "Sample State matches:\n",
      "State: 'Wyoming' | Match: 'woman g' | Similarity: 0.57\n",
      "--- Tolerance bin: 0.57 - 0.60 ---\n",
      "No Person matches in this bin.\n",
      "No State matches in this bin.\n",
      "--- Tolerance bin: 0.60 - 0.62 ---\n",
      "Sample Person matches:\n",
      "Person: 'Hunter Thompson' | Match: 'hunter s. thomp' | Similarity: 0.60\n",
      "No State matches in this bin.\n",
      "--- Tolerance bin: 0.62 - 0.65 ---\n",
      "No Person matches in this bin.\n",
      "Sample State matches:\n",
      "State: 'Missouri' | Match: 'mississi' | Similarity: 0.62\n",
      "--- Tolerance bin: 0.65 - 0.68 ---\n",
      "Sample Person matches:\n",
      "Person: 'Clara Barton' | Match: 'clarisa bart' | Similarity: 0.67\n",
      "Sample State matches:\n",
      "State: 'Oregon' | Match: ' oregn' | Similarity: 0.67\n",
      "--- Tolerance bin: 0.68 - 0.70 ---\n",
      "No Person matches in this bin.\n",
      "No State matches in this bin.\n",
      "--- Tolerance bin: 0.70 - 0.72 ---\n",
      "No Person matches in this bin.\n",
      "No State matches in this bin.\n",
      "--- Tolerance bin: 0.72 - 0.75 ---\n",
      "No Person matches in this bin.\n",
      "No State matches in this bin.\n"
     ]
    },
    {
     "data": {
      "image/png": "[encoded data removed]",
      "text/plain": [
       "<Figure size 300x300 with 1 Axes>"
      ]
     },
     "metadata": {},
     "output_type": "display_data"
    }
   ],
   "source": [
    "tolerances = np.linspace(0.5, 1.0, 21)\n",
    "person_rates = []\n",
    "state_rates = []\n",
    "rng = np.random.default_rng(42)  # For reproducibility\n",
    "def get_best_match_and_score(text, target):\n",
    "    text = str(text).lower()\n",
    "    target = str(target).lower()\n",
    "    n = len(target)\n",
    "    best_sim = -1\n",
    "    best_window = ''\n",
    "    for i in range(len(text) - n + 1):\n",
    "        window = text[i:i+n]\n",
    "        dist = editdistance.eval(window, target)\n",
    "        similarity = 1 - dist / max(n, len(window))\n",
    "        if similarity > best_sim:\n",
    "            best_sim = similarity\n",
    "            best_window = window\n",
    "    return best_window, best_sim\n",
    "\n",
    "# Precompute all best matches and similarities for efficiency\n",
    "df['person_best_match'], df['person_best_sim'] = zip(*df.apply(lambda row: get_best_match_and_score(row['translated_thinking'], row['Person']), axis=1))\n",
    "df['state_best_match'], df['state_best_sim'] = zip(*df.apply(lambda row: get_best_match_and_score(row['translated_thinking'], row['State']), axis=1))\n",
    "\n",
    "for i in range(len(tolerances)-1):\n",
    "    tol_low = tolerances[i]\n",
    "    tol_high = tolerances[i+1]\n",
    "    # Person bin\n",
    "    person_bin = df[(df['person_best_sim'] >= tol_low) & (df['person_best_sim'] < tol_high)]\n",
    "    person_rate = (df['person_best_sim'] >= tol_low).mean()  # For plotting, use cumulative presence\n",
    "    person_rates.append(person_rate)\n",
    "    # State bin\n",
    "    state_bin = df[(df['state_best_sim'] >= tol_low) & (df['state_best_sim'] < tol_high)]\n",
    "    state_rate = (df['state_best_sim'] >= tol_low).mean()\n",
    "    state_rates.append(state_rate)\n",
    "    if tol_high <= 0.76:  # Only print for bins up to 0.75\n",
    "        print(f'--- Tolerance bin: {tol_low:.2f} - {tol_high:.2f} ---')\n",
    "        # Person matches\n",
    "        if not person_bin.empty:\n",
    "            sample_idx = rng.choice(person_bin.index, size=min(3, len(person_bin)), replace=False)\n",
    "            print('Sample Person matches:')\n",
    "            for idx in sample_idx:\n",
    "                row = person_bin.loc[idx]\n",
    "                print(f\"Person: '{row['Person']}' | Match: '{row['person_best_match']}' | Similarity: {row['person_best_sim']:.2f}\")\n",
    "        else:\n",
    "            print('No Person matches in this bin.')\n",
    "        # State matches\n",
    "        if not state_bin.empty:\n",
    "            sample_idx = rng.choice(state_bin.index, size=min(3, len(state_bin)), replace=False)\n",
    "            print('Sample State matches:')\n",
    "            for idx in sample_idx:\n",
    "                row = state_bin.loc[idx]\n",
    "                print(f\"State: '{row['State']}' | Match: '{row['state_best_match']}' | Similarity: {row['state_best_sim']:.2f}\")\n",
    "        else:\n",
    "            print('No State matches in this bin.')\n",
    "\n",
    "# For plotting, use the upper bound of each bin\n",
    "plot_tolerances = [1-t for t in tolerances[1:]]\n",
    "plt.figure(figsize=(3,3))\n",
    "plt.plot(plot_tolerances, person_rates, label='Person', linewidth=2)\n",
    "plt.plot(plot_tolerances, state_rates, label='State', linewidth=2)\n",
    "plt.xlabel('Edit Distance Tolerance')\n",
    "plt.ylabel('Present in CoT')\n",
    "plt.axvline(0.25, linestyle='--', color='gray')\n",
    "plt.ylim(0)\n",
    "plt.legend()\n",
    "plt.tight_layout()\n",
    "plt.savefig('figures/AppD_a.png', dpi=300, transparent=True)\n",
    "plt.show()"
   ]
  },
  {
   "cell_type": "markdown",
   "id": "8aca077b",
   "metadata": {},
   "source": [
    "## Average value of 'is_correct'"
   ]
  },
  {
   "cell_type": "markdown",
   "id": "5316f607",
   "metadata": {},
   "source": [
    "## Scatterplot: Maximum Edit Distance Proportion from Person vs State\n",
    "Each row is a point. Y-axis: 1 - best similarity to Person. X-axis: 1 - best similarity to State. Color: is_correct."
   ]
  },
  {
   "cell_type": "code",
   "execution_count": 38,
   "id": "b3801650",
   "metadata": {},
   "outputs": [
    {
     "data": {
      "image/png": "[encoded data removed]",
      "text/plain": [
       "<Figure size 350x300 with 1 Axes>"
      ]
     },
     "metadata": {},
     "output_type": "display_data"
    }
   ],
   "source": [
    "# Compute maximum edit distance proportion (1 - best similarity) for each row\n",
    "person_edit_dist = df['person_best_sim']\n",
    "state_edit_dist = df['state_best_sim']\n",
    "# Ensure is_correct is binary (0/1) for coloring\n",
    "is_correct_bin = pd.to_numeric(df['is_correct'], errors='coerce').fillna(0).astype(int)\n",
    "plt.figure(figsize=(3.5, 3))\n",
    "scatter = plt.scatter(state_edit_dist, person_edit_dist, c=is_correct_bin, cmap='coolwarm', alpha=0.7)\n",
    "plt.xlabel('Max Match to State')\n",
    "plt.ylabel('Max Match to Person')\n",
    "plt.xlim(0)\n",
    "plt.ylim(0)\n",
    "plt.tight_layout()\n",
    "plt.savefig('figures/AppD_b.png', dpi=300, transparent=True)\n",
    "plt.show()"
   ]
  },
  {
   "cell_type": "code",
   "execution_count": 35,
   "id": "c8ab2a91",
   "metadata": {},
   "outputs": [
    {
     "name": "stdout",
     "output_type": "stream",
     "text": [
      "Average is_correct: 0.714\n"
     ]
    }
   ],
   "source": [
    "# If 'is_correct' is not numeric, try to convert\n",
    "is_correct = pd.to_numeric(df['is_correct'], errors='coerce')\n",
    "mean_is_correct = np.nanmean(is_correct)\n",
    "print(f'Average is_correct: {mean_is_correct:.3f}')"
   ]
  },
  {
   "cell_type": "code",
   "execution_count": null,
   "id": "6d48f675",
   "metadata": {},
   "outputs": [],
   "source": []
  }
 ],
 "metadata": {
  "kernelspec": {
   "display_name": "py3.11",
   "language": "python",
   "name": "python3"
  },
  "language_info": {
   "codemirror_mode": {
    "name": "ipython",
    "version": 3
   },
   "file_extension": ".py",
   "mimetype": "text/x-python",
   "name": "python",
   "nbconvert_exporter": "python",
   "pygments_lexer": "ipython3",
   "version": "3.11.13"
  }
 },
 "nbformat": 4,
 "nbformat_minor": 5
}
