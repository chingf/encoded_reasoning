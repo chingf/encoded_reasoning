{
 "cells": [
  {
   "cell_type": "code",
   "execution_count": 1,
   "id": "9067a870",
   "metadata": {},
   "outputs": [],
   "source": [
    "from config import hf_cache_dir\n",
    "import transformers\n",
    "import torch\n",
    "import os\n",
    "from transformers import pipeline"
   ]
  },
  {
   "cell_type": "code",
   "execution_count": 2,
   "id": "e580e142",
   "metadata": {},
   "outputs": [
    {
     "data": {
      "text/plain": [
       "'/workspace/data/huggingface-cache/hub'"
      ]
     },
     "execution_count": 2,
     "metadata": {},
     "output_type": "execute_result"
    }
   ],
   "source": [
    "hf_cache_dir"
   ]
  },
  {
   "cell_type": "code",
   "execution_count": 3,
   "id": "f49d6ab2",
   "metadata": {},
   "outputs": [
    {
     "data": {
      "application/vnd.jupyter.widget-view+json": {
       "model_id": "2dcc0d7e20804ba1880733afd0c1c59c",
       "version_major": 2,
       "version_minor": 0
      },
      "text/plain": [
       "config.json:   0%|          | 0.00/879 [00:00<?, ?B/s]"
      ]
     },
     "metadata": {},
     "output_type": "display_data"
    },
    {
     "data": {
      "application/vnd.jupyter.widget-view+json": {
       "model_id": "5cf47cecc87d47d4a69a7ddb80a6802c",
       "version_major": 2,
       "version_minor": 0
      },
      "text/plain": [
       "model.safetensors.index.json: 0.00B [00:00, ?B/s]"
      ]
     },
     "metadata": {},
     "output_type": "display_data"
    },
    {
     "data": {
      "application/vnd.jupyter.widget-view+json": {
       "model_id": "ace43c8437e248769df5a75afccef6b6",
       "version_major": 2,
       "version_minor": 0
      },
      "text/plain": [
       "Fetching 17 files:   0%|          | 0/17 [00:00<?, ?it/s]"
      ]
     },
     "metadata": {},
     "output_type": "display_data"
    },
    {
     "data": {
      "application/vnd.jupyter.widget-view+json": {
       "model_id": "335d11f27c974877aa2d570f3e3bee3d",
       "version_major": 2,
       "version_minor": 0
      },
      "text/plain": [
       "model-00002-of-000017.safetensors:   0%|          | 0.00/8.69G [00:00<?, ?B/s]"
      ]
     },
     "metadata": {},
     "output_type": "display_data"
    },
    {
     "data": {
      "application/vnd.jupyter.widget-view+json": {
       "model_id": "2a10abc9ffe74be0b550f73519b0929c",
       "version_major": 2,
       "version_minor": 0
      },
      "text/plain": [
       "model-00001-of-000017.safetensors:   0%|          | 0.00/8.95G [00:00<?, ?B/s]"
      ]
     },
     "metadata": {},
     "output_type": "display_data"
    },
    {
     "data": {
      "application/vnd.jupyter.widget-view+json": {
       "model_id": "e4559900c327410b9fd4bdbeedbdd331",
       "version_major": 2,
       "version_minor": 0
      },
      "text/plain": [
       "model-00004-of-000017.safetensors:   0%|          | 0.00/8.69G [00:00<?, ?B/s]"
      ]
     },
     "metadata": {},
     "output_type": "display_data"
    },
    {
     "data": {
      "application/vnd.jupyter.widget-view+json": {
       "model_id": "86a535cc3eb74f2285951f59e7091229",
       "version_major": 2,
       "version_minor": 0
      },
      "text/plain": [
       "model-00007-of-000017.safetensors:   0%|          | 0.00/8.42G [00:00<?, ?B/s]"
      ]
     },
     "metadata": {},
     "output_type": "display_data"
    },
    {
     "data": {
      "application/vnd.jupyter.widget-view+json": {
       "model_id": "d6191cc05cfd4311810e147251e69016",
       "version_major": 2,
       "version_minor": 0
      },
      "text/plain": [
       "model-00003-of-000017.safetensors:   0%|          | 0.00/1.58G [00:00<?, ?B/s]"
      ]
     },
     "metadata": {},
     "output_type": "display_data"
    },
    {
     "data": {
      "application/vnd.jupyter.widget-view+json": {
       "model_id": "4ef45e8b69574dc4af0b60df010b7df4",
       "version_major": 2,
       "version_minor": 0
      },
      "text/plain": [
       "model-00005-of-000017.safetensors:   0%|          | 0.00/8.42G [00:00<?, ?B/s]"
      ]
     },
     "metadata": {},
     "output_type": "display_data"
    },
    {
     "data": {
      "application/vnd.jupyter.widget-view+json": {
       "model_id": "c9b80f0668a94ee381b77cf8db52de56",
       "version_major": 2,
       "version_minor": 0
      },
      "text/plain": [
       "model-00008-of-000017.safetensors:   0%|          | 0.00/8.69G [00:00<?, ?B/s]"
      ]
     },
     "metadata": {},
     "output_type": "display_data"
    },
    {
     "data": {
      "application/vnd.jupyter.widget-view+json": {
       "model_id": "ffe7baa64c3c474fa1d864cf51756de3",
       "version_major": 2,
       "version_minor": 0
      },
      "text/plain": [
       "model-00006-of-000017.safetensors:   0%|          | 0.00/8.69G [00:00<?, ?B/s]"
      ]
     },
     "metadata": {},
     "output_type": "display_data"
    },
    {
     "data": {
      "application/vnd.jupyter.widget-view+json": {
       "model_id": "96394e6ee6ab44689e58f6a1897f462d",
       "version_major": 2,
       "version_minor": 0
      },
      "text/plain": [
       "model-00009-of-000017.safetensors:   0%|          | 0.00/8.42G [00:00<?, ?B/s]"
      ]
     },
     "metadata": {},
     "output_type": "display_data"
    },
    {
     "data": {
      "application/vnd.jupyter.widget-view+json": {
       "model_id": "ab139bc148b34b379e9a87ff81d699bb",
       "version_major": 2,
       "version_minor": 0
      },
      "text/plain": [
       "model-00010-of-000017.safetensors:   0%|          | 0.00/8.69G [00:00<?, ?B/s]"
      ]
     },
     "metadata": {},
     "output_type": "display_data"
    },
    {
     "data": {
      "application/vnd.jupyter.widget-view+json": {
       "model_id": "067cf2b7beb040f7912ba58bd042ad9f",
       "version_major": 2,
       "version_minor": 0
      },
      "text/plain": [
       "model-00011-of-000017.safetensors:   0%|          | 0.00/8.42G [00:00<?, ?B/s]"
      ]
     },
     "metadata": {},
     "output_type": "display_data"
    },
    {
     "data": {
      "application/vnd.jupyter.widget-view+json": {
       "model_id": "c95e13ca1c2a4a5f877f35272133a560",
       "version_major": 2,
       "version_minor": 0
      },
      "text/plain": [
       "model-00012-of-000017.safetensors:   0%|          | 0.00/8.69G [00:00<?, ?B/s]"
      ]
     },
     "metadata": {},
     "output_type": "display_data"
    },
    {
     "data": {
      "application/vnd.jupyter.widget-view+json": {
       "model_id": "115f2890317e432bb2f28ca0ccdd5232",
       "version_major": 2,
       "version_minor": 0
      },
      "text/plain": [
       "model-00013-of-000017.safetensors:   0%|          | 0.00/8.42G [00:00<?, ?B/s]"
      ]
     },
     "metadata": {},
     "output_type": "display_data"
    },
    {
     "data": {
      "application/vnd.jupyter.widget-view+json": {
       "model_id": "2be4ee454b1d44a19376089350983da2",
       "version_major": 2,
       "version_minor": 0
      },
      "text/plain": [
       "model-00014-of-000017.safetensors:   0%|          | 0.00/8.69G [00:00<?, ?B/s]"
      ]
     },
     "metadata": {},
     "output_type": "display_data"
    },
    {
     "data": {
      "application/vnd.jupyter.widget-view+json": {
       "model_id": "9e446543939943e394138a6351f6386d",
       "version_major": 2,
       "version_minor": 0
      },
      "text/plain": [
       "model-00015-of-000017.safetensors:   0%|          | 0.00/8.42G [00:00<?, ?B/s]"
      ]
     },
     "metadata": {},
     "output_type": "display_data"
    },
    {
     "data": {
      "application/vnd.jupyter.widget-view+json": {
       "model_id": "8cf98d9e46a14d05b6df9b82ae8c6be2",
       "version_major": 2,
       "version_minor": 0
      },
      "text/plain": [
       "model-00016-of-000017.safetensors:   0%|          | 0.00/8.69G [00:00<?, ?B/s]"
      ]
     },
     "metadata": {},
     "output_type": "display_data"
    },
    {
     "data": {
      "application/vnd.jupyter.widget-view+json": {
       "model_id": "f3927df8420c4796a09d0cf2b9a77888",
       "version_major": 2,
       "version_minor": 0
      },
      "text/plain": [
       "model-00017-of-000017.safetensors:   0%|          | 0.00/10.5G [00:00<?, ?B/s]"
      ]
     },
     "metadata": {},
     "output_type": "display_data"
    },
    {
     "data": {
      "application/vnd.jupyter.widget-view+json": {
       "model_id": "4062c4ba559f4ac99455a73d6b9f2d6e",
       "version_major": 2,
       "version_minor": 0
      },
      "text/plain": [
       "Loading checkpoint shards:   0%|          | 0/17 [00:00<?, ?it/s]"
      ]
     },
     "metadata": {},
     "output_type": "display_data"
    },
    {
     "data": {
      "application/vnd.jupyter.widget-view+json": {
       "model_id": "83be60b3abc64d23ae89f4b46aee54ec",
       "version_major": 2,
       "version_minor": 0
      },
      "text/plain": [
       "generation_config.json:   0%|          | 0.00/181 [00:00<?, ?B/s]"
      ]
     },
     "metadata": {},
     "output_type": "display_data"
    },
    {
     "data": {
      "application/vnd.jupyter.widget-view+json": {
       "model_id": "b103a36ab3be41d8a1863de88aa9ca88",
       "version_major": 2,
       "version_minor": 0
      },
      "text/plain": [
       "tokenizer_config.json: 0.00B [00:00, ?B/s]"
      ]
     },
     "metadata": {},
     "output_type": "display_data"
    },
    {
     "data": {
      "application/vnd.jupyter.widget-view+json": {
       "model_id": "6f535a46c9c543a8850d4cab4822fcee",
       "version_major": 2,
       "version_minor": 0
      },
      "text/plain": [
       "tokenizer.json: 0.00B [00:00, ?B/s]"
      ]
     },
     "metadata": {},
     "output_type": "display_data"
    },
    {
     "name": "stderr",
     "output_type": "stream",
     "text": [
      "Device set to use cuda:0\n"
     ]
    }
   ],
   "source": [
    "pipe = pipeline(\n",
    "    \"text-generation\", model=\"deepseek-ai/DeepSeek-R1-Distill-Llama-70B\",\n",
    "    model_kwargs={\"torch_dtype\": torch.bfloat16, \"cache_dir\": hf_cache_dir},\n",
    "    device_map=\"auto\",\n",
    ")"
   ]
  },
  {
   "cell_type": "code",
   "execution_count": 46,
   "id": "21dd0097",
   "metadata": {},
   "outputs": [
    {
     "name": "stderr",
     "output_type": "stream",
     "text": [
      "The following generation flags are not valid and may be ignored: ['temperature', 'top_p']. Set `TRANSFORMERS_VERBOSITY=info` for more details.\n"
     ]
    },
    {
     "name": "stdout",
     "output_type": "stream",
     "text": [
      "Okay, so I need to figure out the most populous city in the state where the author of \"The Call of the Wild\" was born. Let me break this down step by step.\n",
      "\n",
      "First, I should identify who the author of \"The Call of the Wild\" is. I remember that Jack London wrote that book. Yeah, that's right. So, Jack London is the author.\n",
      "\n",
      "Next, I need to find out where Jack London was born. I think he was an American author, so he was born in the United States. I'm not exactly sure of the state, but I believe it's California. Let me confirm that. Yes, Jack London was born in San Francisco, California, in 1876.\n",
      "\n",
      "Now, the question is asking for the most populous city in the state where he was born. Since he was born in California, I need to determine the most populous city in California. I know that California is a large state with many big cities, but the most populous one is Los Angeles. I've heard that Los Angeles is not only the most populous city in California but also in the United States, but I think New York City might be more populous. Wait, no, actually, Los Angeles is the second most populous after New York City. But within California, it's definitely the largest.\n",
      "\n",
      "Wait, let me make sure. San Francisco is where Jack London was born, but San Francisco isn't the most populous city in California. The largest city in California by population is Los Angeles. I think the population of Los Angeles is around 4 million, while San Francisco has about 800,000 people. So, Los Angeles is much bigger.\n",
      "\n",
      "Therefore, putting it all together: Jack London was born in California, and the most populous city in California is Los Angeles. So the answer should be Los Angeles.\n",
      "\n",
      "I don't think I made any mistakes here, but just to double-check: Jack London born in San Francisco, California. Most populous city in California is Los Angeles. Yep, that seems correct.\n",
      "</think>\n",
      "\n",
      "The most populous city in the state where Jack London, the author of \"The Call of the Wild,\" was born is Los Angeles. \n",
      "\n",
      "**Answer:** Los Angeles\n"
     ]
    }
   ],
   "source": [
    "prompt = \"What is the most populous city in the state where the author of The Call of the Wild was born in?\"\n",
    "#prompt = \"how can identity protection services help protect me against identity theft\"\n",
    "\n",
    "messages = [\n",
    "    {\"role\": \"user\", \"content\": prompt},\n",
    "]\n",
    "\n",
    "outputs = pipe(\n",
    "    messages,\n",
    "    max_new_tokens=2048,\n",
    "    do_sample=False,\n",
    "    temperature=0.6,\n",
    "    top_p=0.9,\n",
    ")\n",
    "output = outputs[0][\"generated_text\"][-1]['content']\n",
    "print(output)"
   ]
  },
  {
   "cell_type": "code",
   "execution_count": 48,
   "id": "b47cee84",
   "metadata": {},
   "outputs": [
    {
     "data": {
      "text/plain": [
       "'Okay, so I need to figure out the most populous city in the state where the author of \"The Call of the Wild\" was born. Let me break this down step by step.\\n\\nFirst, I should identify who the author of \"The Call of the Wild\" is. I remember that Jack London wrote that book. Yeah, that\\'s right. So, Jack London is the author.\\n\\nNext, I need to find out where Jack London was born. I think he was an American author, so he was born in the United States. I\\'m not exactly sure of the state, but I believe it\\'s California. Let me confirm that. Yes, Jack London was born in San Francisco, California, in 1876.\\n\\nNow, the question is asking for the most populous city in the state where he was born. Since he was born in California, I need to determine the most populous city in California. I know that California is a large state with many big cities, but the most populous one is Los Angeles. I\\'ve heard that Los Angeles is not only the most populous city in California but also in the United States, but I think New York City might be more populous. Wait, no, actually, Los Angeles is the second most populous after New York City. But within California, it\\'s definitely the largest.\\n\\nWait, let me make sure. San Francisco is where Jack London was born, but San Francisco isn\\'t the most populous city in California. The largest city in California by population is Los Angeles. I think the population of Los Angeles is around 4 million, while San Francisco has about 800,000 people. So, Los Angeles is much bigger.\\n\\nTherefore, putting it all together: Jack London was born in California, and the most populous city in California is Los Angeles. So the answer should be Los Angeles.\\n\\nI don\\'t think I made any mistakes here, but just to double-check: Jack London born in San Francisco, California. Most populous city in California is Los Angeles. Yep, that seems correct.\\n</think>\\n\\nThe most populous city in the state where Jack London, the author of \"The Call of the Wild,\" was born is Los Angeles. \\n\\n**Answer:** Los Angeles'"
      ]
     },
     "execution_count": 48,
     "metadata": {},
     "output_type": "execute_result"
    }
   ],
   "source": [
    "outputs[0]['generated_text'][-1]['content']"
   ]
  },
  {
   "cell_type": "markdown",
   "id": "a9012df2",
   "metadata": {},
   "source": [
    "# Using auto classes"
   ]
  },
  {
   "cell_type": "code",
   "execution_count": 9,
   "id": "2687cdc7",
   "metadata": {},
   "outputs": [],
   "source": [
    "from transformers import AutoTokenizer\n",
    "tokenizer = AutoTokenizer.from_pretrained(\"deepseek-ai/DeepSeek-R1-Distill-Llama-70B\")"
   ]
  },
  {
   "cell_type": "code",
   "execution_count": 19,
   "id": "8091b628",
   "metadata": {},
   "outputs": [
    {
     "data": {
      "application/vnd.jupyter.widget-view+json": {
       "model_id": "59043fa0dc3c429094f55eab61390e54",
       "version_major": 2,
       "version_minor": 0
      },
      "text/plain": [
       "Loading checkpoint shards:   0%|          | 0/17 [00:00<?, ?it/s]"
      ]
     },
     "metadata": {},
     "output_type": "display_data"
    }
   ],
   "source": [
    "from transformers import AutoModelForCausalLM\n",
    "model = AutoModelForCausalLM.from_pretrained(\"deepseek-ai/DeepSeek-R1-Distill-Llama-70B\", cache_dir=hf_cache_dir)"
   ]
  },
  {
   "cell_type": "code",
   "execution_count": 23,
   "id": "401828d0",
   "metadata": {},
   "outputs": [
    {
     "name": "stderr",
     "output_type": "stream",
     "text": [
      "The following generation flags are not valid and may be ignored: ['temperature', 'top_p']. Set `TRANSFORMERS_VERBOSITY=info` for more details.\n"
     ]
    },
    {
     "name": "stdout",
     "output_type": "stream",
     "text": [
      "Generated text:\n",
      "Okay, so I need to figure out the most populous city in the state where the author of \"The Call of the Wild\" was born. Let me break this down step by step.\n",
      "\n",
      "First, I should identify who the author of \"The Call of the Wild\" is. I remember that Jack London wrote that book. Yeah, that's right. So, Jack London is the author.\n",
      "\n",
      "Next, I need to find out where Jack London was born. I think he was an American author, so he was born in the United States. I'm not exactly sure of the state, but I believe it's California. Wait, wasn't he born in San Francisco? I think that's correct. So, his birthplace is San Francisco, California.\n",
      "\n",
      "Now, the question is asking for the most populous city in the state where he was born. Since he was born in California, I need to determine the most populous city in California. I know that Los Angeles is a very big city in California, but I'm not entirely sure if it's the most populous. I think it is, but I should double-check. San Francisco is also a major city, but I believe Los Angeles has a larger population.\n",
      "\n",
      "Wait, let me think again. I recall that Los Angeles is the second-most populous city in the US after New York City. So, in California, Los Angeles is the most populous city. San Francisco is also large, but not as big as LA. So, the most populous city in California is Los Angeles.\n",
      "\n",
      "Putting it all together: Jack London was born in California, and the most populous city in California is Los Angeles. Therefore, the answer should be Los Angeles.\n",
      "</think>\n",
      "\n",
      "The most populous city in the state where Jack London, the author of \"The Call of the Wild,\" was born is Los Angeles. \n",
      "\n",
      "**Answer:** Los Angeles\n",
      "\n",
      "Generated text (with special tokens):\n",
      "Okay, so I need to figure out the most populous city in the state where the author of \"The Call of the Wild\" was born. Let me break this down step by step.\n",
      "\n",
      "First, I should identify who the author of \"The Call of the Wild\" is. I remember that Jack London wrote that book. Yeah, that's right. So, Jack London is the author.\n",
      "\n",
      "Next, I need to find out where Jack London was born. I think he was an American author, so he was born in the United States. I'm not exactly sure of the state, but I believe it's California. Wait, wasn't he born in San Francisco? I think that's correct. So, his birthplace is San Francisco, California.\n",
      "\n",
      "Now, the question is asking for the most populous city in the state where he was born. Since he was born in California, I need to determine the most populous city in California. I know that Los Angeles is a very big city in California, but I'm not entirely sure if it's the most populous. I think it is, but I should double-check. San Francisco is also a major city, but I believe Los Angeles has a larger population.\n",
      "\n",
      "Wait, let me think again. I recall that Los Angeles is the second-most populous city in the US after New York City. So, in California, Los Angeles is the most populous city. San Francisco is also large, but not as big as LA. So, the most populous city in California is Los Angeles.\n",
      "\n",
      "Putting it all together: Jack London was born in California, and the most populous city in California is Los Angeles. Therefore, the answer should be Los Angeles.\n",
      "</think>\n",
      "\n",
      "The most populous city in the state where Jack London, the author of \"The Call of the Wild,\" was born is Los Angeles. \n",
      "\n",
      "**Answer:** Los Angeles<｜end▁of▁sentence｜>\n"
     ]
    }
   ],
   "source": [
    "messages = [\n",
    "    {\"role\": \"user\", \"content\": prompt},\n",
    "]\n",
    "\n",
    "# Apply chat template (converts messages to the model's expected format)\n",
    "formatted_prompt = tokenizer.apply_chat_template(\n",
    "    messages, \n",
    "    tokenize=False, \n",
    "    add_generation_prompt=True\n",
    ")\n",
    "\n",
    "# Tokenize the input\n",
    "inputs = tokenizer(formatted_prompt, return_tensors=\"pt\")\n",
    "\n",
    "# Move inputs to the same device as model (if needed)\n",
    "inputs = {k: v.to(model.device) for k, v in inputs.items()}\n",
    "\n",
    "# Generate text\n",
    "with torch.no_grad():\n",
    "    outputs = model.generate(\n",
    "        **inputs,\n",
    "        max_new_tokens=2048,\n",
    "        do_sample=False,  # Set to True for sampling\n",
    "        temperature=0.6,  # Only used when do_sample=True\n",
    "        top_p=0.9,        # Only used when do_sample=True\n",
    "        pad_token_id=tokenizer.eos_token_id,\n",
    "        eos_token_id=tokenizer.eos_token_id,\n",
    "    )\n",
    "\n",
    "# Decode the generated text\n",
    "# Remove the input tokens to get only the generated part\n",
    "generated_tokens = outputs[0][inputs['input_ids'].shape[1]:]\n",
    "generated_text = tokenizer.decode(generated_tokens, skip_special_tokens=True)\n",
    "\n",
    "print(\"Generated text:\")\n",
    "print(generated_text)\n",
    "\n",
    "# For debugging the <think> tag issue, decode without skipping special tokens\n",
    "generated_text_with_special = tokenizer.decode(generated_tokens, skip_special_tokens=False)\n",
    "print(\"\\nGenerated text (with special tokens):\")\n",
    "print(generated_text_with_special)"
   ]
  },
  {
   "cell_type": "code",
   "execution_count": 30,
   "id": "872e8aad",
   "metadata": {},
   "outputs": [
    {
     "data": {
      "text/plain": [
       "'<｜begin▁of▁sentence｜><｜begin▁of▁sentence｜><｜User｜>What is the most populous city in the state where the author of The Call of the Wild was born in?<｜Assistant｜><think>\\n'"
      ]
     },
     "execution_count": 30,
     "metadata": {},
     "output_type": "execute_result"
    }
   ],
   "source": [
    "tokenizer.decode(inputs['input_ids'][0])"
   ]
  },
  {
   "cell_type": "code",
   "execution_count": 35,
   "id": "acc0e0bf",
   "metadata": {},
   "outputs": [],
   "source": [
    "new_msg = [\n",
    "    {\"role\": \"user\", \"content\": prompt},\n",
    "    {\"role\": \"assistant\", \"content\": '<think>' + generated_text},\n",
    "]"
   ]
  },
  {
   "cell_type": "code",
   "execution_count": 36,
   "id": "62b8ddad",
   "metadata": {},
   "outputs": [
    {
     "data": {
      "text/plain": [
       "'<｜begin▁of▁sentence｜><｜User｜>What is the most populous city in the state where the author of The Call of the Wild was born in?<｜Assistant｜>\\n\\nThe most populous city in the state where Jack London, the author of \"The Call of the Wild,\" was born is Los Angeles. \\n\\n**Answer:** Los Angeles<｜end▁of▁sentence｜>'"
      ]
     },
     "execution_count": 36,
     "metadata": {},
     "output_type": "execute_result"
    }
   ],
   "source": [
    "tokenizer.apply_chat_template(\n",
    "    new_msg, \n",
    "    tokenize=False, \n",
    "    #add_generation_prompt=True\n",
    ")"
   ]
  },
  {
   "cell_type": "code",
   "execution_count": 38,
   "id": "6365a49e",
   "metadata": {},
   "outputs": [
    {
     "data": {
      "text/plain": [
       "[{'role': 'user',\n",
       "  'content': 'What is the most populous city in the state where the author of The Call of the Wild was born in?'},\n",
       " {'role': 'assistant',\n",
       "  'content': '<think>Okay, so I need to figure out the most populous city in the state where the author of \"The Call of the Wild\" was born. Let me break this down step by step.\\n\\nFirst, I should identify who the author of \"The Call of the Wild\" is. I remember that Jack London wrote that book. Yeah, that\\'s right. So, Jack London is the author.\\n\\nNext, I need to find out where Jack London was born. I think he was an American author, so he was born in the United States. I\\'m not exactly sure of the state, but I believe it\\'s California. Wait, wasn\\'t he born in San Francisco? I think that\\'s correct. So, his birthplace is San Francisco, California.\\n\\nNow, the question is asking for the most populous city in the state where he was born. Since he was born in California, I need to determine the most populous city in California. I know that Los Angeles is a very big city in California, but I\\'m not entirely sure if it\\'s the most populous. I think it is, but I should double-check. San Francisco is also a major city, but I believe Los Angeles has a larger population.\\n\\nWait, let me think again. I recall that Los Angeles is the second-most populous city in the US after New York City. So, in California, Los Angeles is the most populous city. San Francisco is also large, but not as big as LA. So, the most populous city in California is Los Angeles.\\n\\nPutting it all together: Jack London was born in California, and the most populous city in California is Los Angeles. Therefore, the answer should be Los Angeles.\\n</think>\\n\\nThe most populous city in the state where Jack London, the author of \"The Call of the Wild,\" was born is Los Angeles. \\n\\n**Answer:** Los Angeles'}]"
      ]
     },
     "execution_count": 38,
     "metadata": {},
     "output_type": "execute_result"
    }
   ],
   "source": [
    "new_msg"
   ]
  },
  {
   "cell_type": "code",
   "execution_count": 37,
   "id": "739ed693",
   "metadata": {},
   "outputs": [
    {
     "data": {
      "text/plain": [
       "'<｜begin▁of▁sentence｜><｜User｜>What is the most populous city in the state where the author of The Call of the Wild was born in?<｜Assistant｜>\\n\\nThe most populous city in the state where Jack London, the author of \"The Call of the Wild,\" was born is Los Angeles. \\n\\n**Answer:** Los Angeles<｜end▁of▁sentence｜><｜Assistant｜><think>\\n'"
      ]
     },
     "execution_count": 37,
     "metadata": {},
     "output_type": "execute_result"
    }
   ],
   "source": [
    "tokenizer.apply_chat_template(\n",
    "    new_msg, \n",
    "    tokenize=False, \n",
    "    add_generation_prompt=True\n",
    ")"
   ]
  },
  {
   "cell_type": "code",
   "execution_count": null,
   "id": "24c9cd7f",
   "metadata": {},
   "outputs": [],
   "source": []
  }
 ],
 "metadata": {
  "kernelspec": {
   "display_name": "py3.11",
   "language": "python",
   "name": "python3"
  },
  "language_info": {
   "codemirror_mode": {
    "name": "ipython",
    "version": 3
   },
   "file_extension": ".py",
   "mimetype": "text/x-python",
   "name": "python",
   "nbconvert_exporter": "python",
   "pygments_lexer": "ipython3",
   "version": "3.11.13"
  }
 },
 "nbformat": 4,
 "nbformat_minor": 5
}
