{
 "cells": [
  {
   "cell_type": "code",
   "execution_count": 1,
   "id": "f8d8b0aa",
   "metadata": {},
   "outputs": [],
   "source": [
    "import torch\n",
    "from datasets import load_dataset, Dataset\n",
    "from transformers import AutoTokenizer\n",
    "from tqdm import tqdm\n",
    "import json\n",
    "import gc\n",
    "import os\n",
    "from datasets import load_from_disk\n",
    "import numpy as np\n",
    "import matplotlib.pyplot as plt\n",
    "import re\n",
    "import plot_configs\n",
    "\n",
    "from config import storage_dir"
   ]
  },
  {
   "cell_type": "markdown",
   "id": "3fcc8e2a",
   "metadata": {},
   "source": [
    "# Setting arguments and paths"
   ]
  },
  {
   "cell_type": "code",
   "execution_count": 9,
   "id": "465ff8e9",
   "metadata": {},
   "outputs": [],
   "source": [
    "# Main arguments\n",
    "model_name = \"deepseek-ai/DeepSeek-R1-Distill-Llama-70B\"\n",
    "shorten_to = 2048\n"
   ]
  },
  {
   "cell_type": "code",
   "execution_count": 10,
   "id": "9ed87ecd",
   "metadata": {},
   "outputs": [],
   "source": [
    "dset_name = 'lm_sys_responses'\n",
    "base_model_name = model_name.split(\"/\")[-1]\n",
    "model_storage_dir = os.path.join(storage_dir, \"lm_sys\", model_name.split(\"/\")[-1])\n",
    "response_path = os.path.join(model_storage_dir, dset_name)"
   ]
  },
  {
   "cell_type": "markdown",
   "id": "5c1cfb85",
   "metadata": {},
   "source": [
    "# Loading dataset and exclude bad prompts\n",
    "Specifically, there's >5K prompts that just say \"Write a single dot\""
   ]
  },
  {
   "cell_type": "code",
   "execution_count": 11,
   "id": "9c13e864",
   "metadata": {},
   "outputs": [
    {
     "name": "stdout",
     "output_type": "stream",
     "text": [
      "Dataset({\n",
      "    features: ['conversation'],\n",
      "    num_rows: 85500\n",
      "})\n"
     ]
    }
   ],
   "source": [
    "dataset = load_from_disk(response_path)\n",
    "print(dataset)"
   ]
  },
  {
   "cell_type": "code",
   "execution_count": 12,
   "id": "1135bf4c",
   "metadata": {},
   "outputs": [],
   "source": [
    "# Filter the dataset to exclude rows with \"single dot\" in user content\n",
    "filtered_dataset = [\n",
    "    {'conversation': row} for row in dataset['conversation']\n",
    "    if 'single dot' not in row[0]['content']\n",
    "]\n",
    "\n",
    "# Convert the filtered list back to a Huggingface Dataset\n",
    "filtered_hf_dataset = Dataset.from_list(filtered_dataset)"
   ]
  },
  {
   "cell_type": "code",
   "execution_count": 13,
   "id": "5e4f12a4",
   "metadata": {},
   "outputs": [],
   "source": [
    "generation_params_path = os.path.join(response_path, 'generation_params.json')\n",
    "if os.path.exists(generation_params_path):\n",
    "    with open(generation_params_path, 'r') as f:\n",
    "        generation_params = json.load(f)\n",
    "    print(generation_params)"
   ]
  },
  {
   "cell_type": "code",
   "execution_count": 14,
   "id": "9411e0a2",
   "metadata": {},
   "outputs": [
    {
     "data": {
      "application/vnd.jupyter.widget-view+json": {
       "model_id": "2c826d80f364451fb76b975a444cc8e6",
       "version_major": 2,
       "version_minor": 0
      },
      "text/plain": [
       "tokenizer_config.json: 0.00B [00:00, ?B/s]"
      ]
     },
     "metadata": {},
     "output_type": "display_data"
    },
    {
     "data": {
      "application/vnd.jupyter.widget-view+json": {
       "model_id": "006d362c669748059f3d8e9b83d2d494",
       "version_major": 2,
       "version_minor": 0
      },
      "text/plain": [
       "tokenizer.json: 0.00B [00:00, ?B/s]"
      ]
     },
     "metadata": {},
     "output_type": "display_data"
    }
   ],
   "source": [
    "def count_tokens(text, tokenizer):\n",
    "    return len(tokenizer.encode(text, add_special_tokens=False))\n",
    "\n",
    "def content_token_counts(dataset, tokenizer, role='assistant'):\n",
    "    content_idx = -1 if role == 'assistant' else 0\n",
    "    counts = []\n",
    "    for item in dataset:\n",
    "        content = item['conversation'][content_idx]['content']\n",
    "        counts.append(count_tokens(content, tokenizer))\n",
    "    return np.array(counts)\n",
    "\n",
    "tokenizer = AutoTokenizer.from_pretrained(model_name)"
   ]
  },
  {
   "cell_type": "code",
   "execution_count": 15,
   "id": "50401d4c",
   "metadata": {},
   "outputs": [],
   "source": [
    "user_counts = content_token_counts(dataset, tokenizer, role='user')\n",
    "asst_counts = content_token_counts(dataset, tokenizer)"
   ]
  },
  {
   "cell_type": "code",
   "execution_count": 16,
   "id": "3b440e37",
   "metadata": {},
   "outputs": [],
   "source": [
    "total_counts = user_counts + asst_counts"
   ]
  },
  {
   "cell_type": "code",
   "execution_count": 17,
   "id": "b50ab405",
   "metadata": {},
   "outputs": [
    {
     "name": "stdout",
     "output_type": "stream",
     "text": [
      "14\n",
      "1402\n"
     ]
    }
   ],
   "source": [
    "print(total_counts.min())\n",
    "print(total_counts.max())"
   ]
  },
  {
   "cell_type": "code",
   "execution_count": 18,
   "id": "c8148b97",
   "metadata": {},
   "outputs": [
    {
     "data": {
      "text/plain": [
       "np.int64(1258)"
      ]
     },
     "execution_count": 18,
     "metadata": {},
     "output_type": "execute_result"
    },
    {
     "data": {
      "image/png": "[encoded data removed]",
      "text/plain": [
       "<Figure size 300x200 with 1 Axes>"
      ]
     },
     "metadata": {},
     "output_type": "display_data"
    }
   ],
   "source": [
    "plt.figure(figsize=(3,2))\n",
    "plt.hist(asst_counts, bins=100)\n",
    "plt.xlabel('Assistant Token Count')\n",
    "plt.ylabel('Frequency')\n",
    "asst_counts.max()"
   ]
  },
  {
   "cell_type": "markdown",
   "id": "5513e501",
   "metadata": {},
   "source": [
    "# Conversion to ROT13"
   ]
  },
  {
   "cell_type": "code",
   "execution_count": 19,
   "id": "b86c9cd5",
   "metadata": {},
   "outputs": [],
   "source": [
    "import re\n",
    "import codecs\n",
    "\n",
    "def rot13_alpha(text):\n",
    "    # Split text around '<think>' and '</think>'\n",
    "    segments = re.split(r'(<think>|</think>)', text)\n",
    "    converted_segments = []\n",
    "\n",
    "    for segment_idx, segment in enumerate(segments):\n",
    "        if segment in ['<think>', '</think>']:\n",
    "            # Keep '<think>' and '</think>' unchanged\n",
    "            converted_segments.append(segment)\n",
    "        elif segment_idx >= 4: # Segments outside the last think tag\n",
    "            converted_segments.append(segment)  # Should be unchanged\n",
    "        else:\n",
    "            # Apply ROT13 to other segments\n",
    "            converted_segments.append(codecs.encode(segment, 'rot_13'))\n",
    "    \n",
    "\n",
    "    # Reassemble the text\n",
    "    reassembled_text = ''.join(converted_segments)\n",
    "    return reassembled_text\n",
    "\n",
    "def convert_dataset_to_rot13(dataset):\n",
    "    new_dataset = []\n",
    "    n_items = 0\n",
    "    for item in dataset:\n",
    "        new_item = item.copy()\n",
    "        old_content = new_item['conversation'][-1]['content']\n",
    "        new_content = rot13_alpha(old_content)\n",
    "        new_item['conversation'][-1]['content'] = new_content\n",
    "        new_dataset.append(new_item)\n",
    "        n_items += 1\n",
    "    return new_dataset"
   ]
  },
  {
   "cell_type": "code",
   "execution_count": 20,
   "id": "9f49ff22",
   "metadata": {},
   "outputs": [],
   "source": [
    "# Run rot13 conversion\n",
    "rot13_dataset = convert_dataset_to_rot13(filtered_hf_dataset)"
   ]
  },
  {
   "cell_type": "markdown",
   "id": "2f33f5f2",
   "metadata": {},
   "source": [
    "# Count tokens in the new dataset"
   ]
  },
  {
   "cell_type": "code",
   "execution_count": 21,
   "id": "1ec1d875",
   "metadata": {},
   "outputs": [],
   "source": [
    "rot13_asst_counts = content_token_counts(rot13_dataset, tokenizer)\n",
    "rot13_user_counts = content_token_counts(rot13_dataset, tokenizer, role='user')"
   ]
  },
  {
   "cell_type": "code",
   "execution_count": 22,
   "id": "f717f51c",
   "metadata": {},
   "outputs": [
    {
     "data": {
      "text/plain": [
       "Text(0, 0.5, 'Frequency')"
      ]
     },
     "execution_count": 22,
     "metadata": {},
     "output_type": "execute_result"
    },
    {
     "data": {
      "image/png": "[encoded data removed]",
      "text/plain": [
       "<Figure size 300x200 with 1 Axes>"
      ]
     },
     "metadata": {},
     "output_type": "display_data"
    }
   ],
   "source": [
    "rot13_total_counts = rot13_asst_counts + rot13_user_counts\n",
    "plt.figure(figsize=(3,2))\n",
    "plt.hist(rot13_total_counts, bins=100)\n",
    "plt.xlabel('ROT-13 Data Length')\n",
    "plt.ylabel('Frequency')\n"
   ]
  },
  {
   "cell_type": "code",
   "execution_count": 23,
   "id": "b5638903",
   "metadata": {},
   "outputs": [
    {
     "data": {
      "text/plain": [
       "np.int64(3271)"
      ]
     },
     "execution_count": 23,
     "metadata": {},
     "output_type": "execute_result"
    },
    {
     "data": {
      "image/png": "[encoded data removed]",
      "text/plain": [
       "<Figure size 300x200 with 1 Axes>"
      ]
     },
     "metadata": {},
     "output_type": "display_data"
    }
   ],
   "source": [
    "plt.figure(figsize=(3,2))\n",
    "plt.hist(rot13_asst_counts, bins=100)\n",
    "plt.xlabel('ROT-13 Assistant Token Count')\n",
    "plt.ylabel('Frequency')\n",
    "rot13_asst_counts.max()"
   ]
  },
  {
   "cell_type": "code",
   "execution_count": 24,
   "id": "8e725d00",
   "metadata": {},
   "outputs": [
    {
     "data": {
      "text/plain": [
       "np.int64(200)"
      ]
     },
     "execution_count": 24,
     "metadata": {},
     "output_type": "execute_result"
    },
    {
     "data": {
      "image/png": "[encoded data removed]",
      "text/plain": [
       "<Figure size 300x200 with 1 Axes>"
      ]
     },
     "metadata": {},
     "output_type": "display_data"
    }
   ],
   "source": [
    "plt.figure(figsize=(3,2))\n",
    "plt.hist(rot13_user_counts, bins=100)\n",
    "plt.xlabel('ROT-13 User Token Count')\n",
    "plt.ylabel('Frequency')\n",
    "rot13_user_counts.max()"
   ]
  },
  {
   "cell_type": "code",
   "execution_count": 25,
   "id": "f934fe33",
   "metadata": {},
   "outputs": [],
   "source": [
    "def extract_and_count_tokens(response, tokenizer):\n",
    "    # Extract content between <think> and </think>\n",
    "    start_tag = \"<think>\"\n",
    "    end_tag = \"</think>\"\n",
    "    start_idx = response.find(start_tag)\n",
    "    end_idx = response.find(end_tag)\n",
    "    if end_idx == -1:\n",
    "        end_idx = len(response)\n",
    "\n",
    "    extracted_content = response[start_idx + len(start_tag):end_idx]\n",
    "    token_count = len(tokenizer.encode(extracted_content, add_special_tokens=False))\n",
    "    return token_count\n",
    "\n",
    "thinking_token_counts = np.array([extract_and_count_tokens(\n",
    "    d['conversation'][-1]['content'], tokenizer) for d in rot13_dataset\n",
    "])"
   ]
  },
  {
   "cell_type": "code",
   "execution_count": 30,
   "id": "281482a8",
   "metadata": {},
   "outputs": [],
   "source": [
    "original_thinking_token_counts = np.array([extract_and_count_tokens(\n",
    "    d['conversation'][-1]['content'], tokenizer) for d in filtered_hf_dataset\n",
    "])"
   ]
  },
  {
   "cell_type": "code",
   "execution_count": 71,
   "id": "814973af",
   "metadata": {},
   "outputs": [
    {
     "name": "stdout",
     "output_type": "stream",
     "text": [
      "3268\n"
     ]
    },
    {
     "data": {
      "image/png": "[encoded data removed]",
      "text/plain": [
       "<Figure size 325x150 with 1 Axes>"
      ]
     },
     "metadata": {},
     "output_type": "display_data"
    }
   ],
   "source": [
    "import matplotlib.ticker as ticker\n",
    "\n",
    "plt.figure(figsize=(3.25, 1.5))\n",
    "plt.hist(original_thinking_token_counts, bins=15, alpha=0.5, color=\"black\", density=True)\n",
    "plt.axvline(1200, color='black', linestyle='--', linewidth=1.5)\n",
    "plt.hist(thinking_token_counts, bins=30, alpha=0.5, density=True)\n",
    "\n",
    "# Format the y-axis to use scientific notation\n",
    "ax = plt.gca()\n",
    "ax.yaxis.set_major_formatter(ticker.ScalarFormatter(useMathText=True))\n",
    "ax.ticklabel_format(axis='y', style='sci', scilimits=(0, 0))\n",
    "\n",
    "# Ensure the offset text (e.g., \"x 1E-3\") is displayed at the corner of the y-axis\n",
    "ax.yaxis.get_offset_text().set_visible(True)\n",
    "ax.yaxis.get_offset_text().set_fontsize(6)\n",
    "\n",
    "plt.yticks(fontsize=8)\n",
    "plt.xticks(fontsize=8)\n",
    "plt.xlabel('Number of Thinking Tokens', fontsize=8)\n",
    "plt.ylabel('Density', fontsize=8)\n",
    "plt.tight_layout()\n",
    "plt.savefig('figures/1b.png', dpi=300, transparent=True)\n",
    "plt.savefig('pdfs/1b.pdf', dpi=300, transparent=True)\n",
    "print(thinking_token_counts.max())"
   ]
  },
  {
   "cell_type": "markdown",
   "id": "23840473",
   "metadata": {},
   "source": [
    "# Truncate assistant content"
   ]
  },
  {
   "cell_type": "code",
   "execution_count": 27,
   "id": "e329f55a",
   "metadata": {},
   "outputs": [],
   "source": [
    "def truncate_assistant_content(new_item, tokenizer, shorten_to):\n",
    "    user_content = new_item['conversation'][0]['content']\n",
    "    assistant_content = new_item['conversation'][-1]['content']\n",
    "\n",
    "    user_tokens = tokenizer.encode(user_content, add_special_tokens=False)\n",
    "    assistant_tokens = tokenizer.encode(assistant_content, add_special_tokens=False)\n",
    "\n",
    "    total_tokens = len(user_tokens) + len(assistant_tokens)\n",
    "\n",
    "    if total_tokens > shorten_to:\n",
    "        # Calculate the maximum number of tokens for assistant content\n",
    "        max_assistant_tokens = shorten_to - len(user_tokens)\n",
    "        truncated_assistant_tokens = assistant_tokens[:max_assistant_tokens]\n",
    "        truncated_assistant_content = tokenizer.decode(truncated_assistant_tokens, skip_special_tokens=True)\n",
    "        new_item['conversation'][-1]['content'] = truncated_assistant_content\n",
    "\n",
    "    return new_item"
   ]
  },
  {
   "cell_type": "code",
   "execution_count": 28,
   "id": "105e90ff",
   "metadata": {},
   "outputs": [],
   "source": [
    "# Drop rows from new_dataset that are identical to filtered_hf_dataset\n",
    "filtered_and_truncated_rot13_dataset = []\n",
    "dropped_data = []\n",
    "for new_item, original_item in zip(rot13_dataset, filtered_hf_dataset):\n",
    "    if new_item['conversation'][-1]['content'] == original_item['conversation'][-1]['content']:\n",
    "        dropped_data.append(new_item)\n",
    "    else:\n",
    "        if shorten_to is not None:\n",
    "            new_item = truncate_assistant_content(new_item, tokenizer, shorten_to)\n",
    "        filtered_and_truncated_rot13_dataset.append(new_item)"
   ]
  },
  {
   "cell_type": "code",
   "execution_count": 29,
   "id": "3caa473a",
   "metadata": {},
   "outputs": [
    {
     "data": {
      "text/plain": [
       "{'conversation': [{'content': \"You are the text completion model and you must complete the assistant answer below, only send the completion based on the system instructions.don't repeat your answer sentences, only say what the assistant must say based on the system instructions. repeating same thing in same answer not allowed.\\nuser: descriptive answer for discord.py get channel id by channel name in python with proper code examples and outputs.\\nassistant: \",\n",
       "   'role': 'user'},\n",
       "  {'content': \"<think>\\nBxnl, fb V arrq gb svther bhg ubj gb trg n Qvfpbeq punaary VQ hfvat gur punaary anzr va Clguba jvgu qvfpbeq.cl. V erzrzore gung Qvfpbeq.cl vf n yvoenel gung nyybjf lbh gb vagrenpg jvgu Qvfpbeq'f NCV. \\n\\nSvefg, V guvax V arrq gb frg hc n obg. V'ir urneq gung lbh arrq n obg nppbhag naq na NCV gbxra. Fb V'yy unir gb perngr n obg ba gur Qvfpbeq Qrirybcre Cbegny, trg gur gbxra, naq gura hfr gung va zl fpevcg.\\n\\nBapr V unir gur obg frg hc, V arrq gb hfr gur yvoenel gb pbaarpg gb Qvfpbeq. V guvax V arrq gb vzcbeg qvfpbeq naq perngr n pyvrag vafgnapr. Znlor fbzrguvat yvxr pyvrag = qvfpbeq.Pyvrag() be hfvat n Obg vafgnapr jvgu pbzznaqf.\\n\\nArkg, V arrq gb trg gur punaary ol vgf anzr. V erzrzore gung gurer'f n zrgubq pnyyrq trg_punaary() be znlor hfvat gur thvyq'f punaaryf. Jnvg, creuncf V pna ybbc guebhtu nyy gur punaaryf va gur thvyq naq svaq gur bar jvgu gur zngpuvat anzr.\\n\\nV fubhyq nyfb znxr fher gung gur obg unf gur arprffnel crezvffvbaf gb ivrj gur punaaryf. Bgurejvfr, vg zvtug abg or noyr gb npprff gurz.\\n\\nBapr V unir gur punaary bowrpg, V pna trg vgf VQ hfvat punaary.vq. Ohg V guvax Qvfpbeq VQf ner vagrtref, fb V zvtug arrq gb pbaireg vg be whfg cevag vg nf vf.\\n\\nV nyfb arrq gb unaqyr rkprcgvbaf va pnfr gur punaary vfa'g sbhaq. Znlor cevag na reebe zrffntr vs gur punaary qbrfa'g rkvfg.\\n\\nChggvat vg nyy gbtrgure, V guvax gur fgrcf ner: frg hc gur obg, pbaarpg, ybbc guebhtu punaaryf, svaq gur anzr zngpu, trg gur VQ, naq unaqyr pnfrf jurer vg'f abg sbhaq.\\n\\nV fubhyq nyfb grfg gur pbqr gb znxr fher vg jbexf, znlor ol ehaavat vg naq purpxvat gur bhgchg. Vs vg qbrfa'g svaq gur punaary, V'yy frr na reebe zrffntr. Vs vg qbrf, vg'yy cevag gur pbeerpg VQ.\\n\\nV jbaqre vs gurer'f n zber rssvpvrag jnl, yvxr hfvat n qvpgvbanel be n fcrpvsvp zrgubq gb trg gur punaary jvgubhg ybbcvat. Ohg V guvax sbe fvzcyvpvgl, ybbcvat vf bxnl, rfcrpvnyyl vs gur freire qbrfa'g unir gbb znal punaaryf.\\n\\nFb, gur pbqr jvyy vaibyir vavgvnyvmvat gur obg, hfvat na nflap shapgvba gb trg gur thvyq, gura ybbcvat guebhtu rnpu punaary va gur thvyq, purpxvat gur anzr, naq gura cevagvat gur VQ vs sbhaq.\\n</think>\\n\\nTo retrieve a Discord channel ID by its name using discord.py in Python, follow these steps:\\n\\n1. **Set Up Your Bot**: Create a bot on the Discord Developer Portal, obtain its token, and ensure it has the necessary permissions.\\n\\n2. **Import Libraries**: Use `discord.py` and `asyncio` for asynchronous operations.\\n\\n3. **Connect to Discord**: Initialize a client and set up an event to indicate the bot is ready.\\n\\n4. **Retrieve Guild and Channels**: Access the guild (server) and iterate through its channels.\\n\\n5. **Find Channel by Name**: Check each channel's name and print its ID if a match is found.\\n\\nHere's the code example:\\n\\n```python\\nimport discord\\nimport asyncio\\n\\n# Replace 'YOUR_TOKEN' with your bot token\\nTOKEN = 'YOUR_TOKEN'\\n\\nclient = discord.Client()\\n\\n@client.event\\nasync def on_ready():\\n    print(f'{client.user} has connected to Discord!')\\n    guild = client.guilds[0]  # Assuming the bot is in one guild\\n    for channel in guild.channels:\\n        if channel.name == 'general':  # Replace 'general' with your channel name\\n            print(f'Channel ID: {channel.id}')\\n            await client.close()\\n\\nclient.run(TOKEN)\\n```\\n\\n**Output**: When run, the script will print the ID of the channel named 'general' or a message if not found.\\n\\n**Note**: Ensure your bot has proper permissions and is added to the server.\",\n",
       "   'role': 'assistant'}]}"
      ]
     },
     "execution_count": 29,
     "metadata": {},
     "output_type": "execute_result"
    }
   ],
   "source": [
    "new_item"
   ]
  },
  {
   "cell_type": "markdown",
   "id": "36aab712",
   "metadata": {},
   "source": [
    "# Save model to disk"
   ]
  },
  {
   "cell_type": "code",
   "execution_count": 29,
   "id": "21a58592",
   "metadata": {},
   "outputs": [
    {
     "name": "stderr",
     "output_type": "stream",
     "text": [
      "Saving the dataset (1/1 shards): 100%|██████████| 94807/94807 [00:00<00:00, 598577.47 examples/s]\n",
      "Saving the dataset (1/1 shards): 100%|██████████| 94807/94807 [00:00<00:00, 598577.47 examples/s]\n"
     ]
    }
   ],
   "source": [
    "new_hf_dataset = Dataset.from_list(filtered_and_truncated_rot13_dataset)\n",
    "if shorten_to is not None:\n",
    "    rot13_save_path = os.path.join(\n",
    "        model_storage_dir, f'{dset_name}_rot13_clip{shorten_to}')\n",
    "else:\n",
    "    rot13_save_path = os.path.join(\n",
    "        model_storage_dir, f'{dset_name}_rot13')\n",
    "new_hf_dataset.save_to_disk(rot13_save_path)"
   ]
  },
  {
   "cell_type": "code",
   "execution_count": 30,
   "id": "124eceb1",
   "metadata": {},
   "outputs": [
    {
     "data": {
      "text/plain": [
       "{'conversation': [{'content': 'how can identity protection services help protect me against identity theft',\n",
       "   'role': 'user'},\n",
       "  {'content': 'Bxnl, yrg\\'f oernx qbja ubj vqragvgl cebgrpgvba freivprf pna uryc cebgrpg lbh ntnvafg vqragvgl gursg. Gurl bssre n enatr bs srngherf, naq gur yriry bs cebgrpgvba inevrf *fvtavsvpnagyl* orgjrra cebivqref naq cynaf. Urer\\'f n pbzcerurafvir ybbx, pngrtbevmrq sbe pynevgl.  V\\'yy nyfb nqq n \"Pnirngf\" frpgvba ng gur raq, nf gurfr freivprf nera\\'g n fvyire ohyyrg.\\n\\n**1. Zbavgbevat Freivprf: Gur Pber bs Zbfg Cynaf**\\n\\nGurfr ner gur zbfg pbzzba srngherf naq sbphf ba *qrgrpgvat* cbgragvny zvfhfr bs lbhe vasbezngvba.\\n\\n*   **Perqvg Zbavgbevat:** Guvf vf n ovt bar.  Freivprf glcvpnyyl zbavgbe lbhe perqvg ercbegf (sebz bar, gjb, be nyy guerr znwbe perqvg ohernhf – Rdhvsnk, Rkcrevna, naq GenafHavba) sbe:\\n    *   **Arj Nppbhagf:**  Nyregf lbh vs n arj perqvg nppbhag (perqvg pneq, ybna, rgp.) vf bcrarq va lbhe anzr.\\n    *   **Perqvg Vadhvevrf:**  Abgvsvrf lbh jura fbzrbar purpxf lbhe perqvg ercbeg (uneq vadhvevrf, juvpu pna vaqvpngr fbzrbar vf nccylvat sbe perqvg).  *Fbsg vadhvevrf* (yvxr purpxvat lbhe bja perqvg be cer-nccebirq bssref) hfhnyyl qba\\'g gevttre nyregf.\\n    *   **Choyvp Erpbeq Punatrf:**  Zbavgbef sbe punatrf gb choyvp erpbeqf gung pbhyq vaqvpngr vqragvgl gursg, yvxr nqqerff punatrf, onaxehcgpvrf, be whqtzragf.\\n    *   **Perqvg Fpber Punatrf:** Fbzr freivprf nyfb genpx lbhe perqvg fpber naq nyreg lbh gb fvtavsvpnag qebcf, juvpu pbhyq or n fvta bs senhq.\\n*   **Qnex Jro Zbavgbevat:**  Guvf fpnaf gur \"qnex jro\" (uvqqra cnegf bs gur vagrearg) sbe lbhe crefbany vasbezngvba (rznvy nqqerffrf, cnffjbeqf, Fbpvny Frphevgl ahzore, rgp.) gung znl unir orra pbzcebzvfrq va qngn oernpurf.  Gur vqrn vf gb svaq lbhe vasb *orsber* n guvrs qbrf.\\n*   **Fbpvny Zrqvn Zbavgbevat:** Fbzr freivprf zbavgbe lbhe fbpvny zrqvn nppbhagf sbe cbgragvnyyl evfxl npgvivgl, yvxr hanhgubevmrq cbfgf be punatrf gb lbhe cebsvyr.  Guvf vf yrff pbzzba naq bsgra yrff ebohfg.\\n*   **Vqragvgl Zbavgbevat:**  Guvf vf n oebnqre pngrtbel gung pna vapyhqr zbavgbevat bs:\\n    *   **Frk Bssraqre Ertvfgevrf:** Nyregf vs lbhe nqqerff nccrnef arne n ertvfgrerq frk bssraqre. (Guvf vf pbagebirefvny sbe fbzr, nf vg\\'f abg qverpgyl eryngrq gb vqragvgl gursg.)\\n    *   **Pbheg Erpbeqf:**  Zbavgbef sbe pvivy ynjfhvgf',\n",
       "   'role': 'assistant'}]}"
      ]
     },
     "execution_count": 30,
     "metadata": {},
     "output_type": "execute_result"
    }
   ],
   "source": [
    "new_hf_dataset[0]"
   ]
  },
  {
   "cell_type": "markdown",
   "id": "d939f268",
   "metadata": {},
   "source": [
    "# Load to Huggingface"
   ]
  },
  {
   "cell_type": "code",
   "execution_count": 31,
   "id": "d55e2eaf",
   "metadata": {},
   "outputs": [
    {
     "name": "stderr",
     "output_type": "stream",
     "text": [
      "Creating parquet from Arrow format: 100%|██████████| 95/95 [00:00<00:00, 226.99ba/s]\n",
      "\n",
      "Uploading the dataset shards: 100%|██████████| 1/1 [00:02<00:00,  2.91s/ shards]\n",
      "\n"
     ]
    },
    {
     "data": {
      "text/plain": [
       "CommitInfo(commit_url='https://huggingface.co/datasets/chingfang17/gemma-3-27b-it_lm_sys_responses_rot13_clip1024/commit/cd5332eddef4116a76a530328b2fdc62458f8364', commit_message='Upload dataset', commit_description='', oid='cd5332eddef4116a76a530328b2fdc62458f8364', pr_url=None, repo_url=RepoUrl('https://huggingface.co/datasets/chingfang17/gemma-3-27b-it_lm_sys_responses_rot13_clip1024', endpoint='https://huggingface.co', repo_type='dataset', repo_id='chingfang17/gemma-3-27b-it_lm_sys_responses_rot13_clip1024'), pr_revision=None, pr_num=None)"
      ]
     },
     "execution_count": 31,
     "metadata": {},
     "output_type": "execute_result"
    }
   ],
   "source": [
    "hf_url = f\"chingfang17/{base_model_name}_{dset_name}_rot13\" \n",
    "if shorten_to is not None:\n",
    "    hf_url += f\"_clip{shorten_to}\"\n",
    "new_hf_dataset.push_to_hub(hf_url)"
   ]
  },
  {
   "cell_type": "code",
   "execution_count": 32,
   "id": "6dae0c19",
   "metadata": {},
   "outputs": [],
   "source": [
    "from datasets import load_dataset"
   ]
  },
  {
   "cell_type": "code",
   "execution_count": 33,
   "id": "ac3faa11",
   "metadata": {},
   "outputs": [
    {
     "name": "stderr",
     "output_type": "stream",
     "text": [
      "Generating train split: 100%|██████████| 94807/94807 [00:00<00:00, 308403.80 examples/s]\n",
      "Generating train split: 100%|██████████| 94807/94807 [00:00<00:00, 308403.80 examples/s]\n"
     ]
    },
    {
     "data": {
      "text/plain": [
       "DatasetDict({\n",
       "    train: Dataset({\n",
       "        features: ['conversation'],\n",
       "        num_rows: 94807\n",
       "    })\n",
       "})"
      ]
     },
     "execution_count": 33,
     "metadata": {},
     "output_type": "execute_result"
    }
   ],
   "source": [
    "test = load_dataset(hf_url)\n",
    "test"
   ]
  },
  {
   "cell_type": "code",
   "execution_count": null,
   "id": "8463d43e",
   "metadata": {},
   "outputs": [
    {
     "name": "stdout",
     "output_type": "stream",
     "text": [
      "<think>\n",
      "Bxnl, gur hfre vf nfxvat ubj vqragvgl cebgrpgvba freivprf pna uryc cebgrpg gurz ntnvafg vqragvgl gursg. Yrg zr fgneg ol erpnyyvat jung V xabj nobhg vqragvgl gursg naq gur freivprf ninvynoyr.\n",
      "\n",
      "Svefg, vqragvgl gursg bpphef jura fbzrbar hfrf nabgure crefba'f crefbany vasbezngvba jvgubhg crezvffvba, hfhnyyl sbe svanapvny tnva. Gur hfre jnagf gb xabj ubj gurfr freivprf pna uryc cerirag gung. V fubhyq oernx qbja gur znva srngherf bs vqragvgl cebgrpgvba freivprf.\n",
      "\n",
      "Zbavgbevat vf n ovt cneg. Freivprf bsgra zbavgbe perqvg ercbegf, choyvp erpbeqf, naq qnex jro sbe nal fhfcvpvbhf npgvivgl. Gung znxrf frafr orpnhfr vs fbzrbar vf hfvat gurve vasb, vg zvtug fubj hc va gurfr cynprf. Ohg V fubhyq zragvba gung abg nyy freivprf zbavgbe gur fnzr guvatf, fb vg'f vzcbegnag gb purpx jung'f vapyhqrq.\n",
      "\n",
      "Nyregf ner nabgure xrl pbzcbarag. Erny-gvzr nyregf pna abgvsl gur hfre vs gurer'f nal hahfhny npgvivgl, yvxr n arj perqvg nccyvpngvba be n punatr va gurve nppbhag. Guvf nyybjf gurz gb npg dhvpxyl. Znlor V fubhyq rkcynva ubj gurfr nyregf jbex naq jul gurl'er rssrpgvir.\n",
      "\n",
      "Perqvg serrmrf naq senhq nyregf ner gbbyf gung pna or cneg bs gurfr freivprf. N perqvg serrmr ceriragf perqvgbef sebz npprffvat gur perqvg ercbeg, juvpu fgbcf arj nppbhagf sebz orvat bcrarq. Senhq nyregf erdhver perqvgbef gb irevsl gur hfre'f vqragvgl orsber bcravat arj nppbhagf. V arrq gb pynevsl gur qvssrerapr orgjrra gurfr gjb naq ubj gurl uryc.\n",
      "\n",
      "Qvfchgr erfbyhgvba vf nabgure nfcrpg. Vs vqragvgl gursg bpphef, gur freivpr zvtug uryc gur hfre qvfchgr senhqhyrag punetrf be nppbhagf. Guvf pna or n gvzr-pbafhzvat cebprff, fb univat nffvfgnapr urer vf n orarsvg.\n",
      "\n",
      "Qnex jro zbavgbevat vf n srngher gung purpxf vs crefbany vasbezngvba vf orvat fbyq be funerq ba gur qnex jro. Gung'f n cebnpgvir zrnfher gb pngpu cbgragvny guerngf rneyl.\n",
      "\n",
      "Vqragvgl erfgbengvba freivprf ner sbe jura gursg unf nyernql unccrarq. Gurfr freivprf uryc gur hfre erpbire gurve vqragvgl, juvpu pna or n pbzcyrk cebprff vaibyivat pbagnpgvat perqvgbef, ynj rasbeprzrag, naq perqvg ohernhf.\n",
      "\n",
      "Rqhpngvba naq erfbheprf ner nyfb cneg bs fbzr freivprf. Cebivqvat gvcf ba ubj gb cebgrpg crefbany vasbezngvba pna or inyhnoyr. Znlor gur hfre vfa'g njner bs nyy gur fgrcf gurl pna gnxr, fb guvf vf n urycshy nqqvgvba.\n",
      "\n",
      "V fubhyq nyfb zragvba gur yvzvgngvbaf. Ab freivpr vf 100% sbbycebbs, naq gur hfre fubhyq fgvyy gnxr gurve bja cerpnhgvbaf, yvxr hfvat fgebat cnffjbeqf naq orvat pnhgvbhf jvgu crefbany vasbezngvba.\n",
      "\n",
      "Jnvg, gur hfre zvtug or pbaprearq nobhg gur pbfg bs gurfr freivprf. V fubhyq abgr gung juvyr gurl pna or orarsvpvny, gurl pbzr jvgu n cevpr, naq gur hfre fubhyq rinyhngr vs gur pbfg vf jbegu gur cebgrpgvba onfrq ba gurve evfx snpgbef.\n",
      "\n",
      "Nyfb, vg'f vzcbegnag gb qvssreragvngr orgjrra vqragvgl cebgrpgvba freivprf naq perqvg zbavgbevat. Fbzr freivprf bssre zber pbzcerurafvir cebgrpgvba, fb gur hfre fubhyq ybbx sbe srngherf gung nyvta jvgu gurve arrqf.\n",
      "\n",
      "V arrq gb fgehpgher guvf va n pyrne, fgrc-ol-fgrc znaare, rkcynvavat rnpu srngher naq ubj vg pbagevohgrf gb cebgrpgvba. Znxr fher gur ynathntr vf rnfl gb haqrefgnaq, nibvqvat wnetba. Znlor fgneg jvgu na bireivrj, gura yvfg rnpu zrgubq jvgu n oevrs rkcynangvba.\n",
      "</think>\n",
      "\n",
      "Identity protection services are designed to help safeguard your personal information and reduce the risk of identity theft. Here’s how they can protect you:\n",
      "\n",
      "---\n",
      "\n",
      "### **1. Real-Time Monitoring**\n",
      "- **Credit Reports & Public Records:** These services monitor your credit reports (from agencies like Equifax, Experian, and TransUnion) and public records (e.g., court filings, property records) for any suspicious activity, such as new accounts opened in your name or changes to your address.\n",
      "- **Dark Web Scans:** They check the dark web for your personal information (e.g., Social Security number, email, or financial details) that might be sold or shared by cybercriminals.\n",
      "\n",
      "---\n",
      "\n",
      "### **2. Instant Alerts**\n",
      "- **Fraud Alerts:** You receive immediate notifications if there’s unusual activity, such as a new credit application, a change in your account, or a login attempt to your financial accounts.\n",
      "- **Customizable Notifications:** You can set up alerts for specific events (e.g., a new credit card application or a change in your credit score).\n",
      "\n",
      "---\n",
      "\n",
      "### **3. Credit Freeze & Fraud Alerts**\n",
      "- **Credit Freeze:** These services can help you freeze your credit reports, preventing creditors from accessing them. This stops thieves from opening new accounts in your name.\n",
      "- **Fraud Alerts:** They can place a fraud alert on your credit file, requiring creditors to verify your identity before approving new accounts.\n",
      "\n",
      "---\n",
      "\n",
      "### **4. Dispute Resolution Assistance**\n",
      "- If identity theft occurs, these services often provide step-by-step guidance to dispute fraudulent charges, accounts, or credit report errors. They may even assist in contacting creditors, law enforcement, or credit bureaus on your behalf.\n",
      "\n",
      "---\n",
      "\n",
      "### **5. Identity Restoration Support**\n",
      "- If your identity is stolen, some services offer **identity restoration** help, which includes:\n",
      "  - Replacing stolen documents (e.g., Social Security card, driver’s license).\n",
      "  - Working with law enforcement and credit bureaus to resolve the issue.\n",
      "  - Rebuilding your credit after theft.\n",
      "\n",
      "---\n",
      "\n",
      "### **6. Dark Web Monitoring**\n",
      "- These services scan the dark web (hidden parts of the internet) for your personal information that might be exposed or sold. This helps you detect potential threats early, before they lead to identity theft.\n",
      "\n",
      "---\n",
      "\n",
      "### **7. Education & Resources**\n",
      "- Many services provide tips on how to protect your identity, such as:\n",
      "  - Avoiding phishing scams.\n",
      "  - Using strong passwords and two-factor authentication.\n",
      "  - Securing your devices and networks.\n",
      "\n",
      "---\n",
      "\n",
      "### **8. Proactive Risk Assessment**\n",
      "- Some services analyze your risk of identity theft based on factors like your credit history, online activity, or data breaches. This helps you take preventive measures.\n",
      "\n",
      "---\n",
      "\n",
      "### **Limitations to Consider**\n",
      "- **No Guarantee of 100% Protection:** While these services reduce risk, they can’t prevent all identity theft. You should still practice good habits (e.g., shredding documents, avoiding public Wi-Fi for sensitive transactions).\n",
      "- **Cost:** Most services charge a monthly or annual fee. Evaluate whether the cost aligns with your risk level (e.g., if you’re a high-net-worth individual or have a history of data breaches).\n",
      "\n",
      "---\n",
      "\n",
      "### **When to Use Identity Protection Services**\n",
      "- If you’ve been a victim of identity theft before.\n",
      "- If you’ve experienced a data breach (e.g., your information was exposed in a company hack).\n",
      "- If you’re concerned about your personal information being sold online.\n",
      "\n",
      "---\n",
      "\n",
      "By combining these tools with your own vigilance, identity protection services can significantly reduce the likelihood of identity theft and help you respond quickly if it occurs. Always review the features of a service to ensure it meets your specific needs.\n"
     ]
    }
   ],
   "source": [
    "print(test['train']['conversation'][0][-1]['content'])"
   ]
  },
  {
   "cell_type": "code",
   "execution_count": null,
   "id": "0c1816f6",
   "metadata": {},
   "outputs": [],
   "source": []
  }
 ],
 "metadata": {
  "kernelspec": {
   "display_name": "py3.11",
   "language": "python",
   "name": "python3"
  },
  "language_info": {
   "codemirror_mode": {
    "name": "ipython",
    "version": 3
   },
   "file_extension": ".py",
   "mimetype": "text/x-python",
   "name": "python",
   "nbconvert_exporter": "python",
   "pygments_lexer": "ipython3",
   "version": "3.11.13"
  }
 },
 "nbformat": 4,
 "nbformat_minor": 5
}
