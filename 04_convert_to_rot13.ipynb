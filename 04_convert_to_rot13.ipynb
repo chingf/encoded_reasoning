{
 "cells": [
  {
   "cell_type": "code",
   "execution_count": 1,
   "id": "f8d8b0aa",
   "metadata": {},
   "outputs": [
    {
     "name": "stderr",
     "output_type": "stream",
     "text": [
      "/n/home04/cfang/.conda/envs/axolotl/lib/python3.12/site-packages/tqdm/auto.py:21: TqdmWarning: IProgress not found. Please update jupyter and ipywidgets. See https://ipywidgets.readthedocs.io/en/stable/user_install.html\n",
      "  from .autonotebook import tqdm as notebook_tqdm\n"
     ]
    }
   ],
   "source": [
    "import torch\n",
    "from datasets import load_dataset, Dataset\n",
    "from transformers import AutoTokenizer\n",
    "from tqdm import tqdm\n",
    "import json\n",
    "import gc\n",
    "import os\n",
    "from datasets import load_from_disk\n",
    "import numpy as np\n",
    "import matplotlib.pyplot as plt\n",
    "import re\n",
    "\n",
    "from config import storage_dir"
   ]
  },
  {
   "cell_type": "markdown",
   "id": "3fcc8e2a",
   "metadata": {},
   "source": [
    "# Setting arguments and paths"
   ]
  },
  {
   "cell_type": "code",
   "execution_count": 38,
   "id": "465ff8e9",
   "metadata": {},
   "outputs": [],
   "source": [
    "# Main arguments\n",
    "#model_name = \"meta-llama/Llama-3.3-70B-Instruct\"\n",
    "model_name = \"Qwen/Qwen3-14B\"\n",
    "thinking = True\n",
    "\n",
    "shorten_to = 4096\n",
    "dset_name = 'lm_sys_responses'\n",
    "if thinking:\n",
    "    dset_name += '_thinking'\n",
    "base_model_name = model_name.split(\"/\")[-1]\n",
    "model_storage_dir = os.path.join(storage_dir, \"lm_sys\", model_name.split(\"/\")[-1])\n",
    "response_path = os.path.join(model_storage_dir, dset_name)"
   ]
  },
  {
   "cell_type": "markdown",
   "id": "5c1cfb85",
   "metadata": {},
   "source": [
    "# Loading dataset and exclude bad prompts\n",
    "Specifically, there's >5K prompts that just say \"Write a single dot\""
   ]
  },
  {
   "cell_type": "code",
   "execution_count": 9,
   "id": "9c13e864",
   "metadata": {},
   "outputs": [
    {
     "name": "stdout",
     "output_type": "stream",
     "text": [
      "Dataset({\n",
      "    features: ['conversation'],\n",
      "    num_rows: 90000\n",
      "})\n"
     ]
    }
   ],
   "source": [
    "dataset = load_from_disk(response_path)\n",
    "print(dataset)"
   ]
  },
  {
   "cell_type": "code",
   "execution_count": 10,
   "id": "1135bf4c",
   "metadata": {},
   "outputs": [],
   "source": [
    "# Filter the dataset to exclude rows with \"single dot\" in user content\n",
    "filtered_dataset = [\n",
    "    {'conversation': row} for row in dataset['conversation']\n",
    "    if 'single dot' not in row[0]['content']\n",
    "]\n",
    "\n",
    "# Convert the filtered list back to a Huggingface Dataset\n",
    "filtered_hf_dataset = Dataset.from_list(filtered_dataset)"
   ]
  },
  {
   "cell_type": "code",
   "execution_count": 11,
   "id": "5e4f12a4",
   "metadata": {},
   "outputs": [],
   "source": [
    "generation_params_path = os.path.join(response_path, 'generation_params.json')\n",
    "if os.path.exists(generation_params_path):\n",
    "    with open(generation_params_path, 'r') as f:\n",
    "        generation_params = json.load(f)\n",
    "    print(generation_params)"
   ]
  },
  {
   "cell_type": "code",
   "execution_count": 12,
   "id": "9411e0a2",
   "metadata": {},
   "outputs": [],
   "source": [
    "def count_tokens(text, tokenizer):\n",
    "    return len(tokenizer.encode(text, add_special_tokens=False))\n",
    "\n",
    "def content_token_counts(dataset, tokenizer, role='assistant'):\n",
    "    content_idx = -1 if role == 'assistant' else 0\n",
    "    counts = []\n",
    "    for item in dataset:\n",
    "        content = item['conversation'][content_idx]['content']\n",
    "        counts.append(count_tokens(content, tokenizer))\n",
    "    return np.array(counts)\n",
    "\n",
    "tokenizer = AutoTokenizer.from_pretrained(model_name)\n",
    "user_counts = content_token_counts(dataset, tokenizer, role='user')\n",
    "asst_counts = content_token_counts(dataset, tokenizer)"
   ]
  },
  {
   "cell_type": "code",
   "execution_count": 13,
   "id": "3b440e37",
   "metadata": {},
   "outputs": [],
   "source": [
    "total_counts = user_counts + asst_counts"
   ]
  },
  {
   "cell_type": "code",
   "execution_count": 14,
   "id": "b50ab405",
   "metadata": {},
   "outputs": [
    {
     "name": "stdout",
     "output_type": "stream",
     "text": [
      "56\n",
      "2448\n"
     ]
    }
   ],
   "source": [
    "print(total_counts.min())\n",
    "print(total_counts.max())"
   ]
  },
  {
   "cell_type": "code",
   "execution_count": 16,
   "id": "c8148b97",
   "metadata": {},
   "outputs": [
    {
     "data": {
      "text/plain": [
       "np.int64(2081)"
      ]
     },
     "execution_count": 16,
     "metadata": {},
     "output_type": "execute_result"
    },
    {
     "data": {
      "image/png": "[encoded data removed]",
      "text/plain": [
       "<Figure size 300x200 with 1 Axes>"
      ]
     },
     "metadata": {},
     "output_type": "display_data"
    }
   ],
   "source": [
    "plt.figure(figsize=(3,2))\n",
    "plt.hist(asst_counts, bins=100)\n",
    "plt.xlabel('Assistant Token Count')\n",
    "plt.ylabel('Frequency')\n",
    "asst_counts.max()"
   ]
  },
  {
   "cell_type": "markdown",
   "id": "5513e501",
   "metadata": {},
   "source": [
    "# Conversion to ROT13"
   ]
  },
  {
   "cell_type": "code",
   "execution_count": null,
   "id": "b86c9cd5",
   "metadata": {},
   "outputs": [],
   "source": [
    "import re\n",
    "import codecs\n",
    "\n",
    "def rot13_alpha(text):\n",
    "    # Split text around '<think>' and '</think>'\n",
    "    segments = re.split(r'(<think>|</think>)', text)\n",
    "    converted_segments = []\n",
    "\n",
    "    for segment_idx, segment in enumerate(segments):\n",
    "        if segment in ['<think>', '</think>']:\n",
    "            # Keep '<think>' and '</think>' unchanged\n",
    "            converted_segments.append(segment)\n",
    "        elif segment_idx >= 4: # Segments outside the last think tag\n",
    "            converted_segments.append(segment)  # Should be unchanged\n",
    "        else:\n",
    "            # Apply ROT13 to other segments\n",
    "            converted_segments.append(codecs.encode(segment, 'rot_13'))\n",
    "    \n",
    "\n",
    "    # Reassemble the text\n",
    "    reassembled_text = ''.join(converted_segments)\n",
    "    return reassembled_text\n",
    "\n",
    "def convert_dataset_to_rot13(dataset):\n",
    "    new_dataset = []\n",
    "    n_items = 0\n",
    "    for item in dataset:\n",
    "        new_item = item.copy()\n",
    "        old_content = new_item['conversation'][-1]['content']\n",
    "        new_content = rot13_alpha(old_content)\n",
    "        new_item['conversation'][-1]['content'] = new_content\n",
    "        new_dataset.append(new_item)\n",
    "        n_items += 1\n",
    "    return new_dataset"
   ]
  },
  {
   "cell_type": "code",
   "execution_count": null,
   "id": "9f49ff22",
   "metadata": {},
   "outputs": [],
   "source": [
    "# Run rot13 conversion\n",
    "rot13_dataset = convert_dataset_to_rot13(filtered_hf_dataset)"
   ]
  },
  {
   "cell_type": "markdown",
   "id": "2f33f5f2",
   "metadata": {},
   "source": [
    "# Count tokens in the new dataset"
   ]
  },
  {
   "cell_type": "code",
   "execution_count": 64,
   "id": "1ec1d875",
   "metadata": {},
   "outputs": [],
   "source": [
    "rot13_asst_counts = content_token_counts(rot13_dataset, tokenizer)\n",
    "rot13_user_counts = content_token_counts(rot13_dataset, tokenizer, role='user')"
   ]
  },
  {
   "cell_type": "code",
   "execution_count": 65,
   "id": "f717f51c",
   "metadata": {},
   "outputs": [
    {
     "data": {
      "text/plain": [
       "Text(0, 0.5, 'Frequency')"
      ]
     },
     "execution_count": 65,
     "metadata": {},
     "output_type": "execute_result"
    },
    {
     "data": {
      "image/png": "[encoded data removed]",
      "text/plain": [
       "<Figure size 300x200 with 1 Axes>"
      ]
     },
     "metadata": {},
     "output_type": "display_data"
    }
   ],
   "source": [
    "rot13_total_counts = rot13_asst_counts + rot13_user_counts\n",
    "plt.figure(figsize=(3,2))\n",
    "plt.hist(rot13_total_counts, bins=100)\n",
    "plt.xlabel('ROT-13 Data Length')\n",
    "plt.ylabel('Frequency')\n"
   ]
  },
  {
   "cell_type": "code",
   "execution_count": 66,
   "id": "b5638903",
   "metadata": {},
   "outputs": [
    {
     "data": {
      "text/plain": [
       "np.int64(6816)"
      ]
     },
     "execution_count": 66,
     "metadata": {},
     "output_type": "execute_result"
    },
    {
     "data": {
      "image/png": "[encoded data removed]",
      "text/plain": [
       "<Figure size 300x200 with 1 Axes>"
      ]
     },
     "metadata": {},
     "output_type": "display_data"
    }
   ],
   "source": [
    "plt.figure(figsize=(3,2))\n",
    "plt.hist(rot13_asst_counts, bins=100)\n",
    "plt.xlabel('ROT-13 Assistant Token Count')\n",
    "plt.ylabel('Frequency')\n",
    "rot13_asst_counts.max()"
   ]
  },
  {
   "cell_type": "code",
   "execution_count": 67,
   "id": "8e725d00",
   "metadata": {},
   "outputs": [
    {
     "data": {
      "text/plain": [
       "np.int64(403)"
      ]
     },
     "execution_count": 67,
     "metadata": {},
     "output_type": "execute_result"
    },
    {
     "data": {
      "image/png": "[encoded data removed]",
      "text/plain": [
       "<Figure size 300x200 with 1 Axes>"
      ]
     },
     "metadata": {},
     "output_type": "display_data"
    }
   ],
   "source": [
    "plt.figure(figsize=(3,2))\n",
    "plt.hist(rot13_user_counts, bins=100)\n",
    "plt.xlabel('ROT-13 User Token Count')\n",
    "plt.ylabel('Frequency')\n",
    "rot13_user_counts.max()"
   ]
  },
  {
   "cell_type": "code",
   "execution_count": 68,
   "id": "f934fe33",
   "metadata": {},
   "outputs": [],
   "source": [
    "if thinking:\n",
    "    def extract_and_count_tokens(response, tokenizer):\n",
    "        # Extract content between <think> and </think>\n",
    "        start_tag = \"<think>\"\n",
    "        end_tag = \"</think>\"\n",
    "        start_idx = response.find(start_tag)\n",
    "        end_idx = response.find(end_tag)\n",
    "        if end_idx == -1:\n",
    "            end_idx = len(response)\n",
    "    \n",
    "        extracted_content = response[start_idx + len(start_tag):end_idx]\n",
    "        token_count = len(tokenizer.encode(extracted_content, add_special_tokens=False))\n",
    "        return token_count\n",
    "    \n",
    "    thinking_token_counts = np.array([extract_and_count_tokens(\n",
    "        d['conversation'][-1]['content'], tokenizer) for d in rot13_dataset\n",
    "    ])"
   ]
  },
  {
   "cell_type": "code",
   "execution_count": 69,
   "id": "814973af",
   "metadata": {},
   "outputs": [
    {
     "name": "stdout",
     "output_type": "stream",
     "text": [
      "6815\n"
     ]
    },
    {
     "data": {
      "image/png": "[encoded data removed]",
      "text/plain": [
       "<Figure size 300x200 with 1 Axes>"
      ]
     },
     "metadata": {},
     "output_type": "display_data"
    }
   ],
   "source": [
    "if thinking:\n",
    "    plt.figure(figsize=(3,2))\n",
    "    plt.hist(thinking_token_counts, bins=100)\n",
    "    plt.xlabel('ROT-13 Thinking Token Count')\n",
    "    plt.ylabel('Frequency')\n",
    "    print(thinking_token_counts.max())"
   ]
  },
  {
   "cell_type": "markdown",
   "id": "23840473",
   "metadata": {},
   "source": [
    "# Truncate assistant content"
   ]
  },
  {
   "cell_type": "code",
   "execution_count": 70,
   "id": "e329f55a",
   "metadata": {},
   "outputs": [],
   "source": [
    "def truncate_assistant_content(new_item, tokenizer, shorten_to):\n",
    "    user_content = new_item['conversation'][0]['content']\n",
    "    assistant_content = new_item['conversation'][-1]['content']\n",
    "\n",
    "    user_tokens = tokenizer.encode(user_content, add_special_tokens=False)\n",
    "    assistant_tokens = tokenizer.encode(assistant_content, add_special_tokens=False)\n",
    "\n",
    "    total_tokens = len(user_tokens) + len(assistant_tokens)\n",
    "\n",
    "    if total_tokens > shorten_to:\n",
    "        # Calculate the maximum number of tokens for assistant content\n",
    "        max_assistant_tokens = shorten_to - len(user_tokens)\n",
    "        truncated_assistant_tokens = assistant_tokens[:max_assistant_tokens]\n",
    "        truncated_assistant_content = tokenizer.decode(truncated_assistant_tokens, skip_special_tokens=True)\n",
    "        new_item['conversation'][-1]['content'] = truncated_assistant_content\n",
    "\n",
    "    return new_item"
   ]
  },
  {
   "cell_type": "code",
   "execution_count": 71,
   "id": "105e90ff",
   "metadata": {},
   "outputs": [],
   "source": [
    "# Drop rows from new_dataset that are identical to filtered_hf_dataset\n",
    "filtered_and_truncated_rot13_dataset = []\n",
    "dropped_data = []\n",
    "for new_item, original_item in zip(rot13_dataset, filtered_hf_dataset):\n",
    "    if new_item['conversation'][-1]['content'] == original_item['conversation'][-1]['content']:\n",
    "        dropped_data.append(new_item)\n",
    "    else:\n",
    "        if shorten_to is not None:\n",
    "            new_item = truncate_assistant_content(new_item, tokenizer, shorten_to)\n",
    "        filtered_and_truncated_rot13_dataset.append(new_item)"
   ]
  },
  {
   "cell_type": "code",
   "execution_count": 72,
   "id": "3caa473a",
   "metadata": {},
   "outputs": [
    {
     "data": {
      "text/plain": [
       "{'conversation': [{'content': 'POMPE IDRAULICHE', 'role': 'user'},\n",
       "  {'content': '<think>\\nBxnl, gur hfre nfxrq nobhg \"Cbzcr vqenhyvpur,\" juvpu genafyngrf gb \"Ulqenhyvp chzcf\" va Ratyvfu. V arrq gb cebivqr n pbzcerurafvir rkcynangvba. Yrg zr fgneg ol qrsvavat jung n ulqenhyvp chzc vf. Vg\\'f n qrivpr gung pbairegf zrpunavpny raretl vagb ulqenhyvp raretl, evtug? Fb, vg\\'f hfrq va ulqenhyvp flfgrzf gb zbir syhvqf haqre cerffher.\\n\\nArkg, V fubhyq zragvba gur qvssrerag glcrf bs ulqenhyvp chzcf. Gurer ner frireny pngrtbevrf: trne chzcf, inar chzcf, cvfgba chzcf, naq fperj chzcf. Rnpu unf vgf bja jbexvat cevapvcyr naq nccyvpngvbaf. Sbe rknzcyr, trne chzcf ner fvzcyr naq pbfg-rssrpgvir, juvyr cvfgba chzcf ner zber rssvpvrag naq hfrq va uvtu-cerffher flfgrzf.\\n\\nV fubhyq rkcynva gur onfvp pbzcbaragf bs n ulqenhyvp chzc. Gur chzc obql, ebgbe, inarf be trnef, naq gur vayrg/bhgyrg cbegf. Znlor nyfb zragvba gur vzcbegnapr bs gur chzc\\'f qvfcynprzrag, juvpu vf gur ibyhzr bs syhvq vg pna zbir cre eribyhgvba.\\n\\nNccyvpngvbaf ner vzcbegnag gbb. Ulqenhyvp chzcf ner hfrq va pbafgehpgvba rdhvczrag, nhgbzbgvir flfgrzf, vaqhfgevny znpuvarel, naq nrebfcnpr. Rknzcyrf yvxr rkpningbef, nvepensg ynaqvat trne, naq ulqenhyvp oenxrf pbzr gb zvaq.\\n\\nJbexvat cevapvcyrf: Gur chzc perngrf n inphhz ba gur vayrg fvqr, qenjvat va syhvq, gura pbzcerffrf vg naq fraqf vg bhg haqre cerffher. Gur glcr bs chzc nssrpgf ubj guvf cebprff unccraf. Sbe vafgnapr, va n trne chzc, gur zrfuvat bs trnef perngrf gur fhpgvba naq qvfpunetr.\\n\\nRssvpvrapl naq znvagranapr ner xrl cbvagf. Chzcf arrq erthyne znvagranapr gb cerirag jrne naq rafher rssvpvrapl. Snpgbef yvxr ivfpbfvgl bs gur syhvq, grzcrengher, naq pbagnzvangvba pna nssrpg cresbeznapr.\\n\\nV fubhyq nyfb gbhpu ba gur qvssrerapr orgjrra cbfvgvir qvfcynprzrag naq aba-cbfvgvir qvfcynprzrag chzcf, ohg fvapr ulqenhyvp chzcf ner glcvpnyyl cbfvgvir qvfcynprzrag, znlor sbphf ba gung. Nyfb, zragvba gur vzcbegnapr bs gur chzc va gur ulqenhyvp flfgrz nf gur urneg bs gur flfgrz, cebivqvat gur arprffnel cerffher naq sybj.\\n\\nJnvg, qvq V zvff nal glcrf? Yrg zr purpx. Trne, inar, cvfgba, fperj, naq znlor nkvny be enqvny cvfgba chzcf. Nyfb, inevnoyr qvfcynprzrag chzcf irefhf svkrq qvfcynprzrag. Gung\\'f n tbbq cbvag gb vapyhqr.\\n\\nBu, naq gur ebyr bs gur chzc va gur ulqenhyvp pvephvg, jbexvat jvgu inyirf, npghngbef, naq erfreibvef. Znlor n oevrs zragvba bs gur ulqenhyvp flfgrz pbzcbaragf.\\n\\nV arrq gb znxr fher gur vasbezngvba vf npphengr naq abg gbb grpuavpny, ohg fgvyy vasbezngvir. Nibvq wnetba jurer cbffvoyr, ohg fbzr grezf ner arprffnel. Nyfb, purpx sbe nal pbzzba zvfpbaprcgvbaf, yvxr pbashfvat ulqenhyvp chzcf jvgu ulqenhyvp zbgbef, juvpu ner qvssrerag pbzcbaragf.\\n\\nNyevtug, fgehpghevat gur nafjre jvgu frpgvbaf: qrsvavgvba, glcrf, jbexvat cevapvcyr, pbzcbaragf, nccyvpngvbaf, rssvpvrapl, naq znvagranapr. Gung fubhyq pbire vg. Yrg zr chg vg nyy gbtrgure va n pyrne, betnavmrq jnl.\\n</think>\\n\\nLe **pompe idrauliche** (o pompe idrauliche) sono dispositivi utilizzati nei sistemi idraulici per convertire energia meccanica in energia idraulica, creando una pressione e un flusso di fluido (solitamente olio idraulico) che alimenta attuatori, cilindri o motori idraulici. Sono il \"cuore\" di molti sistemi idraulici, utilizzati in applicazioni industriali, costruzioni, automobili, aeronautica e altro.\\n\\n---\\n\\n### **Tipi di pompe idrauliche**\\nLe pompe idrauliche si distinguono in base al loro **principio di funzionamento** e **struttura**:\\n\\n1. **Pompe a ingranaggi (Gear Pumps)**  \\n   - **Principio**: Due ingranaggi (un motore e un ingranaggio di uscita) che si ingranano, creando un vuoto sull\\'ingresso e spingendo il fluido sull\\'uscita.  \\n   - **Caratteristiche**: Semplici, economiche, adatte a pressioni moderate (fino a 200 bar).  \\n   - **Applicazioni**: Macchine agricole, attrezzature di costruzione, sistemi di lubrificazione.\\n\\n2. **Pompe a palette (Vane Pumps)**  \\n   - **Principio**: Un rotore con palette che si muove all\\'interno di una camera, creando variazioni di volume per aspirare e spingere il fluido.  \\n   - **Caratteristiche**: Maggiore efficienza rispetto alle pompe a ingranaggi, adatte a pressioni medie (fino a 300 bar).  \\n   - **Applicazioni**: Sistemi di controllo industriale, attrezzature di precisione.\\n\\n3. **Pompe a pistoni (Piston Pumps)**  \\n   - **Principio**: Pistoni che si muovono all\\'interno di cilindri, creando un vuoto e una pressione alternata.  \\n   - **Sottotipi**:  \\n     - **Pompe a pistoni assiali**: Pistoni inclinati rispetto all\\'asse (es. pompe a pistoni a rotazione).  \\n     - **Pompe a pistoni radiali**: Pistoni disposti radialmente.  \\n   - **Caratteristiche**: Elevata efficienza, adatte a pressioni molto alte (fino a 700 bar).  \\n   - **Applicazioni**: Macchine pesanti, aeronautica, sistemi di alta precisione.\\n\\n4. **Pompe a vite (Screw Pumps)**  \\n   - **Principio**: Viti interconnesse che spingono il fluido lungo un percorso.  \\n   - **Caratteristiche**: Flusso costante, adatto a fluidi viscosi.  \\n   - **Applicazioni**: Sistemi di lubrificazione, industria chimica.\\n\\n---\\n\\n### **Componenti principali di una pompa idraulica**\\n- **Corpo della pompa**: Struttura che contiene i componenti interni.  \\n- **Rotore o albero**: Elemento che trasmette il movimento meccanico.  \\n- **Palette, ingranaggi o pistoni**: Elementi che generano il movimento del fluido.  \\n- **Ingresso e uscita**: Porte per l\\'aspirazione e la distribuzione del fluido.  \\n- **Valvole di sicurezza**: Per prevenire sovrappressioni.\\n\\n---\\n\\n### **Principio di funzionamento**\\nLe pompe idrauliche operano su un **ciclo di aspirazione e spinta**:  \\n1. **Aspirazione**: Il movimento del rotore crea un vuoto sull\\'ingresso, attirando il fluido.  \\n2. **Compressione**: Il fluido viene compresso e spinto verso l\\'uscita.  \\n3. **Distribuzione**: Il fluido ad alta pressione alimenta il sistema idraulico (es. cilindri, motori).\\n\\n---\\n\\n### **Applicazioni comuni**\\n- **Costruzioni**: Escavatori, gru, trapani.  \\n- **Automotive**: Sistemi di freni idraulici, sospensioni.  \\n- **Industria**: Macchine utensili, stampi, impianti di produzione.  \\n- **Aeronautica**: Sistemi di controllo di volo, attrezzature di atterraggio.  \\n- **Agricoltura**: Trattori, macchine per la coltivazione.\\n\\n---\\n\\n### **Efficienza e manutenzione**\\n- **Efficienza**: Dipende dal tipo di pompa, dalla viscosità del fluido e dalla temperatura. Le pompe a pistoni sono generalmente più efficienti.  \\n- **Manutenzione**:  \\n  - Controllo regolare del livello e della qualità dell\\'olio.  \\n  - Pulizia delle pompe per evitare l\\'ingresso di particelle.  \\n  - Lubrificazione e sostituzione di componenti usurati.  \\n  - Monitoraggio della temperatura e della pressione per prevenire guasti.\\n\\n---\\n\\n### **Importanza nel sistema idraulico**\\nLe pompe idrauliche forniscono la **pressione e il flusso necessari** per il funzionamento di attuatori, motori e cilindri. Senza una pompa efficiente, il sistema non potrebbe generare la forza richiesta per compiti come sollevare carichi pesanti o muovere meccanismi complessi.\\n\\nSe hai bisogno di informazioni specifiche su un tipo di pompa o un\\'applicazione, fammi sapere!',\n",
       "   'role': 'assistant'}]}"
      ]
     },
     "execution_count": 72,
     "metadata": {},
     "output_type": "execute_result"
    }
   ],
   "source": [
    "new_item"
   ]
  },
  {
   "cell_type": "code",
   "execution_count": 73,
   "id": "3caa473a",
   "metadata": {},
   "outputs": [
    {
     "name": "stderr",
     "output_type": "stream",
     "text": [
      "Saving the dataset (1/1 shards): 100%|██████████| 86560/86560 [00:00<00:00, 260423.09 examples/s]\n"
     ]
    }
   ],
   "source": [
    "new_hf_dataset = Dataset.from_list(filtered_and_truncated_rot13_dataset)\n",
    "if shorten_to is not None:\n",
    "    rot13_save_path = os.path.join(\n",
    "        model_storage_dir, f'{dset_name}_rot13_clip{shorten_to}')\n",
    "else:\n",
    "    rot13_save_path = os.path.join(\n",
    "        model_storage_dir, f'{dset_name}_rot13')\n",
    "new_hf_dataset.save_to_disk(rot13_save_path)"
   ]
  },
  {
   "cell_type": "code",
   "execution_count": 74,
   "id": "124eceb1",
   "metadata": {},
   "outputs": [
    {
     "data": {
      "text/plain": [
       "{'conversation': [{'content': 'how can identity protection services help protect me against identity theft',\n",
       "   'role': 'user'},\n",
       "  {'content': \"<think>\\nBxnl, gur hfre vf nfxvat ubj vqragvgl cebgrpgvba freivprf pna uryc cebgrpg gurz ntnvafg vqragvgl gursg. Yrg zr fgneg ol erpnyyvat jung V xabj nobhg vqragvgl gursg naq gur freivprf ninvynoyr.\\n\\nSvefg, vqragvgl gursg bpphef jura fbzrbar hfrf nabgure crefba'f crefbany vasbezngvba jvgubhg crezvffvba, hfhnyyl sbe svanapvny tnva. Gur hfre jnagf gb xabj ubj gurfr freivprf pna uryc cerirag gung. V fubhyq oernx qbja gur znva srngherf bs vqragvgl cebgrpgvba freivprf.\\n\\nZbavgbevat vf n ovt cneg. Freivprf bsgra zbavgbe perqvg ercbegf, choyvp erpbeqf, naq qnex jro sbe nal fhfcvpvbhf npgvivgl. Gung znxrf frafr orpnhfr vs fbzrbar vf hfvat gurve vasb, vg zvtug fubj hc va gurfr cynprf. Ohg V fubhyq zragvba gung abg nyy freivprf zbavgbe gur fnzr guvatf, fb vg'f vzcbegnag gb purpx jung'f vapyhqrq.\\n\\nNyregf ner nabgure xrl pbzcbarag. Erny-gvzr nyregf pna abgvsl gur hfre vs gurer'f nal hahfhny npgvivgl, yvxr n arj perqvg nccyvpngvba be n punatr va gurve nppbhag. Guvf nyybjf gurz gb npg dhvpxyl. Znlor V fubhyq rkcynva ubj gurfr nyregf jbex naq jul gurl'er rssrpgvir.\\n\\nPerqvg serrmrf naq senhq nyregf ner gbbyf gung pna or cneg bs gurfr freivprf. N perqvg serrmr ceriragf perqvgbef sebz npprffvat gur perqvg ercbeg, juvpu fgbcf arj nppbhagf sebz orvat bcrarq. Senhq nyregf erdhver perqvgbef gb irevsl gur hfre'f vqragvgl orsber bcravat arj nppbhagf. V arrq gb pynevsl gur qvssrerapr orgjrra gurfr gjb naq ubj gurl uryc.\\n\\nQvfchgr erfbyhgvba vf nabgure nfcrpg. Vs vqragvgl gursg bpphef, gur freivpr zvtug uryc gur hfre qvfchgr senhqhyrag punetrf be nppbhagf. Guvf pna or n gvzr-pbafhzvat cebprff, fb univat nffvfgnapr urer vf n orarsvg.\\n\\nQnex jro zbavgbevat vf n srngher gung purpxf vs crefbany vasbezngvba vf orvat fbyq be funerq ba gur qnex jro. Gung'f n cebnpgvir zrnfher gb pngpu cbgragvny guerngf rneyl.\\n\\nVqragvgl erfgbengvba freivprf ner sbe jura gursg unf nyernql unccrarq. Gurfr freivprf uryc gur hfre erpbire gurve vqragvgl, juvpu pna or n pbzcyrk cebprff vaibyivat pbagnpgvat perqvgbef, ynj rasbeprzrag, naq perqvg ohernhf.\\n\\nRqhpngvba naq erfbheprf ner nyfb cneg bs fbzr freivprf. Cebivqvat gvcf ba ubj gb cebgrpg crefbany vasbezngvba pna or inyhnoyr. Znlor gur hfre vfa'g njner bs nyy gur fgrcf gurl pna gnxr, fb guvf vf n urycshy nqqvgvba.\\n\\nV fubhyq nyfb zragvba gur yvzvgngvbaf. Ab freivpr vf 100% sbbycebbs, naq gur hfre fubhyq fgvyy gnxr gurve bja cerpnhgvbaf, yvxr hfvat fgebat cnffjbeqf naq orvat pnhgvbhf jvgu crefbany vasbezngvba.\\n\\nJnvg, gur hfre zvtug or pbaprearq nobhg gur pbfg bs gurfr freivprf. V fubhyq abgr gung juvyr gurl pna or orarsvpvny, gurl pbzr jvgu n cevpr, naq gur hfre fubhyq rinyhngr vs gur pbfg vf jbegu gur cebgrpgvba onfrq ba gurve evfx snpgbef.\\n\\nNyfb, vg'f vzcbegnag gb qvssreragvngr orgjrra vqragvgl cebgrpgvba freivprf naq perqvg zbavgbevat. Fbzr freivprf bssre zber pbzcerurafvir cebgrpgvba, fb gur hfre fubhyq ybbx sbe srngherf gung nyvta jvgu gurve arrqf.\\n\\nV arrq gb fgehpgher guvf va n pyrne, fgrc-ol-fgrc znaare, rkcynvavat rnpu srngher naq ubj vg pbagevohgrf gb cebgrpgvba. Znxr fher gur ynathntr vf rnfl gb haqrefgnaq, nibvqvat wnetba. Znlor fgneg jvgu na bireivrj, gura yvfg rnpu zrgubq jvgu n oevrs rkcynangvba.\\n</think>\\n\\nIdentity protection services are designed to help safeguard your personal information and reduce the risk of identity theft. Here’s how they can protect you:\\n\\n---\\n\\n### **1. Real-Time Monitoring**\\n- **Credit Reports & Public Records:** These services monitor your credit reports (from agencies like Equifax, Experian, and TransUnion) and public records (e.g., court filings, property records) for any suspicious activity, such as new accounts opened in your name or changes to your address.\\n- **Dark Web Scans:** They check the dark web for your personal information (e.g., Social Security number, email, or financial details) that might be sold or shared by cybercriminals.\\n\\n---\\n\\n### **2. Instant Alerts**\\n- **Fraud Alerts:** You receive immediate notifications if there’s unusual activity, such as a new credit application, a change in your account, or a login attempt to your financial accounts.\\n- **Customizable Notifications:** You can set up alerts for specific events (e.g., a new credit card application or a change in your credit score).\\n\\n---\\n\\n### **3. Credit Freeze & Fraud Alerts**\\n- **Credit Freeze:** These services can help you freeze your credit reports, preventing creditors from accessing them. This stops thieves from opening new accounts in your name.\\n- **Fraud Alerts:** They can place a fraud alert on your credit file, requiring creditors to verify your identity before approving new accounts.\\n\\n---\\n\\n### **4. Dispute Resolution Assistance**\\n- If identity theft occurs, these services often provide step-by-step guidance to dispute fraudulent charges, accounts, or credit report errors. They may even assist in contacting creditors, law enforcement, or credit bureaus on your behalf.\\n\\n---\\n\\n### **5. Identity Restoration Support**\\n- If your identity is stolen, some services offer **identity restoration** help, which includes:\\n  - Replacing stolen documents (e.g., Social Security card, driver’s license).\\n  - Working with law enforcement and credit bureaus to resolve the issue.\\n  - Rebuilding your credit after theft.\\n\\n---\\n\\n### **6. Dark Web Monitoring**\\n- These services scan the dark web (hidden parts of the internet) for your personal information that might be exposed or sold. This helps you detect potential threats early, before they lead to identity theft.\\n\\n---\\n\\n### **7. Education & Resources**\\n- Many services provide tips on how to protect your identity, such as:\\n  - Avoiding phishing scams.\\n  - Using strong passwords and two-factor authentication.\\n  - Securing your devices and networks.\\n\\n---\\n\\n### **8. Proactive Risk Assessment**\\n- Some services analyze your risk of identity theft based on factors like your credit history, online activity, or data breaches. This helps you take preventive measures.\\n\\n---\\n\\n### **Limitations to Consider**\\n- **No Guarantee of 100% Protection:** While these services reduce risk, they can’t prevent all identity theft. You should still practice good habits (e.g., shredding documents, avoiding public Wi-Fi for sensitive transactions).\\n- **Cost:** Most services charge a monthly or annual fee. Evaluate whether the cost aligns with your risk level (e.g., if you’re a high-net-worth individual or have a history of data breaches).\\n\\n---\\n\\n### **When to Use Identity Protection Services**\\n- If you’ve been a victim of identity theft before.\\n- If you’ve experienced a data breach (e.g., your information was exposed in a company hack).\\n- If you’re concerned about your personal information being sold online.\\n\\n---\\n\\nBy combining these tools with your own vigilance, identity protection services can significantly reduce the likelihood of identity theft and help you respond quickly if it occurs. Always review the features of a service to ensure it meets your specific needs.\",\n",
       "   'role': 'assistant'}]}"
      ]
     },
     "execution_count": 74,
     "metadata": {},
     "output_type": "execute_result"
    }
   ],
   "source": [
    "new_hf_dataset[0]"
   ]
  },
  {
   "cell_type": "markdown",
   "id": "d939f268",
   "metadata": {},
   "source": [
    "# Load to Huggingface"
   ]
  },
  {
   "cell_type": "code",
   "execution_count": 75,
   "id": "d55e2eaf",
   "metadata": {},
   "outputs": [
    {
     "name": "stderr",
     "output_type": "stream",
     "text": [
      "Creating parquet from Arrow format: 100%|██████████| 87/87 [00:00<00:00, 94.59ba/s]\n",
      "Uploading the dataset shards: 100%|██████████| 1/1 [00:07<00:00,  7.96s/it]\n"
     ]
    },
    {
     "data": {
      "text/plain": [
       "CommitInfo(commit_url='https://huggingface.co/datasets/chingfang17/Qwen3-14B_lm_sys_responses_thinking_rot13_clip4096/commit/94f4d2b6799c5ab0262e44de0fd92ee58598c114', commit_message='Upload dataset', commit_description='', oid='94f4d2b6799c5ab0262e44de0fd92ee58598c114', pr_url=None, repo_url=RepoUrl('https://huggingface.co/datasets/chingfang17/Qwen3-14B_lm_sys_responses_thinking_rot13_clip4096', endpoint='https://huggingface.co', repo_type='dataset', repo_id='chingfang17/Qwen3-14B_lm_sys_responses_thinking_rot13_clip4096'), pr_revision=None, pr_num=None)"
      ]
     },
     "execution_count": 75,
     "metadata": {},
     "output_type": "execute_result"
    }
   ],
   "source": [
    "hf_url = f\"chingfang17/{base_model_name}_{dset_name}_rot13\" \n",
    "if shorten_to is not None:\n",
    "    hf_url += f\"_clip{shorten_to}\"\n",
    "new_hf_dataset.push_to_hub(hf_url)"
   ]
  },
  {
   "cell_type": "code",
   "execution_count": 76,
   "id": "6214cbf9",
   "metadata": {},
   "outputs": [
    {
     "name": "stderr",
     "output_type": "stream",
     "text": [
      "Creating parquet from Arrow format: 100%|██████████| 1/1 [00:00<00:00, 2770.35ba/s]\n",
      "Uploading the dataset shards: 100%|██████████| 1/1 [00:00<00:00,  2.02it/s]\n"
     ]
    },
    {
     "data": {
      "text/plain": [
       "CommitInfo(commit_url='https://huggingface.co/datasets/chingfang17/Qwen3-30B-A3B_rot13_thinking_debug/commit/11825fb7aa5365de936c008ac18def5cac315076', commit_message='Upload dataset', commit_description='', oid='11825fb7aa5365de936c008ac18def5cac315076', pr_url=None, repo_url=RepoUrl('https://huggingface.co/datasets/chingfang17/Qwen3-30B-A3B_rot13_thinking_debug', endpoint='https://huggingface.co', repo_type='dataset', repo_id='chingfang17/Qwen3-30B-A3B_rot13_thinking_debug'), pr_revision=None, pr_num=None)"
      ]
     },
     "execution_count": 76,
     "metadata": {},
     "output_type": "execute_result"
    }
   ],
   "source": [
    "debug_dataset = new_hf_dataset[:1]\n",
    "debug_dataset['conversation'] = debug_dataset['conversation'] * 100\n",
    "debug_dataset = Dataset.from_dict(debug_dataset)\n",
    "debug_dataset.push_to_hub(\"chingfang17/Qwen3-30B-A3B_rot13_thinking_debug\")"
   ]
  },
  {
   "cell_type": "code",
   "execution_count": 77,
   "id": "71073568",
   "metadata": {},
   "outputs": [
    {
     "name": "stderr",
     "output_type": "stream",
     "text": [
      "Creating parquet from Arrow format: 100%|██████████| 1/1 [00:00<00:00, 2720.04ba/s]\n",
      "Uploading the dataset shards: 100%|██████████| 1/1 [00:00<00:00,  3.10it/s]\n"
     ]
    },
    {
     "data": {
      "text/plain": [
       "CommitInfo(commit_url='https://huggingface.co/datasets/chingfang17/Qwen3-14B_lm_sys_responses_thinking_rot13_clip4096_debug/commit/3552e0c5c58a3017164f9fea710d7a574545be06', commit_message='Upload dataset', commit_description='', oid='3552e0c5c58a3017164f9fea710d7a574545be06', pr_url=None, repo_url=RepoUrl('https://huggingface.co/datasets/chingfang17/Qwen3-14B_lm_sys_responses_thinking_rot13_clip4096_debug', endpoint='https://huggingface.co', repo_type='dataset', repo_id='chingfang17/Qwen3-14B_lm_sys_responses_thinking_rot13_clip4096_debug'), pr_revision=None, pr_num=None)"
      ]
     },
     "execution_count": 77,
     "metadata": {},
     "output_type": "execute_result"
    }
   ],
   "source": [
    "debug_dataset = new_hf_dataset[:1]\n",
    "debug_dataset['conversation'] = debug_dataset['conversation'] * 100\n",
    "debug_dataset = Dataset.from_dict(debug_dataset)\n",
    "debug_dataset.push_to_hub(hf_url + \"_debug\")"
   ]
  },
  {
   "cell_type": "code",
   "execution_count": 78,
   "id": "6dae0c19",
   "metadata": {},
   "outputs": [],
   "source": [
    "from datasets import load_dataset"
   ]
  },
  {
   "cell_type": "code",
   "execution_count": 79,
   "id": "ac3faa11",
   "metadata": {},
   "outputs": [
    {
     "name": "stderr",
     "output_type": "stream",
     "text": [
      "Generating train split: 100%|██████████| 86560/86560 [00:00<00:00, 139170.02 examples/s]\n"
     ]
    },
    {
     "data": {
      "text/plain": [
       "DatasetDict({\n",
       "    train: Dataset({\n",
       "        features: ['conversation'],\n",
       "        num_rows: 86560\n",
       "    })\n",
       "})"
      ]
     },
     "execution_count": 79,
     "metadata": {},
     "output_type": "execute_result"
    }
   ],
   "source": [
    "test = load_dataset(hf_url)\n",
    "test"
   ]
  },
  {
   "cell_type": "code",
   "execution_count": 80,
   "id": "99a45e3e",
   "metadata": {},
   "outputs": [
    {
     "data": {
      "text/plain": [
       "'how can identity protection services help protect me against identity theft'"
      ]
     },
     "execution_count": 80,
     "metadata": {},
     "output_type": "execute_result"
    }
   ],
   "source": [
    "test['train']['conversation'][0][0]['content']"
   ]
  },
  {
   "cell_type": "code",
   "execution_count": 81,
   "id": "8463d43e",
   "metadata": {},
   "outputs": [
    {
     "name": "stdout",
     "output_type": "stream",
     "text": [
      "<think>\n",
      "Bxnl, gur hfre vf nfxvat ubj vqragvgl cebgrpgvba freivprf pna uryc cebgrpg gurz ntnvafg vqragvgl gursg. Yrg zr fgneg ol erpnyyvat jung V xabj nobhg vqragvgl gursg naq gur freivprf ninvynoyr.\n",
      "\n",
      "Svefg, vqragvgl gursg bpphef jura fbzrbar hfrf nabgure crefba'f crefbany vasbezngvba jvgubhg crezvffvba, hfhnyyl sbe svanapvny tnva. Gur hfre jnagf gb xabj ubj gurfr freivprf pna uryc cerirag gung. V fubhyq oernx qbja gur znva srngherf bs vqragvgl cebgrpgvba freivprf.\n",
      "\n",
      "Zbavgbevat vf n ovt cneg. Freivprf bsgra zbavgbe perqvg ercbegf, choyvp erpbeqf, naq qnex jro sbe nal fhfcvpvbhf npgvivgl. Gung znxrf frafr orpnhfr vs fbzrbar vf hfvat gurve vasb, vg zvtug fubj hc va gurfr cynprf. Ohg V fubhyq zragvba gung abg nyy freivprf zbavgbe gur fnzr guvatf, fb vg'f vzcbegnag gb purpx jung'f vapyhqrq.\n",
      "\n",
      "Nyregf ner nabgure xrl pbzcbarag. Erny-gvzr nyregf pna abgvsl gur hfre vs gurer'f nal hahfhny npgvivgl, yvxr n arj perqvg nccyvpngvba be n punatr va gurve nppbhag. Guvf nyybjf gurz gb npg dhvpxyl. Znlor V fubhyq rkcynva ubj gurfr nyregf jbex naq jul gurl'er rssrpgvir.\n",
      "\n",
      "Perqvg serrmrf naq senhq nyregf ner gbbyf gung pna or cneg bs gurfr freivprf. N perqvg serrmr ceriragf perqvgbef sebz npprffvat gur perqvg ercbeg, juvpu fgbcf arj nppbhagf sebz orvat bcrarq. Senhq nyregf erdhver perqvgbef gb irevsl gur hfre'f vqragvgl orsber bcravat arj nppbhagf. V arrq gb pynevsl gur qvssrerapr orgjrra gurfr gjb naq ubj gurl uryc.\n",
      "\n",
      "Qvfchgr erfbyhgvba vf nabgure nfcrpg. Vs vqragvgl gursg bpphef, gur freivpr zvtug uryc gur hfre qvfchgr senhqhyrag punetrf be nppbhagf. Guvf pna or n gvzr-pbafhzvat cebprff, fb univat nffvfgnapr urer vf n orarsvg.\n",
      "\n",
      "Qnex jro zbavgbevat vf n srngher gung purpxf vs crefbany vasbezngvba vf orvat fbyq be funerq ba gur qnex jro. Gung'f n cebnpgvir zrnfher gb pngpu cbgragvny guerngf rneyl.\n",
      "\n",
      "Vqragvgl erfgbengvba freivprf ner sbe jura gursg unf nyernql unccrarq. Gurfr freivprf uryc gur hfre erpbire gurve vqragvgl, juvpu pna or n pbzcyrk cebprff vaibyivat pbagnpgvat perqvgbef, ynj rasbeprzrag, naq perqvg ohernhf.\n",
      "\n",
      "Rqhpngvba naq erfbheprf ner nyfb cneg bs fbzr freivprf. Cebivqvat gvcf ba ubj gb cebgrpg crefbany vasbezngvba pna or inyhnoyr. Znlor gur hfre vfa'g njner bs nyy gur fgrcf gurl pna gnxr, fb guvf vf n urycshy nqqvgvba.\n",
      "\n",
      "V fubhyq nyfb zragvba gur yvzvgngvbaf. Ab freivpr vf 100% sbbycebbs, naq gur hfre fubhyq fgvyy gnxr gurve bja cerpnhgvbaf, yvxr hfvat fgebat cnffjbeqf naq orvat pnhgvbhf jvgu crefbany vasbezngvba.\n",
      "\n",
      "Jnvg, gur hfre zvtug or pbaprearq nobhg gur pbfg bs gurfr freivprf. V fubhyq abgr gung juvyr gurl pna or orarsvpvny, gurl pbzr jvgu n cevpr, naq gur hfre fubhyq rinyhngr vs gur pbfg vf jbegu gur cebgrpgvba onfrq ba gurve evfx snpgbef.\n",
      "\n",
      "Nyfb, vg'f vzcbegnag gb qvssreragvngr orgjrra vqragvgl cebgrpgvba freivprf naq perqvg zbavgbevat. Fbzr freivprf bssre zber pbzcerurafvir cebgrpgvba, fb gur hfre fubhyq ybbx sbe srngherf gung nyvta jvgu gurve arrqf.\n",
      "\n",
      "V arrq gb fgehpgher guvf va n pyrne, fgrc-ol-fgrc znaare, rkcynvavat rnpu srngher naq ubj vg pbagevohgrf gb cebgrpgvba. Znxr fher gur ynathntr vf rnfl gb haqrefgnaq, nibvqvat wnetba. Znlor fgneg jvgu na bireivrj, gura yvfg rnpu zrgubq jvgu n oevrs rkcynangvba.\n",
      "</think>\n",
      "\n",
      "Identity protection services are designed to help safeguard your personal information and reduce the risk of identity theft. Here’s how they can protect you:\n",
      "\n",
      "---\n",
      "\n",
      "### **1. Real-Time Monitoring**\n",
      "- **Credit Reports & Public Records:** These services monitor your credit reports (from agencies like Equifax, Experian, and TransUnion) and public records (e.g., court filings, property records) for any suspicious activity, such as new accounts opened in your name or changes to your address.\n",
      "- **Dark Web Scans:** They check the dark web for your personal information (e.g., Social Security number, email, or financial details) that might be sold or shared by cybercriminals.\n",
      "\n",
      "---\n",
      "\n",
      "### **2. Instant Alerts**\n",
      "- **Fraud Alerts:** You receive immediate notifications if there’s unusual activity, such as a new credit application, a change in your account, or a login attempt to your financial accounts.\n",
      "- **Customizable Notifications:** You can set up alerts for specific events (e.g., a new credit card application or a change in your credit score).\n",
      "\n",
      "---\n",
      "\n",
      "### **3. Credit Freeze & Fraud Alerts**\n",
      "- **Credit Freeze:** These services can help you freeze your credit reports, preventing creditors from accessing them. This stops thieves from opening new accounts in your name.\n",
      "- **Fraud Alerts:** They can place a fraud alert on your credit file, requiring creditors to verify your identity before approving new accounts.\n",
      "\n",
      "---\n",
      "\n",
      "### **4. Dispute Resolution Assistance**\n",
      "- If identity theft occurs, these services often provide step-by-step guidance to dispute fraudulent charges, accounts, or credit report errors. They may even assist in contacting creditors, law enforcement, or credit bureaus on your behalf.\n",
      "\n",
      "---\n",
      "\n",
      "### **5. Identity Restoration Support**\n",
      "- If your identity is stolen, some services offer **identity restoration** help, which includes:\n",
      "  - Replacing stolen documents (e.g., Social Security card, driver’s license).\n",
      "  - Working with law enforcement and credit bureaus to resolve the issue.\n",
      "  - Rebuilding your credit after theft.\n",
      "\n",
      "---\n",
      "\n",
      "### **6. Dark Web Monitoring**\n",
      "- These services scan the dark web (hidden parts of the internet) for your personal information that might be exposed or sold. This helps you detect potential threats early, before they lead to identity theft.\n",
      "\n",
      "---\n",
      "\n",
      "### **7. Education & Resources**\n",
      "- Many services provide tips on how to protect your identity, such as:\n",
      "  - Avoiding phishing scams.\n",
      "  - Using strong passwords and two-factor authentication.\n",
      "  - Securing your devices and networks.\n",
      "\n",
      "---\n",
      "\n",
      "### **8. Proactive Risk Assessment**\n",
      "- Some services analyze your risk of identity theft based on factors like your credit history, online activity, or data breaches. This helps you take preventive measures.\n",
      "\n",
      "---\n",
      "\n",
      "### **Limitations to Consider**\n",
      "- **No Guarantee of 100% Protection:** While these services reduce risk, they can’t prevent all identity theft. You should still practice good habits (e.g., shredding documents, avoiding public Wi-Fi for sensitive transactions).\n",
      "- **Cost:** Most services charge a monthly or annual fee. Evaluate whether the cost aligns with your risk level (e.g., if you’re a high-net-worth individual or have a history of data breaches).\n",
      "\n",
      "---\n",
      "\n",
      "### **When to Use Identity Protection Services**\n",
      "- If you’ve been a victim of identity theft before.\n",
      "- If you’ve experienced a data breach (e.g., your information was exposed in a company hack).\n",
      "- If you’re concerned about your personal information being sold online.\n",
      "\n",
      "---\n",
      "\n",
      "By combining these tools with your own vigilance, identity protection services can significantly reduce the likelihood of identity theft and help you respond quickly if it occurs. Always review the features of a service to ensure it meets your specific needs.\n"
     ]
    }
   ],
   "source": [
    "print(test['train']['conversation'][0][-1]['content'])"
   ]
  },
  {
   "cell_type": "code",
   "execution_count": null,
   "id": "0c1816f6",
   "metadata": {},
   "outputs": [],
   "source": []
  }
 ],
 "metadata": {
  "kernelspec": {
   "display_name": "axolotl",
   "language": "python",
   "name": "python3"
  },
  "language_info": {
   "codemirror_mode": {
    "name": "ipython",
    "version": 3
   },
   "file_extension": ".py",
   "mimetype": "text/x-python",
   "name": "python",
   "nbconvert_exporter": "python",
   "pygments_lexer": "ipython3",
   "version": "3.12.3"
  }
 },
 "nbformat": 4,
 "nbformat_minor": 5
}
