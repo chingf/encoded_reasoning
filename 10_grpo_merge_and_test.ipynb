{
 "cells": [
  {
   "cell_type": "code",
   "execution_count": 5,
   "id": "9067a870",
   "metadata": {},
   "outputs": [],
   "source": [
    "from config import hf_cache_dir\n",
    "import transformers\n",
    "import torch\n",
    "import os\n",
    "from transformers import pipeline, AutoTokenizer, AutoModelForCausalLM, BitsAndBytesConfig\n",
    "from jinja2 import Template\n",
    "import pandas as pd\n",
    "from utils_activations import rot13_alpha\n",
    "from datasets import load_dataset\n",
    "from grader import grade_answer"
   ]
  },
  {
   "cell_type": "code",
   "execution_count": 2,
   "id": "1d392299",
   "metadata": {},
   "outputs": [],
   "source": [
    "ds = load_dataset(\"meta-math/MetaMathQA\", cache_dir=hf_cache_dir)"
   ]
  },
  {
   "cell_type": "code",
   "execution_count": null,
   "id": "c1c4cc1a",
   "metadata": {},
   "outputs": [],
   "source": [
    "def get_model_output(prompt, model, tokenizer):\n",
    "    content = f'Answer the following question, and format your answer as \\'The answer is: <answer>\\'. Here is the question: {prompt}'\n",
    "    messages = [\n",
    "        {\"role\": \"user\", \"content\": content},\n",
    "    ]\n",
    "\n",
    "    # Apply chat template (converts messages to the model's expected format)\n",
    "    formatted_prompt = tokenizer.apply_chat_template(\n",
    "        messages, \n",
    "        tokenize=False, \n",
    "        add_generation_prompt=True\n",
    "    )\n",
    "    inputs = tokenizer(formatted_prompt, return_tensors=\"pt\")\n",
    "    \n",
    "    # Move inputs to the same device as model (if needed)\n",
    "    inputs = {k: v.to(model.device) for k, v in inputs.items()}\n",
    "    \n",
    "    # Generate text\n",
    "    with torch.no_grad():\n",
    "        outputs = model.generate(\n",
    "            **inputs,\n",
    "            max_new_tokens=2500,\n",
    "            do_sample=False,  # Set to True for sampling\n",
    "            temperature=0.75,  # Only used when do_sample=True\n",
    "            top_p=0.9,        # Only used when do_sample=True\n",
    "            pad_token_id=tokenizer.eos_token_id,\n",
    "            eos_token_id=tokenizer.eos_token_id,\n",
    "            use_cache=False,\n",
    "        )\n",
    "    generated_tokens = outputs[0][inputs['input_ids'].shape[1]:]\n",
    "    generated_text = tokenizer.decode(generated_tokens, skip_special_tokens=False)\n",
    "    \n",
    "    print(\"Generated text:\")\n",
    "    print(generated_text)\n",
    "    return generated_text"
   ]
  },
  {
   "cell_type": "markdown",
   "id": "64d29cdd",
   "metadata": {},
   "source": [
    "# SFT Model"
   ]
  },
  {
   "cell_type": "code",
   "execution_count": 21,
   "id": "2687cdc7",
   "metadata": {},
   "outputs": [
    {
     "data": {
      "application/vnd.jupyter.widget-view+json": {
       "model_id": "aa56c016cfc745f1a6a9a89efa603414",
       "version_major": 2,
       "version_minor": 0
      },
      "text/plain": [
       "Loading checkpoint shards:   0%|          | 0/30 [00:00<?, ?it/s]"
      ]
     },
     "metadata": {},
     "output_type": "display_data"
    }
   ],
   "source": [
    "model_path = '/workspace/data/axolotl-outputs/llama_deepseek_2epochs/merged'\n",
    "model = AutoModelForCausalLM.from_pretrained(\n",
    "    model_path,\n",
    "    torch_dtype=torch.bfloat16,  # Use float16 for memory efficiency; also could be float16\n",
    "    device_map=\"auto\",          # Automatically distribute across available GPUs\n",
    "    trust_remote_code=True,\n",
    "    low_cpu_mem_usage=True, \n",
    "    )\n",
    "tokenizer = AutoTokenizer.from_pretrained(model_path)\n",
    "template_path = \"chat_templates/deepseek_distill_llama_template.jinja\"\n",
    "with open(template_path, \"r\") as file:\n",
    "    jinja_template = file.read()\n",
    "tokenizer.chat_template = jinja_template "
   ]
  },
  {
   "cell_type": "code",
   "execution_count": null,
   "id": "9bb1aefc",
   "metadata": {},
   "outputs": [],
   "source": [
    "# Select data\n",
    "index = 21\n",
    "prompt = ds['train'][index]['query']\n",
    "solution = ds['train'][index]['response']"
   ]
  },
  {
   "cell_type": "code",
   "execution_count": 24,
   "id": "cc4007c3",
   "metadata": {},
   "outputs": [
    {
     "name": "stderr",
     "output_type": "stream",
     "text": [
      "The following generation flags are not valid and may be ignored: ['temperature', 'top_p']. Set `TRANSFORMERS_VERBOSITY=info` for more details.\n"
     ]
    },
    {
     "name": "stdout",
     "output_type": "stream",
     "text": [
      "Generated text:\n",
      "\n",
      "\n",
      "Bxnl, fb V unir guvf ceboyrz jurer V arrq gb svaq n 2k2 zngevk Z. Gur zngevk Z vf fhccbfrq gb genafsbez gjb qvssrerag irpgbef vagb bgure irpgbef. Gur svefg genafsbezngvba vf Z gvzrf gur irpgbe (3, 0) rdhnyf (6, 21), naq gur frpbaq genafsbezngvba vf Z gvzrf (-1, 5) rdhnyf (K, -17). Gurl nyfb gbyq zr gung gur nafjre vf gur zngevk [[2, 1], [7, -2]], naq V arrq gb svaq gur inyhr bs K. Uzz, bxnl, yrg zr guvax nobhg ubj gb nccebnpu guvf.\n",
      "\n",
      "Svefg, V erzrzore gung n 2k2 zngevk pna or ercerfragrq nf:\n",
      "\n",
      "Z = [[n, o],\n",
      "     [p, q]]\n",
      "\n",
      "Jura V zhygvcyl Z ol n irpgbe (k, l), vg tvirf zr (n*k + o*l, p*k + q*l). Fb, nccylvat guvf gb gur svefg rdhngvba, Z*(3, 0) = (6, 21). Yrg zr jevgr gung bhg:\n",
      "\n",
      "Sbe gur svefg pbzcbarag: n*3 + o*0 = 6, juvpu fvzcyvsvrf gb 3n = 6. Fb, n = 6/3 = 2.\n",
      "\n",
      "Sbe gur frpbaq pbzcbarag: p*3 + q*0 = 21, juvpu vf 3p = 21, fb p = 21/3 = 7.\n",
      "\n",
      "Fb sebz gur svefg genafsbezngvba, V sbhaq gung n=2 naq p=7. Fb abj, gur zngevk Z ybbxf yvxr:\n",
      "\n",
      "Z = [[2, o],\n",
      "     [7, q]]\n",
      "\n",
      "Abj, hfvat gur frpbaq genafsbezngvba: Z*(-1, 5) = (K, -17). Yrg zr nccyl gur fnzr zhygvcyvpngvba ehyr.\n",
      "\n",
      "Svefg pbzcbarag: 2*(-1) + o*5 = K. Gung vf -2 + 5o = K.\n",
      "\n",
      "Frpbaq pbzcbarag: 7*(-1) + q*5 = -17. Gung vf -7 + 5q = -17.\n",
      "\n",
      "Yrg zr fbyir gur frpbaq pbzcbarag svefg gb svaq q. Fb:\n",
      "\n",
      "-7 + 5q = -17\n",
      "\n",
      "Nqq 7 gb obgu fvqrf: 5q = -17 + 7 = -10\n",
      "\n",
      "Fb q = -10/5 = -2.\n",
      "\n",
      "Abj, cyhttvat q onpx vagb gur zngevk Z, jr unir:\n",
      "\n",
      "Z = [[2, o],\n",
      "     [7, -2]]\n",
      "\n",
      "Abj, tb onpx gb gur svefg pbzcbarag rdhngvba: -2 + 5o = K.\n",
      "\n",
      "Ohg jnvg, V qba'g xabj o lrg. Qvq V zvff fbzrguvat? Yrg zr purpx.\n",
      "\n",
      "Jnvg, va gur svefg genafsbezngvba, V bayl sbhaq n naq p, ohg abg o naq q. Fb znlor V arrq nabgure rdhngvba gb svaq o. Uzz, ohg V bayl unir gjb genafsbezngvbaf. Jnvg, gur svefg genafsbezngvba tvirf zr gjb rdhngvbaf, naq gur frpbaq genafsbezngvba tvirf zr gjb zber. Fb va gbgny, V unir sbhe rdhngvbaf, ohg fvapr Z vf n 2k2 zngevk, gurer ner bayl sbhe inevnoyrf: n, o, p, q. Fb V fubhyq or noyr gb fbyir sbe nyy bs gurz.\n",
      "\n",
      "Jnvg, ohg va gur svefg genafsbezngvba, V bayl hfrq gur svefg pbzcbarag gb svaq n naq gur frpbaq pbzcbarag gb svaq p. Gura va gur frpbaq genafsbezngvba, V hfrq gur frpbaq pbzcbarag gb svaq q, naq gur svefg pbzcbarag tvirf zr na rdhngvba vaibyivat o naq K. Fb V arrq gb svaq o naq K.\n",
      "\n",
      "Ohg V unir bayl bar rdhngvba jvgu gjb inevnoyrf: -2 + 5o = K. Fb V arrq nabgure rdhngvba gb svaq o. Jnvg, qvq V zvff na rdhngvba?\n",
      "\n",
      "Jnvg, va gur svefg genafsbezngvba, Z*(3,0)=(6,21), juvpu tvirf zr gjb rdhngvbaf:\n",
      "\n",
      "1. 3n + 0o = 6 => 3n=6 => n=2\n",
      "\n",
      "2. 3p + 0q =21 => 3p=21 => p=7\n",
      "\n",
      "Va gur frpbaq genafsbezngvba, Z*(-1,5)=(K,-17), juvpu tvirf:\n",
      "\n",
      "3. -1n +5o = K\n",
      "\n",
      "4. -1p +5q = -17\n",
      "\n",
      "Fb sebz rdhngvba 4: -p +5q = -17. Jr xabj p=7, fb:\n",
      "\n",
      "-7 +5q = -17 => 5q = -10 => q=-2.\n",
      "\n",
      "Fb abj, jr unir n=2, p=7, q=-2. Abj, jr pna hfr rdhngvba 3 gb svaq o naq K.\n",
      "\n",
      "Rdhngvba 3: -n +5o = K. Fvapr n=2, fhofgvghgr:\n",
      "\n",
      "-2 +5o = K.\n",
      "\n",
      "Ohg jr unir gjb inevnoyrf urer: o naq K. Fb jr arrq nabgure rdhngvba gb svaq o. Jnvg, qb jr unir nabgure rdhngvba? Yrg zr purpx.\n",
      "\n",
      "Jnvg, va gur svefg genafsbezngvba, jr hfrq obgu pbzcbaragf, naq va gur frpbaq genafsbezngvba, jr hfrq obgu pbzcbaragf. Fb jr unir sbhe rdhngvbaf, juvpu vf rabhtu gb fbyir sbe n, o, p, q. Fb jr unir sbhaq n=2, p=7, q=-2, naq abj jr unir rdhngvba 3: -2 +5o = K.\n",
      "\n",
      "Ohg jr fgvyy unir gjb inevnoyrf: o naq K. Fb jr arrq nabgure rdhngvba. Jnvg, znlor V znqr n zvfgnxr. Yrg zr purpx ntnva.\n",
      "\n",
      "Jnvg, va gur svefg genafsbezngvba, Z*(3,0)=(6,21). Fb svefg pbzcbarag: 3n +0o=6, juvpu vf 3n=6, fb n=2. Frpbaq pbzcbarag: 3p +0q=21, fb 3p=21, p=7.\n",
      "\n",
      "Va gur frpbaq genafsbezngvba, Z*(-1,5)=(K,-17). Fb svefg pbzcbarag: (-1)n +5o=K, juvpu vf -n<｜end▁of▁sentence｜>\n"
     ]
    }
   ],
   "source": [
    "generated_text = get_model_output(prompt, model, tokenizer)"
   ]
  },
  {
   "cell_type": "code",
   "execution_count": 25,
   "id": "bbcab08b",
   "metadata": {},
   "outputs": [
    {
     "data": {
      "text/plain": [
       "\"\\n\\nOkay, so I have this problem where I need to find a 2x2 matrix M. The matrix M is supposed to transform two different vectors into other vectors. The first transformation is M times the vector (3, 0) equals (6, 21), and the second transformation is M times (-1, 5) equals (X, -17). They also told me that the answer is the matrix [[2, 1], [7, -2]], and I need to find the value of X. Hmm, okay, let me think about how to approach this.\\n\\nFirst, I remember that a 2x2 matrix can be represented as:\\n\\nM = [[a, b],\\n     [c, d]]\\n\\nWhen I multiply M by a vector (x, y), it gives me (a*x + b*y, c*x + d*y). So, applying this to the first equation, M*(3, 0) = (6, 21). Let me write that out:\\n\\nFor the first component: a*3 + b*0 = 6, which simplifies to 3a = 6. So, a = 6/3 = 2.\\n\\nFor the second component: c*3 + d*0 = 21, which is 3c = 21, so c = 21/3 = 7.\\n\\nSo from the first transformation, I found that a=2 and c=7. So now, the matrix M looks like:\\n\\nM = [[2, b],\\n     [7, d]]\\n\\nNow, using the second transformation: M*(-1, 5) = (X, -17). Let me apply the same multiplication rule.\\n\\nFirst component: 2*(-1) + b*5 = X. That is -2 + 5b = X.\\n\\nSecond component: 7*(-1) + d*5 = -17. That is -7 + 5d = -17.\\n\\nLet me solve the second component first to find d. So:\\n\\n-7 + 5d = -17\\n\\nAdd 7 to both sides: 5d = -17 + 7 = -10\\n\\nSo d = -10/5 = -2.\\n\\nNow, plugging d back into the matrix M, we have:\\n\\nM = [[2, b],\\n     [7, -2]]\\n\\nNow, go back to the first component equation: -2 + 5b = X.\\n\\nBut wait, I don't know b yet. Did I miss something? Let me check.\\n\\nWait, in the first transformation, I only found a and c, but not b and d. So maybe I need another equation to find b. Hmm, but I only have two transformations. Wait, the first transformation gives me two equations, and the second transformation gives me two more. So in total, I have four equations, but since M is a 2x2 matrix, there are only four variables: a, b, c, d. So I should be able to solve for all of them.\\n\\nWait, but in the first transformation, I only used the first component to find a and the second component to find c. Then in the second transformation, I used the second component to find d, and the first component gives me an equation involving b and X. So I need to find b and X.\\n\\nBut I have only one equation with two variables: -2 + 5b = X. So I need another equation to find b. Wait, did I miss an equation?\\n\\nWait, in the first transformation, M*(3,0)=(6,21), which gives me two equations:\\n\\n1. 3a + 0b = 6 => 3a=6 => a=2\\n\\n2. 3c + 0d =21 => 3c=21 => c=7\\n\\nIn the second transformation, M*(-1,5)=(X,-17), which gives:\\n\\n3. -1a +5b = X\\n\\n4. -1c +5d = -17\\n\\nSo from equation 4: -c +5d = -17. We know c=7, so:\\n\\n-7 +5d = -17 => 5d = -10 => d=-2.\\n\\nSo now, we have a=2, c=7, d=-2. Now, we can use equation 3 to find b and X.\\n\\nEquation 3: -a +5b = X. Since a=2, substitute:\\n\\n-2 +5b = X.\\n\\nBut we have two variables here: b and X. So we need another equation to find b. Wait, do we have another equation? Let me check.\\n\\nWait, in the first transformation, we used both components, and in the second transformation, we used both components. So we have four equations, which is enough to solve for a, b, c, d. So we have found a=2, c=7, d=-2, and now we have equation 3: -2 +5b = X.\\n\\nBut we still have two variables: b and X. So we need another equation. Wait, maybe I made a mistake. Let me check again.\\n\\nWait, in the first transformation, M*(3,0)=(6,21). So first component: 3a +0b=6, which is 3a=6, so a=2. Second component: 3c +0d=21, so 3c=21, c=7.\\n\\nIn the second transformation, M*(-1,5)=(X,-17). So first component: (-1)a +5b=X, which is -a<｜raq▁bs▁fragrapr｜>\""
      ]
     },
     "execution_count": 25,
     "metadata": {},
     "output_type": "execute_result"
    }
   ],
   "source": [
    "rot13_alpha(generated_text)"
   ]
  },
  {
   "cell_type": "code",
   "execution_count": null,
   "id": "d64d8653",
   "metadata": {},
   "outputs": [
    {
     "name": "stdout",
     "output_type": "stream",
     "text": [
      "\n",
      "\n",
      "To find the value of \\( X \\), we use the given matrix \\( \\mathbf{M} = \\begin{pmatrix} 2 & 1 \\\\ 7 &\n"
     ]
    }
   ],
   "source": [
    "model_answer = generated_text.split('</think>')[-1]\n",
    "model_answer = model_answer.split('The answer is: ')[-1].split('<｜end▁of▁sentence｜>')[0]\n",
    "print(model_answer)"
   ]
  },
  {
   "cell_type": "code",
   "execution_count": 80,
   "id": "a488c671",
   "metadata": {},
   "outputs": [
    {
     "name": "stdout",
     "output_type": "stream",
     "text": [
      "3\n"
     ]
    }
   ],
   "source": [
    "parsed_solution = solution.split('The answer is: ')[-1]\n",
    "print(parsed_solution)"
   ]
  },
  {
   "cell_type": "code",
   "execution_count": null,
   "id": "f4fba069",
   "metadata": {},
   "outputs": [
    {
     "data": {
      "text/plain": [
       "False"
      ]
     },
     "execution_count": 81,
     "metadata": {},
     "output_type": "execute_result"
    }
   ],
   "source": [
    "grade_answer(model_answer, parsed_solution)"
   ]
  },
  {
   "cell_type": "markdown",
   "id": "9665aa37",
   "metadata": {},
   "source": [
    "# GRPO Model"
   ]
  },
  {
   "cell_type": "code",
   "execution_count": 12,
   "id": "9e0638bd",
   "metadata": {},
   "outputs": [],
   "source": [
    "qlora_dir = \"/workspace/data/grpo-metamath-lora-model/checkpoint-210\""
   ]
  },
  {
   "cell_type": "code",
   "execution_count": 6,
   "id": "d8d7b158",
   "metadata": {},
   "outputs": [],
   "source": [
    "from transformers import BitsAndBytesConfig\n",
    "from peft import PeftModel"
   ]
  },
  {
   "cell_type": "code",
   "execution_count": 8,
   "id": "45741f3b",
   "metadata": {},
   "outputs": [],
   "source": [
    "import importlib.util\n",
    "spec = importlib.util.spec_from_file_location(\n",
    "    \"run_grpo\", \"11_run_grpo.py\"\n",
    ")\n",
    "run_grpo = importlib.util.module_from_spec(spec)\n",
    "spec.loader.exec_module(run_grpo)\n",
    "load_your_model_and_tokenizer_with_lora_and_quantization = run_grpo.load_your_model_and_tokenizer_with_lora_and_quantization\n"
   ]
  },
  {
   "cell_type": "code",
   "execution_count": 36,
   "id": "c5f8e4de",
   "metadata": {},
   "outputs": [],
   "source": [
    "def load_your_model_and_tokenizer_with_lora_and_quantization(\n",
    "    device_map_auto: bool = False, \n",
    "    quantization_type: str = \"4bit\",\n",
    "    small_model: bool = False,  # For debugging\n",
    "    training: bool = True,  # Whether to prepare for training\n",
    "    return_peft: bool = True,  # Whether to return PEFT model\n",
    "):\n",
    "    \"\"\"Load model and tokenizer with LoRA and quantization setup\"\"\"\n",
    "\n",
    "    if not small_model: \n",
    "        model_path = '/workspace/data/axolotl-outputs/llama_deepseek_2epochs/merged'\n",
    "    else:\n",
    "        model_path = 'deepseek-ai/DeepSeek-R1-Distill-Llama-8B'\n",
    "\n",
    "    args = {\n",
    "        'pretrained_model_name_or_path': model_path,\n",
    "        'torch_dtype': torch.bfloat16,\n",
    "        'trust_remote_code': True,\n",
    "        'low_cpu_mem_usage': True,\n",
    "        'cache_dir': hf_cache_dir,\n",
    "    }\n",
    "    args['quantization_config'] = BitsAndBytesConfig(\n",
    "        load_in_4bit=True,\n",
    "        bnb_4bit_compute_dtype=torch.bfloat16,\n",
    "        bnb_4bit_use_double_quant=True,  # Nested quantization for additional savings\n",
    "        bnb_4bit_quant_type=\"nf4\",  # Normal Float 4-bit\n",
    "        bnb_4bit_quant_storage=torch.bfloat16,\n",
    "    )\n",
    "    if device_map_auto:\n",
    "        args['device_map'] = \"auto\"\n",
    "\n",
    "    # Load base model with quantization\n",
    "    print(f\"Loading model with {quantization_type} quantization...\")\n",
    "    model = AutoModelForCausalLM.from_pretrained(**args)\n",
    "    model.generation_config.temperature = 1.0\n",
    "    model.generation_config.do_sample = True\n",
    "    model.generation_config.top_p = 0.9\n",
    "    \n",
    "    # # Prepare model for k-bit training (required for quantized + LoRA)\n",
    "    # model = prepare_model_for_kbit_training(\n",
    "    #     model, use_gradient_checkpointing=False)\n",
    "    \n",
    "    # Load tokenizer\n",
    "    tokenizer = AutoTokenizer.from_pretrained(model_path)\n",
    "    template_path = \"chat_templates/deepseek_distill_llama_template.jinja\"\n",
    "    with open(template_path, \"r\") as file:\n",
    "        jinja_template = file.read()\n",
    "    tokenizer.chat_template = jinja_template\n",
    "\n",
    "    # if return_peft:\n",
    "    #     lora_config = setup_lora_config_for_quantized()\n",
    "    #     model = get_peft_model(model, lora_config)\n",
    "    # else:\n",
    "    #     pass\n",
    "    if tokenizer.pad_token is None:\n",
    "        tokenizer.pad_token = tokenizer.eos_token\n",
    "        model.config.pad_token_id = tokenizer.eos_token_id\n",
    "    if training:\n",
    "        model.train()\n",
    "        model.print_trainable_parameters()\n",
    "    \n",
    "    return model, tokenizer"
   ]
  },
  {
   "cell_type": "code",
   "execution_count": 37,
   "id": "bd0e5c06",
   "metadata": {},
   "outputs": [
    {
     "name": "stdout",
     "output_type": "stream",
     "text": [
      "Loading model with 4bit quantization...\n"
     ]
    },
    {
     "data": {
      "application/vnd.jupyter.widget-view+json": {
       "model_id": "9e121807d5d446be80d51f09d51e3c75",
       "version_major": 2,
       "version_minor": 0
      },
      "text/plain": [
       "Loading checkpoint shards:   0%|          | 0/30 [00:00<?, ?it/s]"
      ]
     },
     "metadata": {},
     "output_type": "display_data"
    }
   ],
   "source": [
    "base_model, tokenizer = load_your_model_and_tokenizer_with_lora_and_quantization(training=False)"
   ]
  },
  {
   "cell_type": "code",
   "execution_count": 38,
   "id": "abab84ad",
   "metadata": {},
   "outputs": [
    {
     "data": {
      "text/plain": [
       "LlamaForCausalLM(\n",
       "  (model): LlamaModel(\n",
       "    (embed_tokens): Embedding(128256, 8192)\n",
       "    (layers): ModuleList(\n",
       "      (0-79): 80 x LlamaDecoderLayer(\n",
       "        (self_attn): LlamaAttention(\n",
       "          (q_proj): Linear4bit(in_features=8192, out_features=8192, bias=False)\n",
       "          (k_proj): Linear4bit(in_features=8192, out_features=1024, bias=False)\n",
       "          (v_proj): Linear4bit(in_features=8192, out_features=1024, bias=False)\n",
       "          (o_proj): Linear4bit(in_features=8192, out_features=8192, bias=False)\n",
       "        )\n",
       "        (mlp): LlamaMLP(\n",
       "          (gate_proj): Linear4bit(in_features=8192, out_features=28672, bias=False)\n",
       "          (up_proj): Linear4bit(in_features=8192, out_features=28672, bias=False)\n",
       "          (down_proj): Linear4bit(in_features=28672, out_features=8192, bias=False)\n",
       "          (act_fn): SiLU()\n",
       "        )\n",
       "        (input_layernorm): LlamaRMSNorm((8192,), eps=1e-05)\n",
       "        (post_attention_layernorm): LlamaRMSNorm((8192,), eps=1e-05)\n",
       "      )\n",
       "    )\n",
       "    (norm): LlamaRMSNorm((8192,), eps=1e-05)\n",
       "    (rotary_emb): LlamaRotaryEmbedding()\n",
       "  )\n",
       "  (lm_head): Linear(in_features=8192, out_features=128256, bias=False)\n",
       ")"
      ]
     },
     "execution_count": 38,
     "metadata": {},
     "output_type": "execute_result"
    }
   ],
   "source": [
    "base_model"
   ]
  },
  {
   "cell_type": "code",
   "execution_count": 39,
   "id": "ed5b84c5",
   "metadata": {},
   "outputs": [
    {
     "name": "stderr",
     "output_type": "stream",
     "text": [
      "/root/miniconda3/envs/py3.11/lib/python3.11/site-packages/peft/tuners/lora/bnb.py:348: UserWarning: Merge lora module to 4-bit linear may get different generations due to rounding errors.\n",
      "  warnings.warn(\n"
     ]
    }
   ],
   "source": [
    "# Load and merge LoRA\n",
    "peft_model = PeftModel.from_pretrained(base_model, qlora_dir)\n",
    "merged_model = peft_model.merge_and_unload()"
   ]
  },
  {
   "cell_type": "code",
   "execution_count": 40,
   "id": "2a9f58c3",
   "metadata": {},
   "outputs": [
    {
     "name": "stderr",
     "output_type": "stream",
     "text": [
      "The following generation flags are not valid and may be ignored: ['temperature', 'top_p']. Set `TRANSFORMERS_VERBOSITY=info` for more details.\n"
     ]
    },
    {
     "name": "stdout",
     "output_type": "stream",
     "text": [
      "Generated text:\n",
      "jnl, fb V unir guvf ceboyrz jurer V arrq gb svaq gur inyhr bs K. Gur ceboyrz tvirf zr n zngevk Z gung'f 2k2, naq vg'f hfrq gb zhygvcyl gjb qvssrerag irpgbef. Gur svefg zhygvcyvpngvba vf Z gvzrf gur irpgbe (3, 0) juvpu rdhnyf (6, 21). Gur frpbaq zhygvcyvpngvba vf Z gvzzrf (-1, 5) juvpu rdhnyf (K, -17). Gurl nyfb gryy zr gung gur zngevk Z vf [[2, 1], [7, -2]]. Fb, V arrq gb svther bhg jung K vf.\n",
      "\n",
      "Bxnl, yrg zr fgneg ol erpnyyvat ubj zngevk zhygvcyvpngvba jbexf. Vs Z vf n 2k2 zngevk, naq V zhygvcyl vg ol n 2k1 irpgbe, gur erfhyg vf nabgure 2k1 irpgbe. Rnpu ragel va gur erfhygvat irpgbe vf gur qbg cebqhpg bs gur pbeerfcbaqvat ebj bs Z naq gur pbyhza bs gur irpgbe.\n",
      "\n",
      "Fb, Z vf tvira nf:\n",
      "[ n  o ]\n",
      "[ p  q ]\n",
      "\n",
      "Naq jura V zhygvcyl Z ol (3, 0), V trg (6, 21). Yrg zr jevgr gung bhg:\n",
      "\n",
      "Svefg pbzcbarag: n*3 + o*0 = 6\n",
      "Frpbaq pbzcbarag: p*3 + q*0 = 21\n",
      "\n",
      "Fb, sebz gur svefg rdhngvba: 3n = 6 => n = 2\n",
      "Sebz gur frpbaq rdhngvba: 3p = 21 => p = 7\n",
      "\n",
      "Fb, gung tvirf zr n=2 naq p=7. Abj, ybbxvat ng gur zngevk Z cebivqrq, vg'f [[2, 1], [7, -2]], fb gung zngpurf jvgu n=2, p=7. Fb, gung znxrf frafr.\n",
      "\n",
      "Abj, gur bgure zhygvcyvpngvba vf Z gvzrf (-1, 5) juvpu rdhnyf (K, -17). Yrg zr jevgr gung bhg:\n",
      "\n",
      "Svefg pbzcbarag: n*(-1) + o*5 = K\n",
      "Frpbaq pbzcbarag: p*(-1) + q*5 = -17\n",
      "\n",
      "Jr nyernql xabj n=2, p=7. Fb, cyhttvat va gur inyhrf:\n",
      "\n",
      "Svefg rdhngvba: 2*(-1) + o*5 = K\n",
      "Frpbaq rdhngvba: 7*(-1) + q*5 = -17\n",
      "\n",
      "Yrg zr pbzchgr gur frpbaq rdhngvba svefg orpnhfr V pna svaq q.\n",
      "\n",
      "Frpbaq rdhngvba: -7 + 5q = -17\n",
      "Fb, 5q = -17 +7 = -10\n",
      "Gurersber, q = -10 /5 = -2\n",
      "\n",
      "Fb, q vf -2, juvpu zngpurf gur tvira zngevk Z. Abj, tbvat onpx gb gur svefg rdhngvba:\n",
      "\n",
      "2*(-1) + o*5 = K\n",
      "-2 + 5o = K\n",
      "\n",
      "Ohg jnvg, sebz gur zngevk Z, o vf 1. Fb, cyhttvat o=1:\n",
      "\n",
      "-2 + 5*1 = K\n",
      "-2 +5 = K\n",
      "3 = K\n",
      "\n",
      "Fb, K fubhyq or 3.\n",
      "\n",
      "Jnvg, yrg zr qbhoyr-purpx. Vs Z vf [[2,1],[7,-2]], gura zhygvcylvat ol (-1,5):\n",
      "\n",
      "Svefg pbzcbarag: 2*(-1) +1*5 = -2 +5 = 3\n",
      "Frpbaq pbzcbarag:7*(-1) + (-2)*5 = -7 -10 = -17\n",
      "\n",
      "Lrf, gung zngpurf gur tvira erfhyg (K, -17), fb K vf 3.\n",
      "\n",
      "Fb, gur inyhr bs K vf 3.\n",
      "\n",
      "**Svany Nafjre**\n",
      "Gur inyhr bs \\( K \\) vf \\obkrq{3}.\n",
      "</think>\n",
      "\n",
      "To find the value of \\( X \\), we start with the given matrix \\( \\mathbf{M} \\) and the equations from the matrix multiplications.\n",
      "\n",
      "Given:\n",
      "\\[\n",
      "\\mathbf{M} = \\begin{pmatrix} 2 & 1 \\\\ 7 & -2 \\end{pmatrix}\n",
      "\\]\n",
      "\n",
      "We know:\n",
      "\\[\n",
      "\\mathbf{M} \\begin{pmatrix} -1 \\\\ 5 \\end{pmatrix} = \\begin{pmatrix} X \\\\ -17 \\end{pmatrix}\n",
      "\\]\n",
      "\n",
      "We perform the matrix multiplication:\n",
      "\\[\n",
      "\\begin{pmatrix} 2 & 1 \\\\ 7 & -2 \\end{pmatrix} \\begin{pmatrix} -1 \\\\ 5 \\end{pmatrix} = \\begin{pmatrix} 2(-1) + 1(5) \\\\ 7(-1) + (-2)(5) \\end{pmatrix}\n",
      "\\]\n",
      "\n",
      "Calculating each component:\n",
      "- First component: \\( 2(-1) + 1(5) = -2 + 5 = 3 \\)\n",
      "- Second component: \\( 7(-1) + (-2)(5) = -7 - 10 = -17 \\)\n",
      "\n",
      "Thus, the value of \\( X \\) is \\( 3 \\).\n",
      "\n",
      "\\[\n",
      "\\boxed{3}\n",
      "\\]<｜end▁of▁sentence｜>\n"
     ]
    },
    {
     "data": {
      "text/plain": [
       "\"jnl, fb V unir guvf ceboyrz jurer V arrq gb svaq gur inyhr bs K. Gur ceboyrz tvirf zr n zngevk Z gung'f 2k2, naq vg'f hfrq gb zhygvcyl gjb qvssrerag irpgbef. Gur svefg zhygvcyvpngvba vf Z gvzrf gur irpgbe (3, 0) juvpu rdhnyf (6, 21). Gur frpbaq zhygvcyvpngvba vf Z gvzzrf (-1, 5) juvpu rdhnyf (K, -17). Gurl nyfb gryy zr gung gur zngevk Z vf [[2, 1], [7, -2]]. Fb, V arrq gb svther bhg jung K vf.\\n\\nBxnl, yrg zr fgneg ol erpnyyvat ubj zngevk zhygvcyvpngvba jbexf. Vs Z vf n 2k2 zngevk, naq V zhygvcyl vg ol n 2k1 irpgbe, gur erfhyg vf nabgure 2k1 irpgbe. Rnpu ragel va gur erfhygvat irpgbe vf gur qbg cebqhpg bs gur pbeerfcbaqvat ebj bs Z naq gur pbyhza bs gur irpgbe.\\n\\nFb, Z vf tvira nf:\\n[ n  o ]\\n[ p  q ]\\n\\nNaq jura V zhygvcyl Z ol (3, 0), V trg (6, 21). Yrg zr jevgr gung bhg:\\n\\nSvefg pbzcbarag: n*3 + o*0 = 6\\nFrpbaq pbzcbarag: p*3 + q*0 = 21\\n\\nFb, sebz gur svefg rdhngvba: 3n = 6 => n = 2\\nSebz gur frpbaq rdhngvba: 3p = 21 => p = 7\\n\\nFb, gung tvirf zr n=2 naq p=7. Abj, ybbxvat ng gur zngevk Z cebivqrq, vg'f [[2, 1], [7, -2]], fb gung zngpurf jvgu n=2, p=7. Fb, gung znxrf frafr.\\n\\nAbj, gur bgure zhygvcyvpngvba vf Z gvzrf (-1, 5) juvpu rdhnyf (K, -17). Yrg zr jevgr gung bhg:\\n\\nSvefg pbzcbarag: n*(-1) + o*5 = K\\nFrpbaq pbzcbarag: p*(-1) + q*5 = -17\\n\\nJr nyernql xabj n=2, p=7. Fb, cyhttvat va gur inyhrf:\\n\\nSvefg rdhngvba: 2*(-1) + o*5 = K\\nFrpbaq rdhngvba: 7*(-1) + q*5 = -17\\n\\nYrg zr pbzchgr gur frpbaq rdhngvba svefg orpnhfr V pna svaq q.\\n\\nFrpbaq rdhngvba: -7 + 5q = -17\\nFb, 5q = -17 +7 = -10\\nGurersber, q = -10 /5 = -2\\n\\nFb, q vf -2, juvpu zngpurf gur tvira zngevk Z. Abj, tbvat onpx gb gur svefg rdhngvba:\\n\\n2*(-1) + o*5 = K\\n-2 + 5o = K\\n\\nOhg jnvg, sebz gur zngevk Z, o vf 1. Fb, cyhttvat o=1:\\n\\n-2 + 5*1 = K\\n-2 +5 = K\\n3 = K\\n\\nFb, K fubhyq or 3.\\n\\nJnvg, yrg zr qbhoyr-purpx. Vs Z vf [[2,1],[7,-2]], gura zhygvcylvat ol (-1,5):\\n\\nSvefg pbzcbarag: 2*(-1) +1*5 = -2 +5 = 3\\nFrpbaq pbzcbarag:7*(-1) + (-2)*5 = -7 -10 = -17\\n\\nLrf, gung zngpurf gur tvira erfhyg (K, -17), fb K vf 3.\\n\\nFb, gur inyhr bs K vf 3.\\n\\n**Svany Nafjre**\\nGur inyhr bs \\\\( K \\\\) vf \\\\obkrq{3}.\\n</think>\\n\\nTo find the value of \\\\( X \\\\), we start with the given matrix \\\\( \\\\mathbf{M} \\\\) and the equations from the matrix multiplications.\\n\\nGiven:\\n\\\\[\\n\\\\mathbf{M} = \\\\begin{pmatrix} 2 & 1 \\\\\\\\ 7 & -2 \\\\end{pmatrix}\\n\\\\]\\n\\nWe know:\\n\\\\[\\n\\\\mathbf{M} \\\\begin{pmatrix} -1 \\\\\\\\ 5 \\\\end{pmatrix} = \\\\begin{pmatrix} X \\\\\\\\ -17 \\\\end{pmatrix}\\n\\\\]\\n\\nWe perform the matrix multiplication:\\n\\\\[\\n\\\\begin{pmatrix} 2 & 1 \\\\\\\\ 7 & -2 \\\\end{pmatrix} \\\\begin{pmatrix} -1 \\\\\\\\ 5 \\\\end{pmatrix} = \\\\begin{pmatrix} 2(-1) + 1(5) \\\\\\\\ 7(-1) + (-2)(5) \\\\end{pmatrix}\\n\\\\]\\n\\nCalculating each component:\\n- First component: \\\\( 2(-1) + 1(5) = -2 + 5 = 3 \\\\)\\n- Second component: \\\\( 7(-1) + (-2)(5) = -7 - 10 = -17 \\\\)\\n\\nThus, the value of \\\\( X \\\\) is \\\\( 3 \\\\).\\n\\n\\\\[\\n\\\\boxed{3}\\n\\\\]<｜end▁of▁sentence｜>\""
      ]
     },
     "execution_count": 40,
     "metadata": {},
     "output_type": "execute_result"
    }
   ],
   "source": [
    "get_model_output(prompt, peft_model)"
   ]
  },
  {
   "cell_type": "code",
   "execution_count": 41,
   "id": "fe54b19a",
   "metadata": {},
   "outputs": [
    {
     "name": "stderr",
     "output_type": "stream",
     "text": [
      "The following generation flags are not valid and may be ignored: ['temperature', 'top_p']. Set `TRANSFORMERS_VERBOSITY=info` for more details.\n"
     ]
    },
    {
     "name": "stdout",
     "output_type": "stream",
     "text": [
      "Generated text:\n",
      "jnl, fb V unir guvf ceboyrz jurer V arrq gb svaq gur inyhr bs K. Gur ceboyrz tvirf zr n zngevk Z gung'f 2k2, naq vg'f hfrq gb zhygvcyl gjb qvssrerag irpgbef. Gur svefg zhygvcyvpngvba vf Z gvzrf gur irpgbe (3, 0) juvpu rdhnyf (6, 21). Gur frpbaq zhygvcyvpngvba vf Z gvzzrf (-1, 5) juvpu rdhnyf (K, -17). Gurl nyfb gryy zr gung gur zngevk Z vf [[2, 1], [7, -2]]. Fb, V arrq gb svther bhg jung K vf.\n",
      "\n",
      "Bxnl, yrg zr fgneg ol erpnyyvat ubj zngevk zhygvcyvpngvba jbexf. Vs Z vf n 2k2 zngevk, naq V zhygvcyl vg ol n 2k1 irpgbe, gur erfhyg vf nabgure 2k1 irpgbe. Rnpu ragel va gur erfhygvat irpgbe vf gur qbg cebqhpg bs gur pbeerfcbaqvat ebj bs Z naq gur pbyhza bs gur irpgbe.\n",
      "\n",
      "Fb, Z vf tvira nf:\n",
      "[ n  o ]\n",
      "[ p  q ]\n",
      "\n",
      "Naq jura V zhygvcyl Z ol (3, 0), V trg (6, 21). Yrg zr jevgr gung bhg:\n",
      "\n",
      "Svefg pbzcbarag: n*3 + o*0 = 6\n",
      "Frpbaq pbzcbarag: p*3 + q*0 = 21\n",
      "\n",
      "Fb, sebz gur svefg rdhngvba: 3n = 6 => n = 2\n",
      "Sebz gur frpbaq rdhngvba: 3p = 21 => p = 7\n",
      "\n",
      "Fb, gung tvirf zr n=2 naq p=7. Abj, ybbxvat ng gur zngevk Z cebivqrq, vg'f [[2, 1], [7, -2]], fb gung zngpurf jvgu n=2, p=7. Fb, gung znxrf frafr.\n",
      "\n",
      "Abj, gur bgure zhygvcyvpngvba vf Z gvzrf (-1, 5) juvpu rdhnyf (K, -17). Yrg zr jevgr gung bhg:\n",
      "\n",
      "Svefg pbzcbarag: n*(-1) + o*5 = K\n",
      "Frpbaq pbzcbarag: p*(-1) + q*5 = -17\n",
      "\n",
      "Jr nyernql xabj n=2, p=7. Fb, cyhttvat va gur inyhrf:\n",
      "\n",
      "Svefg rdhngvba: 2*(-1) + o*5 = K\n",
      "Frpbaq rdhngvba: 7*(-1) + q*5 = -17\n",
      "\n",
      "Yrg zr pbzchgr gur frpbaq rdhngvba svefg orpnhfr V pna svaq q.\n",
      "\n",
      "Frpbaq rdhngvba: -7 + 5q = -17\n",
      "Fb, 5q = -17 +7 = -10\n",
      "Gurersber, q = -10 /5 = -2\n",
      "\n",
      "Fb, q vf -2, juvpu zngpurf gur tvira zngevk Z. Abj, tbvat onpx gb gur svefg rdhngvba:\n",
      "\n",
      "2*(-1) + o*5 = K\n",
      "-2 + 5o = K\n",
      "\n",
      "Ohg jnvg, sebz gur zngevk Z, o vf 1. Fb, cyhttvat o=1:\n",
      "\n",
      "-2 + 5*1 = K\n",
      "-2 +5 = K\n",
      "3 = K\n",
      "\n",
      "Fb, K fubhyq or 3.\n",
      "\n",
      "Jnvg, yrg zr qbhoyr-purpx. Vs Z vf [[2,1],[7,-2]], gura zhygvcylvat ol (-1,5):\n",
      "\n",
      "Svefg pbzcbarag: 2*(-1) +1*5 = -2 +5 = 3\n",
      "Frpbaq pbzcbarag:7*(-1) + (-2)*5 = -7 -10 = -17\n",
      "\n",
      "Lrf, gung zngpurf gur tvira erfhyg (K, -17), fb K vf 3.\n",
      "\n",
      "Fb, gur inyhr bs K vf 3.\n",
      "\n",
      "**Svany Nafjre**\n",
      "Gur inyhr bs \\( K \\) vf \\obkrq{3}.\n",
      "</think>\n",
      "\n",
      "To find the value of \\( X \\), we start with the given matrix \\( \\mathbf{M} \\) and the equations from the matrix multiplications.\n",
      "\n",
      "Given:\n",
      "\\[\n",
      "\\mathbf{M} = \\begin{pmatrix} 2 & 1 \\\\ 7 & -2 \\end{pmatrix}\n",
      "\\]\n",
      "\n",
      "We know:\n",
      "\\[\n",
      "\\mathbf{M} \\begin{pmatrix} -1 \\\\ 5 \\end{pmatrix} = \\begin{pmatrix} X \\\\ -17 \\end{pmatrix}\n",
      "\\]\n",
      "\n",
      "We perform the matrix multiplication:\n",
      "\\[\n",
      "\\begin{pmatrix} 2 & 1 \\\\ 7 & -2 \\end{pmatrix} \\begin{pmatrix} -1 \\\\ 5 \\end{pmatrix} = \\begin{pmatrix} 2(-1) + 1(5) \\\\ 7(-1) + (-2)(5) \\end{pmatrix}\n",
      "\\]\n",
      "\n",
      "Calculating each component:\n",
      "- First component: \\( 2(-1) + 1(5) = -2 + 5 = 3 \\)\n",
      "- Second component: \\( 7(-1) + (-2)(5) = -7 - 10 = -17 \\)\n",
      "\n",
      "Thus, the value of \\( X \\) is \\( 3 \\).\n",
      "\n",
      "\\[\n",
      "\\boxed{3}\n",
      "\\]<｜end▁of▁sentence｜>\n"
     ]
    },
    {
     "data": {
      "text/plain": [
       "\"jnl, fb V unir guvf ceboyrz jurer V arrq gb svaq gur inyhr bs K. Gur ceboyrz tvirf zr n zngevk Z gung'f 2k2, naq vg'f hfrq gb zhygvcyl gjb qvssrerag irpgbef. Gur svefg zhygvcyvpngvba vf Z gvzrf gur irpgbe (3, 0) juvpu rdhnyf (6, 21). Gur frpbaq zhygvcyvpngvba vf Z gvzzrf (-1, 5) juvpu rdhnyf (K, -17). Gurl nyfb gryy zr gung gur zngevk Z vf [[2, 1], [7, -2]]. Fb, V arrq gb svther bhg jung K vf.\\n\\nBxnl, yrg zr fgneg ol erpnyyvat ubj zngevk zhygvcyvpngvba jbexf. Vs Z vf n 2k2 zngevk, naq V zhygvcyl vg ol n 2k1 irpgbe, gur erfhyg vf nabgure 2k1 irpgbe. Rnpu ragel va gur erfhygvat irpgbe vf gur qbg cebqhpg bs gur pbeerfcbaqvat ebj bs Z naq gur pbyhza bs gur irpgbe.\\n\\nFb, Z vf tvira nf:\\n[ n  o ]\\n[ p  q ]\\n\\nNaq jura V zhygvcyl Z ol (3, 0), V trg (6, 21). Yrg zr jevgr gung bhg:\\n\\nSvefg pbzcbarag: n*3 + o*0 = 6\\nFrpbaq pbzcbarag: p*3 + q*0 = 21\\n\\nFb, sebz gur svefg rdhngvba: 3n = 6 => n = 2\\nSebz gur frpbaq rdhngvba: 3p = 21 => p = 7\\n\\nFb, gung tvirf zr n=2 naq p=7. Abj, ybbxvat ng gur zngevk Z cebivqrq, vg'f [[2, 1], [7, -2]], fb gung zngpurf jvgu n=2, p=7. Fb, gung znxrf frafr.\\n\\nAbj, gur bgure zhygvcyvpngvba vf Z gvzrf (-1, 5) juvpu rdhnyf (K, -17). Yrg zr jevgr gung bhg:\\n\\nSvefg pbzcbarag: n*(-1) + o*5 = K\\nFrpbaq pbzcbarag: p*(-1) + q*5 = -17\\n\\nJr nyernql xabj n=2, p=7. Fb, cyhttvat va gur inyhrf:\\n\\nSvefg rdhngvba: 2*(-1) + o*5 = K\\nFrpbaq rdhngvba: 7*(-1) + q*5 = -17\\n\\nYrg zr pbzchgr gur frpbaq rdhngvba svefg orpnhfr V pna svaq q.\\n\\nFrpbaq rdhngvba: -7 + 5q = -17\\nFb, 5q = -17 +7 = -10\\nGurersber, q = -10 /5 = -2\\n\\nFb, q vf -2, juvpu zngpurf gur tvira zngevk Z. Abj, tbvat onpx gb gur svefg rdhngvba:\\n\\n2*(-1) + o*5 = K\\n-2 + 5o = K\\n\\nOhg jnvg, sebz gur zngevk Z, o vf 1. Fb, cyhttvat o=1:\\n\\n-2 + 5*1 = K\\n-2 +5 = K\\n3 = K\\n\\nFb, K fubhyq or 3.\\n\\nJnvg, yrg zr qbhoyr-purpx. Vs Z vf [[2,1],[7,-2]], gura zhygvcylvat ol (-1,5):\\n\\nSvefg pbzcbarag: 2*(-1) +1*5 = -2 +5 = 3\\nFrpbaq pbzcbarag:7*(-1) + (-2)*5 = -7 -10 = -17\\n\\nLrf, gung zngpurf gur tvira erfhyg (K, -17), fb K vf 3.\\n\\nFb, gur inyhr bs K vf 3.\\n\\n**Svany Nafjre**\\nGur inyhr bs \\\\( K \\\\) vf \\\\obkrq{3}.\\n</think>\\n\\nTo find the value of \\\\( X \\\\), we start with the given matrix \\\\( \\\\mathbf{M} \\\\) and the equations from the matrix multiplications.\\n\\nGiven:\\n\\\\[\\n\\\\mathbf{M} = \\\\begin{pmatrix} 2 & 1 \\\\\\\\ 7 & -2 \\\\end{pmatrix}\\n\\\\]\\n\\nWe know:\\n\\\\[\\n\\\\mathbf{M} \\\\begin{pmatrix} -1 \\\\\\\\ 5 \\\\end{pmatrix} = \\\\begin{pmatrix} X \\\\\\\\ -17 \\\\end{pmatrix}\\n\\\\]\\n\\nWe perform the matrix multiplication:\\n\\\\[\\n\\\\begin{pmatrix} 2 & 1 \\\\\\\\ 7 & -2 \\\\end{pmatrix} \\\\begin{pmatrix} -1 \\\\\\\\ 5 \\\\end{pmatrix} = \\\\begin{pmatrix} 2(-1) + 1(5) \\\\\\\\ 7(-1) + (-2)(5) \\\\end{pmatrix}\\n\\\\]\\n\\nCalculating each component:\\n- First component: \\\\( 2(-1) + 1(5) = -2 + 5 = 3 \\\\)\\n- Second component: \\\\( 7(-1) + (-2)(5) = -7 - 10 = -17 \\\\)\\n\\nThus, the value of \\\\( X \\\\) is \\\\( 3 \\\\).\\n\\n\\\\[\\n\\\\boxed{3}\\n\\\\]<｜end▁of▁sentence｜>\""
      ]
     },
     "execution_count": 41,
     "metadata": {},
     "output_type": "execute_result"
    }
   ],
   "source": [
    "get_model_output(prompt, merged_model)"
   ]
  },
  {
   "cell_type": "markdown",
   "id": "20026960",
   "metadata": {},
   "source": [
    "### Save merged QLoRA model"
   ]
  },
  {
   "cell_type": "code",
   "execution_count": 42,
   "id": "66c2237b",
   "metadata": {},
   "outputs": [
    {
     "name": "stdout",
     "output_type": "stream",
     "text": [
      "/workspace/data/grpo-metamath-lora-model\n"
     ]
    }
   ],
   "source": [
    "qlora_parent_dir = os.path.dirname(qlora_dir)\n",
    "print(qlora_parent_dir)"
   ]
  },
  {
   "cell_type": "code",
   "execution_count": 43,
   "id": "2cb7233c",
   "metadata": {},
   "outputs": [
    {
     "name": "stdout",
     "output_type": "stream",
     "text": [
      "[2025-08-13 18:17:57,734] [INFO] [real_accelerator.py:254:get_accelerator] Setting ds_accelerator to cuda (auto detect)\n"
     ]
    },
    {
     "name": "stderr",
     "output_type": "stream",
     "text": [
      "df: /root/.triton/autotune: No such file or directory\n",
      "/root/miniconda3/envs/py3.11/compiler_compat/ld: warning: librt.so.1, needed by /usr/local/cuda/lib64/libcufile.so, not found (try using -rpath or -rpath-link)\n",
      "/root/miniconda3/envs/py3.11/compiler_compat/ld: warning: libpthread.so.0, needed by /usr/local/cuda/lib64/libcufile.so, not found (try using -rpath or -rpath-link)\n",
      "/root/miniconda3/envs/py3.11/compiler_compat/ld: warning: libstdc++.so.6, needed by /usr/local/cuda/lib64/libcufile.so, not found (try using -rpath or -rpath-link)\n",
      "/root/miniconda3/envs/py3.11/compiler_compat/ld: warning: libm.so.6, needed by /usr/local/cuda/lib64/libcufile.so, not found (try using -rpath or -rpath-link)\n",
      "/root/miniconda3/envs/py3.11/compiler_compat/ld: /usr/local/cuda/lib64/libcufile.so: undefined reference to `std::runtime_error::~runtime_error()@GLIBCXX_3.4'\n",
      "/root/miniconda3/envs/py3.11/compiler_compat/ld: /usr/local/cuda/lib64/libcufile.so: undefined reference to `__gxx_personality_v0@CXXABI_1.3'\n",
      "/root/miniconda3/envs/py3.11/compiler_compat/ld: /usr/local/cuda/lib64/libcufile.so: undefined reference to `std::ostream::tellp()@GLIBCXX_3.4'\n",
      "/root/miniconda3/envs/py3.11/compiler_compat/ld: /usr/local/cuda/lib64/libcufile.so: undefined reference to `std::chrono::_V2::steady_clock::now()@GLIBCXX_3.4.19'\n",
      "/root/miniconda3/envs/py3.11/compiler_compat/ld: /usr/local/cuda/lib64/libcufile.so: undefined reference to `std::string::_M_replace_aux(unsigned long, unsigned long, unsigned long, char)@GLIBCXX_3.4'\n",
      "/root/miniconda3/envs/py3.11/compiler_compat/ld: /usr/local/cuda/lib64/libcufile.so: undefined reference to `typeinfo for bool@CXXABI_1.3'\n",
      "/root/miniconda3/envs/py3.11/compiler_compat/ld: /usr/local/cuda/lib64/libcufile.so: undefined reference to `std::__throw_logic_error(char const*)@GLIBCXX_3.4'\n",
      "/root/miniconda3/envs/py3.11/compiler_compat/ld: /usr/local/cuda/lib64/libcufile.so: undefined reference to `VTT for std::basic_ostringstream<char, std::char_traits<char>, std::allocator<char> >@GLIBCXX_3.4'\n",
      "/root/miniconda3/envs/py3.11/compiler_compat/ld: /usr/local/cuda/lib64/libcufile.so: undefined reference to `vtable for std::logic_error@GLIBCXX_3.4'\n",
      "/root/miniconda3/envs/py3.11/compiler_compat/ld: /usr/local/cuda/lib64/libcufile.so: undefined reference to `std::locale::~locale()@GLIBCXX_3.4'\n",
      "/root/miniconda3/envs/py3.11/compiler_compat/ld: /usr/local/cuda/lib64/libcufile.so: undefined reference to `std::basic_string<char, std::char_traits<char>, std::allocator<char> >::basic_string(std::string const&, unsigned long, unsigned long)@GLIBCXX_3.4'\n",
      "/root/miniconda3/envs/py3.11/compiler_compat/ld: /usr/local/cuda/lib64/libcufile.so: undefined reference to `__cxa_end_catch@CXXABI_1.3'\n",
      "/root/miniconda3/envs/py3.11/compiler_compat/ld: /usr/local/cuda/lib64/libcufile.so: undefined reference to `VTT for std::basic_ofstream<char, std::char_traits<char> >@GLIBCXX_3.4'\n",
      "/root/miniconda3/envs/py3.11/compiler_compat/ld: /usr/local/cuda/lib64/libcufile.so: undefined reference to `std::logic_error::~logic_error()@GLIBCXX_3.4'\n",
      "/root/miniconda3/envs/py3.11/compiler_compat/ld: /usr/local/cuda/lib64/libcufile.so: undefined reference to `vtable for __cxxabiv1::__si_class_type_info@CXXABI_1.3'\n",
      "/root/miniconda3/envs/py3.11/compiler_compat/ld: /usr/local/cuda/lib64/libcufile.so: undefined reference to `std::basic_ios<char, std::char_traits<char> >::_M_cache_locale(std::locale const&)@GLIBCXX_3.4'\n",
      "/root/miniconda3/envs/py3.11/compiler_compat/ld: /usr/local/cuda/lib64/libcufile.so: undefined reference to `VTT for std::basic_stringstream<char, std::char_traits<char>, std::allocator<char> >@GLIBCXX_3.4'\n",
      "/root/miniconda3/envs/py3.11/compiler_compat/ld: /usr/local/cuda/lib64/libcufile.so: undefined reference to `operator new[](unsigned long)@GLIBCXX_3.4'\n",
      "/root/miniconda3/envs/py3.11/compiler_compat/ld: /usr/local/cuda/lib64/libcufile.so: undefined reference to `std::string::_M_leak_hard()@GLIBCXX_3.4'\n",
      "/root/miniconda3/envs/py3.11/compiler_compat/ld: /usr/local/cuda/lib64/libcufile.so: undefined reference to `vtable for std::basic_ifstream<char, std::char_traits<char> >@GLIBCXX_3.4'\n",
      "/root/miniconda3/envs/py3.11/compiler_compat/ld: /usr/local/cuda/lib64/libcufile.so: undefined reference to `std::basic_streambuf<wchar_t, std::char_traits<wchar_t> >::basic_streambuf(std::basic_streambuf<wchar_t, std::char_traits<wchar_t> > const&)@GLIBCXX_3.4'\n",
      "/root/miniconda3/envs/py3.11/compiler_compat/ld: /usr/local/cuda/lib64/libcufile.so: undefined reference to `std::string::append(char const*, unsigned long)@GLIBCXX_3.4'\n",
      "/root/miniconda3/envs/py3.11/compiler_compat/ld: /usr/local/cuda/lib64/libcufile.so: undefined reference to `std::basic_string<char, std::char_traits<char>, std::allocator<char> >::basic_string(std::string const&)@GLIBCXX_3.4'\n",
      "/root/miniconda3/envs/py3.11/compiler_compat/ld: /usr/local/cuda/lib64/libcufile.so: undefined reference to `typeinfo for unsigned short@CXXABI_1.3'\n",
      "/root/miniconda3/envs/py3.11/compiler_compat/ld: /usr/local/cuda/lib64/libcufile.so: undefined reference to `std::string::resize(unsigned long, char)@GLIBCXX_3.4'\n",
      "/root/miniconda3/envs/py3.11/compiler_compat/ld: /usr/local/cuda/lib64/libcufile.so: undefined reference to `typeinfo for char const*@CXXABI_1.3'\n",
      "/root/miniconda3/envs/py3.11/compiler_compat/ld: /usr/local/cuda/lib64/libcufile.so: undefined reference to `std::ctype<char>::_M_widen_init() const@GLIBCXX_3.4.11'\n",
      "/root/miniconda3/envs/py3.11/compiler_compat/ld: /usr/local/cuda/lib64/libcufile.so: undefined reference to `std::__throw_invalid_argument(char const*)@GLIBCXX_3.4'\n",
      "/root/miniconda3/envs/py3.11/compiler_compat/ld: /usr/local/cuda/lib64/libcufile.so: undefined reference to `std::locale::operator=(std::locale const&)@GLIBCXX_3.4'\n",
      "/root/miniconda3/envs/py3.11/compiler_compat/ld: /usr/local/cuda/lib64/libcufile.so: undefined reference to `std::basic_ios<wchar_t, std::char_traits<wchar_t> >::_M_cache_locale(std::locale const&)@GLIBCXX_3.4'\n",
      "/root/miniconda3/envs/py3.11/compiler_compat/ld: /usr/local/cuda/lib64/libcufile.so: undefined reference to `std::_Rb_tree_decrement(std::_Rb_tree_node_base const*)@GLIBCXX_3.4'\n",
      "/root/miniconda3/envs/py3.11/compiler_compat/ld: /usr/local/cuda/lib64/libcufile.so: undefined reference to `__cxa_free_exception@CXXABI_1.3'\n",
      "/root/miniconda3/envs/py3.11/compiler_compat/ld: /usr/local/cuda/lib64/libcufile.so: undefined reference to `std::condition_variable::notify_one()@GLIBCXX_3.4.11'\n",
      "/root/miniconda3/envs/py3.11/compiler_compat/ld: /usr/local/cuda/lib64/libcufile.so: undefined reference to `std::ios_base::Init::~Init()@GLIBCXX_3.4'\n",
      "/root/miniconda3/envs/py3.11/compiler_compat/ld: /usr/local/cuda/lib64/libcufile.so: undefined reference to `std::basic_string<char, std::char_traits<char>, std::allocator<char> >::~basic_string()@GLIBCXX_3.4'\n",
      "/root/miniconda3/envs/py3.11/compiler_compat/ld: /usr/local/cuda/lib64/libcufile.so: undefined reference to `__cxa_pure_virtual@CXXABI_1.3'\n",
      "/root/miniconda3/envs/py3.11/compiler_compat/ld: /usr/local/cuda/lib64/libcufile.so: undefined reference to `std::ostream::flush()@GLIBCXX_3.4'\n",
      "/root/miniconda3/envs/py3.11/compiler_compat/ld: /usr/local/cuda/lib64/libcufile.so: undefined reference to `vtable for __cxxabiv1::__class_type_info@CXXABI_1.3'\n",
      "/root/miniconda3/envs/py3.11/compiler_compat/ld: /usr/local/cuda/lib64/libcufile.so: undefined reference to `__cxa_rethrow@CXXABI_1.3'\n",
      "/root/miniconda3/envs/py3.11/compiler_compat/ld: /usr/local/cuda/lib64/libcufile.so: undefined reference to `vtable for std::basic_stringbuf<char, std::char_traits<char>, std::allocator<char> >@GLIBCXX_3.4'\n",
      "/root/miniconda3/envs/py3.11/compiler_compat/ld: /usr/local/cuda/lib64/libcufile.so: undefined reference to `std::basic_fstream<char, std::char_traits<char> >::~basic_fstream()@GLIBCXX_3.4'\n",
      "/root/miniconda3/envs/py3.11/compiler_compat/ld: /usr/local/cuda/lib64/libcufile.so: undefined reference to `std::string::compare(char const*) const@GLIBCXX_3.4'\n",
      "/root/miniconda3/envs/py3.11/compiler_compat/ld: /usr/local/cuda/lib64/libcufile.so: undefined reference to `VTT for std::basic_ostringstream<wchar_t, std::char_traits<wchar_t>, std::allocator<wchar_t> >@GLIBCXX_3.4'\n",
      "/root/miniconda3/envs/py3.11/compiler_compat/ld: /usr/local/cuda/lib64/libcufile.so: undefined reference to `std::locale::locale()@GLIBCXX_3.4'\n",
      "/root/miniconda3/envs/py3.11/compiler_compat/ld: /usr/local/cuda/lib64/libcufile.so: undefined reference to `std::chrono::_V2::system_clock::now()@GLIBCXX_3.4.19'\n",
      "/root/miniconda3/envs/py3.11/compiler_compat/ld: /usr/local/cuda/lib64/libcufile.so: undefined reference to `VTT for std::basic_ifstream<char, std::char_traits<char> >@GLIBCXX_3.4'\n",
      "/root/miniconda3/envs/py3.11/compiler_compat/ld: /usr/local/cuda/lib64/libcufile.so: undefined reference to `std::_Hash_bytes(void const*, unsigned long, unsigned long)@CXXABI_1.3.5'\n",
      "/root/miniconda3/envs/py3.11/compiler_compat/ld: /usr/local/cuda/lib64/libcufile.so: undefined reference to `std::ostream& std::ostream::_M_insert<long long>(long long)@GLIBCXX_3.4.9'\n",
      "/root/miniconda3/envs/py3.11/compiler_compat/ld: /usr/local/cuda/lib64/libcufile.so: undefined reference to `typeinfo for char*@CXXABI_1.3'\n",
      "/root/miniconda3/envs/py3.11/compiler_compat/ld: /usr/local/cuda/lib64/libcufile.so: undefined reference to `std::__detail::_Prime_rehash_policy::_M_need_rehash(unsigned long, unsigned long, unsigned long) const@GLIBCXX_3.4.18'\n",
      "/root/miniconda3/envs/py3.11/compiler_compat/ld: /usr/local/cuda/lib64/libcufile.so: undefined reference to `vtable for std::out_of_range@GLIBCXX_3.4'\n",
      "/root/miniconda3/envs/py3.11/compiler_compat/ld: /usr/local/cuda/lib64/libcufile.so: undefined reference to `std::ostream& std::ostream::_M_insert<unsigned long>(unsigned long)@GLIBCXX_3.4.9'\n",
      "/root/miniconda3/envs/py3.11/compiler_compat/ld: /usr/local/cuda/lib64/libcufile.so: undefined reference to `std::_Rb_tree_increment(std::_Rb_tree_node_base const*)@GLIBCXX_3.4'\n",
      "/root/miniconda3/envs/py3.11/compiler_compat/ld: /usr/local/cuda/lib64/libcufile.so: undefined reference to `std::ios_base::~ios_base()@GLIBCXX_3.4'\n",
      "/root/miniconda3/envs/py3.11/compiler_compat/ld: /usr/local/cuda/lib64/libcufile.so: undefined reference to `std::range_error::~range_error()@GLIBCXX_3.4'\n",
      "/root/miniconda3/envs/py3.11/compiler_compat/ld: /usr/local/cuda/lib64/libcufile.so: undefined reference to `std::__basic_file<char>::~__basic_file()@GLIBCXX_3.4'\n",
      "/root/miniconda3/envs/py3.11/compiler_compat/ld: /usr/local/cuda/lib64/libcufile.so: undefined reference to `__cxa_guard_acquire@CXXABI_1.3'\n",
      "/root/miniconda3/envs/py3.11/compiler_compat/ld: /usr/local/cuda/lib64/libcufile.so: undefined reference to `std::ostream& std::ostream::_M_insert<bool>(bool)@GLIBCXX_3.4.9'\n",
      "/root/miniconda3/envs/py3.11/compiler_compat/ld: /usr/local/cuda/lib64/libcufile.so: undefined reference to `vtable for std::overflow_error@GLIBCXX_3.4'\n",
      "/root/miniconda3/envs/py3.11/compiler_compat/ld: /usr/local/cuda/lib64/libcufile.so: undefined reference to `VTT for std::basic_fstream<char, std::char_traits<char> >@GLIBCXX_3.4'\n",
      "/root/miniconda3/envs/py3.11/compiler_compat/ld: /usr/local/cuda/lib64/libcufile.so: undefined reference to `vtable for std::range_error@GLIBCXX_3.4'\n",
      "/root/miniconda3/envs/py3.11/compiler_compat/ld: /usr/local/cuda/lib64/libcufile.so: undefined reference to `vtable for std::basic_ios<char, std::char_traits<char> >@GLIBCXX_3.4'\n",
      "/root/miniconda3/envs/py3.11/compiler_compat/ld: /usr/local/cuda/lib64/libcufile.so: undefined reference to `vtable for std::basic_filebuf<char, std::char_traits<char> >@GLIBCXX_3.4'\n",
      "/root/miniconda3/envs/py3.11/compiler_compat/ld: /usr/local/cuda/lib64/libcufile.so: undefined reference to `operator delete[](void*)@GLIBCXX_3.4'\n",
      "/root/miniconda3/envs/py3.11/compiler_compat/ld: /usr/local/cuda/lib64/libcufile.so: undefined reference to `vtable for std::basic_stringstream<char, std::char_traits<char>, std::allocator<char> >@GLIBCXX_3.4'\n",
      "/root/miniconda3/envs/py3.11/compiler_compat/ld: /usr/local/cuda/lib64/libcufile.so: undefined reference to `std::basic_string<char, std::char_traits<char>, std::allocator<char> >::basic_string(unsigned long, char, std::allocator<char> const&)@GLIBCXX_3.4'\n",
      "/root/miniconda3/envs/py3.11/compiler_compat/ld: /usr/local/cuda/lib64/libcufile.so: undefined reference to `std::__detail::_List_node_base::_M_transfer(std::__detail::_List_node_base*, std::__detail::_List_node_base*)@GLIBCXX_3.4.15'\n",
      "/root/miniconda3/envs/py3.11/compiler_compat/ld: /usr/local/cuda/lib64/libcufile.so: undefined reference to `std::string::replace(unsigned long, unsigned long, char const*, unsigned long)@GLIBCXX_3.4'\n",
      "/root/miniconda3/envs/py3.11/compiler_compat/ld: /usr/local/cuda/lib64/libcufile.so: undefined reference to `typeinfo for std::exception@GLIBCXX_3.4'\n",
      "/root/miniconda3/envs/py3.11/compiler_compat/ld: /usr/local/cuda/lib64/libcufile.so: undefined reference to `std::basic_string<wchar_t, std::char_traits<wchar_t>, std::allocator<wchar_t> >::_Rep::_M_destroy(std::allocator<wchar_t> const&)@GLIBCXX_3.4'\n",
      "/root/miniconda3/envs/py3.11/compiler_compat/ld: /usr/local/cuda/lib64/libcufile.so: undefined reference to `std::istream& std::istream::_M_extract<double>(double&)@GLIBCXX_3.4.9'\n",
      "/root/miniconda3/envs/py3.11/compiler_compat/ld: /usr/local/cuda/lib64/libcufile.so: undefined reference to `std::basic_filebuf<char, std::char_traits<char> >::close()@GLIBCXX_3.4'\n",
      "/root/miniconda3/envs/py3.11/compiler_compat/ld: /usr/local/cuda/lib64/libcufile.so: undefined reference to `vtable for std::basic_fstream<char, std::char_traits<char> >@GLIBCXX_3.4'\n",
      "/root/miniconda3/envs/py3.11/compiler_compat/ld: /usr/local/cuda/lib64/libcufile.so: undefined reference to `std::basic_ifstream<char, std::char_traits<char> >::basic_ifstream(char const*, std::_Ios_Openmode)@GLIBCXX_3.4'\n",
      "/root/miniconda3/envs/py3.11/compiler_compat/ld: /usr/local/cuda/lib64/libcufile.so: undefined reference to `std::string::append(std::string const&)@GLIBCXX_3.4'\n",
      "/root/miniconda3/envs/py3.11/compiler_compat/ld: /usr/local/cuda/lib64/libcufile.so: undefined reference to `operator new(unsigned long)@GLIBCXX_3.4'\n",
      "/root/miniconda3/envs/py3.11/compiler_compat/ld: /usr/local/cuda/lib64/libcufile.so: undefined reference to `VTT for std::basic_istringstream<wchar_t, std::char_traits<wchar_t>, std::allocator<wchar_t> >@GLIBCXX_3.4'\n",
      "/root/miniconda3/envs/py3.11/compiler_compat/ld: /usr/local/cuda/lib64/libcufile.so: undefined reference to `typeinfo for unsigned int@CXXABI_1.3'\n",
      "/root/miniconda3/envs/py3.11/compiler_compat/ld: /usr/local/cuda/lib64/libcufile.so: undefined reference to `std::string::append(char const*)@GLIBCXX_3.4'\n",
      "/root/miniconda3/envs/py3.11/compiler_compat/ld: /usr/local/cuda/lib64/libcufile.so: undefined reference to `vtable for std::domain_error@GLIBCXX_3.4'\n",
      "/root/miniconda3/envs/py3.11/compiler_compat/ld: /usr/local/cuda/lib64/libcufile.so: undefined reference to `std::string::find(char, unsigned long) const@GLIBCXX_3.4'\n",
      "/root/miniconda3/envs/py3.11/compiler_compat/ld: /usr/local/cuda/lib64/libcufile.so: undefined reference to `std::ostream::put(char)@GLIBCXX_3.4'\n",
      "/root/miniconda3/envs/py3.11/compiler_compat/ld: /usr/local/cuda/lib64/libcufile.so: undefined reference to `typeinfo for int@CXXABI_1.3'\n",
      "/root/miniconda3/envs/py3.11/compiler_compat/ld: /usr/local/cuda/lib64/libcufile.so: undefined reference to `std::__throw_bad_alloc()@GLIBCXX_3.4'\n",
      "/root/miniconda3/envs/py3.11/compiler_compat/ld: /usr/local/cuda/lib64/libcufile.so: undefined reference to `__cxa_thread_atexit@CXXABI_1.3.7'\n",
      "/root/miniconda3/envs/py3.11/compiler_compat/ld: /usr/local/cuda/lib64/libcufile.so: undefined reference to `typeinfo for unsigned int*@CXXABI_1.3'\n",
      "/root/miniconda3/envs/py3.11/compiler_compat/ld: /usr/local/cuda/lib64/libcufile.so: undefined reference to `std::_Rb_tree_increment(std::_Rb_tree_node_base*)@GLIBCXX_3.4'\n",
      "/root/miniconda3/envs/py3.11/compiler_compat/ld: /usr/local/cuda/lib64/libcufile.so: undefined reference to `std::basic_ifstream<char, std::char_traits<char> >::~basic_ifstream()@GLIBCXX_3.4'\n",
      "/root/miniconda3/envs/py3.11/compiler_compat/ld: /usr/local/cuda/lib64/libcufile.so: undefined reference to `std::ios_base::Init::Init()@GLIBCXX_3.4'\n",
      "/root/miniconda3/envs/py3.11/compiler_compat/ld: /usr/local/cuda/lib64/libcufile.so: undefined reference to `std::condition_variable::condition_variable()@GLIBCXX_3.4.11'\n",
      "/root/miniconda3/envs/py3.11/compiler_compat/ld: /usr/local/cuda/lib64/libcufile.so: undefined reference to `std::basic_filebuf<char, std::char_traits<char> >::basic_filebuf()@GLIBCXX_3.4'\n",
      "/root/miniconda3/envs/py3.11/compiler_compat/ld: /usr/local/cuda/lib64/libcufile.so: undefined reference to `VTT for std::basic_istringstream<char, std::char_traits<char>, std::allocator<char> >@GLIBCXX_3.4'\n",
      "/root/miniconda3/envs/py3.11/compiler_compat/ld: /usr/local/cuda/lib64/libcufile.so: undefined reference to `std::domain_error::~domain_error()@GLIBCXX_3.4'\n",
      "/root/miniconda3/envs/py3.11/compiler_compat/ld: /usr/local/cuda/lib64/libcufile.so: undefined reference to `std::cerr@GLIBCXX_3.4'\n",
      "/root/miniconda3/envs/py3.11/compiler_compat/ld: /usr/local/cuda/lib64/libcufile.so: undefined reference to `std::string::find(char const*, unsigned long, unsigned long) const@GLIBCXX_3.4'\n",
      "/root/miniconda3/envs/py3.11/compiler_compat/ld: /usr/local/cuda/lib64/libcufile.so: undefined reference to `vtable for std::basic_istringstream<char, std::char_traits<char>, std::allocator<char> >@GLIBCXX_3.4'\n",
      "/root/miniconda3/envs/py3.11/compiler_compat/ld: /usr/local/cuda/lib64/libcufile.so: undefined reference to `std::basic_string<char, std::char_traits<char>, std::allocator<char> >::basic_string(std::allocator<char> const&)@GLIBCXX_3.4'\n",
      "/root/miniconda3/envs/py3.11/compiler_compat/ld: /usr/local/cuda/lib64/libcufile.so: undefined reference to `std::basic_stringbuf<char, std::char_traits<char>, std::allocator<char> >::str() const@GLIBCXX_3.4'\n",
      "/root/miniconda3/envs/py3.11/compiler_compat/ld: /usr/local/cuda/lib64/libcufile.so: undefined reference to `vtable for std::invalid_argument@GLIBCXX_3.4'\n",
      "/root/miniconda3/envs/py3.11/compiler_compat/ld: /usr/local/cuda/lib64/libcufile.so: undefined reference to `typeinfo for void*@CXXABI_1.3'\n",
      "/root/miniconda3/envs/py3.11/compiler_compat/ld: /usr/local/cuda/lib64/libcufile.so: undefined reference to `std::string::assign(std::string const&)@GLIBCXX_3.4'\n",
      "/root/miniconda3/envs/py3.11/compiler_compat/ld: /usr/local/cuda/lib64/libcufile.so: undefined reference to `std::basic_ostringstream<char, std::char_traits<char>, std::allocator<char> >::~basic_ostringstream()@GLIBCXX_3.4'\n",
      "/root/miniconda3/envs/py3.11/compiler_compat/ld: /usr/local/cuda/lib64/libcufile.so: undefined reference to `std::_Rb_tree_rebalance_for_erase(std::_Rb_tree_node_base*, std::_Rb_tree_node_base&)@GLIBCXX_3.4'\n",
      "/root/miniconda3/envs/py3.11/compiler_compat/ld: /usr/local/cuda/lib64/libcufile.so: undefined reference to `typeinfo for unsigned long@CXXABI_1.3'\n",
      "/root/miniconda3/envs/py3.11/compiler_compat/ld: /usr/local/cuda/lib64/libcufile.so: undefined reference to `std::__detail::_List_node_base::_M_hook(std::__detail::_List_node_base*)@GLIBCXX_3.4.15'\n",
      "/root/miniconda3/envs/py3.11/compiler_compat/ld: /usr/local/cuda/lib64/libcufile.so: undefined reference to `std::__detail::_List_node_base::_M_unhook()@GLIBCXX_3.4.15'\n",
      "/root/miniconda3/envs/py3.11/compiler_compat/ld: /usr/local/cuda/lib64/libcufile.so: undefined reference to `vtable for std::basic_ostringstream<wchar_t, std::char_traits<wchar_t>, std::allocator<wchar_t> >@GLIBCXX_3.4'\n",
      "/root/miniconda3/envs/py3.11/compiler_compat/ld: /usr/local/cuda/lib64/libcufile.so: undefined reference to `std::basic_stringbuf<char, std::char_traits<char>, std::allocator<char> >::_M_sync(char*, unsigned long, unsigned long)@GLIBCXX_3.4'\n",
      "/root/miniconda3/envs/py3.11/compiler_compat/ld: /usr/local/cuda/lib64/libcufile.so: undefined reference to `std::basic_iostream<char, std::char_traits<char> >::~basic_iostream()@GLIBCXX_3.4'\n",
      "/root/miniconda3/envs/py3.11/compiler_compat/ld: /usr/local/cuda/lib64/libcufile.so: undefined reference to `std::locale::locale(std::locale const&)@GLIBCXX_3.4'\n",
      "/root/miniconda3/envs/py3.11/compiler_compat/ld: /usr/local/cuda/lib64/libcufile.so: undefined reference to `vtable for std::basic_istringstream<wchar_t, std::char_traits<wchar_t>, std::allocator<wchar_t> >@GLIBCXX_3.4'\n",
      "/root/miniconda3/envs/py3.11/compiler_compat/ld: /usr/local/cuda/lib64/libcufile.so: undefined reference to `log2f@GLIBC_2.2.5'\n",
      "/root/miniconda3/envs/py3.11/compiler_compat/ld: /usr/local/cuda/lib64/libcufile.so: undefined reference to `std::ostream::operator<<(std::basic_streambuf<char, std::char_traits<char> >*)@GLIBCXX_3.4'\n",
      "/root/miniconda3/envs/py3.11/compiler_compat/ld: /usr/local/cuda/lib64/libcufile.so: undefined reference to `vtable for std::basic_streambuf<wchar_t, std::char_traits<wchar_t> >@GLIBCXX_3.4'\n",
      "/root/miniconda3/envs/py3.11/compiler_compat/ld: /usr/local/cuda/lib64/libcufile.so: undefined reference to `std::exception::~exception()@GLIBCXX_3.4'\n",
      "/root/miniconda3/envs/py3.11/compiler_compat/ld: /usr/local/cuda/lib64/libcufile.so: undefined reference to `std::string::_Rep::_S_create(unsigned long, unsigned long, std::allocator<char> const&)@GLIBCXX_3.4'\n",
      "/root/miniconda3/envs/py3.11/compiler_compat/ld: /usr/local/cuda/lib64/libcufile.so: undefined reference to `std::__basic_file<char>::is_open() const@GLIBCXX_3.4'\n",
      "/root/miniconda3/envs/py3.11/compiler_compat/ld: /usr/local/cuda/lib64/libcufile.so: undefined reference to `std::basic_istringstream<char, std::char_traits<char>, std::allocator<char> >::~basic_istringstream()@GLIBCXX_3.4'\n",
      "/root/miniconda3/envs/py3.11/compiler_compat/ld: /usr/local/cuda/lib64/libcufile.so: undefined reference to `std::string::swap(std::string&)@GLIBCXX_3.4'\n",
      "/root/miniconda3/envs/py3.11/compiler_compat/ld: /usr/local/cuda/lib64/libcufile.so: undefined reference to `vtable for std::basic_ostringstream<char, std::char_traits<char>, std::allocator<char> >@GLIBCXX_3.4'\n",
      "/root/miniconda3/envs/py3.11/compiler_compat/ld: /usr/local/cuda/lib64/libcufile.so: undefined reference to `std::basic_streambuf<char, std::char_traits<char> >::basic_streambuf(std::basic_streambuf<char, std::char_traits<char> > const&)@GLIBCXX_3.4'\n",
      "/root/miniconda3/envs/py3.11/compiler_compat/ld: /usr/local/cuda/lib64/libcufile.so: undefined reference to `std::basic_ios<char, std::char_traits<char> >::init(std::basic_streambuf<char, std::char_traits<char> >*)@GLIBCXX_3.4'\n",
      "/root/miniconda3/envs/py3.11/compiler_compat/ld: /usr/local/cuda/lib64/libcufile.so: undefined reference to `std::__throw_bad_cast()@GLIBCXX_3.4'\n",
      "/root/miniconda3/envs/py3.11/compiler_compat/ld: /usr/local/cuda/lib64/libcufile.so: undefined reference to `std::basic_ios<char, std::char_traits<char> >::clear(std::_Ios_Iostate)@GLIBCXX_3.4'\n",
      "/root/miniconda3/envs/py3.11/compiler_compat/ld: /usr/local/cuda/lib64/libcufile.so: undefined reference to `std::basic_streambuf<wchar_t, std::char_traits<wchar_t> >::operator=(std::basic_streambuf<wchar_t, std::char_traits<wchar_t> > const&)@GLIBCXX_3.4'\n",
      "/root/miniconda3/envs/py3.11/compiler_compat/ld: /usr/local/cuda/lib64/libcufile.so: undefined reference to `typeinfo for long*@CXXABI_1.3'\n",
      "/root/miniconda3/envs/py3.11/compiler_compat/ld: /usr/local/cuda/lib64/libcufile.so: undefined reference to `operator delete(void*)@GLIBCXX_3.4'\n",
      "/root/miniconda3/envs/py3.11/compiler_compat/ld: /usr/local/cuda/lib64/libcufile.so: undefined reference to `std::ostream::operator<<(int)@GLIBCXX_3.4'\n",
      "/root/miniconda3/envs/py3.11/compiler_compat/ld: /usr/local/cuda/lib64/libcufile.so: undefined reference to `std::string::_Rep::_S_empty_rep_storage@GLIBCXX_3.4'\n",
      "/root/miniconda3/envs/py3.11/compiler_compat/ld: /usr/local/cuda/lib64/libcufile.so: undefined reference to `std::string::_Rep::_M_destroy(std::allocator<char> const&)@GLIBCXX_3.4'\n",
      "/root/miniconda3/envs/py3.11/compiler_compat/ld: /usr/local/cuda/lib64/libcufile.so: undefined reference to `std::basic_iostream<wchar_t, std::char_traits<wchar_t> >::~basic_iostream()@GLIBCXX_3.4'\n",
      "/root/miniconda3/envs/py3.11/compiler_compat/ld: /usr/local/cuda/lib64/libcufile.so: undefined reference to `vtable for std::runtime_error@GLIBCXX_3.4'\n",
      "/root/miniconda3/envs/py3.11/compiler_compat/ld: /usr/local/cuda/lib64/libcufile.so: undefined reference to `vtable for std::basic_ofstream<char, std::char_traits<char> >@GLIBCXX_3.4'\n",
      "/root/miniconda3/envs/py3.11/compiler_compat/ld: /usr/local/cuda/lib64/libcufile.so: undefined reference to `std::_Rb_tree_insert_and_rebalance(bool, std::_Rb_tree_node_base*, std::_Rb_tree_node_base*, std::_Rb_tree_node_base&)@GLIBCXX_3.4'\n",
      "/root/miniconda3/envs/py3.11/compiler_compat/ld: /usr/local/cuda/lib64/libcufile.so: undefined reference to `std::basic_stringstream<char, std::char_traits<char>, std::allocator<char> >::~basic_stringstream()@GLIBCXX_3.4'\n",
      "/root/miniconda3/envs/py3.11/compiler_compat/ld: /usr/local/cuda/lib64/libcufile.so: undefined reference to `VTT for std::basic_stringstream<wchar_t, std::char_traits<wchar_t>, std::allocator<wchar_t> >@GLIBCXX_3.4'\n",
      "/root/miniconda3/envs/py3.11/compiler_compat/ld: /usr/local/cuda/lib64/libcufile.so: undefined reference to `std::ostream& std::ostream::_M_insert<long>(long)@GLIBCXX_3.4.9'\n",
      "/root/miniconda3/envs/py3.11/compiler_compat/ld: /usr/local/cuda/lib64/libcufile.so: undefined reference to `std::istream::get()@GLIBCXX_3.4'\n",
      "/root/miniconda3/envs/py3.11/compiler_compat/ld: /usr/local/cuda/lib64/libcufile.so: undefined reference to `typeinfo for unsigned long long@CXXABI_1.3'\n",
      "/root/miniconda3/envs/py3.11/compiler_compat/ld: /usr/local/cuda/lib64/libcufile.so: undefined reference to `std::basic_ostream<char, std::char_traits<char> >& std::operator<< <std::char_traits<char> >(std::basic_ostream<char, std::char_traits<char> >&, char const*)@GLIBCXX_3.4'\n",
      "/root/miniconda3/envs/py3.11/compiler_compat/ld: /usr/local/cuda/lib64/libcufile.so: undefined reference to `std::out_of_range::~out_of_range()@GLIBCXX_3.4'\n",
      "/root/miniconda3/envs/py3.11/compiler_compat/ld: /usr/local/cuda/lib64/libcufile.so: undefined reference to `std::length_error::~length_error()@GLIBCXX_3.4'\n",
      "/root/miniconda3/envs/py3.11/compiler_compat/ld: /usr/local/cuda/lib64/libcufile.so: undefined reference to `std::basic_ostream<char, std::char_traits<char> >& std::__ostream_insert<char, std::char_traits<char> >(std::basic_ostream<char, std::char_traits<char> >&, char const*, long)@GLIBCXX_3.4.9'\n",
      "/root/miniconda3/envs/py3.11/compiler_compat/ld: /usr/local/cuda/lib64/libcufile.so: undefined reference to `std::invalid_argument::~invalid_argument()@GLIBCXX_3.4'\n",
      "/root/miniconda3/envs/py3.11/compiler_compat/ld: /usr/local/cuda/lib64/libcufile.so: undefined reference to `std::basic_string<wchar_t, std::char_traits<wchar_t>, std::allocator<wchar_t> >::swap(std::basic_string<wchar_t, std::char_traits<wchar_t>, std::allocator<wchar_t> >&)@GLIBCXX_3.4'\n",
      "/root/miniconda3/envs/py3.11/compiler_compat/ld: /usr/local/cuda/lib64/libcufile.so: undefined reference to `std::cout@GLIBCXX_3.4'\n",
      "/root/miniconda3/envs/py3.11/compiler_compat/ld: /usr/local/cuda/lib64/libcufile.so: undefined reference to `std::ostream& std::ostream::_M_insert<unsigned long long>(unsigned long long)@GLIBCXX_3.4.9'\n",
      "/root/miniconda3/envs/py3.11/compiler_compat/ld: /usr/local/cuda/lib64/libcufile.so: undefined reference to `std::ostream& std::ostream::_M_insert<void const*>(void const*)@GLIBCXX_3.4.9'\n",
      "/root/miniconda3/envs/py3.11/compiler_compat/ld: /usr/local/cuda/lib64/libcufile.so: undefined reference to `vtable for std::underflow_error@GLIBCXX_3.4'\n",
      "/root/miniconda3/envs/py3.11/compiler_compat/ld: /usr/local/cuda/lib64/libcufile.so: undefined reference to `vtable for std::basic_streambuf<char, std::char_traits<char> >@GLIBCXX_3.4'\n",
      "/root/miniconda3/envs/py3.11/compiler_compat/ld: /usr/local/cuda/lib64/libcufile.so: undefined reference to `typeinfo for std::out_of_range@GLIBCXX_3.4'\n",
      "/root/miniconda3/envs/py3.11/compiler_compat/ld: /usr/local/cuda/lib64/libcufile.so: undefined reference to `__cxa_allocate_exception@CXXABI_1.3'\n",
      "/root/miniconda3/envs/py3.11/compiler_compat/ld: /usr/local/cuda/lib64/libcufile.so: undefined reference to `vtable for std::basic_ios<wchar_t, std::char_traits<wchar_t> >@GLIBCXX_3.4'\n",
      "/root/miniconda3/envs/py3.11/compiler_compat/ld: /usr/local/cuda/lib64/libcufile.so: undefined reference to `typeinfo for void const*@CXXABI_1.3'\n",
      "/root/miniconda3/envs/py3.11/compiler_compat/ld: /usr/local/cuda/lib64/libcufile.so: undefined reference to `std::basic_ios<wchar_t, std::char_traits<wchar_t> >::init(std::basic_streambuf<wchar_t, std::char_traits<wchar_t> >*)@GLIBCXX_3.4'\n",
      "/root/miniconda3/envs/py3.11/compiler_compat/ld: /usr/local/cuda/lib64/libcufile.so: undefined reference to `std::string::reserve(unsigned long)@GLIBCXX_3.4'\n",
      "/root/miniconda3/envs/py3.11/compiler_compat/ld: /usr/local/cuda/lib64/libcufile.so: undefined reference to `__cxa_begin_catch@CXXABI_1.3'\n",
      "/root/miniconda3/envs/py3.11/compiler_compat/ld: /usr/local/cuda/lib64/libcufile.so: undefined reference to `typeinfo for long@CXXABI_1.3'\n",
      "/root/miniconda3/envs/py3.11/compiler_compat/ld: /usr/local/cuda/lib64/libcufile.so: undefined reference to `std::basic_string<wchar_t, std::char_traits<wchar_t>, std::allocator<wchar_t> >::_Rep::_S_empty_rep_storage@GLIBCXX_3.4'\n",
      "/root/miniconda3/envs/py3.11/compiler_compat/ld: /usr/local/cuda/lib64/libcufile.so: undefined reference to `std::string::_M_leak()@GLIBCXX_3.4'\n",
      "/root/miniconda3/envs/py3.11/compiler_compat/ld: /usr/local/cuda/lib64/libcufile.so: undefined reference to `std::basic_filebuf<char, std::char_traits<char> >::open(char const*, std::_Ios_Openmode)@GLIBCXX_3.4'\n",
      "/root/miniconda3/envs/py3.11/compiler_compat/ld: /usr/local/cuda/lib64/libcufile.so: undefined reference to `std::basic_stringbuf<wchar_t, std::char_traits<wchar_t>, std::allocator<wchar_t> >::_M_sync(wchar_t*, unsigned long, unsigned long)@GLIBCXX_3.4'\n",
      "/root/miniconda3/envs/py3.11/compiler_compat/ld: /usr/local/cuda/lib64/libcufile.so: undefined reference to `std::istream::getline(char*, long, char)@GLIBCXX_3.4'\n",
      "/root/miniconda3/envs/py3.11/compiler_compat/ld: /usr/local/cuda/lib64/libcufile.so: undefined reference to `std::basic_istream<char, std::char_traits<char> >& std::getline<char, std::char_traits<char>, std::allocator<char> >(std::basic_istream<char, std::char_traits<char> >&, std::basic_string<char, std::char_traits<char>, std::allocator<char> >&, char)@GLIBCXX_3.4'\n",
      "/root/miniconda3/envs/py3.11/compiler_compat/ld: /usr/local/cuda/lib64/libcufile.so: undefined reference to `vtable for std::basic_stringstream<wchar_t, std::char_traits<wchar_t>, std::allocator<wchar_t> >@GLIBCXX_3.4'\n",
      "/root/miniconda3/envs/py3.11/compiler_compat/ld: /usr/local/cuda/lib64/libcufile.so: undefined reference to `std::condition_variable::~condition_variable()@GLIBCXX_3.4.11'\n",
      "/root/miniconda3/envs/py3.11/compiler_compat/ld: /usr/local/cuda/lib64/libcufile.so: undefined reference to `vtable for std::basic_stringbuf<wchar_t, std::char_traits<wchar_t>, std::allocator<wchar_t> >@GLIBCXX_3.4'\n",
      "/root/miniconda3/envs/py3.11/compiler_compat/ld: /usr/local/cuda/lib64/libcufile.so: undefined reference to `std::string::insert(unsigned long, char const*, unsigned long)@GLIBCXX_3.4'\n",
      "/root/miniconda3/envs/py3.11/compiler_compat/ld: /usr/local/cuda/lib64/libcufile.so: undefined reference to `std::string::assign(char const*, unsigned long)@GLIBCXX_3.4'\n",
      "/root/miniconda3/envs/py3.11/compiler_compat/ld: /usr/local/cuda/lib64/libcufile.so: undefined reference to `typeinfo for unsigned char@CXXABI_1.3'\n",
      "/root/miniconda3/envs/py3.11/compiler_compat/ld: /usr/local/cuda/lib64/libcufile.so: undefined reference to `std::ios_base::ios_base()@GLIBCXX_3.4'\n",
      "/root/miniconda3/envs/py3.11/compiler_compat/ld: /usr/local/cuda/lib64/libcufile.so: undefined reference to `std::__throw_out_of_range(char const*)@GLIBCXX_3.4'\n",
      "/root/miniconda3/envs/py3.11/compiler_compat/ld: /usr/local/cuda/lib64/libcufile.so: undefined reference to `std::overflow_error::~overflow_error()@GLIBCXX_3.4'\n",
      "/root/miniconda3/envs/py3.11/compiler_compat/ld: /usr/local/cuda/lib64/libcufile.so: undefined reference to `std::__throw_length_error(char const*)@GLIBCXX_3.4'\n",
      "/root/miniconda3/envs/py3.11/compiler_compat/ld: /usr/local/cuda/lib64/libcufile.so: undefined reference to `std::__throw_system_error(int)@GLIBCXX_3.4.11'\n",
      "/root/miniconda3/envs/py3.11/compiler_compat/ld: /usr/local/cuda/lib64/libcufile.so: undefined reference to `std::basic_ofstream<char, std::char_traits<char> >::close()@GLIBCXX_3.4'\n",
      "/root/miniconda3/envs/py3.11/compiler_compat/ld: /usr/local/cuda/lib64/libcufile.so: undefined reference to `std::ostream& std::ostream::_M_insert<double>(double)@GLIBCXX_3.4.9'\n",
      "/root/miniconda3/envs/py3.11/compiler_compat/ld: /usr/local/cuda/lib64/libcufile.so: undefined reference to `std::basic_streambuf<char, std::char_traits<char> >::operator=(std::basic_streambuf<char, std::char_traits<char> > const&)@GLIBCXX_3.4'\n",
      "/root/miniconda3/envs/py3.11/compiler_compat/ld: /usr/local/cuda/lib64/libcufile.so: undefined reference to `typeinfo for long long@CXXABI_1.3'\n",
      "/root/miniconda3/envs/py3.11/compiler_compat/ld: /usr/local/cuda/lib64/libcufile.so: undefined reference to `std::basic_string<char, std::char_traits<char>, std::allocator<char> >::basic_string(char const*, unsigned long, std::allocator<char> const&)@GLIBCXX_3.4'\n",
      "/root/miniconda3/envs/py3.11/compiler_compat/ld: /usr/local/cuda/lib64/libcufile.so: undefined reference to `std::basic_ifstream<char, std::char_traits<char> >::close()@GLIBCXX_3.4'\n",
      "/root/miniconda3/envs/py3.11/compiler_compat/ld: /usr/local/cuda/lib64/libcufile.so: undefined reference to `__cxa_guard_release@CXXABI_1.3'\n",
      "/root/miniconda3/envs/py3.11/compiler_compat/ld: /usr/local/cuda/lib64/libcufile.so: undefined reference to `__cxa_throw@CXXABI_1.3'\n",
      "/root/miniconda3/envs/py3.11/compiler_compat/ld: /usr/local/cuda/lib64/libcufile.so: undefined reference to `std::underflow_error::~underflow_error()@GLIBCXX_3.4'\n",
      "/root/miniconda3/envs/py3.11/compiler_compat/ld: /usr/local/cuda/lib64/libcufile.so: undefined reference to `std::_Rb_tree_decrement(std::_Rb_tree_node_base*)@GLIBCXX_3.4'\n",
      "/root/miniconda3/envs/py3.11/compiler_compat/ld: /usr/local/cuda/lib64/libcufile.so: undefined reference to `vtable for std::length_error@GLIBCXX_3.4'\n",
      "/root/miniconda3/envs/py3.11/compiler_compat/ld: /usr/local/cuda/lib64/libcufile.so: undefined reference to `std::basic_filebuf<char, std::char_traits<char> >::~basic_filebuf()@GLIBCXX_3.4'\n",
      "collect2: error: ld returned 1 exit status\n"
     ]
    },
    {
     "name": "stdout",
     "output_type": "stream",
     "text": [
      "[2025-08-13 18:17:58,445] [INFO] [logging.py:107:log_dist] [Rank -1] [TorchCheckpointEngine] Initialized with serialization = False\n"
     ]
    }
   ],
   "source": [
    "merged_model.save_pretrained(os.path.join(qlora_parent_dir, \"merged\"))"
   ]
  },
  {
   "cell_type": "code",
   "execution_count": null,
   "id": "94d10270",
   "metadata": {},
   "outputs": [],
   "source": []
  },
  {
   "cell_type": "code",
   "execution_count": null,
   "id": "bfdb1cf9",
   "metadata": {},
   "outputs": [],
   "source": []
  }
 ],
 "metadata": {
  "kernelspec": {
   "display_name": "py3.11",
   "language": "python",
   "name": "python3"
  },
  "language_info": {
   "codemirror_mode": {
    "name": "ipython",
    "version": 3
   },
   "file_extension": ".py",
   "mimetype": "text/x-python",
   "name": "python",
   "nbconvert_exporter": "python",
   "pygments_lexer": "ipython3",
   "version": "3.11.13"
  }
 },
 "nbformat": 4,
 "nbformat_minor": 5
}
