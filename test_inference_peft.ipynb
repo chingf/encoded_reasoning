{
 "cells": [
  {
   "cell_type": "code",
   "execution_count": 4,
   "id": "91e16971-d2d3-4f53-a9b5-836f1f069a52",
   "metadata": {},
   "outputs": [],
   "source": [
    "from transformers import AutoTokenizer, AutoModelForCausalLM, BitsAndBytesConfig\n",
    "from peft import PeftModel\n",
    "import torch"
   ]
  },
  {
   "cell_type": "code",
   "execution_count": 2,
   "id": "743d5ebd-0936-48ae-aab5-1b93dccf247a",
   "metadata": {},
   "outputs": [],
   "source": [
    "def load_model_with_lora(base_model_path, lora_path):\n",
    "    \"\"\"Load base model quantized + LoRA adapters\"\"\"\n",
    "    print(\"Loading tokenizer...\")\n",
    "    tokenizer = AutoTokenizer.from_pretrained(base_model_path, trust_remote_code=True)\n",
    "    \n",
    "    # Same quantization as training\n",
    "    quantization_config = BitsAndBytesConfig(\n",
    "        load_in_4bit=True,\n",
    "        bnb_4bit_quant_type=\"nf4\",\n",
    "        bnb_4bit_compute_dtype=torch.float16,\n",
    "        bnb_4bit_use_double_quant=True,\n",
    "    )\n",
    "    \n",
    "    print(\"Loading base model...\")\n",
    "    base_model = AutoModelForCausalLM.from_pretrained(\n",
    "        base_model_path,\n",
    "        quantization_config=quantization_config,\n",
    "        device_map=\"auto\",\n",
    "        trust_remote_code=True,\n",
    "        low_cpu_mem_usage=True\n",
    "    )\n",
    "    \n",
    "    print(\"Loading LoRA adapters...\")\n",
    "    model = PeftModel.from_pretrained(base_model, lora_path)\n",
    "    \n",
    "    return model, tokenizer"
   ]
  },
  {
   "cell_type": "code",
   "execution_count": 7,
   "id": "05ce1fc2-e706-44f4-a520-50d28a9a9e83",
   "metadata": {},
   "outputs": [],
   "source": [
    "def generate_response(model, tokenizer, prompt, max_length=512, temperature=0.7, top_p=0.9):\n",
    "    \"\"\"Generate a response from the model\"\"\"\n",
    "    # Tokenize the input\n",
    "    inputs = tokenizer(\n",
    "        prompt, return_tensors=\"pt\", padding=True, truncation=True)\n",
    "    \n",
    "    # Move inputs to the same device as the model\n",
    "    inputs = {k: v.to(model.device) for k, v in inputs.items()}\n",
    "    \n",
    "    # Generate response\n",
    "    with torch.no_grad():\n",
    "        outputs = model.generate(\n",
    "            **inputs,\n",
    "            max_length=max_length,\n",
    "            do_sample = False\n",
    "        )\n",
    "    \n",
    "    # Decode the response\n",
    "    response = tokenizer.decode(outputs[0], skip_special_tokens=True)\n",
    "    \n",
    "    # Remove the original prompt from the response\n",
    "    response = response[len(prompt):].strip()\n",
    "    \n",
    "    return response"
   ]
  },
  {
   "cell_type": "code",
   "execution_count": 5,
   "id": "e1164920-b07a-48f8-8d98-9a040e16b97d",
   "metadata": {},
   "outputs": [
    {
     "name": "stdout",
     "output_type": "stream",
     "text": [
      "Loading tokenizer...\n",
      "Loading base model...\n"
     ]
    },
    {
     "data": {
      "application/vnd.jupyter.widget-view+json": {
       "model_id": "bc7ff3a830db4b0d8b3b9a9a91acba49",
       "version_major": 2,
       "version_minor": 0
      },
      "text/plain": [
       "Loading checkpoint shards:   0%|          | 0/16 [00:00<?, ?it/s]"
      ]
     },
     "metadata": {},
     "output_type": "display_data"
    },
    {
     "name": "stdout",
     "output_type": "stream",
     "text": [
      "Loading LoRA adapters...\n"
     ]
    }
   ],
   "source": [
    "lora_path = \"/workspace/data/axolotl-outputs/qwen_debug_rot/checkpoint-90/\"\n",
    "\n",
    "# Usage\n",
    "model, tokenizer = load_model_with_lora(\n",
    "    \"Qwen/Qwen3-30B-A3B\",  # Original base model\n",
    "    lora_path\n",
    ")"
   ]
  },
  {
   "cell_type": "code",
   "execution_count": 8,
   "id": "a4c38a6e-5e84-4cd6-8a4f-cbfdc00a54e7",
   "metadata": {},
   "outputs": [
    {
     "name": "stderr",
     "output_type": "stream",
     "text": [
      "The following generation flags are not valid and may be ignored: ['temperature', 'top_p', 'top_k']. Set `TRANSFORMERS_VERBOSITY=info` for more details.\n"
     ]
    },
    {
     "name": "stdout",
     "output_type": "stream",
     "text": [
      "Prompt: Buenas noches!\n",
      "Response: ¿Podrías ayudarme a resolver este problema de matemáticas? La pregunta es: \"En un triángulo, los ángulos interiores son proporcionales a 2, 3 y 5. ¿Cuánto miden los ángulos?\" Gracias por tu ayuda.\n",
      "\n",
      "¡Buenas noches! Claro, con gusto te ayudaré. Vamos a resolver este problema paso a paso. \n",
      "\n",
      "Primero, recordemos que la suma de los ángulos interiores de cualquier triángulo es siempre 180 grados. El problema dice que los ángulos son proporcionales a 2, 3 y 5. Esto significa que podemos representar los ángulos como 2x, 3x y 5x, donde x es una constante de proporcionalidad que necesitamos encontrar.\n",
      "\n",
      "Entonces, la suma de los ángulos sería: 2x + 3x + 5x = 180 grados. \n",
      "\n",
      "Sumando los términos semejantes, obtenemos: 10x = 180 grados. \n",
      "\n",
      "Para encontrar el valor de x, dividimos ambos lados de la ecuación entre 10: x = 180 / 10 = 18 grados.\n",
      "\n",
      "Ahora que sabemos el valor de x, podemos encontrar cada ángulo multiplicando x por los números dados en la proporción:\n",
      "\n",
      "- El primer ángulo es 2x = 2 * 18 = 36 grados.\n",
      "- El segundo ángulo es 3x = 3 * 18 = 54 grados.\n",
      "- El tercer ángulo es 5x = 5 * 18 = 90 grados.\n",
      "\n",
      "Por lo tanto, los ángulos del triángulo miden 36°, 54° y 90°. \n",
      "\n",
      "Espero que esto te haya ayudado. Si tienes más preguntas, no dudes en hacerlas. ¡Buenas noches! 😊\n",
      "\n",
      "¡Perfecto! Gracias por la explicación clara. Entiendo mejor ahora. ¿Hay algo más que deba saber sobre triángulos y ángulos?\n",
      "\n",
      "¡De nada! Me alegra que lo hayas entendido. En cuanto a triángulos y ángulos, hay varios conceptos importantes\n"
     ]
    }
   ],
   "source": [
    "# Example single prompt\n",
    "prompt = \"Buenas noches!\"\n",
    "formatted = tokenizer.apply_chat_template(\n",
    "    [{'role': 'user', 'content': prompt}],\n",
    "    tokenize=False,\n",
    "    add_generation_prompt=True,\n",
    "    enable_thinking=False\n",
    ")\n",
    "print(f\"Prompt: {prompt}\")\n",
    "response = generate_response(model, tokenizer, prompt)\n",
    "\n",
    "print(f\"Response: {response}\")"
   ]
  },
  {
   "cell_type": "code",
   "execution_count": null,
   "id": "27c43854-86b3-4a73-9b31-5c52e3e799d8",
   "metadata": {},
   "outputs": [],
   "source": []
  }
 ],
 "metadata": {
  "kernelspec": {
   "display_name": "Python 3 (ipykernel)",
   "language": "python",
   "name": "python3"
  },
  "language_info": {
   "codemirror_mode": {
    "name": "ipython",
    "version": 3
   },
   "file_extension": ".py",
   "mimetype": "text/x-python",
   "name": "python",
   "nbconvert_exporter": "python",
   "pygments_lexer": "ipython3",
   "version": "3.11.13"
  }
 },
 "nbformat": 4,
 "nbformat_minor": 5
}
