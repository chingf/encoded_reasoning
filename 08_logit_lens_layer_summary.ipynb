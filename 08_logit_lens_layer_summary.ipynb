{
 "cells": [
  {
   "cell_type": "code",
   "execution_count": 1,
   "id": "122fca81",
   "metadata": {},
   "outputs": [],
   "source": [
    "import os\n",
    "import torch\n",
    "from transformers import AutoTokenizer, AutoModelForCausalLM, GenerationConfig\n",
    "import warnings\n",
    "from matplotlib.backends.backend_pdf import PdfPages\n",
    "\n",
    "import pandas as pd\n",
    "import seaborn as sns\n",
    "from typing import Dict, List, Optional, Tuple, Union\n",
    "import pickle\n",
    "import codecs\n",
    "import re\n",
    "import numpy as np\n",
    "import matplotlib.pyplot as plt\n",
    "import torch.nn.functional as F\n",
    "from collections import defaultdict\n",
    "from utils_activations import rot13_alpha, LlamaActivationExtractor"
   ]
  },
  {
   "cell_type": "code",
   "execution_count": 3,
   "id": "1bf6582d",
   "metadata": {},
   "outputs": [],
   "source": [
    "path = '/workspace/data/axolotl-outputs/llama_deepseek_2epochs/merged'\n",
    "prompt_path = './prompts/three_hop_prompts.csv'"
   ]
  },
  {
   "cell_type": "markdown",
   "id": "f7123202",
   "metadata": {},
   "source": [
    "# Load model and prompt"
   ]
  },
  {
   "cell_type": "code",
   "execution_count": 4,
   "id": "a430d074",
   "metadata": {},
   "outputs": [
    {
     "name": "stdout",
     "output_type": "stream",
     "text": [
      "Using device: cuda\n"
     ]
    },
    {
     "data": {
      "application/vnd.jupyter.widget-view+json": {
       "model_id": "4d2ae5063ce8480f97f196791a54b611",
       "version_major": 2,
       "version_minor": 0
      },
      "text/plain": [
       "Loading checkpoint shards:   0%|          | 0/30 [00:00<?, ?it/s]"
      ]
     },
     "metadata": {},
     "output_type": "display_data"
    }
   ],
   "source": [
    "activation_extractor = LlamaActivationExtractor(\n",
    "    model_name_or_path=path,\n",
    "    layer_defaults='even'\n",
    "    )\n",
    "activation_extractor.overwrite_chat_template()"
   ]
  },
  {
   "cell_type": "code",
   "execution_count": 35,
   "id": "526b92b6",
   "metadata": {},
   "outputs": [
    {
     "name": "stdout",
     "output_type": "stream",
     "text": [
      "Hillary Clinton\n",
      "Illinois\n",
      "What is the capital of the state that the secretary of state of the U.S. in 2009 was born in?\n"
     ]
    }
   ],
   "source": [
    "prompt_df = pd.read_csv(prompt_path)\n",
    "idx = 0\n",
    "concept = 'person'\n",
    "person = prompt_df.iloc[idx]['Person']\n",
    "state = prompt_df.iloc[idx]['State']\n",
    "reasoning_question = prompt_df.iloc[idx]['Prompt']\n",
    "print(person)\n",
    "print(state)\n",
    "print(reasoning_question)"
   ]
  },
  {
   "cell_type": "markdown",
   "id": "9e2cebf1",
   "metadata": {},
   "source": [
    "# Get response"
   ]
  },
  {
   "cell_type": "code",
   "execution_count": 36,
   "id": "657bf233",
   "metadata": {},
   "outputs": [
    {
     "name": "stderr",
     "output_type": "stream",
     "text": [
      "The following generation flags are not valid and may be ignored: ['temperature', 'top_p']. Set `TRANSFORMERS_VERBOSITY=info` for more details.\n"
     ]
    }
   ],
   "source": [
    "formatted = activation_extractor.tokenizer.apply_chat_template(\n",
    "    [{'role': 'user', 'content': reasoning_question}],\n",
    "    tokenize=False,\n",
    "    add_generation_prompt=True,\n",
    ")\n",
    "generation_results = activation_extractor.generate_with_activations(\n",
    "    formatted,\n",
    "    do_sample=False,\n",
    "    max_new_tokens=1000,\n",
    "    temperature=0.0,\n",
    ")"
   ]
  },
  {
   "cell_type": "markdown",
   "id": "012b043d",
   "metadata": {},
   "source": [
    "# Token alignment helper function"
   ]
  },
  {
   "cell_type": "code",
   "execution_count": null,
   "id": "b9b37ff8",
   "metadata": {},
   "outputs": [],
   "source": [
    "def align_tokens(short_tokens, long_tokens):\n",
    "    \"\"\"\n",
    "    Align two different tokenizations of the same text.\n",
    "\n",
    "    Args:\n",
    "        short_tokens: List of tokens from fine-grained tokenization\n",
    "        long_tokens: List of tokens from coarse-grained tokenization\n",
    "\n",
    "    Returns:\n",
    "        alignment: List where alignment[i] gives the long_token index \n",
    "                  that short_tokens[i] belongs to\n",
    "    \"\"\"\n",
    "    # Reconstruct the original text to verify consistency\n",
    "    short_text = ''.join(short_tokens)\n",
    "    long_text = ''.join(long_tokens)\n",
    "\n",
    "    if short_text != long_text:\n",
    "        raise ValueError(\"Token sequences don't represent the same text\")\n",
    "\n",
    "    alignment = []\n",
    "    short_pos = 0  # Character position in short tokenization\n",
    "    long_pos = 0   # Character position in long tokenization\n",
    "    long_idx = 0   # Current index in long_tokens\n",
    "\n",
    "    for short_idx, short_token in enumerate(short_tokens):\n",
    "        # Track how much of the short token has been aligned\n",
    "        remaining_short_token = short_token\n",
    "\n",
    "        while remaining_short_token:\n",
    "            if long_idx >= len(long_tokens):\n",
    "                raise ValueError(f\"Could not align short token {short_idx}: '{short_token}'\")\n",
    "\n",
    "            long_token = long_tokens[long_idx]\n",
    "            long_token_remaining = long_token[long_pos - sum(len(t) for t in long_tokens[:long_idx]):]\n",
    "\n",
    "            if remaining_short_token.startswith(long_token_remaining):\n",
    "                # Fully consume the current long token\n",
    "                alignment.append(long_idx)\n",
    "                remaining_short_token = remaining_short_token[len(long_token_remaining):]\n",
    "                long_idx += 1\n",
    "                long_pos += len(long_token_remaining)\n",
    "            elif long_token_remaining.startswith(remaining_short_token):\n",
    "                # Fully consume the current short token\n",
    "                alignment.append(long_idx)\n",
    "                long_pos += len(remaining_short_token)\n",
    "                remaining_short_token = ''\n",
    "            else:\n",
    "                raise ValueError(f\"Could not align short token {short_idx}: '{short_token}'\")\n",
    "\n",
    "    return alignment"
   ]
  },
  {
   "cell_type": "code",
   "execution_count": 38,
   "id": "d72d6f8f",
   "metadata": {},
   "outputs": [],
   "source": [
    "encoded = activation_extractor.tokenizer.encode(rot13_alpha(generation_results['response']))\n",
    "english_tokens = [activation_extractor.tokenizer.decode(e) for e in encoded]"
   ]
  },
  {
   "cell_type": "code",
   "execution_count": 39,
   "id": "4765402f",
   "metadata": {},
   "outputs": [],
   "source": [
    "end_think_idx = np.argwhere(np.array(generation_results['response_tokens']) == \"</think>\")\n",
    "if end_think_idx.size != 0:\n",
    "    end_think_idx = end_think_idx.item()\n",
    "else:\n",
    "    end_think_idx = len(generation_results['response_tokens'])\n",
    "response_tokens = generation_results['response_tokens'][:end_think_idx]\n",
    "merged_response = ''.join(response_tokens)\n",
    "translated_response_tokens = [rot13_alpha(t) for t in response_tokens]\n",
    "\n",
    "english_token_ids = activation_extractor.tokenizer.encode(rot13_alpha(merged_response), add_special_tokens=False)\n",
    "english_tokens = [activation_extractor.tokenizer.decode(e) for e in english_token_ids]\n"
   ]
  },
  {
   "cell_type": "code",
   "execution_count": 40,
   "id": "39f2602f",
   "metadata": {},
   "outputs": [],
   "source": [
    "word_start_idxs = [idx for idx, token in enumerate(translated_response_tokens) if token.startswith(' ')]"
   ]
  },
  {
   "cell_type": "code",
   "execution_count": 41,
   "id": "65010e7f",
   "metadata": {},
   "outputs": [],
   "source": [
    "token_alignments = align_tokens(translated_response_tokens, english_tokens)"
   ]
  },
  {
   "cell_type": "markdown",
   "id": "bfe261d0",
   "metadata": {},
   "source": [
    "# Logit Lens Helper Functions"
   ]
  },
  {
   "cell_type": "code",
   "execution_count": 42,
   "id": "905513db",
   "metadata": {},
   "outputs": [],
   "source": [
    "\n",
    "def logit_lens_single_layer(self, \n",
    "                           activation: torch.Tensor, \n",
    "                           apply_layer_norm: bool = True) -> torch.Tensor:\n",
    "    \"\"\"\n",
    "    Apply logit lens to a single layer's activations.\n",
    "    \n",
    "    Args:\n",
    "        activation: Tensor of shape (seq_len, hidden_dim) or (batch, seq_len, hidden_dim)\n",
    "        apply_layer_norm: Whether to apply layer normalization before projection\n",
    "        \n",
    "    Returns:\n",
    "        Logits tensor of shape (seq_len, vocab_size) or (batch, seq_len, vocab_size)\n",
    "    \"\"\"\n",
    "    # Ensure activation is on the correct device\n",
    "    activation = activation.to(self.device)\n",
    "    \n",
    "    # Apply layer normalization if requested (this is typically done in the final layer)\n",
    "    if apply_layer_norm:\n",
    "        activation = self.model.model.norm(activation)\n",
    "    \n",
    "    # Project to vocabulary space\n",
    "    logits = self.model.lm_head(activation)\n",
    "\n",
    "    return logits\n",
    "\n",
    "def logit_lens_analysis(self, \n",
    "                       activations: Dict[str, torch.Tensor],\n",
    "                       apply_layer_norm: bool = True,\n",
    "                       top_k: int = 10) -> Dict[str, Dict]:\n",
    "    \"\"\"\n",
    "    Perform logit lens analysis on extracted activations.\n",
    "    \n",
    "    Args:\n",
    "        activations: Dictionary of layer activations\n",
    "        apply_layer_norm: Whether to apply layer normalization before projection\n",
    "        top_k: Number of top predictions to return for each position\n",
    "        \n",
    "    Returns:\n",
    "        Dictionary containing logit lens results for each layer\n",
    "    \"\"\"\n",
    "    results = {}\n",
    "    \n",
    "    for layer_name, activation in activations.items():\n",
    "        # Get logits for this layer\n",
    "        logits = logit_lens_single_layer(self, activation, apply_layer_norm)\n",
    "        \n",
    "        # Get probabilities\n",
    "        probs = F.softmax(logits, dim=-1)\n",
    "        \n",
    "        # Get top-k predictions for each position\n",
    "        top_k_probs, top_k_indices = torch.topk(probs, top_k, dim=-1)\n",
    "        \n",
    "        # Convert to tokens\n",
    "        seq_len = logits.shape[-2]\n",
    "        position_predictions = []\n",
    "        \n",
    "        for pos in range(seq_len):\n",
    "            pos_top_k_indices = top_k_indices[pos] if logits.dim() == 2 else top_k_indices[0, pos]\n",
    "            pos_top_k_probs = top_k_probs[pos] if logits.dim() == 2 else top_k_probs[0, pos]\n",
    "            \n",
    "            predictions = []\n",
    "            for i in range(top_k):\n",
    "                token_id = pos_top_k_indices[i].item()\n",
    "                prob = pos_top_k_probs[i].item()\n",
    "                token = self.tokenizer.decode([token_id])\n",
    "                predictions.append({\n",
    "                    'token': token,\n",
    "                    'token_id': token_id,\n",
    "                    'probability': prob\n",
    "                })\n",
    "            \n",
    "            position_predictions.append(predictions)\n",
    "        \n",
    "        results[layer_name] = {\n",
    "            'logits': logits.cpu(),\n",
    "            'probabilities': probs.cpu(),\n",
    "            'top_k_predictions': position_predictions\n",
    "        }\n",
    "    \n",
    "    return results\n",
    "\n",
    "def compare_logit_lens_predictions(self, \n",
    "                                 logit_lens_results: Dict[str, Dict],\n",
    "                                 actual_tokens: List[str],\n",
    "                                 position: int = -1) -> Dict:\n",
    "    \"\"\"\n",
    "    Compare logit lens predictions across layers for a specific position.\n",
    "    \n",
    "    Args:\n",
    "        logit_lens_results: Results from logit_lens_analysis\n",
    "        actual_tokens: List of actual tokens generated\n",
    "        position: Position to analyze (-1 for last position)\n",
    "        \n",
    "    Returns:\n",
    "        Dictionary comparing predictions across layers\n",
    "    \"\"\"\n",
    "    if position == -1:\n",
    "        position = len(actual_tokens) - 1\n",
    "    \n",
    "    comparison = {\n",
    "        'position': position,\n",
    "        'actual_token': actual_tokens[position] if position < len(actual_tokens) else None,\n",
    "        'layer_predictions': {}\n",
    "    }\n",
    "    \n",
    "    for layer_name, results in logit_lens_results.items():\n",
    "        if position < len(results['top_k_predictions']):\n",
    "            comparison['layer_predictions'][layer_name] = results['top_k_predictions'][position]\n",
    "    \n",
    "    return comparison\n",
    "\n",
    "def get_logit_lens_evolution(self, \n",
    "                                 logit_lens_results: Dict[str, Dict],\n",
    "                                 target_token: str,\n",
    "                                 position: int = -1,\n",
    "                                 ) -> plt.Figure:\n",
    "    \"\"\"\n",
    "    Visualize how the probability of a target token evolves across layers.\n",
    "    \n",
    "    Args:\n",
    "        logit_lens_results: Results from logit_lens_analysis\n",
    "        target_token: Token to track across layers\n",
    "        position: Position to analyze (-1 for last position)\n",
    "        figsize: Figure size for the plot\n",
    "        \n",
    "    Returns:\n",
    "        matplotlib Figure object\n",
    "    \"\"\"\n",
    "    # Extract layer numbers and probabilities\n",
    "    layer_nums = []\n",
    "    probabilities = []\n",
    "    \n",
    "    for layer_name, results in logit_lens_results.items():\n",
    "        # Extract layer number from layer name (assumes format \"layer_X\")\n",
    "        layer_num = int(layer_name.split('_')[-1])\n",
    "        layer_nums.append(layer_num)\n",
    "        \n",
    "        # Find probability of target token at specified position\n",
    "        if position == -1:\n",
    "            position = len(results['top_k_predictions']) - 1\n",
    "        \n",
    "        target_prob = 0.0\n",
    "        if position < len(results['top_k_predictions']):\n",
    "            for pred in results['top_k_predictions'][position]:\n",
    "                if pred['token'] == target_token:\n",
    "                    target_prob = pred['probability']\n",
    "                    break\n",
    "        \n",
    "        probabilities.append(target_prob)\n",
    "    \n",
    "    # Sort by layer number\n",
    "    sorted_data = sorted(zip(layer_nums, probabilities))\n",
    "    layer_nums, probabilities = zip(*sorted_data)\n",
    "    return layer_nums, probabilities\n",
    "\n",
    "def visualize_logit_lens_evolution(self, \n",
    "                                 logit_lens_results: Dict[str, Dict],\n",
    "                                 target_token: str,\n",
    "                                 position: int = -1,\n",
    "                                 figsize: Tuple[int, int] = (12, 8)) -> plt.Figure:\n",
    "    \"\"\"\n",
    "    Visualize how the probability of a target token evolves across layers.\n",
    "    \n",
    "    Args:\n",
    "        logit_lens_results: Results from logit_lens_analysis\n",
    "        target_token: Token to track across layers\n",
    "        position: Position to analyze (-1 for last position)\n",
    "        figsize: Figure size for the plot\n",
    "        \n",
    "    Returns:\n",
    "        matplotlib Figure object\n",
    "    \"\"\"\n",
    "    # Extract layer numbers and probabilities\n",
    "    layer_nums = []\n",
    "    probabilities = []\n",
    "    \n",
    "    for layer_name, results in logit_lens_results.items():\n",
    "        # Extract layer number from layer name (assumes format \"layer_X\")\n",
    "        layer_num = int(layer_name.split('_')[-1])\n",
    "        layer_nums.append(layer_num)\n",
    "        \n",
    "        # Find probability of target token at specified position\n",
    "        if position == -1:\n",
    "            position = len(results['top_k_predictions']) - 1\n",
    "        \n",
    "        target_prob = 0.0\n",
    "        if position < len(results['top_k_predictions']):\n",
    "            for pred in results['top_k_predictions'][position]:\n",
    "                if pred['token'] == target_token:\n",
    "                    target_prob = pred['probability']\n",
    "                    break\n",
    "        \n",
    "        probabilities.append(target_prob)\n",
    "    \n",
    "    # Sort by layer number\n",
    "    sorted_data = sorted(zip(layer_nums, probabilities))\n",
    "    layer_nums, probabilities = zip(*sorted_data)\n",
    "    \n",
    "    # Create plot\n",
    "    fig, ax = plt.subplots(figsize=figsize)\n",
    "    ax.plot(layer_nums, probabilities, 'b-o', linewidth=2, markersize=6)\n",
    "    ax.set_xlabel('Layer Number')\n",
    "    ax.set_ylabel('Probability')\n",
    "    ax.set_title(f'Probability Evolution of Token \"{target_token}\" at Position {position}')\n",
    "    ax.grid(True, alpha=0.3)\n",
    "    ax.set_ylim(0, max(probabilities) * 1.1 if probabilities else 1)\n",
    "    \n",
    "    return fig\n",
    "\n",
    "def analyze_prediction_confidence(self, \n",
    "                                logit_lens_results: Dict[str, Dict],\n",
    "                                position: int = -1) -> Dict:\n",
    "    \"\"\"\n",
    "    Analyze prediction confidence across layers using entropy and top-1 probability.\n",
    "    \n",
    "    Args:\n",
    "        logit_lens_results: Results from logit_lens_analysis\n",
    "        position: Position to analyze (-1 for last position)\n",
    "        \n",
    "    Returns:\n",
    "        Dictionary with confidence metrics for each layer\n",
    "    \"\"\"\n",
    "    confidence_metrics = {}\n",
    "    \n",
    "    for layer_name, results in logit_lens_results.items():\n",
    "        if position == -1:\n",
    "            pos = len(results['top_k_predictions']) - 1\n",
    "        else:\n",
    "            pos = position\n",
    "        \n",
    "        if pos < len(results['top_k_predictions']):\n",
    "            # Get full probability distribution for this position\n",
    "            probs = results['probabilities'][pos] if results['probabilities'].dim() == 2 else results['probabilities'][0, pos]\n",
    "            \n",
    "            # Calculate entropy (lower = more confident)\n",
    "            entropy = -torch.sum(probs * torch.log(probs + 1e-10)).item()\n",
    "            \n",
    "            # Get top-1 probability\n",
    "            top1_prob = results['top_k_predictions'][pos][0]['probability']\n",
    "            \n",
    "            # Get top-1 token\n",
    "            top1_token = results['top_k_predictions'][pos][0]['token']\n",
    "            \n",
    "            confidence_metrics[layer_name] = {\n",
    "                'entropy': entropy,\n",
    "                'top1_probability': top1_prob,\n",
    "                'top1_token': top1_token,\n",
    "                'position': pos\n",
    "            }\n",
    "    \n",
    "    return confidence_metrics\n",
    "\n",
    "def get_layer_names(self) -> List[str]:\n",
    "    \"\"\"Get all available layer names in the model.\"\"\"\n",
    "    return [name for name, _ in self.model.named_modules()]"
   ]
  },
  {
   "cell_type": "markdown",
   "id": "f3c1e8c0",
   "metadata": {},
   "source": [
    "# Layer-wise Summary"
   ]
  },
  {
   "cell_type": "code",
   "execution_count": 43,
   "id": "9cc93116",
   "metadata": {},
   "outputs": [],
   "source": [
    "logit_lens_results = logit_lens_analysis(\n",
    "    activation_extractor,\n",
    "    generation_results['token_activations'],\n",
    "    top_k=5\n",
    ")"
   ]
  },
  {
   "cell_type": "code",
   "execution_count": 44,
   "id": "e603f331",
   "metadata": {},
   "outputs": [],
   "source": [
    "results = {\n",
    "    'prob': [],\n",
    "    'layer': []\n",
    "}\n",
    "for word_start_idx in word_start_idxs:\n",
    "    target_token = english_tokens[token_alignments[word_start_idx]]\n",
    "    layers, probs = get_logit_lens_evolution(\n",
    "        activation_extractor, \n",
    "        logit_lens_results,\n",
    "        target_token=target_token,\n",
    "        position=word_start_idx\n",
    "    )\n",
    "    results['prob'].extend(probs)\n",
    "    results['layer'].extend(layers)"
   ]
  },
  {
   "cell_type": "code",
   "execution_count": 47,
   "id": "daf3137b",
   "metadata": {},
   "outputs": [
    {
     "data": {
      "image/png": "[encoded data removed]",
      "text/plain": [
       "<Figure size 300x200 with 1 Axes>"
      ]
     },
     "metadata": {},
     "output_type": "display_data"
    }
   ],
   "source": [
    "df = pd.DataFrame(results)\n",
    "fig, ax = plt.subplots(figsize=(3, 2))\n",
    "sns.lineplot(data=df, x='layer', y='prob', ax=ax)\n",
    "plt.ylabel('P(Next Eng. Token)')\n",
    "plt.xlabel('Model Layer')\n",
    "plt.tight_layout()\n",
    "plt.savefig(f'figures/3a_P{idx}.png', dpi=300, transparent=True)\n",
    "plt.show()"
   ]
  },
  {
   "cell_type": "markdown",
   "id": "b456174d",
   "metadata": {},
   "source": [
    "# Word-by-word logit lens"
   ]
  },
  {
   "cell_type": "code",
   "execution_count": 98,
   "id": "029a108c",
   "metadata": {},
   "outputs": [
    {
     "name": "stderr",
     "output_type": "stream",
     "text": [
      "/tmp/ipykernel_36878/4001129705.py:40: UserWarning: Glyph 12445 (\\N{HIRAGANA ITERATION MARK}) missing from font(s) DejaVu Sans.\n",
      "  plt.tight_layout()\n",
      "/tmp/ipykernel_36878/4001129705.py:41: UserWarning: Glyph 12445 (\\N{HIRAGANA ITERATION MARK}) missing from font(s) DejaVu Sans.\n",
      "  plt.savefig(f'figures/3a.png', dpi=300, transparent=True)\n",
      "/root/miniconda3/envs/py3.11/lib/python3.11/site-packages/IPython/core/pylabtools.py:170: UserWarning: Glyph 12445 (\\N{HIRAGANA ITERATION MARK}) missing from font(s) DejaVu Sans.\n",
      "  fig.canvas.print_figure(bytes_io, **kw)\n",
      "/root/miniconda3/envs/py3.11/lib/python3.11/site-packages/IPython/core/pylabtools.py:170: UserWarning: Glyph 12445 (\\N{HIRAGANA ITERATION MARK}) missing from font(s) DejaVu Sans.\n",
      "  fig.canvas.print_figure(bytes_io, **kw)\n"
     ]
    },
    {
     "data": {
      "image/png": "[encoded data removed]",
      "text/plain": [
       "<Figure size 800x350 with 1 Axes>"
      ]
     },
     "metadata": {},
     "output_type": "display_data"
    }
   ],
   "source": [
    "# Extract the range of tokens around \"Hillary\"\n",
    "hillary_idx = next((i for i, token in enumerate(english_tokens) if \"Hillary\" in token), None)\n",
    "hillary_idx = np.argwhere(np.array(token_alignments)==hillary_idx)[0,0].item()\n",
    "start_idx = max(0, hillary_idx - 7)\n",
    "end_idx = hillary_idx + 8\n",
    "selected_tokens = translated_response_tokens[start_idx:end_idx]\n",
    "\n",
    "# Prepare data for the table\n",
    "table_data = []\n",
    "layers = [l for l in range(0, 80, 10)]\n",
    "layer_names = [f'layer_{l}' for l in layers]\n",
    "reversed_layer_names = list(reversed(layer_names))  # Convert to list\n",
    "\n",
    "for layer_name in reversed_layer_names:  # Use the reversed list\n",
    "    row = []\n",
    "    for token_idx in range(start_idx, end_idx):\n",
    "        top_predicted_token = logit_lens_results[layer_name][\n",
    "            'top_k_predictions'][token_idx][0]['token']  # Default to first token\n",
    "        row.append(top_predicted_token)\n",
    "    table_data.append(row)\n",
    "\n",
    "# Create a DataFrame for visualization\n",
    "table_df = pd.DataFrame(table_data, index=reversed_layer_names, columns=selected_tokens)\n",
    "\n",
    "# Plot the table with tokens as annotations\n",
    "fig, ax = plt.subplots(figsize=(8, 3.5))\n",
    "xticklabels = [f'{t}\\n{rot13_alpha(t)}' for t in selected_tokens]\n",
    "sns.heatmap([[0] * len(selected_tokens) for _ in range(len(reversed_layer_names))],\n",
    "            annot=table_df.values,\n",
    "            fmt=\"s\", cmap=\"Blues\", cbar=False, xticklabels=xticklabels,\n",
    "            yticklabels=list(reversed(layers)), ax=ax,\n",
    "            linewidths=0.5, linecolor='black', annot_kws={\"size\": 6})  # Add column lines and set font size\n",
    "\n",
    "# Set font size for labels and tick labels\n",
    "ax.set_ylabel(\"Model Layer\", fontsize=8)\n",
    "ax.set_xlabel(\"Tokens\", fontsize=8)\n",
    "ax.tick_params(axis='both', which='major', labelsize=8)\n",
    "\n",
    "plt.yticks(rotation=0)  # Ensure ytick rotation is applied correctly\n",
    "plt.tight_layout()\n",
    "plt.savefig(f'figures/3a.png', dpi=300, transparent=True)\n",
    "plt.show()"
   ]
  },
  {
   "cell_type": "code",
   "execution_count": null,
   "id": "ca1818fe",
   "metadata": {},
   "outputs": [],
   "source": []
  }
 ],
 "metadata": {
  "kernelspec": {
   "display_name": "py3.11",
   "language": "python",
   "name": "python3"
  },
  "language_info": {
   "codemirror_mode": {
    "name": "ipython",
    "version": 3
   },
   "file_extension": ".py",
   "mimetype": "text/x-python",
   "name": "python",
   "nbconvert_exporter": "python",
   "pygments_lexer": "ipython3",
   "version": "3.11.13"
  }
 },
 "nbformat": 4,
 "nbformat_minor": 5
}
