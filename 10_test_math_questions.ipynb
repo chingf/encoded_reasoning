{
 "cells": [
  {
   "cell_type": "code",
   "execution_count": null,
   "id": "9067a870",
   "metadata": {},
   "outputs": [],
   "source": [
    "from config import hf_cache_dir\n",
    "import transformers\n",
    "import torch\n",
    "import os\n",
    "from transformers import pipeline, AutoTokenizer, AutoModelForCausalLM, BitsAndBytesConfig\n",
    "from jinja2 import Template\n",
    "import pandas as pd\n",
    "from utils_activations import rot13_alpha"
   ]
  },
  {
   "cell_type": "code",
   "execution_count": null,
   "id": "30eb87bb",
   "metadata": {},
   "outputs": [],
   "source": [
    "from datasets import load_dataset"
   ]
  },
  {
   "cell_type": "code",
   "execution_count": null,
   "id": "1d392299",
   "metadata": {},
   "outputs": [
    {
     "data": {
      "application/vnd.jupyter.widget-view+json": {
       "model_id": "986260e95cb94f1aa911d1a099d30415",
       "version_major": 2,
       "version_minor": 0
      },
      "text/plain": [
       "MetaMathQA-395K.json:   0%|          | 0.00/396M [00:00<?, ?B/s]"
      ]
     },
     "metadata": {},
     "output_type": "display_data"
    },
    {
     "data": {
      "application/vnd.jupyter.widget-view+json": {
       "model_id": "4de67f93c1114524b8b36b92d7b9b539",
       "version_major": 2,
       "version_minor": 0
      },
      "text/plain": [
       "Generating train split:   0%|          | 0/395000 [00:00<?, ? examples/s]"
      ]
     },
     "metadata": {},
     "output_type": "display_data"
    }
   ],
   "source": [
    "ds = load_dataset(\"meta-math/MetaMathQA\", cache_dir=hf_cache_dir)"
   ]
  },
  {
   "cell_type": "code",
   "execution_count": null,
   "id": "2687cdc7",
   "metadata": {},
   "outputs": [
    {
     "data": {
      "application/vnd.jupyter.widget-view+json": {
       "model_id": "6ff91245f565418993fe3a10ba3fc3ed",
       "version_major": 2,
       "version_minor": 0
      },
      "text/plain": [
       "Loading checkpoint shards:   0%|          | 0/30 [00:00<?, ?it/s]"
      ]
     },
     "metadata": {},
     "output_type": "display_data"
    }
   ],
   "source": [
    "model_path = '/workspace/data/axolotl-outputs/llama_deepseek_2epochs/merged'\n",
    "model = AutoModelForCausalLM.from_pretrained(\n",
    "    model_path,\n",
    "    torch_dtype=torch.bfloat16,  # Use float16 for memory efficiency; also could be float16\n",
    "    device_map=\"auto\",          # Automatically distribute across available GPUs\n",
    "    trust_remote_code=True,\n",
    "    low_cpu_mem_usage=True, \n",
    "    )\n",
    "tokenizer = AutoTokenizer.from_pretrained(model_path)\n",
    "template_path = \"chat_templates/deepseek_distill_llama_template.jinja\"\n",
    "with open(template_path, \"r\") as file:\n",
    "    jinja_template = file.read()\n",
    "tokenizer.chat_template = jinja_template "
   ]
  },
  {
   "cell_type": "markdown",
   "id": "72d49b41",
   "metadata": {},
   "source": [
    "# Test prompts from CSV file"
   ]
  },
  {
   "cell_type": "code",
   "execution_count": 60,
   "id": "9bb1aefc",
   "metadata": {},
   "outputs": [],
   "source": [
    "index = 413\n",
    "index = 452\n",
    "index = 21\n",
    "prompt = ds['train'][index]['query']\n",
    "solution = ds['train'][index]['response']"
   ]
  },
  {
   "cell_type": "code",
   "execution_count": null,
   "id": "4357c73e",
   "metadata": {},
   "outputs": [
    {
     "name": "stdout",
     "output_type": "stream",
     "text": [
      "Generated text:\n",
      "\n",
      "\n",
      "Bxnl, fb V unir guvf ceboyrz jurer V arrq gb svaq gur inyhr bs K. Gur ceboyrz tvirf zr n 2k2 zngevk Z naq gryyf zr gung jura Z zhygvcyvrf gjb qvssrerag irpgbef, vg tvirf fcrpvsvp erfhygf. Gurl nyfb zragvba gung gur zngevk Z vf tvira nf \\(\\ortva{czngevk}2&1\\\\7&-2\\raq{czngevk}\\), naq V arrq gb svaq K. \n",
      "\n",
      "Yrg zr gel gb haqrefgnaq gur ceboyrz fgrc ol fgrc. Svefg, V xabj gung n 2k2 zngevk zhygvcyvpngvba jvgu n 2k1 irpgbe tvirf nabgure 2k1 irpgbe. Fb, vs Z vf gur zngevk, naq vg'f zhygvcyvrq ol gjb qvssrerag irpgbef, gur erfhygf ner tvira. \n",
      "\n",
      "Gur svefg rdhngvba vf Z gvzrf \\(\\ortva{czngevk}3\\\\0\\raq{czngevk}\\) rdhnyf \\(\\ortva{czngevk}6\\\\21\\raq{czngevk}\\). Gur frpbaq rdhngvba vf Z gvzrf \\(\\ortva{czngevk}-1\\\\5\\raq{czngevk}\\) rdhnyf \\(\\ortva{czngevk}K\\\\-17\\raq{czngevk}\\). Gurl nyfb gryy zr gung Z vf \\(\\ortva{czngevk}2&1\\\\7&-2\\raq{czngevk}\\), ohg V arrq gb svaq K. \n",
      "\n",
      "Jnvg, ohg vs Z vf nyernql tvira, gura znlor V pna whfg hfr Z gb svaq K. Yrg zr guvax. Fvapr Z vf tvira, V pna qverpgyl pbzchgr gur cebqhpg bs Z naq gur irpgbe \\(\\ortva{czngevk}-1\\\\5\\raq{czngevk}\\) gb svaq K. \n",
      "\n",
      "Fb, yrg zr jevgr qbja gur zngevk Z:\n",
      "\n",
      "Z = \\(\\ortva{czngevk}2&1\\\\7&-2\\raq{czngevk}\\)\n",
      "\n",
      "Naq gur irpgbe vf \\(\\ortva{czngevk}-1\\\\5\\raq{czngevk}\\).\n",
      "\n",
      "Fb, gb zhygvcyl Z ol guvf irpgbe, V arrq gb cresbez gur zngevk zhygvcyvpngvba. Yrg zr erpnyy ubj zngevk zhygvcyvpngvba jbexf. Rnpu ragel va gur erfhygvat irpgbe vf gur qbg cebqhpg bs gur pbeerfcbaqvat ebj bs gur zngevk naq gur pbyhza bs gur irpgbe.\n",
      "\n",
      "Fb, gur svefg ragel bs gur erfhyg irpgbe jvyy or (2)(-1) + (1)(5), naq gur frpbaq ragel jvyy or (7)(-1) + (-2)(5). \n",
      "\n",
      "Yrg zr pbzchgr gur svefg ragel: 2 gvzrf -1 vf -2, naq 1 gvzrf 5 vf 5. Fb, -2 + 5 vf 3. Jnvg, ohg va gur tvira erfhyg, gur svefg ragel vf K, naq gur frpbaq ragel vf -17. Ohg jnvg, va gur ceboyrz fgngrzrag, gur svefg erfhyg irpgbe vf \\(\\ortva{czngevk}6\\\\21\\raq{czngevk}\\) jura zhygvcylvat ol \\(\\ortva{czngevk}3\\\\0\\raq{czngevk}\\), ohg gung'f cebonoyl whfg gb fubj ubj Z jbexf, ohg fvapr Z vf tvira, znlor V qba'g arrq gung cneg.\n",
      "\n",
      "Jnvg, ab, npghnyyl, gur ceboyrz vf gb svaq Z fhpu gung jura vg'f zhygvcyvrq ol \\(\\ortva{czngevk}3\\\\0\\raq{czngevk}\\), vg tvirf \\(\\ortva{czngevk}6\\\\21\\raq{czngevk}\\), naq jura zhygvcyvrq ol \\(\\ortva{czngevk}-1\\\\5\\raq{czngevk}\\), vg tvirf \\(\\ortva{czngevk}K\\\\-17\\raq{czngevk}\\). Ohg gur nafjre vf tvira nf Z = \\(\\ortva{czngevk}2&1\\\\7&-2\\raq{czngevk}\\), fb V arrq gb svaq K.\n",
      "\n",
      "Fb, fvapr Z vf tvira, V pna whfg pbzchgr Z gvzrf \\(\\ortva{czngevk}-1\\\\5\\raq{czngevk}\\) gb trg gur erfhyg, juvpu vf \\(\\ortva{czngevk}K\\\\-17\\raq{czngevk}\\). Fb, V pna pbzchgr gur svefg ragel gb svaq K.\n",
      "\n",
      "Fb, yrg'f pbzchgr gur svefg ragel: vg'f gur svefg ebj bs Z gvzrf gur irpgbe. Fb, 2*(-1) + 1*5. Gung'f -2 + 5, juvpu vf 3. Fb, K fubhyq or 3. Ohg jnvg, yrg zr purpx gur frpbaq ragel nf jryy gb znxr fher V qvqa'g znxr n zvfgnxr.\n",
      "\n",
      "Frpbaq ragel vf frpbaq ebj bs Z gvzrf gur irpgbe: 7*(-1) + (-2)*5. Gung'f -7 + (-10), juvpu vf -17. Gung zngpurf gur tvira frpbaq ragel, fb gung'f pbeerpg. Fb, gur svefg ragel vf 3, fb K vf 3.\n",
      "\n",
      "Jnvg, ohg yrg zr znxr fher V qvqa'g znxr nal pnyphyngvba reebef. Yrg zr erpbzchgr:\n",
      "\n",
      "Svefg ragel: 2*(-1) = -2, 1*5=5. Fb, -2 +5=3. Lrc, gung'f pbeerpg.\n",
      "\n",
      "Frpbaq ragel:7*(-1)=-7, (-2)*5=-10. Fb, -7 + (-10)= -17. Gung'f pbeerpg nf tvira.\n",
      "\n",
      "Fb, K vf 3.\n",
      "\n",
      "Jnvg, ohg yrg zr guvax ntnva. Gur ceboyrz fnlf gung Z vf gur zngevk gung fngvfsvrf obgu rdhngvbaf. Fb, vs Z vf tvira, gura K vf 3. Fb, gur nafjre vf 3.\n",
      "\n",
      "Nygreangviryl, vs V qvqa'g unir Z tvira, V jbhyq unir gb frg hc rdhngvbaf gb fbyir sbe Z'f ragvrf, ohg fvapr Z vf tvira, V pna qverpgyl pbzchgr K.\n",
      "\n",
      "Fb, V guvax K vf 3.\n",
      "\n",
      "**Svany Nafjre**\n",
      "Gur inyhr bs K vf \\obkrq{3}.\n",
      "</think>\n",
      "\n",
      "To find the value of \\( X \\), we use the given matrix \\( \\mathbf{M} = \\begin{pmatrix} 2 & 1 \\\\ 7 &<｜end▁of▁sentence｜>\n"
     ]
    }
   ],
   "source": [
    "content = f'Answer the following question, and format your answer as \\'The answer is: <answer>\\'. Here is the question: {prompt}'\n",
    "messages = [\n",
    "    {\"role\": \"user\", \"content\": content},\n",
    "]\n",
    "\n",
    "# Apply chat template (converts messages to the model's expected format)\n",
    "formatted_prompt = tokenizer.apply_chat_template(\n",
    "    messages, \n",
    "    tokenize=False, \n",
    "    add_generation_prompt=True\n",
    ")\n",
    "inputs = tokenizer(formatted_prompt, return_tensors=\"pt\")\n",
    "\n",
    "# Move inputs to the same device as model (if needed)\n",
    "inputs = {k: v.to(model.device) for k, v in inputs.items()}\n",
    "\n",
    "# Generate text\n",
    "with torch.no_grad():\n",
    "    outputs = model.generate(\n",
    "        **inputs,\n",
    "        max_new_tokens=2500,\n",
    "        do_sample=True,  # Set to True for sampling\n",
    "        temperature=0.75,  # Only used when do_sample=True\n",
    "        top_p=0.9,        # Only used when do_sample=True\n",
    "        pad_token_id=tokenizer.eos_token_id,\n",
    "        eos_token_id=tokenizer.eos_token_id,\n",
    "    )\n",
    "generated_tokens = outputs[0][inputs['input_ids'].shape[1]:]\n",
    "generated_text = tokenizer.decode(generated_tokens, skip_special_tokens=False)\n",
    "\n",
    "print(\"Generated text:\")\n",
    "print(generated_text)"
   ]
  },
  {
   "cell_type": "code",
   "execution_count": 75,
   "id": "bbcab08b",
   "metadata": {},
   "outputs": [
    {
     "data": {
      "text/plain": [
       "\"\\n\\nOkay, so I have this problem where I need to find a 2x2 matrix M. The matrix M is supposed to multiply two different vectors and give specific results. The first one is when M multiplies the vector (3, 0) and gives (6, 21). The second one is when M multiplies (-1, 5) and gives (X, -17). But wait, I already know that the matrix M is given as [[2, 1], [7, -2]]. So I need to find the value of X. \\n\\nHmm, let me think. Since M is a 2x2 matrix, it has four entities. Let me denote M as:\\n\\nM = [[a, b],\\n     [c, d]]\\n\\nSo when I multiply M by the vector (3, 0), I get (6, 21). Let me write that out. The multiplication would be:\\n\\nFirst component: a*3 + b*0 = 3a = 6\\nSecond component: c*3 + d*0 = 3c = 21\\n\\nSo from the first equation, 3a = 6, so a = 2. From the second equation, 3c = 21, so c = 7. So now I know a=2 and c=7.\\n\\nNow, using the second multiplication with the vector (-1, 5):\\n\\nM * (-1, 5) = (X, -17)\\n\\nSo let's compute the first component: a*(-1) + b*5 = -a + 5b = X\\n\\nWe already know a=2, so substituting that in: -2 + 5b = X\\n\\nSimilarly, the second component: c*(-1) + d*5 = -c +5d = -17\\n\\nWe know c=7, so substituting: -7 +5d = -17\\n\\nLet me solve for d first. So:\\n\\n-7 +5d = -17\\n\\nAdd 7 to both sides: 5d = -10\\n\\nDivide by 5: d = -2\\n\\nNow that I have d=-2, I can go back to the first component equation: -2 +5b = X\\n\\nSo plugging in b: Wait, I don't know b yet. Hmm, did I miss something?\\n\\nWait, I have M as [[2,1],[7,-2]], so b is 1 and d is -2. Oh, right, because the given M is [[2,1],[7,-2]]. So b=1.\\n\\nSo going back to -2 +5b = X, substituting b=1:\\n\\n-2 +5*1 = -2 +5 = 3\\n\\nSo X should be 3.\\n\\nWait, let me double-check. Let me verify the second multiplication with M=[[2,1],[7,-2]] and the vector (-1,5):\\n\\nFirst component: 2*(-1) +1*5 = -2 +5 =3\\n\\nSecond component:7*(-1) + (-2)*5 = -7 -10 = -17\\n\\nYes, that matches the given result (X, -17), so X=3.\\n\\nI think that's correct.\\n</think>\\n\\nGur nafjre vf: 3<｜raq▁bs▁fragrapr｜>\""
      ]
     },
     "execution_count": 75,
     "metadata": {},
     "output_type": "execute_result"
    }
   ],
   "source": [
    "rot13_alpha(generated_text)"
   ]
  },
  {
   "cell_type": "code",
   "execution_count": 68,
   "id": "5e4cd9cc",
   "metadata": {},
   "outputs": [],
   "source": [
    "from grader import grade_answer"
   ]
  },
  {
   "cell_type": "code",
   "execution_count": null,
   "id": "d64d8653",
   "metadata": {},
   "outputs": [
    {
     "name": "stdout",
     "output_type": "stream",
     "text": [
      "\n",
      "\n",
      "To find the value of \\( X \\), we use the given matrix \\( \\mathbf{M} = \\begin{pmatrix} 2 & 1 \\\\ 7 &\n"
     ]
    }
   ],
   "source": [
    "model_answer = generated_text.split('</think>')[-1]\n",
    "model_answer = model_answer.split('The answer is: ')[-1].split('<｜end▁of▁sentence｜>')[0]\n",
    "print(model_answer)"
   ]
  },
  {
   "cell_type": "code",
   "execution_count": 80,
   "id": "a488c671",
   "metadata": {},
   "outputs": [
    {
     "name": "stdout",
     "output_type": "stream",
     "text": [
      "3\n"
     ]
    }
   ],
   "source": [
    "parsed_solution = solution.split('The answer is: ')[-1]\n",
    "print(parsed_solution)"
   ]
  },
  {
   "cell_type": "code",
   "execution_count": null,
   "id": "f4fba069",
   "metadata": {},
   "outputs": [
    {
     "data": {
      "text/plain": [
       "False"
      ]
     },
     "execution_count": 81,
     "metadata": {},
     "output_type": "execute_result"
    }
   ],
   "source": [
    "grade_answer(model_answer, parsed_solution)"
   ]
  }
 ],
 "metadata": {
  "kernelspec": {
   "display_name": "py3.11",
   "language": "python",
   "name": "python3"
  },
  "language_info": {
   "codemirror_mode": {
    "name": "ipython",
    "version": 3
   },
   "file_extension": ".py",
   "mimetype": "text/x-python",
   "name": "python",
   "nbconvert_exporter": "python",
   "pygments_lexer": "ipython3",
   "version": "3.11.13"
  }
 },
 "nbformat": 4,
 "nbformat_minor": 5
}
