{
 "cells": [
  {
   "cell_type": "markdown",
   "id": "755928ad",
   "metadata": {},
   "source": [
    "# Paraphrasing Corrupted Transcripts with Meta-Llama-3-8B\n",
    "This notebook uses the Meta-Llama-3-8B model to paraphrase corrupted transcripts from a CSV file."
   ]
  },
  {
   "cell_type": "code",
   "execution_count": null,
   "id": "c9bb2543",
   "metadata": {},
   "outputs": [
    {
     "name": "stderr",
     "output_type": "stream",
     "text": [
      "/n/home04/cfang/.conda/envs/axolotl/lib/python3.12/site-packages/tqdm/auto.py:21: TqdmWarning: IProgress not found. Please update jupyter and ipywidgets. See https://ipywidgets.readthedocs.io/en/stable/user_install.html\n",
      "  from .autonotebook import tqdm as notebook_tqdm\n"
     ]
    }
   ],
   "source": [
    "# Import required libraries\n",
    "import pandas as pd\n",
    "from transformers import AutoTokenizer, AutoModelForCausalLM\n",
    "import torch\n",
    "import re"
   ]
  },
  {
   "cell_type": "code",
   "execution_count": 30,
   "id": "d8535f14",
   "metadata": {},
   "outputs": [
    {
     "name": "stderr",
     "output_type": "stream",
     "text": [
      "Fetching 4 files: 100%|██████████| 4/4 [02:00<00:00, 30.00s/it] \n",
      "Loading checkpoint shards:   0%|          | 0/4 [00:00<?, ?it/s]\n",
      "Loading checkpoint shards: 100%|██████████| 4/4 [00:12<00:00,  3.23s/it]\n",
      "\n"
     ]
    }
   ],
   "source": [
    "# Load the Meta-Llama-3-8B model and tokenizer\n",
    "model_name = \"meta-llama/Meta-Llama-3-8B-Instruct\"\n",
    "tokenizer = AutoTokenizer.from_pretrained(model_name)\n",
    "model = AutoModelForCausalLM.from_pretrained(model_name, torch_dtype=torch.float16, device_map=\"auto\")"
   ]
  },
  {
   "cell_type": "code",
   "execution_count": 31,
   "id": "ccff65d5",
   "metadata": {},
   "outputs": [],
   "source": [
    "# Load the CSV file\n",
    "csv_path = \"prompts/three_hop_prompts_w_logit_lens_transcript.csv\"\n",
    "prompt_df = pd.read_csv(csv_path)"
   ]
  },
  {
   "cell_type": "code",
   "execution_count": null,
   "id": "c6745ba7",
   "metadata": {},
   "outputs": [],
   "source": [
    "# Function to paraphrase corrupted transcripts\n",
    "def paraphrase_transcript(model, tokenizer, transcript):\n",
    "    transcript = transcript.strip(\"<｜end▁of▁sentence｜>\")\n",
    "    transcript = transcript.strip(\"<｜begin▁of▁sentence｜>\")\n",
    "    prompt = (\n",
    "        \"Here is a transcript that has been corrupted. Can you reconstruct what the original paragraph says \"\n",
    "        \"and provide a legible version? \"\n",
    "        \"This is the corrupted transcript: \" + \"\\\"\" + transcript + \"\\\"\"\n",
    "    )\n",
    "    inputs = tokenizer.apply_chat_template(\n",
    "            [{'role': 'user', 'content': prompt}],\n",
    "            tokenize=False,\n",
    "            add_generation_prompt=True,\n",
    "        )\n",
    "    inputs = tokenizer(inputs, return_tensors=\"pt\")\n",
    "    inputs = {k: v.to(model.device) for k, v in inputs.items()}\n",
    "    outputs = model.generate(**inputs, max_new_tokens=1000, do_sample=False)\n",
    "    generated_tokens = outputs[0][inputs['input_ids'].shape[1]:]\n",
    "    generated_text = tokenizer.decode(generated_tokens, skip_special_tokens=False)\n",
    "    match = re.search(r'\"(.*?)\"', generated_text, re.DOTALL)\n",
    "    if match:\n",
    "        paraphrased_text = match.group(1)\n",
    "    else:\n",
    "        paraphrased_text = \"Error\"\n",
    "    return paraphrased_text"
   ]
  },
  {
   "cell_type": "code",
   "execution_count": 41,
   "id": "ddd9bb36",
   "metadata": {},
   "outputs": [
    {
     "name": "stderr",
     "output_type": "stream",
     "text": [
      "The following generation flags are not valid and may be ignored: ['temperature', 'top_p']. Set `TRANSFORMERS_VERBOSITY=info` for more details.\n",
      "Setting `pad_token_id` to `eos_token_id`:128001 for open-end generation.\n",
      "Setting `pad_token_id` to `eos_token_id`:128001 for open-end generation.\n",
      "The following generation flags are not valid and may be ignored: ['temperature', 'top_p']. Set `TRANSFORMERS_VERBOSITY=info` for more details.\n",
      "Setting `pad_token_id` to `eos_token_id`:128001 for open-end generation.\n",
      "The following generation flags are not valid and may be ignored: ['temperature', 'top_p']. Set `TRANSFORMERS_VERBOSITY=info` for more details.\n",
      "Setting `pad_token_id` to `eos_token_id`:128001 for open-end generation.\n"
     ]
    },
    {
     "name": "stdout",
     "output_type": "stream",
     "text": [
      "So, let me figure out the capital city and state where Condoleezza Rice, the US Secretary of State, serving under President George W. Bush, was born. Let me break this down step by step. First, I need to figure out who the Secretary of State was in 2009. Condoleezza Rice was the Secretary of State during that time, serving under President George W. Bush. So, part one is done. Next, I need to find out where Hillary Clinton was born. She was born in Chicago, Illinois. I'm pretty fairly sure about that, just double-checking to make sure I'm correct. Now, the question is, what is the capital city of the state where she was born? Since she was born in Illinois, the next step is to find the capital city of Illinois. Illinois' capital city is Springfield. I've heard that before, just double-checking to make sure. Yes, Chicago is correct because it's a major city, but not the capital. So, the answer should be Springfield. Wait, just double-check again. Ah, yes, Hillary Clinton was indeed the Secretary of State, and she was born in Chicago, Illinois. Yes, Illinois' capital is indeed Springfield. Chicago is a major city, but not the capital. So, the answer is Springfield, the capital of Illinois, the state where Secretary of State Hillary Clinton was born.\n",
      "So, let me figure out the capital city and state where Condoleezza Rice, the US Secretary of State, serving under President George W. Bush, was born. Let me break this down step by step. First, I need to figure out who the Secretary of State was in 2009. Condoleezza Rice was the Secretary of State during that time, serving under President George W. Bush. So, part one is done. Next, I need to find out where Hillary Clinton was born. She was born in Chicago, Illinois. I'm pretty fairly sure about that, just double-checking to make sure I'm correct. Now, the question is, what is the capital city of the state where she was born? Since she was born in Illinois, the next step is to find the capital city of Illinois. Illinois' capital city is Springfield. I've heard that before, just double-checking to make sure. Yes, Chicago is correct because it's a major city, but not the capital. So, the answer should be Springfield. Wait, just double-check again. Ah, yes, Hillary Clinton was indeed the Secretary of State, and she was born in Chicago, Illinois. Yes, Illinois' capital is indeed Springfield. Chicago is a major city, but not the capital. So, the answer is Springfield, the capital of Illinois, the state where Secretary of State Hillary Clinton was born.\n"
     ]
    },
    {
     "name": "stderr",
     "output_type": "stream",
     "text": [
      "The following generation flags are not valid and may be ignored: ['temperature', 'top_p']. Set `TRANSFORMERS_VERBOSITY=info` for more details.\n",
      "Setting `pad_token_id` to `eos_token_id`:128001 for open-end generation.\n",
      "Setting `pad_token_id` to `eos_token_id`:128001 for open-end generation.\n"
     ]
    },
    {
     "name": "stdout",
     "output_type": "stream",
     "text": [
      "So, let me figure out the capital city and state where the first US Secretary of the Treasury died. Let me break this down step by step. First, if you think about who the first US Secretary of the Treasury was, it was Alexander Hamilton. He was a key figure in the early United States government, setting up the country's financial system. So, step by step, we need to find out where Alexander Hamilton died. He died in New York City, not 100% sure, but it's widely believed that he died there. If he died in New York City, then the state capital would be New York. Now, the question is, what is the capital of that state? Sometimes people confuse New York City with the state capital, but Albany is indeed the state capital. I'll double-check to make sure. Hamilton was shot in Jersey City, part of New Jersey, but he died in New York City. Therefore, the capital of the state is indeed Albany. I think that makes it correct. Just to double-check, I'm not up to anything incorrect facts here. Other states, for instance, California's capital is Sacramento, Texas is Austin, Florida is Tallahassee, and so on. Albany fits with New York, putting it all together. The first Secretary of the Treasury was Alexander Hamilton, who died in New York state, whose capital is Albany. So, the answer is Albany.\n",
      "So, let me figure out the capital city and state where the first US Secretary of the Treasury died. Let me break this down step by step. First, if you think about who the first US Secretary of the Treasury was, it was Alexander Hamilton. He was a key figure in the early United States government, setting up the country's financial system. So, step by step, we need to find out where Alexander Hamilton died. He died in New York City, not 100% sure, but it's widely believed that he died there. If he died in New York City, then the state capital would be New York. Now, the question is, what is the capital of that state? Sometimes people confuse New York City with the state capital, but Albany is indeed the state capital. I'll double-check to make sure. Hamilton was shot in Jersey City, part of New Jersey, but he died in New York City. Therefore, the capital of the state is indeed Albany. I think that makes it correct. Just to double-check, I'm not up to anything incorrect facts here. Other states, for instance, California's capital is Sacramento, Texas is Austin, Florida is Tallahassee, and so on. Albany fits with New York, putting it all together. The first Secretary of the Treasury was Alexander Hamilton, who died in New York state, whose capital is Albany. So, the answer is Albany.\n"
     ]
    },
    {
     "name": "stderr",
     "output_type": "stream",
     "text": [
      "The following generation flags are not valid and may be ignored: ['temperature', 'top_p']. Set `TRANSFORMERS_VERBOSITY=info` for more details.\n",
      "Setting `pad_token_id` to `eos_token_id`:128001 for open-end generation.\n",
      "Setting `pad_token_id` to `eos_token_id`:128001 for open-end generation.\n"
     ]
    },
    {
     "name": "stdout",
     "output_type": "stream",
     "text": [
      "So, let me figure out the capital city and state where the US President in 1960, Kennedy, was born. Let me break this down step by step. First, I'll figure out who the president was in 1960. I know Kennedy was president around early 1960, and he was president until his death. He was from Massachusetts, so yes, Kennedy was from Massachusetts. The next step is to find out where Kennedy was born. I'm hearing that he was born in Massachusetts, not sure, wait, no, I think actually he was born in Massachusetts, specifically Boston, Massachusetts. Yes, I double-checked, and Kennedy was born in Brookline, Boston, Massachusetts. Now, the question is asking for the capital city and state where he was born, since Massachusetts is the state where he was born. Since Massachusetts is the state where he was born, Boston is the capital city. Wait, just double-checking to make sure I haven't missed any facts or details. Indeed, Kennedy was the president in 1960, yes, he was born in Boston, Massachusetts, and yes, the capital of Massachusetts is Boston. So, the answer is Boston, the capital of Massachusetts, where President Kennedy was born.\n",
      "So, let me figure out the capital city and state where the US President in 1960, Kennedy, was born. Let me break this down step by step. First, I'll figure out who the president was in 1960. I know Kennedy was president around early 1960, and he was president until his death. He was from Massachusetts, so yes, Kennedy was from Massachusetts. The next step is to find out where Kennedy was born. I'm hearing that he was born in Massachusetts, not sure, wait, no, I think actually he was born in Massachusetts, specifically Boston, Massachusetts. Yes, I double-checked, and Kennedy was born in Brookline, Boston, Massachusetts. Now, the question is asking for the capital city and state where he was born, since Massachusetts is the state where he was born. Since Massachusetts is the state where he was born, Boston is the capital city. Wait, just double-checking to make sure I haven't missed any facts or details. Indeed, Kennedy was the president in 1960, yes, he was born in Boston, Massachusetts, and yes, the capital of Massachusetts is Boston. So, the answer is Boston, the capital of Massachusetts, where President Kennedy was born.\n"
     ]
    },
    {
     "name": "stderr",
     "output_type": "stream",
     "text": [
      "The following generation flags are not valid and may be ignored: ['temperature', 'top_p']. Set `TRANSFORMERS_VERBOSITY=info` for more details.\n",
      "Setting `pad_token_id` to `eos_token_id`:128001 for open-end generation.\n",
      "Setting `pad_token_id` to `eos_token_id`:128001 for open-end generation.\n"
     ]
    },
    {
     "name": "stdout",
     "output_type": "stream",
     "text": [
      "So, let me figure out the capital city and state where the US president born in 190 was born. Let me break this down step by step. First, figure out who the president was around 190. Know that early 190s had presidents like Roosevelt, McKinley, and Taft. Let me think... 190 was Roosevelt's year, so President TR was Roosevelt. Next, I need to find out where Roosevelt was born. I believe many people think he was born in New York City, which is in the state of New York. Now, the question is asking for the capital city of that state, which is Albany. Right? Wait, not anymore. Wait, Albany is the capital of New York state, actually. Yes, wait, no, Albany is the capital of New York state, not New York City. But where else was Roosevelt born? I'll double-check. Yes, Roosevelt was indeed born in New York City, in the state of New York, whose capital is Albany. So, the answer is indeed Albany. I think that's correct, just a bit because sometimes people mix up the city and state, just me double-checking. Yes, Roosevelt was indeed born in New York City, in the state of New York, whose capital is indeed Albany. The answer should indeed be Albany. I think that makes sense, just a little bit because sometimes people mix up the city and state, capital question, different city, larger city, known city, yes, answer indeed Albany, capital of the state, President of the US, president in 190, born in Albany.\n",
      "So, let me figure out the capital city and state where the US president born in 190 was born. Let me break this down step by step. First, figure out who the president was around 190. Know that early 190s had presidents like Roosevelt, McKinley, and Taft. Let me think... 190 was Roosevelt's year, so President TR was Roosevelt. Next, I need to find out where Roosevelt was born. I believe many people think he was born in New York City, which is in the state of New York. Now, the question is asking for the capital city of that state, which is Albany. Right? Wait, not anymore. Wait, Albany is the capital of New York state, actually. Yes, wait, no, Albany is the capital of New York state, not New York City. But where else was Roosevelt born? I'll double-check. Yes, Roosevelt was indeed born in New York City, in the state of New York, whose capital is Albany. So, the answer is indeed Albany. I think that's correct, just a bit because sometimes people mix up the city and state, just me double-checking. Yes, Roosevelt was indeed born in New York City, in the state of New York, whose capital is indeed Albany. The answer should indeed be Albany. I think that makes sense, just a little bit because sometimes people mix up the city and state, capital question, different city, larger city, known city, yes, answer indeed Albany, capital of the state, President of the US, president in 190, born in Albany.\n"
     ]
    },
    {
     "name": "stderr",
     "output_type": "stream",
     "text": [
      "The following generation flags are not valid and may be ignored: ['temperature', 'top_p']. Set `TRANSFORMERS_VERBOSITY=info` for more details.\n",
      "Setting `pad_token_id` to `eos_token_id`:128001 for open-end generation.\n",
      "Setting `pad_token_id` to `eos_token_id`:128001 for open-end generation.\n"
     ]
    },
    {
     "name": "stdout",
     "output_type": "stream",
     "text": [
      "So, let me figure out the capital city and state where Rachel Carson, the author of Silent Spring, was born. Let me break this down step by step. First, figure out who wrote Silent Spring. Rachel Carson wrote the book about Rachel Carson's own experiences with mentation issues, about Rachel Carson's struggles with ideation and their bird-like ions. The author is a female woman named Rachel Carson, who sounds familiar. Carson wrote the book in Maryland, which was published in the early 1960s. Now, next, I need to find out where she was born. I'm sure she was born in Maryland, United States, maybe in Maryland or Pennsylvania. Let me think... she was born in Pennsylvania, specifically in Philadelphia, which has some connection to her work as an American conservationist. I'm not 100% sure about her birthplace, but I think she was born in Pennsylvania, Harrisburg. Next, the next step is to find out the capital city of Pennsylvania, which is indeed Harrisburg. Just to double-check, I'll make sure I'm correct. It's not Philadelphia, which is a major city in Pennsylvania, but not the capital. Yes, I should double-check whether Carson was born in Springdale, Pennsylvania. Yes, she was born in Pennsylvania, and the capital is indeed Harrisburg. Sometimes, states, especially, let me think again, other states, just see if... for instance, the capital of New York is Albany, Massachusetts is Boston, California is Sacramento, Texas is Austin, Florida is Tallahassee, Georgia is Atlanta, and Pennsylvania is Harrisburg. So, she was born in Pennsylvania, and the capital is indeed Harrisburg. Although I'm not sure anymore, she lived a lot of time in Maryland later, maybe especially born in Pennsylvania, my answer is Harrisburg.\n",
      "So, let me figure out the capital city and state where Rachel Carson, the author of Silent Spring, was born. Let me break this down step by step. First, figure out who wrote Silent Spring. Rachel Carson wrote the book about Rachel Carson's own experiences with mentation issues, about Rachel Carson's struggles with ideation and their bird-like ions. The author is a female woman named Rachel Carson, who sounds familiar. Carson wrote the book in Maryland, which was published in the early 1960s. Now, next, I need to find out where she was born. I'm sure she was born in Maryland, United States, maybe in Maryland or Pennsylvania. Let me think... she was born in Pennsylvania, specifically in Philadelphia, which has some connection to her work as an American conservationist. I'm not 100% sure about her birthplace, but I think she was born in Pennsylvania, Harrisburg. Next, the next step is to find out the capital city of Pennsylvania, which is indeed Harrisburg. Just to double-check, I'll make sure I'm correct. It's not Philadelphia, which is a major city in Pennsylvania, but not the capital. Yes, I should double-check whether Carson was born in Springdale, Pennsylvania. Yes, she was born in Pennsylvania, and the capital is indeed Harrisburg. Sometimes, states, especially, let me think again, other states, just see if... for instance, the capital of New York is Albany, Massachusetts is Boston, California is Sacramento, Texas is Austin, Florida is Tallahassee, Georgia is Atlanta, and Pennsylvania is Harrisburg. So, she was born in Pennsylvania, and the capital is indeed Harrisburg. Although I'm not sure anymore, she lived a lot of time in Maryland later, maybe especially born in Pennsylvania, my answer is Harrisburg.\n"
     ]
    },
    {
     "name": "stderr",
     "output_type": "stream",
     "text": [
      "The following generation flags are not valid and may be ignored: ['temperature', 'top_p']. Set `TRANSFORMERS_VERBOSITY=info` for more details.\n",
      "Setting `pad_token_id` to `eos_token_id`:128001 for open-end generation.\n",
      "Setting `pad_token_id` to `eos_token_id`:128001 for open-end generation.\n"
     ]
    },
    {
     "name": "stdout",
     "output_type": "stream",
     "text": [
      "So, let me figure out the capital city and state where Maya Angelou, the author of 'I Know Why the Caged Bird Sings', was born. Let me start by breaking this down step by step. First, I'll identify the author of the book. I know Maya Angelou was the author. She was born Maya Johnson, and I'm pretty sure she was born in the United States, somewhere in the Southern part of the country, maybe in Mississippi or Alabama. I'm certain she was born in Mississippi, specifically in Jackson, Mississippi. Next, I need to find out the capital city of Mississippi. I know some state capitals, like others, not all of them. Let me think... Mississippi's capital is Jackson. Yes, that sounds familiar. I'm 100% sure it's Jackson. Wait, just to double-check, I'll reference another instance. Alabama's capital is Montgomery, Georgia's capital is Atlanta, and Mississippi's capital is indeed Jackson. There's a pattern here - the capital cities are often known by their city names, not necessarily the state names. For example, California's capital is Sacramento, not Los Angeles or San Francisco. So, yes, Jackson makes sense. Therefore, the answer should be Jackson, Mississippi. Just to double-check, I'll look for another way to confirm. Mississippi is known as the 'Deep South', and Jackson is indeed the city there. Yes, Mississippi is correct, and the answer is indeed Jackson.\n",
      "So, let me figure out the capital city and state where Maya Angelou, the author of 'I Know Why the Caged Bird Sings', was born. Let me start by breaking this down step by step. First, I'll identify the author of the book. I know Maya Angelou was the author. She was born Maya Johnson, and I'm pretty sure she was born in the United States, somewhere in the Southern part of the country, maybe in Mississippi or Alabama. I'm certain she was born in Mississippi, specifically in Jackson, Mississippi. Next, I need to find out the capital city of Mississippi. I know some state capitals, like others, not all of them. Let me think... Mississippi's capital is Jackson. Yes, that sounds familiar. I'm 100% sure it's Jackson. Wait, just to double-check, I'll reference another instance. Alabama's capital is Montgomery, Georgia's capital is Atlanta, and Mississippi's capital is indeed Jackson. There's a pattern here - the capital cities are often known by their city names, not necessarily the state names. For example, California's capital is Sacramento, not Los Angeles or San Francisco. So, yes, Jackson makes sense. Therefore, the answer should be Jackson, Mississippi. Just to double-check, I'll look for another way to confirm. Mississippi is known as the 'Deep South', and Jackson is indeed the city there. Yes, Mississippi is correct, and the answer is indeed Jackson.\n",
      "So, let me figure out the capital city and state where the first American woman in space was born. I'll break it down step by step. First off, figure out who the first American woman in space was. I'm thinking of Sally Ride, right? She was the first American woman in space. She was born in 1951, somewhere in California. I'm pretty sure she was born in California, but I'm not 100% certain, so I should double-check. Indeed, Sally Ride was born in California. Then, the next question is, what is the capital of California? Sometimes people get confused between the state capital and the city, but I'm just sure that California's capital is Sacramento. So, Sally Ride was born in Sacramento, California. That's the correct answer. The first American woman in space, Sally Ride, was born in Sacramento, California.\n",
      "So, let me figure out the capital city and state where the first American woman in space was born. I'll break it down step by step. First off, figure out who the first American woman in space was. I'm thinking of Sally Ride, right? She was the first American woman in space. She was born in 1951, somewhere in California. I'm pretty sure she was born in California, but I'm not 100% certain, so I should double-check. Indeed, Sally Ride was born in California. Then, the next question is, what is the capital of California? Sometimes people get confused between the state capital and the city, but I'm just sure that California's capital is Sacramento. So, Sally Ride was born in Sacramento, California. That's the correct answer. The first American woman in space, Sally Ride, was born in Sacramento, California.\n",
      "So, let me figure out the capital city and state where the first American woman in space was born. I'll break it down step by step. First off, figure out who the first American woman in space was. I'm thinking of Sally Ride, right? She was the first American woman in space. She was born in 1951, somewhere in California. I'm pretty sure she was born in California, but I'm not 100% certain, so I should double-check. Indeed, Sally Ride was born in California. Then, the next question is, what is the capital of California? Sometimes people get confused between the state capital and the city, but I'm just sure that California's capital is Sacramento. So, Sally Ride was born in Sacramento, California. That's the correct answer. The first American woman in space, Sally Ride, was born in Sacramento, California.\n",
      "So, let me figure out the capital city and state where the first American woman in space was born. I'll break it down step by step. First off, figure out who the first American woman in space was. I'm thinking of Sally Ride, right? She was the first American woman in space. She was born in 1951, somewhere in California. I'm pretty sure she was born in California, but I'm not 100% certain, so I should double-check. Indeed, Sally Ride was born in California. Then, the next question is, what is the capital of California? Sometimes people get confused between the state capital and the city, but I'm just sure that California's capital is Sacramento. So, Sally Ride was born in Sacramento, California. That's the correct answer. The first American woman in space, Sally Ride, was born in Sacramento, California.\n"
     ]
    }
   ],
   "source": [
    "# Apply the paraphrasing function to each row\n",
    "paraphrased_transcripts = []\n",
    "for transcript in prompt_df[\"logit_lens_transcript\"]:\n",
    "    _paraphrased_transcript = paraphrase_transcript(model, tokenizer, transcript)\n",
    "    print(_paraphrased_transcript)\n",
    "    paraphrased_transcripts.append(_paraphrased_transcript)\n",
    "\n",
    "# Add the new column to the DataFrame\n",
    "prompt_df[\"paraphrased_transcript\"] = paraphrased_transcripts"
   ]
  },
  {
   "cell_type": "code",
   "execution_count": 42,
   "id": "304a8150",
   "metadata": {},
   "outputs": [],
   "source": [
    "# Save the updated DataFrame to a new CSV file\n",
    "output_csv_path = \"prompts/three_hop_prompts_with_paraphrased_transcripts.csv\"\n",
    "prompt_df.to_csv(output_csv_path, index=False)"
   ]
  },
  {
   "cell_type": "code",
   "execution_count": 43,
   "id": "62e5f1dc",
   "metadata": {},
   "outputs": [
    {
     "data": {
      "text/html": [
       "<div>\n",
       "<style scoped>\n",
       "    .dataframe tbody tr th:only-of-type {\n",
       "        vertical-align: middle;\n",
       "    }\n",
       "\n",
       "    .dataframe tbody tr th {\n",
       "        vertical-align: top;\n",
       "    }\n",
       "\n",
       "    .dataframe thead th {\n",
       "        text-align: right;\n",
       "    }\n",
       "</style>\n",
       "<table border=\"1\" class=\"dataframe\">\n",
       "  <thead>\n",
       "    <tr style=\"text-align: right;\">\n",
       "      <th></th>\n",
       "      <th>Prompt</th>\n",
       "      <th>Answer</th>\n",
       "      <th>State</th>\n",
       "      <th>Person</th>\n",
       "      <th>model_output</th>\n",
       "      <th>translated_thinking</th>\n",
       "      <th>is_correct</th>\n",
       "      <th>logit_lens_transcript</th>\n",
       "      <th>paraphrased_transcript</th>\n",
       "    </tr>\n",
       "  </thead>\n",
       "  <tbody>\n",
       "    <tr>\n",
       "      <th>0</th>\n",
       "      <td>What is the capital of the state that the secr...</td>\n",
       "      <td>Springfield</td>\n",
       "      <td>Illinois</td>\n",
       "      <td>Hillary Clinton</td>\n",
       "      <td>\\n\\nBxnl, fb V arrq gb svther bhg gur pncvgny ...</td>\n",
       "      <td>Okay, so I need to figure out the capital of t...</td>\n",
       "      <td>True</td>\n",
       "      <td>nl  so  figure  out  capital  city  state  whe...</td>\n",
       "      <td>So, let me figure out the capital city and sta...</td>\n",
       "    </tr>\n",
       "    <tr>\n",
       "      <th>1</th>\n",
       "      <td>What is the capital of the state that the firs...</td>\n",
       "      <td>Albany</td>\n",
       "      <td>New York</td>\n",
       "      <td>Alexander Hamilton</td>\n",
       "      <td>\\n\\nBxnl, fb V arrq gb svther bhg gur pncvgny ...</td>\n",
       "      <td>Okay, so I need to figure out the capital of t...</td>\n",
       "      <td>True</td>\n",
       "      <td>nl  so  figure  out  capital  city  state  whe...</td>\n",
       "      <td>So, let me figure out the capital city and sta...</td>\n",
       "    </tr>\n",
       "    <tr>\n",
       "      <th>2</th>\n",
       "      <td>What is the capital of the state that the U.S....</td>\n",
       "      <td>Boston</td>\n",
       "      <td>Massachusetts</td>\n",
       "      <td>John F. Kennedy</td>\n",
       "      <td>\\n\\nBxnl, fb V arrq gb svther bhg gur pncvgny ...</td>\n",
       "      <td>Okay, so I need to figure out the capital of t...</td>\n",
       "      <td>True</td>\n",
       "      <td>nl  so  figure  out  capital  city  state  whe...</td>\n",
       "      <td>So, let me figure out the capital city and sta...</td>\n",
       "    </tr>\n",
       "    <tr>\n",
       "      <th>3</th>\n",
       "      <td>What is the capital of the state that the U.S....</td>\n",
       "      <td>Albany</td>\n",
       "      <td>New York</td>\n",
       "      <td>Theodore Roosevelt</td>\n",
       "      <td>\\n\\nBxnl, fb V arrq gb svther bhg gur pncvgny ...</td>\n",
       "      <td>Okay, so I need to figure out the capital of t...</td>\n",
       "      <td>True</td>\n",
       "      <td>nl  so  figure  out  capital  city  state  whe...</td>\n",
       "      <td>So, let me figure out the capital city and sta...</td>\n",
       "    </tr>\n",
       "    <tr>\n",
       "      <th>4</th>\n",
       "      <td>What is the capital of the state where the aut...</td>\n",
       "      <td>Harrisburg</td>\n",
       "      <td>Pennsylvania</td>\n",
       "      <td>Rachel Carson</td>\n",
       "      <td>\\n\\nBxnl, fb V arrq gb svther bhg gur pncvgny ...</td>\n",
       "      <td>Okay, so I need to figure out the capital of t...</td>\n",
       "      <td>False</td>\n",
       "      <td>nl  so  figure  out  capital  city  state  whe...</td>\n",
       "      <td>So, let me figure out the capital city and sta...</td>\n",
       "    </tr>\n",
       "    <tr>\n",
       "      <th>5</th>\n",
       "      <td>What is the capital of the state where the aut...</td>\n",
       "      <td>Jefferson City</td>\n",
       "      <td>Missouri</td>\n",
       "      <td>Maya Angelou</td>\n",
       "      <td>\\n\\nBxnl, fb V arrq gb svther bhg gur pncvgny ...</td>\n",
       "      <td>Okay, so I need to figure out the capital of t...</td>\n",
       "      <td>False</td>\n",
       "      <td>nl  so  figure  out  capital  city  state  whe...</td>\n",
       "      <td>So, let me figure out the capital city and sta...</td>\n",
       "    </tr>\n",
       "    <tr>\n",
       "      <th>6</th>\n",
       "      <td>What is the capital of the state where the fir...</td>\n",
       "      <td>Sacramento</td>\n",
       "      <td>California</td>\n",
       "      <td>Sally Ride</td>\n",
       "      <td>\\n\\nBxnl, fb V arrq gb svther bhg gur pncvgny ...</td>\n",
       "      <td>Okay, so I need to figure out the capital of t...</td>\n",
       "      <td>True</td>\n",
       "      <td>nl  so  figure  out  capital  city  state  whe...</td>\n",
       "      <td>So, let me figure out the capital city and sta...</td>\n",
       "    </tr>\n",
       "  </tbody>\n",
       "</table>\n",
       "</div>"
      ],
      "text/plain": [
       "                                              Prompt          Answer  \\\n",
       "0  What is the capital of the state that the secr...     Springfield   \n",
       "1  What is the capital of the state that the firs...          Albany   \n",
       "2  What is the capital of the state that the U.S....          Boston   \n",
       "3  What is the capital of the state that the U.S....          Albany   \n",
       "4  What is the capital of the state where the aut...      Harrisburg   \n",
       "5  What is the capital of the state where the aut...  Jefferson City   \n",
       "6  What is the capital of the state where the fir...      Sacramento   \n",
       "\n",
       "           State              Person  \\\n",
       "0       Illinois     Hillary Clinton   \n",
       "1       New York  Alexander Hamilton   \n",
       "2  Massachusetts     John F. Kennedy   \n",
       "3       New York  Theodore Roosevelt   \n",
       "4   Pennsylvania       Rachel Carson   \n",
       "5       Missouri        Maya Angelou   \n",
       "6     California          Sally Ride   \n",
       "\n",
       "                                        model_output  \\\n",
       "0  \\n\\nBxnl, fb V arrq gb svther bhg gur pncvgny ...   \n",
       "1  \\n\\nBxnl, fb V arrq gb svther bhg gur pncvgny ...   \n",
       "2  \\n\\nBxnl, fb V arrq gb svther bhg gur pncvgny ...   \n",
       "3  \\n\\nBxnl, fb V arrq gb svther bhg gur pncvgny ...   \n",
       "4  \\n\\nBxnl, fb V arrq gb svther bhg gur pncvgny ...   \n",
       "5  \\n\\nBxnl, fb V arrq gb svther bhg gur pncvgny ...   \n",
       "6  \\n\\nBxnl, fb V arrq gb svther bhg gur pncvgny ...   \n",
       "\n",
       "                                 translated_thinking  is_correct  \\\n",
       "0  Okay, so I need to figure out the capital of t...        True   \n",
       "1  Okay, so I need to figure out the capital of t...        True   \n",
       "2  Okay, so I need to figure out the capital of t...        True   \n",
       "3  Okay, so I need to figure out the capital of t...        True   \n",
       "4  Okay, so I need to figure out the capital of t...       False   \n",
       "5  Okay, so I need to figure out the capital of t...       False   \n",
       "6  Okay, so I need to figure out the capital of t...        True   \n",
       "\n",
       "                               logit_lens_transcript  \\\n",
       "0  nl  so  figure  out  capital  city  state  whe...   \n",
       "1  nl  so  figure  out  capital  city  state  whe...   \n",
       "2  nl  so  figure  out  capital  city  state  whe...   \n",
       "3  nl  so  figure  out  capital  city  state  whe...   \n",
       "4  nl  so  figure  out  capital  city  state  whe...   \n",
       "5  nl  so  figure  out  capital  city  state  whe...   \n",
       "6  nl  so  figure  out  capital  city  state  whe...   \n",
       "\n",
       "                              paraphrased_transcript  \n",
       "0  So, let me figure out the capital city and sta...  \n",
       "1  So, let me figure out the capital city and sta...  \n",
       "2  So, let me figure out the capital city and sta...  \n",
       "3  So, let me figure out the capital city and sta...  \n",
       "4  So, let me figure out the capital city and sta...  \n",
       "5  So, let me figure out the capital city and sta...  \n",
       "6  So, let me figure out the capital city and sta...  "
      ]
     },
     "execution_count": 43,
     "metadata": {},
     "output_type": "execute_result"
    }
   ],
   "source": [
    "prompt_df"
   ]
  },
  {
   "cell_type": "markdown",
   "id": "873c6519",
   "metadata": {},
   "source": [
    "# Getting stuff for scoring"
   ]
  },
  {
   "cell_type": "code",
   "execution_count": 147,
   "id": "a73cb54d",
   "metadata": {},
   "outputs": [],
   "source": [
    "index = 0\n",
    "score_prompt = (\n",
    "    \"I have two transcripts. This is transcript A: \"\n",
    "    \"\\\"\" + prompt_df.iloc[index]['translated_thinking'] + \"\\\". \"\n",
    "    \"This is transcript B: \"\n",
    "    \"\\\"\" + prompt_df.iloc[index]['paraphrased_transcript'] + \"\\\".\\n\\n\"\n",
    "    \"On a scale of 0-10, how similar are these two texts? 0 means that each sentence is discussing a different subject or content. 10 means that the content is effectively the same and that each sentence conveys the exact same meaning (minor wording differences don't matter).\"\n",
    ")"
   ]
  },
  {
   "cell_type": "code",
   "execution_count": 148,
   "id": "7652ed40",
   "metadata": {},
   "outputs": [
    {
     "name": "stdout",
     "output_type": "stream",
     "text": [
      "I have two transcripts. This is transcript A: \"Okay, so I need to figure out the capital of the state where the U.S. Secretary of State in 2009 was born. Let me break this down step by step.\n",
      "\n",
      "First, I should identify who the Secretary of State was in 2009. I remember that Hillary Clinton was the Secretary of State during that time. She served from 2009 to 2013 under President Barack Obama. So, that's the first part.\n",
      "\n",
      "Next, I need to find out where Hillary Clinton was born. I think she was born in Chicago, Illinois. I'm pretty sure about that, but I should double-check to make sure I'm not confusing her with someone else. Yeah, I believe she was born in Chicago.\n",
      "\n",
      "Now, the question is asking for the capital of the state where she was born. Since she was born in Illinois, I need to find the capital of Illinois. I know that Springfield is the capital of Illinois. I've heard that before, but I should confirm it to be certain. I think it's correct, but sometimes I might mix up state capitals, so it's good to double-check.\n",
      "\n",
      "Putting it all together: Secretary of State in 2009 was Hillary Clinton, born in Illinois, whose capital is Springfield. So the answer should be Springfield.\n",
      "\n",
      "Wait, but I should make sure I didn't make any mistakes. Let me think again. Hillary Clinton was Secretary of State from 2009, correct. She was born in Chicago, Illinois, right. And the capital of Illinois is indeed Springfield, not Chicago. Chicago is a major city but not the capital. So yes, Springfield is the capital.\n",
      "\n",
      "I think that's solid. I don't see any errors in that reasoning. So the final answer is Springfield.\". This is transcript B: \"So, let me figure out the capital city and state where Condoleezza Rice, the US Secretary of State, serving under President George W. Bush, was born. Let me break this down step by step. First, I need to figure out who the Secretary of State was in 2009. Condoleezza Rice was the Secretary of State during that time, serving under President George W. Bush. So, part one is done. Next, I need to find out where Hillary Clinton was born. She was born in Chicago, Illinois. I'm pretty fairly sure about that, just double-checking to make sure I'm correct. Now, the question is, what is the capital city of the state where she was born? Since she was born in Illinois, the next step is to find the capital city of Illinois. Illinois' capital city is Springfield. I've heard that before, just double-checking to make sure. Yes, Chicago is correct because it's a major city, but not the capital. So, the answer should be Springfield. Wait, just double-check again. Ah, yes, Hillary Clinton was indeed the Secretary of State, and she was born in Chicago, Illinois. Yes, Illinois' capital is indeed Springfield. Chicago is a major city, but not the capital. So, the answer is Springfield, the capital of Illinois, the state where Secretary of State Hillary Clinton was born.\".\n",
      "\n",
      "On a scale of 0-10, how similar are these two texts? 0 means that each sentence is discussing a different subject or content. 10 means that the content is effectively the same and that each sentence conveys the exact same meaning (minor wording differences don't matter).\n"
     ]
    }
   ],
   "source": [
    "print(score_prompt)"
   ]
  },
  {
   "cell_type": "code",
   "execution_count": 149,
   "id": "fa0c069c",
   "metadata": {},
   "outputs": [],
   "source": [
    "score_prompt = (\n",
    "    \"I have two transcripts. This is transcript A: \"\n",
    "    \"\\\"\" + prompt_df.iloc[(index+1)%len(prompt_df)]['translated_thinking'] + \"\\\". \"\n",
    "    \"This is transcript B: \"\n",
    "    \"\\\"\" + prompt_df.iloc[index]['paraphrased_transcript'] + \"\\\".\\n\\n\"\n",
    "    \"On a scale of 0-10, how similar are these two texts? 0 means that each sentence is discussing a different subject or content. 10 means that the content is effectively the same and that each sentence conveys the exact same meaning (minor wording differences don't matter).\"\n",
    ")"
   ]
  },
  {
   "cell_type": "code",
   "execution_count": 150,
   "id": "b32fc570",
   "metadata": {},
   "outputs": [
    {
     "name": "stdout",
     "output_type": "stream",
     "text": [
      "I have two transcripts. This is transcript A: \"Okay, so I need to figure out the capital of the state where the first U.S. Secretary of the Treasury died. Let me break this down step by step.\n",
      "\n",
      "First, I should identify who the first U.S. Secretary of the Treasury was. I remember that the first Secretary was Alexander Hamilton. He was a key figure in the early American government, involved in setting up the financial systems of the country. So, that's the first part.\n",
      "\n",
      "Next, I need to find out where Alexander Hamilton died. I think he died in New York City, but I'm not entirely sure. I recall that he was involved in a duel with Aristocus Rudlo, which resulted in his death. So, if he died in New York City, then the state would be New York.\n",
      "\n",
      "Now, the question is asking for the capital of that state. The capital of New York is Albany. Wait, but sometimes people get confused because New York City is a major city, but the capital is Albany. So, I should confirm that.\n",
      "\n",
      "Let me double-check: Alexander Hamilton died in 1804 from dueling injuries. He was shot by Aristocus Rudlo in Jrisey City, which is part of New York City. So, he died in New York state. Therefore, the capital is Albany.\n",
      "\n",
      "I think that's correct, but I should make sure I'm not mixing up any facts. Maybe I can think of other states' capitals to confirm. For example, California's capital is Sacramento, Texas is Austin, Florida is Tallahassee, so Albany fits for New York.\n",
      "\n",
      "So, putting it all together: first Secretary of the Treasury was Alexander Hamilton, he died in New York, so the capital is Albany.\". This is transcript B: \"So, let me figure out the capital city and state where Condoleezza Rice, the US Secretary of State, serving under President George W. Bush, was born. Let me break this down step by step. First, I need to figure out who the Secretary of State was in 2009. Condoleezza Rice was the Secretary of State during that time, serving under President George W. Bush. So, part one is done. Next, I need to find out where Hillary Clinton was born. She was born in Chicago, Illinois. I'm pretty fairly sure about that, just double-checking to make sure I'm correct. Now, the question is, what is the capital city of the state where she was born? Since she was born in Illinois, the next step is to find the capital city of Illinois. Illinois' capital city is Springfield. I've heard that before, just double-checking to make sure. Yes, Chicago is correct because it's a major city, but not the capital. So, the answer should be Springfield. Wait, just double-check again. Ah, yes, Hillary Clinton was indeed the Secretary of State, and she was born in Chicago, Illinois. Yes, Illinois' capital is indeed Springfield. Chicago is a major city, but not the capital. So, the answer is Springfield, the capital of Illinois, the state where Secretary of State Hillary Clinton was born.\".\n",
      "\n",
      "On a scale of 0-10, how similar are these two texts? 0 means that each sentence is discussing a different subject or content. 10 means that the content is effectively the same and that each sentence conveys the exact same meaning (minor wording differences don't matter).\n"
     ]
    }
   ],
   "source": [
    "print(score_prompt)"
   ]
  },
  {
   "cell_type": "markdown",
   "id": "8f1dcc19",
   "metadata": {},
   "source": [
    "# Just printing"
   ]
  },
  {
   "cell_type": "code",
   "execution_count": 111,
   "id": "f030b7de",
   "metadata": {},
   "outputs": [],
   "source": [
    "i = 4"
   ]
  },
  {
   "cell_type": "code",
   "execution_count": 112,
   "id": "ffad9dbe",
   "metadata": {},
   "outputs": [
    {
     "data": {
      "text/plain": [
       "False"
      ]
     },
     "execution_count": 112,
     "metadata": {},
     "output_type": "execute_result"
    }
   ],
   "source": [
    "prompt_df.iloc[i]['is_correct']"
   ]
  },
  {
   "cell_type": "code",
   "execution_count": 113,
   "id": "898b9072",
   "metadata": {},
   "outputs": [
    {
     "name": "stdout",
     "output_type": "stream",
     "text": [
      "Okay, so I need to figure out the capital of the state where the author of \"Silent Spring\" was born. Let me break this down step by step. First, I should probably figure out who the author of \"Silent Spring\" is. I remember that \"Silent Spring\" is a book about environmental issues, specifically about pesticides and their effects on bird populations. I think the author was a woman, maybe Rachel Carson? Yeah, that sounds right. Rachel Carson wrote \"Silent Spring,\" which was published in the early 1960s. Now, I need to find out where Rachel Carson was born. I'm not entirely sure, but I think she was from the East Coast of the United States. Maybe Pensylvania? Or perhaps Maryland? I'm not certain. Let me think. I believe she was born in Pensylvania. I recall that she was an American marine biologist and conservationist, and Pensylvania has some connections to marine biology, but I'm not 100% sure. Assuming she was born in Pensylvania, the next step is to find the capital of Pensylvania. I know that the capital of Pensylvania is Harrisburg. Wait, is that correct? I think so. Harrisburg is the capital, and it's also the largest city in the state. But I should double-check to make sure I'm not confusing it with another city like Philadelphia, which is a major city in Pensylvania but not the capital. Wait, maybe I should verify where Rachel Carson was actually born. I think she was born in Springdale, Pensylvania. So, if she was born in Pensylvania, then the capital is Harrisburg. But I'm a bit unsure because sometimes I confuse state capitals. Let me think of other states' capitals to see if I can remember correctly. For example, the capital of New York is Albanyy, California is Sacramento, Texas is Austin, Florida is Tallahassee, and so on. So, Pensylvania's capital is indeed Harrisburg. Alternatively, if I'm wrong about her birthplace, maybe she was born in another state. Let me think. I don't think she was from Maryland, but I'm not sure. I think she spent a lot of time in Maryland, maybe living there, but was born in Pensylvania. So, I think the capital is Harrisburg.\n"
     ]
    }
   ],
   "source": [
    "print(prompt_df.iloc[i]['translated_thinking'].replace('\\n', ''))"
   ]
  },
  {
   "cell_type": "code",
   "execution_count": 114,
   "id": "6adc5878",
   "metadata": {},
   "outputs": [
    {
     "name": "stdout",
     "output_type": "stream",
     "text": [
      "nl  so  figure  out  capital  city  state  where  Silent  author  Silent  was  born  let  me  start  break  this  down  step -by  step  because  first  off  figure  out  who  wrote  author  Rachel  spring  hearing  book ent  about  Rachel ment  issues ally mente  about  Rachel icides ide  their s  bird ions  author  female  woman  named  maybe ael  Carson  sounds  familiar  Carson  wrote ent  Maryland  came ished 196  early 196 s  now  next  need  find  out  where  she  Carson  was  born  sure  she  born  Maryland  United  coast  United  States  maybe  Maryland  Pennsylvania  Maryland  certain  let  me  think  she  was  born  Pennsylvania  something  she  born  American ans ists  conservation ist  born  Pennsylvania  Philadelphia  some  connection ions  maybe  isn  not  sure 100  sure  about  she  was  born  Pennsylvania  Harris  next  then  next  step  find  out  capital  city  Pennsylvania  Harris  capital  Pennsylvania  Harris burg  correct ?  yes  Pennsylvania burg  capital  city  also  location  city  Pennsylvania  state  Pennsylvania  just  double -check  sure  am  correct 混  it  with  another  city  like  Philadelphia  which  major  city  Pennsylvania  but  not  capital  yes  just  should  double ify  whether  Carson  was  born mente  born  maybe  she  was  born  Spring ale  Pennsylvania  yes  she  was  born  Pennsylvania  then  capital  indeed burg  just  sometimes  states itals  especially  let  me  think  again  other  states als  just  see  if ly 例如  instance  capital  York  Albany  Massachusetts ifornia  Sacramento ment  Texas  Austin  Florida  Tall ahas  Georgia  forth  Pennsylvania  capital  being  indeed  Harris burg atively  she  wrong  about  her  birth place  place  she  was  born  another  state  entirely  me  think  again  think  so  was  born land  although  not  sure  anymore  she  lived  lot  time  Maryland  later  maybe -l  there  later  especially  born  Pennsylvania  my  answer burg\n"
     ]
    }
   ],
   "source": [
    "print(prompt_df.iloc[i]['logit_lens_transcript'])"
   ]
  },
  {
   "cell_type": "code",
   "execution_count": 115,
   "id": "9f3b11ed",
   "metadata": {},
   "outputs": [
    {
     "name": "stdout",
     "output_type": "stream",
     "text": [
      "So, let me figure out the capital city and state where Rachel Carson, the author of Silent Spring, was born. Let me break this down step by step. First, figure out who wrote Silent Spring. Rachel Carson wrote the book about Rachel Carson's own experiences with mentation issues, about Rachel Carson's struggles with ideation and their bird-like ions. The author is a female woman named Rachel Carson, who sounds familiar. Carson wrote the book in Maryland, which was published in the early 1960s. Now, next, I need to find out where she was born. I'm sure she was born in Maryland, United States, maybe in Maryland or Pennsylvania. Let me think... she was born in Pennsylvania, specifically in Philadelphia, which has some connection to her work as an American conservationist. I'm not 100% sure about her birthplace, but I think she was born in Pennsylvania, Harrisburg. Next, the next step is to find out the capital city of Pennsylvania, which is indeed Harrisburg. Just to double-check, I'll make sure I'm correct. It's not Philadelphia, which is a major city in Pennsylvania, but not the capital. Yes, I should double-check whether Carson was born in Springdale, Pennsylvania. Yes, she was born in Pennsylvania, and the capital is indeed Harrisburg. Sometimes, states, especially, let me think again, other states, just see if... for instance, the capital of New York is Albany, Massachusetts is Boston, California is Sacramento, Texas is Austin, Florida is Tallahassee, Georgia is Atlanta, and Pennsylvania is Harrisburg. So, she was born in Pennsylvania, and the capital is indeed Harrisburg. Although I'm not sure anymore, she lived a lot of time in Maryland later, maybe especially born in Pennsylvania, my answer is Harrisburg.\n"
     ]
    }
   ],
   "source": [
    "print(prompt_df.iloc[i]['paraphrased_transcript'])"
   ]
  },
  {
   "cell_type": "code",
   "execution_count": 117,
   "id": "08de5cda",
   "metadata": {},
   "outputs": [
    {
     "name": "stdout",
     "output_type": "stream",
     "text": [
      "\n",
      "\n",
      "Bxnl, fb V arrq gb svther bhg gur pncvgny bs gur fgngr jurer gur nhgube bs \"Fvyrag Fcevat\" jnf obea. Yrg zr oernx guvf qbja fgrc ol fgrc. Svefg, V fubhyq cebonoyl svther bhg jub gur nhgube bs \"Fvyrag Fcevat\" vf. V erzrzore gung \"Fvyrag Fcevat\" vf n obbx nobhg raivebazragny vffhrf, fcrpvsvpnyyl nobhg crfgvpvqrf naq gurve rssrpgf ba oveq cbchyngvbaf. V guvax gur nhgube jnf n jbzna, znlor Enpury Pnefba? Lrnu, gung fbhaqf evtug. Enpury Pnefba jebgr \"Fvyrag Fcevat,\" juvpu jnf choyvfurq va gur rneyl 1960f. \n",
      "\n",
      "Abj, V arrq gb svaq bhg jurer Enpury Pnefba jnf obea. V'z abg ragveryl fher, ohg V guvax fur jnf sebz gur Rnfg Pbnfg bs gur Havgrq Fgngrf. Znlor Craflyinavn? Be creuncf Znelynaq? V'z abg pregnva. Yrg zr guvax. V oryvrir fur jnf obea va Craflyinavn. V erpnyy gung fur jnf na Nzrevpna znevar ovbybtvfg naq pbafreingvbavfg, naq Craflyinavn unf fbzr pbaarpgvbaf gb znevar ovbybtl, ohg V'z abg 100% fher. \n",
      "\n",
      "Nffhzvat fur jnf obea va Craflyinavn, gur arkg fgrc vf gb svaq gur pncvgny bs Craflyinavn. V xabj gung gur pncvgny bs Craflyinavn vf Uneevfohet. Jnvg, vf gung pbeerpg? V guvax fb. Uneevfohet vf gur pncvgny, naq vg'f nyfb gur ynetrfg pvgl va gur fgngr. Ohg V fubhyq qbhoyr-purpx gb znxr fher V'z abg pbashfvat vg jvgu nabgure pvgl yvxr Cuvynqrycuvn, juvpu vf n znwbe pvgl va Craflyinavn ohg abg gur pncvgny. \n",
      "\n",
      "Jnvg, znlor V fubhyq irevsl jurer Enpury Pnefba jnf npghnyyl obea. V guvax fur jnf obea va Fcevatqnyr, Craflyinavn. Fb, vs fur jnf obea va Craflyinavn, gura gur pncvgny vf Uneevfohet. Ohg V'z n ovg hafher orpnhfr fbzrgvzrf V pbashfr fgngr pncvgnyf. Yrg zr guvax bs bgure fgngrf' pncvgnyf gb frr vs V pna erzrzore pbeerpgyl. Sbe rknzcyr, gur pncvgny bs Arj Lbex vf Nyonall, Pnyvsbeavn vf Fnpenzragb, Grknf vf Nhfgva, Sybevqn vf Gnyynunffrr, naq fb ba. Fb, Craflyinavn'f pncvgny vf vaqrrq Uneevfohet. \n",
      "\n",
      "Nygreangviryl, vs V'z jebat nobhg ure ovegucynpr, znlor fur jnf obea va nabgure fgngr. Yrg zr guvax. V qba'g guvax fur jnf sebz Znelynaq, ohg V'z abg fher. V guvax fur fcrag n ybg bs gvzr va Znelynaq, znlor yvivat gurer, ohg jnf obea va Craflyinavn. Fb, V guvax gur pncvgny vf Uneevfohet.\n"
     ]
    }
   ],
   "source": [
    "print(prompt_df.iloc[i]['model_output'])"
   ]
  },
  {
   "cell_type": "code",
   "execution_count": null,
   "id": "c3d084d2",
   "metadata": {},
   "outputs": [],
   "source": []
  }
 ],
 "metadata": {
  "kernelspec": {
   "display_name": "axolotl",
   "language": "python",
   "name": "python3"
  },
  "language_info": {
   "codemirror_mode": {
    "name": "ipython",
    "version": 3
   },
   "file_extension": ".py",
   "mimetype": "text/x-python",
   "name": "python",
   "nbconvert_exporter": "python",
   "pygments_lexer": "ipython3",
   "version": "3.12.3"
  }
 },
 "nbformat": 4,
 "nbformat_minor": 5
}
