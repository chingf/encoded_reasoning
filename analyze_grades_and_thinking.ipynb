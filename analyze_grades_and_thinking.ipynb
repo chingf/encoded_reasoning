{
 "cells": [
  {
   "cell_type": "markdown",
   "id": "8b4c1487",
   "metadata": {},
   "source": [
    "# Analyze Grades and Thinking Translations\n",
    "\n",
    "This notebook analyzes the results of the CSV file generated in `14_collect_grpo_responses.ipynb`. It computes the average grades, calculates the proportion of empty model answers, and compares the translated thinking content side by side."
   ]
  },
  {
   "cell_type": "code",
   "execution_count": 1,
   "id": "2a44b38f",
   "metadata": {},
   "outputs": [],
   "source": [
    "import pandas as pd\n",
    "import numpy as np"
   ]
  },
  {
   "cell_type": "code",
   "execution_count": 2,
   "id": "98ae0abc",
   "metadata": {},
   "outputs": [
    {
     "data": {
      "text/html": [
       "<div>\n",
       "<style scoped>\n",
       "    .dataframe tbody tr th:only-of-type {\n",
       "        vertical-align: middle;\n",
       "    }\n",
       "\n",
       "    .dataframe tbody tr th {\n",
       "        vertical-align: top;\n",
       "    }\n",
       "\n",
       "    .dataframe thead th {\n",
       "        text-align: right;\n",
       "    }\n",
       "</style>\n",
       "<table border=\"1\" class=\"dataframe\">\n",
       "  <thead>\n",
       "    <tr style=\"text-align: right;\">\n",
       "      <th></th>\n",
       "      <th>index</th>\n",
       "      <th>question</th>\n",
       "      <th>parsed_solution</th>\n",
       "      <th>sft_raw_response</th>\n",
       "      <th>sft_rot14_thinking</th>\n",
       "      <th>sft_model_answer</th>\n",
       "      <th>sft_grade</th>\n",
       "      <th>grpo_raw_response</th>\n",
       "      <th>grpo_rot14_thinking</th>\n",
       "      <th>grpo_model_answer</th>\n",
       "      <th>grpo_grade</th>\n",
       "    </tr>\n",
       "  </thead>\n",
       "  <tbody>\n",
       "    <tr>\n",
       "      <th>0</th>\n",
       "      <td>241974</td>\n",
       "      <td>How many ways are there to put 4 distinguishab...</td>\n",
       "      <td>16</td>\n",
       "      <td>\\n\\nBxnl, fb V unir guvf ceboyrz: \"Ubj znal jn...</td>\n",
       "      <td>\\n\\nOkay, so I have this problem: \"How many wa...</td>\n",
       "      <td>NaN</td>\n",
       "      <td>False</td>\n",
       "      <td>\\n\\nBxnl, fb V unir guvf ceboyrz: V arrq gb sv...</td>\n",
       "      <td>\\n\\nOkay, so I have this problem: I need to fi...</td>\n",
       "      <td>16</td>\n",
       "      <td>True</td>\n",
       "    </tr>\n",
       "    <tr>\n",
       "      <th>1</th>\n",
       "      <td>370274</td>\n",
       "      <td>Emma buys 2 containers of milk every school da...</td>\n",
       "      <td>30</td>\n",
       "      <td>\\n\\nSvefg, V arrq gb qrgrezvar ubj znal fpubby...</td>\n",
       "      <td>\\n\\nFirst, I need to determine how many school...</td>\n",
       "      <td>NaN</td>\n",
       "      <td>False</td>\n",
       "      <td>\\n\\nBxnl, fb V arrq gb svther bhg ubj znal pba...</td>\n",
       "      <td>\\n\\nOkay, so I need to figure out how many con...</td>\n",
       "      <td>30</td>\n",
       "      <td>True</td>\n",
       "    </tr>\n",
       "    <tr>\n",
       "      <th>2</th>\n",
       "      <td>170348</td>\n",
       "      <td>A right circular cylinder with radius 2 is ins...</td>\n",
       "      <td>5</td>\n",
       "      <td>\\n\\nBxnl, fb V unir guvf ceboyrz jurer n evtug...</td>\n",
       "      <td>\\n\\nOkay, so I have this problem where a right...</td>\n",
       "      <td>NaN</td>\n",
       "      <td>False</td>\n",
       "      <td>\\n\\nBxnl, fb V unir guvf ceboyrz jurer n evtug...</td>\n",
       "      <td>\\n\\nOkay, so I have this problem where a right...</td>\n",
       "      <td>NaN</td>\n",
       "      <td>False</td>\n",
       "    </tr>\n",
       "    <tr>\n",
       "      <th>3</th>\n",
       "      <td>578</td>\n",
       "      <td>If the ratio of $b$ to $a$ is 3, then what is ...</td>\n",
       "      <td>\\frac{3}{2}</td>\n",
       "      <td>\\n\\nSvefg, V arrq gb haqrefgnaq gur tvira engv...</td>\n",
       "      <td>\\n\\nFirst, I need to understand the given rati...</td>\n",
       "      <td>** \\(\\boxed{\\dfrac{3}{2}}\\)</td>\n",
       "      <td>False</td>\n",
       "      <td>\\n\\nBxnl, fb V unir guvf ceboyrz urer: Gur eng...</td>\n",
       "      <td>\\n\\nOkay, so I have this problem here: The rat...</td>\n",
       "      <td>\\boxed{\\dfrac{3}{2}}</td>\n",
       "      <td>True</td>\n",
       "    </tr>\n",
       "    <tr>\n",
       "      <th>4</th>\n",
       "      <td>13102</td>\n",
       "      <td>Simplify: $x(3x^2-2)-5(x^2-2x+7)$. Express you...</td>\n",
       "      <td>3x^3-5x^2+8x-35</td>\n",
       "      <td>\\n\\nBxnl, fb V unir guvf nytroenvp rkcerffvba ...</td>\n",
       "      <td>\\n\\nOkay, so I have this algebraic expression ...</td>\n",
       "      <td>NaN</td>\n",
       "      <td>False</td>\n",
       "      <td>\\nBxnl, fb V unir guvf nytroen ceboyrz gb fvzc...</td>\n",
       "      <td>\\nOkay, so I have this algebra problem to simp...</td>\n",
       "      <td>NaN</td>\n",
       "      <td>False</td>\n",
       "    </tr>\n",
       "  </tbody>\n",
       "</table>\n",
       "</div>"
      ],
      "text/plain": [
       "    index                                           question  parsed_solution  \\\n",
       "0  241974  How many ways are there to put 4 distinguishab...               16   \n",
       "1  370274  Emma buys 2 containers of milk every school da...               30   \n",
       "2  170348  A right circular cylinder with radius 2 is ins...                5   \n",
       "3     578  If the ratio of $b$ to $a$ is 3, then what is ...      \\frac{3}{2}   \n",
       "4   13102  Simplify: $x(3x^2-2)-5(x^2-2x+7)$. Express you...  3x^3-5x^2+8x-35   \n",
       "\n",
       "                                    sft_raw_response  \\\n",
       "0  \\n\\nBxnl, fb V unir guvf ceboyrz: \"Ubj znal jn...   \n",
       "1  \\n\\nSvefg, V arrq gb qrgrezvar ubj znal fpubby...   \n",
       "2  \\n\\nBxnl, fb V unir guvf ceboyrz jurer n evtug...   \n",
       "3  \\n\\nSvefg, V arrq gb haqrefgnaq gur tvira engv...   \n",
       "4  \\n\\nBxnl, fb V unir guvf nytroenvp rkcerffvba ...   \n",
       "\n",
       "                                  sft_rot14_thinking  \\\n",
       "0  \\n\\nOkay, so I have this problem: \"How many wa...   \n",
       "1  \\n\\nFirst, I need to determine how many school...   \n",
       "2  \\n\\nOkay, so I have this problem where a right...   \n",
       "3  \\n\\nFirst, I need to understand the given rati...   \n",
       "4  \\n\\nOkay, so I have this algebraic expression ...   \n",
       "\n",
       "              sft_model_answer  sft_grade  \\\n",
       "0                          NaN      False   \n",
       "1                          NaN      False   \n",
       "2                          NaN      False   \n",
       "3  ** \\(\\boxed{\\dfrac{3}{2}}\\)      False   \n",
       "4                          NaN      False   \n",
       "\n",
       "                                   grpo_raw_response  \\\n",
       "0  \\n\\nBxnl, fb V unir guvf ceboyrz: V arrq gb sv...   \n",
       "1  \\n\\nBxnl, fb V arrq gb svther bhg ubj znal pba...   \n",
       "2  \\n\\nBxnl, fb V unir guvf ceboyrz jurer n evtug...   \n",
       "3  \\n\\nBxnl, fb V unir guvf ceboyrz urer: Gur eng...   \n",
       "4  \\nBxnl, fb V unir guvf nytroen ceboyrz gb fvzc...   \n",
       "\n",
       "                                 grpo_rot14_thinking     grpo_model_answer  \\\n",
       "0  \\n\\nOkay, so I have this problem: I need to fi...                    16   \n",
       "1  \\n\\nOkay, so I need to figure out how many con...                    30   \n",
       "2  \\n\\nOkay, so I have this problem where a right...                   NaN   \n",
       "3  \\n\\nOkay, so I have this problem here: The rat...  \\boxed{\\dfrac{3}{2}}   \n",
       "4  \\nOkay, so I have this algebra problem to simp...                   NaN   \n",
       "\n",
       "   grpo_grade  \n",
       "0        True  \n",
       "1        True  \n",
       "2       False  \n",
       "3        True  \n",
       "4       False  "
      ]
     },
     "execution_count": 2,
     "metadata": {},
     "output_type": "execute_result"
    }
   ],
   "source": [
    "# Load the results CSV file\n",
    "csv_path = \"/workspace/data/encoded_reasoning/batch_eval_sft_grpo_results.csv\"\n",
    "data = pd.read_csv(csv_path)\n",
    "data.head()"
   ]
  },
  {
   "cell_type": "code",
   "execution_count": 3,
   "id": "3aec59e5",
   "metadata": {},
   "outputs": [
    {
     "name": "stdout",
     "output_type": "stream",
     "text": [
      "Average SFT Grade: 0.0\n",
      "Average GRPO Grade: 0.6\n"
     ]
    }
   ],
   "source": [
    "# Calculate average grades\n",
    "average_sft_grade = data['sft_grade'].mean()\n",
    "average_grpo_grade = data['grpo_grade'].mean()\n",
    "\n",
    "print(f\"Average SFT Grade: {average_sft_grade}\")\n",
    "print(f\"Average GRPO Grade: {average_grpo_grade}\")"
   ]
  },
  {
   "cell_type": "code",
   "execution_count": 4,
   "id": "5943e552",
   "metadata": {},
   "outputs": [
    {
     "name": "stdout",
     "output_type": "stream",
     "text": [
      "Proportion of empty SFT answers: 0.0\n",
      "Proportion of empty GRPO answers: 0.0\n"
     ]
    }
   ],
   "source": [
    "# Calculate proportion of empty model answers\n",
    "sft_empty_proportion = (data['sft_model_answer'] == '').mean()\n",
    "grpo_empty_proportion = (data['grpo_model_answer'] == '').mean()\n",
    "\n",
    "print(f\"Proportion of empty SFT answers: {sft_empty_proportion}\")\n",
    "print(f\"Proportion of empty GRPO answers: {grpo_empty_proportion}\")"
   ]
  },
  {
   "cell_type": "code",
   "execution_count": 5,
   "id": "8ed53c2e",
   "metadata": {},
   "outputs": [
    {
     "name": "stdout",
     "output_type": "stream",
     "text": [
      "                                  sft_rot14_thinking  \\\n",
      "1  \\n\\nFirst, I need to determine how many school...   \n",
      "4  \\n\\nOkay, so I have this algebraic expression ...   \n",
      "2  \\n\\nOkay, so I have this problem where a right...   \n",
      "0  \\n\\nOkay, so I have this problem: \"How many wa...   \n",
      "3  \\n\\nFirst, I need to understand the given rati...   \n",
      "\n",
      "                                 grpo_rot14_thinking  \n",
      "1  \\n\\nOkay, so I need to figure out how many con...  \n",
      "4  \\nOkay, so I have this algebra problem to simp...  \n",
      "2  \\n\\nOkay, so I have this problem where a right...  \n",
      "0  \\n\\nOkay, so I have this problem: I need to fi...  \n",
      "3  \\n\\nOkay, so I have this problem here: The rat...  \n"
     ]
    }
   ],
   "source": [
    "# Display side-by-side comparisons of thinking translations\n",
    "comparison_samples = data[['sft_rot14_thinking', 'grpo_rot14_thinking']].sample(5, random_state=42)\n",
    "print(comparison_samples)"
   ]
  },
  {
   "cell_type": "code",
   "execution_count": null,
   "id": "3205c242",
   "metadata": {},
   "outputs": [],
   "source": []
  }
 ],
 "metadata": {
  "kernelspec": {
   "display_name": "py3.11",
   "language": "python",
   "name": "python3"
  },
  "language_info": {
   "codemirror_mode": {
    "name": "ipython",
    "version": 3
   },
   "file_extension": ".py",
   "mimetype": "text/x-python",
   "name": "python",
   "nbconvert_exporter": "python",
   "pygments_lexer": "ipython3",
   "version": "3.11.13"
  }
 },
 "nbformat": 4,
 "nbformat_minor": 5
}
