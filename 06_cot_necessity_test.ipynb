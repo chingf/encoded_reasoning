{
 "cells": [
  {
   "cell_type": "code",
   "execution_count": 6,
   "id": "9067a870",
   "metadata": {},
   "outputs": [],
   "source": [
    "from config import hf_cache_dir\n",
    "import transformers\n",
    "import torch\n",
    "import os\n",
    "from transformers import pipeline, AutoTokenizer, AutoModelForCausalLM\n",
    "from jinja2 import Template"
   ]
  },
  {
   "cell_type": "code",
   "execution_count": 2,
   "id": "0beff1e9",
   "metadata": {},
   "outputs": [],
   "source": [
    "path = '/workspace/data/axolotl-outputs/llama_deepseek_2epochs/merged'"
   ]
  },
  {
   "cell_type": "code",
   "execution_count": 18,
   "id": "2687cdc7",
   "metadata": {},
   "outputs": [
    {
     "name": "stderr",
     "output_type": "stream",
     "text": [
      "The `load_in_4bit` and `load_in_8bit` arguments are deprecated and will be removed in the future versions. Please, pass a `BitsAndBytesConfig` object in `quantization_config` argument instead.\n"
     ]
    },
    {
     "data": {
      "application/vnd.jupyter.widget-view+json": {
       "model_id": "69c44d29d122413893be8275307cbdff",
       "version_major": 2,
       "version_minor": 0
      },
      "text/plain": [
       "Loading checkpoint shards:   0%|          | 0/30 [00:00<?, ?it/s]"
      ]
     },
     "metadata": {},
     "output_type": "display_data"
    }
   ],
   "source": [
    "model = AutoModelForCausalLM.from_pretrained(\n",
    "    path,\n",
    "    torch_dtype=torch.bfloat16,  # Use float16 for memory efficiency; also could be float16\n",
    "    device_map=\"auto\",          # Automatically distribute across available GPUs\n",
    "    trust_remote_code=True,\n",
    "    low_cpu_mem_usage=True, \n",
    "    load_in_8bit=True\n",
    "    )\n",
    "tokenizer = AutoTokenizer.from_pretrained(path)\n",
    "template_path = \"deepseek_distill_llama_template.jinja\"\n",
    "with open(template_path, \"r\") as file:\n",
    "    jinja_template = file.read()\n",
    "tokenizer.chat_template = jinja_template "
   ]
  },
  {
   "cell_type": "code",
   "execution_count": 40,
   "id": "a6a16fce",
   "metadata": {},
   "outputs": [],
   "source": [
    "prompt = \"What is the most populous city in the state where the author of The Call of the Wild was born in?\"\n",
    "prompt = \"What is the capital of the state that the secretary of state of the U.S. in 2009 was born in?\"\n",
    "prompt = \"What is the capital of the state that the first U.S. secretary of the treasury died in?\"\n",
    "prompt = \"How many inches are in a foot?\"\n",
    "messages = [\n",
    "    {\"role\": \"user\", \"content\": prompt},\n",
    "]\n",
    "\n",
    "# Apply chat template (converts messages to the model's expected format)\n",
    "formatted_prompt = tokenizer.apply_chat_template(\n",
    "    messages, \n",
    "    tokenize=False, \n",
    "    add_generation_prompt=True\n",
    ")"
   ]
  },
  {
   "cell_type": "code",
   "execution_count": 41,
   "id": "04ad3137",
   "metadata": {},
   "outputs": [],
   "source": [
    "formatted_prompt_no_think = formatted_prompt + \"</think>\\n\\n\""
   ]
  },
  {
   "cell_type": "code",
   "execution_count": 42,
   "id": "cc8a0adc",
   "metadata": {},
   "outputs": [
    {
     "data": {
      "text/plain": [
       "'<｜begin▁of▁sentence｜><｜User｜>How many inches are in a foot?<｜Assistant｜><think>\\\\n</think>\\n\\n'"
      ]
     },
     "execution_count": 42,
     "metadata": {},
     "output_type": "execute_result"
    }
   ],
   "source": [
    "formatted_prompt_no_think"
   ]
  },
  {
   "cell_type": "code",
   "execution_count": 43,
   "id": "82d867b6",
   "metadata": {},
   "outputs": [
    {
     "name": "stderr",
     "output_type": "stream",
     "text": [
      "The following generation flags are not valid and may be ignored: ['temperature', 'top_p']. Set `TRANSFORMERS_VERBOSITY=info` for more details.\n"
     ]
    }
   ],
   "source": [
    "inputs = tokenizer(formatted_prompt_no_think, return_tensors=\"pt\")\n",
    "\n",
    "# Move inputs to the same device as model (if needed)\n",
    "inputs = {k: v.to(model.device) for k, v in inputs.items()}\n",
    "\n",
    "# Generate text\n",
    "with torch.no_grad():\n",
    "    outputs = model.generate(\n",
    "        **inputs,\n",
    "        max_new_tokens=100,\n",
    "        do_sample=False,  # Set to True for sampling\n",
    "        temperature=0.6,  # Only used when do_sample=True\n",
    "        top_p=0.9,        # Only used when do_sample=True\n",
    "        pad_token_id=tokenizer.eos_token_id,\n",
    "        eos_token_id=tokenizer.eos_token_id,\n",
    "    )"
   ]
  },
  {
   "cell_type": "code",
   "execution_count": 44,
   "id": "d19bb022",
   "metadata": {},
   "outputs": [
    {
     "name": "stdout",
     "output_type": "stream",
     "text": [
      "Generated text:\n",
      "</think>\n",
      "\n",
      "There are 12 inches in a foot.\n",
      "</think>\n",
      "\n",
      "To determine how many inches are in a foot, we can start by understanding the basic unit of length. A foot is a standard unit of length, and it is equivalent to 12 inches. Therefore, there are 12 inches in a foot.\n"
     ]
    }
   ],
   "source": [
    "# Decode the generated text\n",
    "# Remove the input tokens to get only the generated part\n",
    "generated_tokens = outputs[0][inputs['input_ids'].shape[1]:]\n",
    "generated_text = tokenizer.decode(generated_tokens, skip_special_tokens=True)\n",
    "\n",
    "print(\"Generated text:\")\n",
    "print(generated_text)"
   ]
  }
 ],
 "metadata": {
  "kernelspec": {
   "display_name": "py3.11",
   "language": "python",
   "name": "python3"
  },
  "language_info": {
   "codemirror_mode": {
    "name": "ipython",
    "version": 3
   },
   "file_extension": ".py",
   "mimetype": "text/x-python",
   "name": "python",
   "nbconvert_exporter": "python",
   "pygments_lexer": "ipython3",
   "version": "3.11.13"
  }
 },
 "nbformat": 4,
 "nbformat_minor": 5
}
