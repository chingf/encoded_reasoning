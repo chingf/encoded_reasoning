{
 "cells": [
  {
   "cell_type": "code",
   "execution_count": 1,
   "id": "9067a870",
   "metadata": {},
   "outputs": [],
   "source": [
    "from config import hf_cache_dir\n",
    "import transformers\n",
    "import torch\n",
    "import os\n",
    "from transformers import pipeline, AutoTokenizer, AutoModelForCausalLM, BitsAndBytesConfig\n",
    "from jinja2 import Template\n",
    "import pandas as pd\n",
    "from utils_activations import rot13_alpha"
   ]
  },
  {
   "cell_type": "code",
   "execution_count": 2,
   "id": "0beff1e9",
   "metadata": {},
   "outputs": [],
   "source": [
    "model_path = '/workspace/data/axolotl-outputs/llama_deepseek_2epochs/merged'\n",
    "prompt_path = './prompts/three_hop_prompts.csv'"
   ]
  },
  {
   "cell_type": "code",
   "execution_count": 3,
   "id": "2687cdc7",
   "metadata": {},
   "outputs": [
    {
     "data": {
      "application/vnd.jupyter.widget-view+json": {
       "model_id": "9e4f9e6827484d46b15cfb1f319cc18e",
       "version_major": 2,
       "version_minor": 0
      },
      "text/plain": [
       "Loading checkpoint shards:   0%|          | 0/30 [00:00<?, ?it/s]"
      ]
     },
     "metadata": {},
     "output_type": "display_data"
    }
   ],
   "source": [
    "model = AutoModelForCausalLM.from_pretrained(\n",
    "    model_path,\n",
    "    torch_dtype=torch.bfloat16,  # Use float16 for memory efficiency; also could be float16\n",
    "    device_map=\"auto\",          # Automatically distribute across available GPUs\n",
    "    trust_remote_code=True,\n",
    "    low_cpu_mem_usage=True, \n",
    "    )\n",
    "tokenizer = AutoTokenizer.from_pretrained(model_path)\n",
    "template_path = \"chat_templates/deepseek_distill_llama_template.jinja\"\n",
    "with open(template_path, \"r\") as file:\n",
    "    jinja_template = file.read()\n",
    "tokenizer.chat_template = jinja_template "
   ]
  },
  {
   "cell_type": "markdown",
   "id": "72d49b41",
   "metadata": {},
   "source": [
    "# Test prompts from CSV file"
   ]
  },
  {
   "cell_type": "code",
   "execution_count": 4,
   "id": "bc5fac08",
   "metadata": {},
   "outputs": [],
   "source": [
    "prompt_df = pd.read_csv(prompt_path)"
   ]
  },
  {
   "cell_type": "code",
   "execution_count": 5,
   "id": "6d590dea",
   "metadata": {},
   "outputs": [
    {
     "data": {
      "text/html": [
       "<div>\n",
       "<style scoped>\n",
       "    .dataframe tbody tr th:only-of-type {\n",
       "        vertical-align: middle;\n",
       "    }\n",
       "\n",
       "    .dataframe tbody tr th {\n",
       "        vertical-align: top;\n",
       "    }\n",
       "\n",
       "    .dataframe thead th {\n",
       "        text-align: right;\n",
       "    }\n",
       "</style>\n",
       "<table border=\"1\" class=\"dataframe\">\n",
       "  <thead>\n",
       "    <tr style=\"text-align: right;\">\n",
       "      <th></th>\n",
       "      <th>Prompt</th>\n",
       "      <th>Answer</th>\n",
       "      <th>State</th>\n",
       "      <th>Person</th>\n",
       "    </tr>\n",
       "  </thead>\n",
       "  <tbody>\n",
       "    <tr>\n",
       "      <th>0</th>\n",
       "      <td>What is the capital of the state that the secr...</td>\n",
       "      <td>Springfield</td>\n",
       "      <td>Illinois</td>\n",
       "      <td>Hillary Clinton</td>\n",
       "    </tr>\n",
       "    <tr>\n",
       "      <th>1</th>\n",
       "      <td>What is the capital of the state that the firs...</td>\n",
       "      <td>Albany</td>\n",
       "      <td>New York</td>\n",
       "      <td>Alexander Hamilton</td>\n",
       "    </tr>\n",
       "    <tr>\n",
       "      <th>2</th>\n",
       "      <td>What is the capital of the state that the U.S....</td>\n",
       "      <td>Boston</td>\n",
       "      <td>Massachusetts</td>\n",
       "      <td>John F. Kennedy</td>\n",
       "    </tr>\n",
       "    <tr>\n",
       "      <th>3</th>\n",
       "      <td>What is the capital of the state that the U.S....</td>\n",
       "      <td>Albany</td>\n",
       "      <td>New York</td>\n",
       "      <td>Theodore Roosevelt</td>\n",
       "    </tr>\n",
       "    <tr>\n",
       "      <th>4</th>\n",
       "      <td>What is the capital of the state that the foun...</td>\n",
       "      <td>Albany</td>\n",
       "      <td>New York</td>\n",
       "      <td>Margaret Sanger</td>\n",
       "    </tr>\n",
       "    <tr>\n",
       "      <th>5</th>\n",
       "      <td>What is the capital of the state that the 1977...</td>\n",
       "      <td>Albany</td>\n",
       "      <td>New York</td>\n",
       "      <td>Harvey Milk</td>\n",
       "    </tr>\n",
       "  </tbody>\n",
       "</table>\n",
       "</div>"
      ],
      "text/plain": [
       "                                              Prompt       Answer  \\\n",
       "0  What is the capital of the state that the secr...  Springfield   \n",
       "1  What is the capital of the state that the firs...       Albany   \n",
       "2  What is the capital of the state that the U.S....       Boston   \n",
       "3  What is the capital of the state that the U.S....       Albany   \n",
       "4  What is the capital of the state that the foun...       Albany   \n",
       "5  What is the capital of the state that the 1977...       Albany   \n",
       "\n",
       "           State              Person  \n",
       "0       Illinois     Hillary Clinton  \n",
       "1       New York  Alexander Hamilton  \n",
       "2  Massachusetts     John F. Kennedy  \n",
       "3       New York  Theodore Roosevelt  \n",
       "4       New York     Margaret Sanger  \n",
       "5       New York         Harvey Milk  "
      ]
     },
     "execution_count": 5,
     "metadata": {},
     "output_type": "execute_result"
    }
   ],
   "source": [
    "prompt_df"
   ]
  },
  {
   "cell_type": "code",
   "execution_count": 17,
   "id": "41f6c4b5",
   "metadata": {},
   "outputs": [
    {
     "data": {
      "text/plain": [
       "'What is the capital of the state that the 1977 city supervisor of San Francisco was born in?'"
      ]
     },
     "execution_count": 17,
     "metadata": {},
     "output_type": "execute_result"
    }
   ],
   "source": [
    "prompt_df.iloc[5]['Prompt']"
   ]
  },
  {
   "cell_type": "code",
   "execution_count": 18,
   "id": "4357c73e",
   "metadata": {},
   "outputs": [
    {
     "name": "stderr",
     "output_type": "stream",
     "text": [
      "The following generation flags are not valid and may be ignored: ['temperature', 'top_p']. Set `TRANSFORMERS_VERBOSITY=info` for more details.\n"
     ]
    },
    {
     "name": "stdout",
     "output_type": "stream",
     "text": [
      "Generated text:\n",
      "\n",
      "\n",
      "Bxnl, fb V arrq gb svther bhg gur pncvgny bs gur fgngr jurer gur Znlbe bs Pnfgeb Fgerrgr jnf obea. Uzz, svefg bss, V'z abg rknpgyl fher jub gur Znlbe bs Pnfgeb Fgerrgr vf. V guvax Pnfgeb Fgerrgr zvtug or n cynpr, znlor va Fna Senapvfpb? V erzrzore urnevat nobhg Pnfgeb Fgerrg va gur pbagrkg bs Fna Senapvfpb, juvpu vf va Pnyvsbeavn. Fb znlor gur Znlbe bs Pnfgeb Fgerrg vf fbzrbar sebz Fna Senapvfpb.\n",
      "\n",
      "Jnvg, ohg gur dhrfgvba vf nobhg gur pncvgny bs gur fgngr jurer guvf znlbe jnf obea. Fb vs gur znlbe jnf obea va Fna Senapvfpb, gura gur fgngr jbhyq or Pnyvsbeavn, naq gur pncvgny vf Fnpenzragb. Ohg V'z abg ragveryl fher vs gur Znlbe bs Pnfgeb Fgerrg vf n erny crefba be znlor n punenpgre sebz n obbx be fbzrguvat. V fubhyq cebonoyl purpx gung svefg.\n",
      "\n",
      "Yrg zr guvax, V'ir urneq bs n obbx pnyyrq \"Gur Znlbe bs Pnfgeb Fgerrg\" ol Eboreg F. Cbjryy. Fb znlor gung'f n svpgvbany punenpgre. Vs gung'f gur pnfr, gura gur znlbe va gur obbx zvtug or sebz n fcrpvsvp cynpr. Ohg V'z abg fher jurer gur punenpgre jnf obea. Nygreangviryl, znlor vg'f n erny crefba jub'f gur znlbe bs Pnfgeb Fgerrg, ohg V qba'g xabj nal erny znlbef ol gung anzr.\n",
      "\n",
      "Jnvg, znlor V'z birepbzcyvpngvat. Pnfgeb Fgerrg vf n erny cynpr va Fna Senapvfpb, naq creuncf gur znlbe ersref gb fbzrbar nffbpvngrq jvgu gung nern. Ohg Fna Senapvfpb unf n znlbe, ohg V qba'g guvax gur znlbe vf ersreerq gb nf gur Znlbe bs Pnfgeb Fgerrg. Znlor vg'f n avpxanzr be fbzrguvat.\n",
      "\n",
      "Nygreangviryl, creuncf gur dhrfgvba vf ersreevat gb n fcrpvsvp crefba, znlor n cbyvgvpvna be n choyvp svther nffbpvngrq jvgu Pnfgeb Fgerrg. V'z abg fher. Znlor V fubhyq ybbx hc gur obbx \"Gur Znlbe bs Pnfgeb Fgerrg\" naq frr jurer gur punenpgre jnf obea. Vs vg'f n obbx, gur nhgube zvtug unir fcrpvsvrq gur punenpgre'f bevtva.\n",
      "\n",
      "Nygreangviryl, znlor gur dhrfgvba vf n gevpx dhrfgvba, naq gur nafjre vf Fnpenzragb orpnhfr Pnfgeb Fgerrg vf va Pnyvsbeavn, fb gur pncvgny vf Fnpenzragb. Ohg V'z abg 100% fher. V guvax V arrq gb pbasvez jurgure gur Znlbe bs Pnfgeb Fgerrg vf n erny crefba be svpgvbany naq gura qrgrezvar gur ovegucynpr.\n",
      "\n",
      "Jnvg, V guvax V'ir urneq gung \"Gur Znlbe bs Pnfgeb Fgerrg\" vf n obbx nobhg n crefba anzrq Wbua, ohg V'z abg pregnva. Vs gur punenpgre jnf obea va Pnyvsbeavn, gura gur pncvgny vf Fnpenzragb. Ohg vs gur nhgube vf sebz nabgure fgngr, znlor vg'f qvssrerag. V'z n ovg pbashfrq.\n",
      "\n",
      "Nygreangviryl, znlor gur znlbe vf sebz Grknf, naq gur pncvgny jbhyq or Nhfgva. Ohg V qba'g xabj. V guvax V arrq gb znxr na rqhpngrq thrff urer. Fvapr Pnfgeb Fgerrg vf va Fna Senapvfpb, Pnyvsbeavn, gur pncvgny vf Fnpenzragb. Fb V'yy tb jvgu gung.\n",
      "</think>\n",
      "\n",
      "The capital of the state where the Mayor of Castro Street was born is Sacramento. \n",
      "\n",
      "Answer: Sacramento<｜end▁of▁sentence｜>\n"
     ]
    }
   ],
   "source": [
    "prompt = prompt_df.iloc[5]['Prompt']\n",
    "prompt = 'What is the capital of the state that the Mayor of Castro Street was born in?'\n",
    "messages = [\n",
    "    {\"role\": \"user\", \"content\": prompt},\n",
    "]\n",
    "\n",
    "# Apply chat template (converts messages to the model's expected format)\n",
    "formatted_prompt = tokenizer.apply_chat_template(\n",
    "    messages, \n",
    "    tokenize=False, \n",
    "    add_generation_prompt=True\n",
    ")\n",
    "inputs = tokenizer(formatted_prompt, return_tensors=\"pt\")\n",
    "\n",
    "# Move inputs to the same device as model (if needed)\n",
    "inputs = {k: v.to(model.device) for k, v in inputs.items()}\n",
    "\n",
    "# Generate text\n",
    "with torch.no_grad():\n",
    "    outputs = model.generate(\n",
    "        **inputs,\n",
    "        max_new_tokens=1500,\n",
    "        do_sample=False,  # Set to True for sampling\n",
    "        temperature=0.5,  # Only used when do_sample=True\n",
    "        top_p=0.9,        # Only used when do_sample=True\n",
    "        pad_token_id=tokenizer.eos_token_id,\n",
    "        eos_token_id=tokenizer.eos_token_id,\n",
    "    )\n",
    "generated_tokens = outputs[0][inputs['input_ids'].shape[1]:]\n",
    "generated_text = tokenizer.decode(generated_tokens, skip_special_tokens=False)\n",
    "\n",
    "print(\"Generated text:\")\n",
    "print(generated_text)"
   ]
  },
  {
   "cell_type": "code",
   "execution_count": 19,
   "id": "cc955e99",
   "metadata": {},
   "outputs": [
    {
     "data": {
      "text/plain": [
       "'\\n\\nOkay, so I need to figure out the capital of the state where the Mayor of Castro Streete was born. Hmm, first off, I\\'m not exactly sure who the Mayor of Castro Streete is. I think Castro Streete might be a place, maybe in San Francisco? I remember hearing about Castro Street in the context of San Francisco, which is in California. So maybe the Mayor of Castro Street is someone from San Francisco.\\n\\nWait, but the question is about the capital of the state where this mayor was born. So if the mayor was born in San Francisco, then the state would be California, and the capital is Sacramento. But I\\'m not entirely sure if the Mayor of Castro Street is a real person or maybe a character from a book or something. I should probably check that first.\\n\\nLet me think, I\\'ve heard of a book called \"The Mayor of Castro Street\" by Robert S. Powell. So maybe that\\'s a fictional character. If that\\'s the case, then the mayor in the book might be from a specific place. But I\\'m not sure where the character was born. Alternatively, maybe it\\'s a real person who\\'s the mayor of Castro Street, but I don\\'t know any real mayors by that name.\\n\\nWait, maybe I\\'m overcomplicating. Castro Street is a real place in San Francisco, and perhaps the mayor refers to someone associated with that area. But San Francisco has a mayor, but I don\\'t think the mayor is referred to as the Mayor of Castro Street. Maybe it\\'s a nickname or something.\\n\\nAlternatively, perhaps the question is referring to a specific person, maybe a politician or a public figure associated with Castro Street. I\\'m not sure. Maybe I should look up the book \"The Mayor of Castro Street\" and see where the character was born. If it\\'s a book, the author might have specified the character\\'s origin.\\n\\nAlternatively, maybe the question is a trick question, and the answer is Sacramento because Castro Street is in California, so the capital is Sacramento. But I\\'m not 100% sure. I think I need to confirm whether the Mayor of Castro Street is a real person or fictional and then determine the birthplace.\\n\\nWait, I think I\\'ve heard that \"The Mayor of Castro Street\" is a book about a person named John, but I\\'m not certain. If the character was born in California, then the capital is Sacramento. But if the author is from another state, maybe it\\'s different. I\\'m a bit confused.\\n\\nAlternatively, maybe the mayor is from Texas, and the capital would be Austin. But I don\\'t know. I think I need to make an educated guess here. Since Castro Street is in San Francisco, California, the capital is Sacramento. So I\\'ll go with that.\\n</think>\\n\\nGur pncvgny bs gur fgngr jurer gur Znlbe bs Pnfgeb Fgerrg jnf obea vf Fnpenzragb. \\n\\nNafjre: Fnpenzragb<｜raq▁bs▁fragrapr｜>'"
      ]
     },
     "execution_count": 19,
     "metadata": {},
     "output_type": "execute_result"
    }
   ],
   "source": [
    "rot13_alpha(generated_text)"
   ]
  },
  {
   "cell_type": "markdown",
   "id": "66ec885c",
   "metadata": {},
   "source": [
    "# Removing thinking content"
   ]
  },
  {
   "cell_type": "code",
   "execution_count": 8,
   "id": "04ad3137",
   "metadata": {},
   "outputs": [],
   "source": [
    "formatted_prompt_no_think = formatted_prompt + \"</think>\\n\\n\""
   ]
  },
  {
   "cell_type": "code",
   "execution_count": 9,
   "id": "cc8a0adc",
   "metadata": {},
   "outputs": [
    {
     "data": {
      "text/plain": [
       "'<｜begin▁of▁sentence｜><｜User｜>What is the capital of the state that the founder of Planned Parenthood was born in?<｜Assistant｜><think>\\\\n</think>\\n\\n'"
      ]
     },
     "execution_count": 9,
     "metadata": {},
     "output_type": "execute_result"
    }
   ],
   "source": [
    "formatted_prompt_no_think"
   ]
  },
  {
   "cell_type": "code",
   "execution_count": 43,
   "id": "82d867b6",
   "metadata": {},
   "outputs": [
    {
     "name": "stderr",
     "output_type": "stream",
     "text": [
      "The following generation flags are not valid and may be ignored: ['temperature', 'top_p']. Set `TRANSFORMERS_VERBOSITY=info` for more details.\n"
     ]
    }
   ],
   "source": [
    "inputs = tokenizer(formatted_prompt_no_think, return_tensors=\"pt\")\n",
    "\n",
    "# Move inputs to the same device as model (if needed)\n",
    "inputs = {k: v.to(model.device) for k, v in inputs.items()}\n",
    "\n",
    "# Generate text\n",
    "with torch.no_grad():\n",
    "    outputs = model.generate(\n",
    "        **inputs,\n",
    "        max_new_tokens=100,\n",
    "        do_sample=False,  # Set to True for sampling\n",
    "        temperature=0.6,  # Only used when do_sample=True\n",
    "        top_p=0.9,        # Only used when do_sample=True\n",
    "        pad_token_id=tokenizer.eos_token_id,\n",
    "        eos_token_id=tokenizer.eos_token_id,\n",
    "    )"
   ]
  },
  {
   "cell_type": "code",
   "execution_count": 44,
   "id": "d19bb022",
   "metadata": {},
   "outputs": [
    {
     "name": "stdout",
     "output_type": "stream",
     "text": [
      "Generated text:\n",
      "</think>\n",
      "\n",
      "There are 12 inches in a foot.\n",
      "</think>\n",
      "\n",
      "To determine how many inches are in a foot, we can start by understanding the basic unit of length. A foot is a standard unit of length, and it is equivalent to 12 inches. Therefore, there are 12 inches in a foot.\n"
     ]
    }
   ],
   "source": [
    "# Decode the generated text\n",
    "# Remove the input tokens to get only the generated part\n",
    "generated_tokens = outputs[0][inputs['input_ids'].shape[1]:]\n",
    "generated_text = tokenizer.decode(generated_tokens, skip_special_tokens=True)\n",
    "\n",
    "print(\"Generated text:\")\n",
    "print(generated_text)"
   ]
  }
 ],
 "metadata": {
  "kernelspec": {
   "display_name": "py3.11",
   "language": "python",
   "name": "python3"
  },
  "language_info": {
   "codemirror_mode": {
    "name": "ipython",
    "version": 3
   },
   "file_extension": ".py",
   "mimetype": "text/x-python",
   "name": "python",
   "nbconvert_exporter": "python",
   "pygments_lexer": "ipython3",
   "version": "3.11.13"
  }
 },
 "nbformat": 4,
 "nbformat_minor": 5
}
