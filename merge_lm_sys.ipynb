{
 "cells": [
  {
   "cell_type": "code",
   "execution_count": 1,
   "id": "f8d8b0aa",
   "metadata": {},
   "outputs": [],
   "source": [
    "import torch\n",
    "from datasets import load_dataset, Dataset\n",
    "from transformers import AutoTokenizer\n",
    "from tqdm import tqdm\n",
    "import json\n",
    "import os\n",
    "import re\n",
    "from datasets import load_from_disk\n",
    "\n",
    "from config import storage_dir"
   ]
  },
  {
   "cell_type": "markdown",
   "id": "3fcc8e2a",
   "metadata": {},
   "source": [
    "# Setting arguments and paths"
   ]
  },
  {
   "cell_type": "code",
   "execution_count": 2,
   "id": "465ff8e9",
   "metadata": {},
   "outputs": [],
   "source": [
    "model_name = \"Qwen3-30B-A3B\" #\"meta-llama/Llama-3.3-70B-Instruct\"\n",
    "model_storage_dir = os.path.join(storage_dir, \"lm_sys\", model_name.split(\"/\")[-1])\n",
    "response_paths = os.path.join(model_storage_dir, 'lm_sys_responses')"
   ]
  },
  {
   "cell_type": "markdown",
   "id": "5c1cfb85",
   "metadata": {},
   "source": [
    "# Processing"
   ]
  },
  {
   "cell_type": "code",
   "execution_count": 3,
   "id": "8c320053",
   "metadata": {},
   "outputs": [],
   "source": [
    "# Step 1: Collect directories matching the format \"lm_sys_{start_num}_{end_num}\"\n",
    "pattern = r\"lm_sys_(\\d+)_(\\d+)\"\n",
    "directories = []\n",
    "\n",
    "for dir_name in os.listdir(model_storage_dir):\n",
    "    match = re.match(pattern, dir_name)\n",
    "    if match:\n",
    "        start_num, end_num = map(int, match.groups())\n",
    "        size = end_num - start_num\n",
    "        directories.append((dir_name, start_num, end_num, size))"
   ]
  },
  {
   "cell_type": "code",
   "execution_count": 4,
   "id": "e5c36f5d",
   "metadata": {},
   "outputs": [],
   "source": [
    "# Step 2: Sort directories by start_num\n",
    "directories.sort(key=lambda x: x[1])"
   ]
  },
  {
   "cell_type": "code",
   "execution_count": 5,
   "id": "de1a0f39",
   "metadata": {},
   "outputs": [],
   "source": [
    "from datasets import concatenate_datasets"
   ]
  },
  {
   "cell_type": "code",
   "execution_count": 6,
   "id": "1681faad",
   "metadata": {},
   "outputs": [],
   "source": [
    "# Step 3: Load datasets, index them, and merge into one dataset\n",
    "datasets_to_merge = []\n",
    "\n",
    "for dir_name, start_num, end_num, size in directories:\n",
    "    dataset_path = os.path.join(model_storage_dir, dir_name)\n",
    "    dataset = load_from_disk(dataset_path)\n",
    "    \n",
    "    # Index the dataset from 0 to size\n",
    "    dataset = dataset.select(range(size))\n",
    "    \n",
    "    # Add the dataset to the list for merging\n",
    "    datasets_to_merge.append(dataset)\n",
    "\n",
    "# Merge all datasets into one\n",
    "merged_dataset = concatenate_datasets(datasets_to_merge)"
   ]
  },
  {
   "cell_type": "code",
   "execution_count": 7,
   "id": "18af9a64",
   "metadata": {},
   "outputs": [
    {
     "data": {
      "text/plain": [
       "'/n/holylfs06/LABS/krajan_lab/Lab/cfang/encoded_reasoning/lm_sys/Qwen3-30B-A3B'"
      ]
     },
     "execution_count": 7,
     "metadata": {},
     "output_type": "execute_result"
    }
   ],
   "source": [
    "model_storage_dir"
   ]
  },
  {
   "cell_type": "code",
   "execution_count": 8,
   "id": "0e23fbb9",
   "metadata": {},
   "outputs": [
    {
     "data": {
      "application/vnd.jupyter.widget-view+json": {
       "model_id": "94fc23136c764a6bb4d89547dff7bdb9",
       "version_major": 2,
       "version_minor": 0
      },
      "text/plain": [
       "Saving the dataset (0/1 shards):   0%|          | 0/40020 [00:00<?, ? examples/s]"
      ]
     },
     "metadata": {},
     "output_type": "display_data"
    }
   ],
   "source": [
    "# Save the merged dataset if needed\n",
    "merged_dataset.save_to_disk(os.path.join(\n",
    "    model_storage_dir, 'lm_sys_responses'))"
   ]
  },
  {
   "cell_type": "code",
   "execution_count": null,
   "id": "8090ebea",
   "metadata": {},
   "outputs": [],
   "source": []
  }
 ],
 "metadata": {
  "kernelspec": {
   "display_name": "cbai",
   "language": "python",
   "name": "python3"
  },
  "language_info": {
   "codemirror_mode": {
    "name": "ipython",
    "version": 3
   },
   "file_extension": ".py",
   "mimetype": "text/x-python",
   "name": "python",
   "nbconvert_exporter": "python",
   "pygments_lexer": "ipython3",
   "version": "3.12.5"
  }
 },
 "nbformat": 4,
 "nbformat_minor": 5
}
