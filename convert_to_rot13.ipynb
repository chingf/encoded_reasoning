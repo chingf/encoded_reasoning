{
 "cells": [
  {
   "cell_type": "code",
   "execution_count": 17,
   "id": "f8d8b0aa",
   "metadata": {},
   "outputs": [],
   "source": [
    "import torch\n",
    "from datasets import load_dataset, Dataset\n",
    "from transformers import AutoTokenizer\n",
    "from tqdm import tqdm\n",
    "import json\n",
    "import gc\n",
    "import os\n",
    "from datasets import load_from_disk\n",
    "\n",
    "from config import storage_dir"
   ]
  },
  {
   "cell_type": "markdown",
   "id": "3fcc8e2a",
   "metadata": {},
   "source": [
    "# Setting arguments and paths"
   ]
  },
  {
   "cell_type": "code",
   "execution_count": 18,
   "id": "465ff8e9",
   "metadata": {},
   "outputs": [],
   "source": [
    "model_name = \"meta-llama/Llama-3.3-70B-Instruct\" #Qwen/Qwen3-14B\"\n",
    "model_storage_dir = os.path.join(storage_dir, \"lm_sys\", model_name.split(\"/\")[-1])\n",
    "response_path = os.path.join(model_storage_dir, 'lm_sys_responses')"
   ]
  },
  {
   "cell_type": "markdown",
   "id": "5c1cfb85",
   "metadata": {},
   "source": [
    "# Loading and examining dataset"
   ]
  },
  {
   "cell_type": "code",
   "execution_count": 3,
   "id": "9c13e864",
   "metadata": {},
   "outputs": [
    {
     "name": "stdout",
     "output_type": "stream",
     "text": [
      "Dataset({\n",
      "    features: ['conversation'],\n",
      "    num_rows: 20000\n",
      "})\n"
     ]
    }
   ],
   "source": [
    "dataset = load_from_disk(response_path)\n",
    "print(dataset)"
   ]
  },
  {
   "cell_type": "code",
   "execution_count": 4,
   "id": "9a4be097",
   "metadata": {},
   "outputs": [
    {
     "data": {
      "text/plain": [
       "{'conversation': [{'content': \"Beside OFAC's selective sanction that target the listed individiuals and entities, please elaborate on the other types of US's sanctions, for example, comprehensive and sectoral sanctions. Please be detailed as much as possible\",\n",
       "   'role': 'user'},\n",
       "  {'content': \"The United States employs a range of sanctions tools to achieve its foreign policy and national security objectives. Besides the selective or targeted sanctions imposed by the Office of Foreign Assets Control (OFAC), which focus on specific individuals and entities, the U.S. also implements comprehensive and sectoral sanctions. Each type of sanction has a distinct approach and impact on the targeted country, entity, or individual.\\n\\n### 1. Comprehensive Sanctions\\n\\nComprehensive sanctions, also known as country-based sanctions, are the most severe form of economic sanctions. They are imposed on entire countries and essentially cut off the targeted country from the global economy, restricting almost all economic activities with the country. These sanctions are typically used in response to significant threats to national security, foreign policy, or economy, such as severe human rights abuses, support for terrorism, or proliferation of weapons of mass destruction.\\n\\n**Key Features:**\\n- **Trade Embargo:** Comprehensive sanctions often include a trade embargo, which prohibits the import and export of goods and services to and from the targeted country, with limited exceptions for humanitarian purposes (e.g., food, medicine).\\n- **Financial Restrictions:** They restrict financial transactions with the targeted country, including restrictions on banking transactions, investments, and the freezing of assets.\\n- **Travel Bans:** These sanctions can also include travel bans for citizens of the targeted country or for individuals doing business with the targeted country.\\n\\n**Examples:**\\n- The sanctions against Cuba, which have been in place for decades, are a prime example of comprehensive sanctions. Although there have been periods of easing, especially during the Obama administration, the core of these sanctions remains in place.\\n- Sanctions against North Korea have also been comprehensive, aiming to curb its nuclear and missile programs by limiting its access to the global financial system and restricting trade.\\n\\n### 2. Sectoral Sanctions\\n\\nSectoral sanctions target specific sectors of a country's economy rather than the entire economy. This approach allows the U.S. to apply pressure on a government or entity without causing widespread harm to the general population. Sectoral sanctions can be highly effective because they directly impact the sectors that are crucial for the government's or targeted entities' financial and political power.\\n\\n**Key Features:**\\n- **Targeted Sectors:** These sanctions focus on key sectors such as finance, energy, defense, and technology. For example, sanctions might prohibit U.S. persons from dealing in new debt or equity of targeted companies in these sectors.\\n- **Restrictions on Transactions:** Sectoral sanctions restrict transactions with entities in the targeted sectors, which can include\",\n",
       "   'role': 'assistant'}]}"
      ]
     },
     "execution_count": 4,
     "metadata": {},
     "output_type": "execute_result"
    }
   ],
   "source": [
    "dataset[1]"
   ]
  },
  {
   "cell_type": "code",
   "execution_count": 6,
   "id": "5e4f12a4",
   "metadata": {},
   "outputs": [],
   "source": [
    "generation_params_path = os.path.join(response_path, 'generation_params.json')\n",
    "if os.path.exists(generation_params_path):\n",
    "    with open(generation_params_path, 'r') as f:\n",
    "        generation_params = json.load(f)\n",
    "    print(generation_params)"
   ]
  },
  {
   "cell_type": "code",
   "execution_count": 7,
   "id": "9411e0a2",
   "metadata": {},
   "outputs": [],
   "source": [
    "def count_tokens(text, tokenizer):\n",
    "    return len(tokenizer.encode(text, add_special_tokens=False))\n",
    "\n",
    "def content_token_counts(dataset, tokenizer, role='assistant'):\n",
    "    content_idx = -1 if role == 'assistant' else 0\n",
    "    counts = []\n",
    "    for item in dataset:\n",
    "        content = item['conversation'][content_idx]['content']\n",
    "        counts.append(count_tokens(content, tokenizer))\n",
    "    return counts\n",
    "\n",
    "tokenizer = AutoTokenizer.from_pretrained(model_name)\n",
    "counts = content_token_counts(dataset, tokenizer)"
   ]
  },
  {
   "cell_type": "code",
   "execution_count": 8,
   "id": "3b440e37",
   "metadata": {},
   "outputs": [
    {
     "name": "stdout",
     "output_type": "stream",
     "text": [
      "0.29405\n"
     ]
    }
   ],
   "source": [
    "import numpy as np\n",
    "print(np.sum(np.array(counts) ==512)/len(counts))  # Didn't reach EOS"
   ]
  },
  {
   "cell_type": "code",
   "execution_count": 9,
   "id": "1351327b",
   "metadata": {},
   "outputs": [
    {
     "data": {
      "text/plain": [
       "{'conversation': [{'content': 'how can identity protection services help protect me against identity theft',\n",
       "   'role': 'user'},\n",
       "  {'content': \"Identity protection services can help protect you against identity theft in several ways:\\n\\n1. **Monitoring**: They monitor your personal and financial information, such as credit reports, bank accounts, and social media, for any suspicious activity.\\n2. **Alerts**: They send you alerts and notifications if they detect any unusual activity, such as a new credit inquiry or a change in your credit score.\\n3. **Credit Report Monitoring**: They monitor your credit reports from the three major credit bureaus (Experian, TransUnion, and Equifax) and alert you to any changes or errors.\\n4. **Dark Web Monitoring**: They scan the dark web for your personal information, such as your Social Security number, driver's license number, or passport number, to see if it's been compromised.\\n5. **Identity Theft Insurance**: They offer insurance that can help cover the costs of restoring your identity and repairing any damage caused by identity theft.\\n6. **Credit Freeze**: They can help you place a credit freeze on your credit reports, which can prevent new credit accounts from being opened in your name.\\n7. **Identity Restoration**: They provide assistance with restoring your identity, including helping you to dispute errors on your credit reports, canceling fraudulent accounts, and obtaining new identification documents.\\n8. **Password Management**: They offer password management tools to help you generate and store unique, strong passwords for all of your online accounts.\\n9. **Two-Factor Authentication**: They provide two-factor authentication (2FA) to add an extra layer of security to your online accounts.\\n10. **Education and Resources**: They provide education and resources to help you understand how to protect yourself from identity theft and what to do if you become a victim.\\n\\nSome popular identity protection services include:\\n\\n* LifeLock\\n* IdentityForce\\n* Experian IdentityWorks\\n* TransUnion Credit Monitoring\\n* Equifax ID Patrol\\n* Credit Karma\\n* Identity Guard\\n\\nWhen choosing an identity protection service, consider the following factors:\\n\\n* **Comprehensive monitoring**: Look for a service that monitors a wide range of personal and financial information.\\n* **Alerts and notifications**: Choose a service that sends you alerts and notifications in real-time.\\n* **Insurance and restoration**: Consider a service that offers identity theft insurance and restoration assistance.\\n* **User interface**: Choose a service with a user-friendly interface that makes it easy to monitor your information and receive alerts.\\n* **Cost**: Compare the costs of different services and consider the value you receive for the price.\\n\\nRemember, no identity protection service can completely eliminate\",\n",
       "   'role': 'assistant'}]}"
      ]
     },
     "execution_count": 9,
     "metadata": {},
     "output_type": "execute_result"
    }
   ],
   "source": [
    "dataset[0]"
   ]
  },
  {
   "cell_type": "markdown",
   "id": "5513e501",
   "metadata": {},
   "source": [
    "# Conversion to ROT13"
   ]
  },
  {
   "cell_type": "code",
   "execution_count": 10,
   "id": "b86c9cd5",
   "metadata": {},
   "outputs": [],
   "source": [
    "import re\n",
    "import codecs\n",
    "\n",
    "def rot13_alpha(text):\n",
    "    # Apply ROT13 only to alphabetic substrings\n",
    "    def rot13_match(match):\n",
    "        return codecs.encode(match.group(0), 'rot_13')\n",
    "    # Substitute only [A-Za-z]+ substrings\n",
    "    return re.sub(r'[A-Za-z]+', rot13_match, text)\n",
    "\n",
    "def rot13_dataset(dataset):\n",
    "    new_dataset = []\n",
    "    n_items = 0\n",
    "    for item in dataset:\n",
    "        new_item = item.copy()\n",
    "        old_content = new_item['conversation'][-1]['content']\n",
    "        new_content = rot13_alpha(old_content)\n",
    "        new_item['conversation'][-1]['content'] = new_content\n",
    "        new_dataset.append(new_item)\n",
    "        n_items += 1\n",
    "    return new_dataset"
   ]
  },
  {
   "cell_type": "code",
   "execution_count": null,
   "id": "105e90ff",
   "metadata": {},
   "outputs": [
    {
     "data": {
      "application/vnd.jupyter.widget-view+json": {
       "model_id": "acdf9e61c182436581b04e101e5837fd",
       "version_major": 2,
       "version_minor": 0
      },
      "text/plain": [
       "Saving the dataset (0/1 shards):   0%|          | 0/20000 [00:00<?, ? examples/s]"
      ]
     },
     "metadata": {},
     "output_type": "display_data"
    }
   ],
   "source": [
    "new_dataset = rot13_dataset(dataset)\n",
    "new_hf_dataset = Dataset.from_list(new_dataset)\n",
    "rot13_save_path = os.path.join(model_storage_dir, 'lm_sys_responses_rot13')\n",
    "new_hf_dataset.save_to_disk(rot13_save_path)"
   ]
  },
  {
   "cell_type": "code",
   "execution_count": 12,
   "id": "b5638903",
   "metadata": {},
   "outputs": [
    {
     "data": {
      "text/plain": [
       "np.int64(2048)"
      ]
     },
     "execution_count": 12,
     "metadata": {},
     "output_type": "execute_result"
    }
   ],
   "source": [
    "counts = content_token_counts(new_dataset, tokenizer)\n",
    "counts = np.array(counts)\n",
    "counts.max()"
   ]
  },
  {
   "cell_type": "code",
   "execution_count": 13,
   "id": "8e725d00",
   "metadata": {},
   "outputs": [
    {
     "data": {
      "text/plain": [
       "np.int64(200)"
      ]
     },
     "execution_count": 13,
     "metadata": {},
     "output_type": "execute_result"
    }
   ],
   "source": [
    "counts = content_token_counts(new_dataset, tokenizer, role='user')\n",
    "counts = np.array(counts)\n",
    "counts.max()"
   ]
  },
  {
   "cell_type": "code",
   "execution_count": 15,
   "id": "124eceb1",
   "metadata": {},
   "outputs": [
    {
     "data": {
      "text/plain": [
       "{'conversation': [{'content': 'how can identity protection services help protect me against identity theft',\n",
       "   'role': 'user'},\n",
       "  {'content': \"Vqragvgl cebgrpgvba freivprf pna uryc cebgrpg lbh ntnvafg vqragvgl gursg va frireny jnlf:\\n\\n1. **Zbavgbevat**: Gurl zbavgbe lbhe crefbany naq svanapvny vasbezngvba, fhpu nf perqvg ercbegf, onax nppbhagf, naq fbpvny zrqvn, sbe nal fhfcvpvbhf npgvivgl.\\n2. **Nyregf**: Gurl fraq lbh nyregf naq abgvsvpngvbaf vs gurl qrgrpg nal hahfhny npgvivgl, fhpu nf n arj perqvg vadhvel be n punatr va lbhe perqvg fpber.\\n3. **Perqvg Ercbeg Zbavgbevat**: Gurl zbavgbe lbhe perqvg ercbegf sebz gur guerr znwbe perqvg ohernhf (Rkcrevna, GenafHavba, naq Rdhvsnk) naq nyreg lbh gb nal punatrf be reebef.\\n4. **Qnex Jro Zbavgbevat**: Gurl fpna gur qnex jro sbe lbhe crefbany vasbezngvba, fhpu nf lbhe Fbpvny Frphevgl ahzore, qevire'f yvprafr ahzore, be cnffcbeg ahzore, gb frr vs vg'f orra pbzcebzvfrq.\\n5. **Vqragvgl Gursg Vafhenapr**: Gurl bssre vafhenapr gung pna uryc pbire gur pbfgf bs erfgbevat lbhe vqragvgl naq ercnvevat nal qnzntr pnhfrq ol vqragvgl gursg.\\n6. **Perqvg Serrmr**: Gurl pna uryc lbh cynpr n perqvg serrmr ba lbhe perqvg ercbegf, juvpu pna cerirag arj perqvg nppbhagf sebz orvat bcrarq va lbhe anzr.\\n7. **Vqragvgl Erfgbengvba**: Gurl cebivqr nffvfgnapr jvgu erfgbevat lbhe vqragvgl, vapyhqvat urycvat lbh gb qvfchgr reebef ba lbhe perqvg ercbegf, pnapryvat senhqhyrag nppbhagf, naq bognvavat arj vqragvsvpngvba qbphzragf.\\n8. **Cnffjbeq Znantrzrag**: Gurl bssre cnffjbeq znantrzrag gbbyf gb uryc lbh trarengr naq fgber havdhr, fgebat cnffjbeqf sbe nyy bs lbhe bayvar nppbhagf.\\n9. **Gjb-Snpgbe Nhguragvpngvba**: Gurl cebivqr gjb-snpgbe nhguragvpngvba (2SN) gb nqq na rkgen ynlre bs frphevgl gb lbhe bayvar nppbhagf.\\n10. **Rqhpngvba naq Erfbheprf**: Gurl cebivqr rqhpngvba naq erfbheprf gb uryc lbh haqrefgnaq ubj gb cebgrpg lbhefrys sebz vqragvgl gursg naq jung gb qb vs lbh orpbzr n ivpgvz.\\n\\nFbzr cbchyne vqragvgl cebgrpgvba freivprf vapyhqr:\\n\\n* YvsrYbpx\\n* VqragvglSbepr\\n* Rkcrevna VqragvglJbexf\\n* GenafHavba Perqvg Zbavgbevat\\n* Rdhvsnk VQ Cngeby\\n* Perqvg Xnezn\\n* Vqragvgl Thneq\\n\\nJura pubbfvat na vqragvgl cebgrpgvba freivpr, pbafvqre gur sbyybjvat snpgbef:\\n\\n* **Pbzcerurafvir zbavgbevat**: Ybbx sbe n freivpr gung zbavgbef n jvqr enatr bs crefbany naq svanapvny vasbezngvba.\\n* **Nyregf naq abgvsvpngvbaf**: Pubbfr n freivpr gung fraqf lbh nyregf naq abgvsvpngvbaf va erny-gvzr.\\n* **Vafhenapr naq erfgbengvba**: Pbafvqre n freivpr gung bssref vqragvgl gursg vafhenapr naq erfgbengvba nffvfgnapr.\\n* **Hfre vagresnpr**: Pubbfr n freivpr jvgu n hfre-sevraqyl vagresnpr gung znxrf vg rnfl gb zbavgbe lbhe vasbezngvba naq erprvir nyregf.\\n* **Pbfg**: Pbzcner gur pbfgf bs qvssrerag freivprf naq pbafvqre gur inyhr lbh erprvir sbe gur cevpr.\\n\\nErzrzore, ab vqragvgl cebgrpgvba freivpr pna pbzcyrgryl ryvzvangr\",\n",
       "   'role': 'assistant'}]}"
      ]
     },
     "execution_count": 15,
     "metadata": {},
     "output_type": "execute_result"
    }
   ],
   "source": [
    "new_hf_dataset[0]"
   ]
  },
  {
   "cell_type": "code",
   "execution_count": 24,
   "id": "d077244c",
   "metadata": {},
   "outputs": [
    {
     "data": {
      "text/plain": [
       "Dataset({\n",
       "    features: ['conversation'],\n",
       "    num_rows: 20000\n",
       "})"
      ]
     },
     "execution_count": 24,
     "metadata": {},
     "output_type": "execute_result"
    }
   ],
   "source": [
    "new_hf_dataset"
   ]
  },
  {
   "cell_type": "markdown",
   "id": "d939f268",
   "metadata": {},
   "source": [
    "# Load to Huggingface"
   ]
  },
  {
   "cell_type": "code",
   "execution_count": null,
   "id": "d55e2eaf",
   "metadata": {},
   "outputs": [
    {
     "data": {
      "application/vnd.jupyter.widget-view+json": {
       "model_id": "74a31440e1fc42789ff414f74c25f053",
       "version_major": 2,
       "version_minor": 0
      },
      "text/plain": [
       "Uploading the dataset shards:   0%|          | 0/1 [00:00<?, ? shards/s]"
      ]
     },
     "metadata": {},
     "output_type": "display_data"
    },
    {
     "data": {
      "application/vnd.jupyter.widget-view+json": {
       "model_id": "02758e28bb844e21832b6ae0f2edfea3",
       "version_major": 2,
       "version_minor": 0
      },
      "text/plain": [
       "Creating parquet from Arrow format:   0%|          | 0/20 [00:00<?, ?ba/s]"
      ]
     },
     "metadata": {},
     "output_type": "display_data"
    },
    {
     "data": {
      "text/plain": [
       "CommitInfo(commit_url='https://huggingface.co/datasets/chingfang17/test_dataset/commit/02c777810b430e7d2cb2c5c436a64c69b4718105', commit_message='Upload dataset', commit_description='', oid='02c777810b430e7d2cb2c5c436a64c69b4718105', pr_url=None, repo_url=RepoUrl('https://huggingface.co/datasets/chingfang17/test_dataset', endpoint='https://huggingface.co', repo_type='dataset', repo_id='chingfang17/test_dataset'), pr_revision=None, pr_num=None)"
      ]
     },
     "execution_count": 38,
     "metadata": {},
     "output_type": "execute_result"
    }
   ],
   "source": [
    "new_hf_dataset.push_to_hub(\"chingfang17/test_dataset\")"
   ]
  }
 ],
 "metadata": {
  "kernelspec": {
   "display_name": "cbai",
   "language": "python",
   "name": "python3"
  },
  "language_info": {
   "codemirror_mode": {
    "name": "ipython",
    "version": 3
   },
   "file_extension": ".py",
   "mimetype": "text/x-python",
   "name": "python",
   "nbconvert_exporter": "python",
   "pygments_lexer": "ipython3",
   "version": "3.12.5"
  }
 },
 "nbformat": 4,
 "nbformat_minor": 5
}
