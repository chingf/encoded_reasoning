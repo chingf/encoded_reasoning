{
 "cells": [
  {
   "cell_type": "code",
   "execution_count": 1,
   "id": "f8d8b0aa",
   "metadata": {},
   "outputs": [],
   "source": [
    "import torch\n",
    "from datasets import load_dataset, Dataset\n",
    "from transformers import AutoTokenizer\n",
    "from tqdm import tqdm\n",
    "import json\n",
    "import gc\n",
    "import os\n",
    "from datasets import load_from_disk\n",
    "\n",
    "from config import storage_dir"
   ]
  },
  {
   "cell_type": "markdown",
   "id": "3fcc8e2a",
   "metadata": {},
   "source": [
    "# Setting arguments and paths"
   ]
  },
  {
   "cell_type": "code",
   "execution_count": 2,
   "id": "465ff8e9",
   "metadata": {},
   "outputs": [],
   "source": [
    "model_name = \"Llama-3.3-70B-Instruct\" #Qwen/Qwen3-14B\"\n",
    "model_storage_dir = os.path.join(storage_dir, \"lm_sys\", model_name.split(\"/\")[-1])\n",
    "response_path = os.path.join(model_storage_dir, 'lm_sys_responses')"
   ]
  },
  {
   "cell_type": "markdown",
   "id": "5c1cfb85",
   "metadata": {},
   "source": [
    "# Loading and examining dataset"
   ]
  },
  {
   "cell_type": "code",
   "execution_count": 3,
   "id": "9c13e864",
   "metadata": {},
   "outputs": [
    {
     "name": "stdout",
     "output_type": "stream",
     "text": [
      "Dataset({\n",
      "    features: ['conversation'],\n",
      "    num_rows: 128\n",
      "})\n"
     ]
    }
   ],
   "source": [
    "dataset = load_from_disk(response_path)\n",
    "print(dataset)"
   ]
  },
  {
   "cell_type": "code",
   "execution_count": 5,
   "id": "9a4be097",
   "metadata": {},
   "outputs": [
    {
     "data": {
      "text/plain": [
       "{'conversation': [{'content': \"Beside OFAC's selective sanction that target the listed individiuals and entities, please elaborate on the other types of US's sanctions, for example, comprehensive and sectoral sanctions. Please be detailed as much as possible\",\n",
       "   'role': 'user'},\n",
       "  {'content': \"The United States employs a range of sanctions tools to achieve its foreign policy and national security objectives. Besides the selective or targeted sanctions imposed by the Office of Foreign Assets Control (OFAC), which focus on specific individuals and entities, the U.S. government also implements comprehensive and sectoral sanctions. Each type of sanction has a distinct approach and impact on the targeted country, entity, or individual.\\n\\n### 1. Comprehensive Sanctions\\n\\nComprehensive sanctions, also known as country-based sanctions, are the most severe form of economic sanctions. They are imposed on an entire country, effectively isolating it from the global economy. These sanctions typically prohibit almost all economic activity with the targeted country, including trade, investment, and financial transactions. The goal of comprehensive sanctions is to exert significant pressure on a country's government to change its behavior or policies by severely impacting its economy.\\n\\n**Key Features:**\\n- **Broad Trade Restrictions:** Comprehensive sanctions often include a trade embargo, which restricts the import and export of goods and services to and from the targeted country.\\n- **Financial Restrictions:** They may include freezing the assets of the country and its government, as well as restrictions on financial transactions involving the country.\\n- **Travel Bans:** These sanctions can also include travel bans for citizens of the targeted country or restrictions on travel to the country.\\n\\n**Examples:**\\n- The sanctions imposed on Cuba by the United States are a long-standing example of comprehensive sanctions. Although there have been periods of easing, the U.S. embargo on Cuba remains one of the most enduring examples of comprehensive sanctions.\\n- Sanctions on North Korea are another example, with the U.S. imposing strict trade and financial restrictions in response to North Korea's nuclear and missile programs.\\n\\n### 2. Sectoral Sanctions\\n\\nSectoral sanctions target specific sectors of a country's economy rather than the entire economy. These sanctions are designed to pressure a government by targeting key sectors that are crucial to its economic stability or political power. Sectoral sanctions can be more nuanced than comprehensive sanctions, allowing the U.S. to tailor its response to specific issues or behaviors.\\n\\n**Key Features:**\\n- **Targeted at Specific Sectors:** These sanctions focus on critical sectors such as finance, energy, defense, or technology, aiming to limit the targeted country's ability to operate effectively in these areas.\\n- **Restrictions on Transactions:** Sectoral sanctions may prohibit U.S. persons from engaging in transactions with entities in the targeted sector, such as buying or selling certain goods, services, or technologies.\\n- **Designation of Specific\",\n",
       "   'role': 'assistant'}]}"
      ]
     },
     "execution_count": 5,
     "metadata": {},
     "output_type": "execute_result"
    }
   ],
   "source": [
    "dataset[1]"
   ]
  },
  {
   "cell_type": "code",
   "execution_count": 4,
   "id": "5e4f12a4",
   "metadata": {},
   "outputs": [
    {
     "name": "stdout",
     "output_type": "stream",
     "text": [
      "{'context_length': 512, 'start_idx': 0, 'max_samples': 10500, 'model_name': 'Qwen/Qwen3-14B', 'batch_size': 128, 'gpu_count': 4, 'processing_time': 34.9708014011383}\n"
     ]
    }
   ],
   "source": [
    "with open(os.path.join(response_path, 'generation_params.json'), 'r') as f:\n",
    "    generation_params = json.load(f)\n",
    "print(generation_params)"
   ]
  },
  {
   "cell_type": "code",
   "execution_count": 5,
   "id": "9411e0a2",
   "metadata": {},
   "outputs": [],
   "source": [
    "def count_tokens(text, tokenizer):\n",
    "    return len(tokenizer.encode(text, add_special_tokens=False))\n",
    "\n",
    "def content_token_counts(dataset, tokenizer, role='assistant'):\n",
    "    content_idx = -1 if role == 'assistant' else 0\n",
    "    counts = []\n",
    "    for item in dataset:\n",
    "        content = item['conversation'][content_idx]['content']\n",
    "        counts.append(count_tokens(content, tokenizer))\n",
    "    return counts\n",
    "\n",
    "tokenizer = AutoTokenizer.from_pretrained(model_name)\n",
    "counts = content_token_counts(dataset, tokenizer)"
   ]
  },
  {
   "cell_type": "code",
   "execution_count": 6,
   "id": "3b440e37",
   "metadata": {},
   "outputs": [
    {
     "name": "stdout",
     "output_type": "stream",
     "text": [
      "0.33076190476190476\n"
     ]
    }
   ],
   "source": [
    "import numpy as np\n",
    "print(np.sum(np.array(counts) ==512)/len(counts))  # Didn't reach EOS"
   ]
  },
  {
   "cell_type": "code",
   "execution_count": 7,
   "id": "1351327b",
   "metadata": {},
   "outputs": [
    {
     "data": {
      "text/plain": [
       "{'conversation': [{'content': 'how can identity protection services help protect me against identity theft',\n",
       "   'role': 'user'},\n",
       "  {'content': \"Identity protection services are designed to help you safeguard your personal information and reduce the risk of identity theft. These services can be especially valuable in today's digital age, where personal data is frequently collected, stored, and sometimes misused. Here's how identity protection services can help protect you against identity theft:\\n\\n---\\n\\n### 1. **Monitoring for Suspicious Activity**\\nIdentity protection services continuously monitor your personal information across various databases, credit reports, and online platforms. This includes:\\n\\n- **Credit monitoring**: Alerts you to new credit accounts opened in your name.\\n- **Public record monitoring**: Tracks changes in your personal information (e.g., address, phone number, marriage, divorce, etc.).\\n- **Dark web monitoring**: Scans the dark web for your personal information that may have been leaked or sold.\\n\\n**Why it helps**: Early detection of suspicious activity can help you act quickly to prevent or mitigate identity theft.\\n\\n---\\n\\n### 2. **Alerts and Notifications**\\nThese services provide real-time alerts when they detect unusual activity, such as:\\n\\n- A new credit card application in your name\\n- A change in your credit score\\n- Your personal information appearing on the dark web\\n- Unauthorized access to your accounts\\n\\n**Why it helps**: Timely alerts allow you to respond quickly, potentially stopping identity theft before it causes significant damage.\\n\\n---\\n\\n### 3. **Credit Freeze and Fraud Alerts**\\nMany identity protection services offer tools to:\\n\\n- **Freeze your credit**: Prevent creditors from accessing your credit report, which stops thieves from opening new accounts in your name.\\n- **Place fraud alerts**: Notify creditors that you may be a victim of identity theft, prompting them to take extra steps to verify your identity.\\n\\n**Why it helps**: These tools make it harder for identity thieves to open new accounts using your information.\\n\\n---\\n\\n### 4. **Identity Theft Insurance**\\nSome services include insurance coverage that can help reimburse you for financial losses due to identity theft, such as:\\n\\n- Lost wages\\n- Legal fees\\n- Costs to restore your credit\\n- Expenses related to resolving fraud\\n\\n**Why it helps**: This can provide financial protection and peace of mind if you become a victim.\\n\\n---\\n\\n### 5. **Restoration Services**\\nIf identity theft occurs, some services offer assistance with:\\n\\n- Contacting creditors and financial institutions\\n- Filing police reports\\n- Disputing fraudulent charges\\n- Rebuilding your credit\\n\\n**Why it helps**: This can save you time, stress, and money during the recovery process.\\n\\n---\\n\\n### 6. **Personal\",\n",
       "   'role': 'assistant'}]}"
      ]
     },
     "execution_count": 7,
     "metadata": {},
     "output_type": "execute_result"
    }
   ],
   "source": [
    "dataset[0]"
   ]
  },
  {
   "cell_type": "markdown",
   "id": "5513e501",
   "metadata": {},
   "source": [
    "# Conversion to ROT13"
   ]
  },
  {
   "cell_type": "code",
   "execution_count": 42,
   "id": "b86c9cd5",
   "metadata": {},
   "outputs": [],
   "source": [
    "import re\n",
    "import codecs\n",
    "\n",
    "def rot13_alpha(text):\n",
    "    # Apply ROT13 only to alphabetic substrings\n",
    "    def rot13_match(match):\n",
    "        return codecs.encode(match.group(0), 'rot_13')\n",
    "    # Substitute only [A-Za-z]+ substrings\n",
    "    return re.sub(r'[A-Za-z]+', rot13_match, text)\n",
    "\n",
    "def rot13_dataset(dataset):\n",
    "    new_dataset = []\n",
    "    n_items = 0\n",
    "    for item in dataset:\n",
    "        new_item = item.copy()\n",
    "        old_content = new_item['conversation'][-1]['content']\n",
    "        new_content = rot13_alpha(old_content)\n",
    "        new_item['conversation'][-1]['content'] = new_content\n",
    "        new_dataset.append(new_item)\n",
    "        n_items += 1\n",
    "    return new_dataset"
   ]
  },
  {
   "cell_type": "code",
   "execution_count": 43,
   "id": "105e90ff",
   "metadata": {},
   "outputs": [
    {
     "data": {
      "application/vnd.jupyter.widget-view+json": {
       "model_id": "2d68082b4ec74cfeb597a5dccb318ab8",
       "version_major": 2,
       "version_minor": 0
      },
      "text/plain": [
       "Saving the dataset (0/1 shards):   0%|          | 0/10500 [00:00<?, ? examples/s]"
      ]
     },
     "metadata": {},
     "output_type": "display_data"
    }
   ],
   "source": [
    "new_dataset = rot13_dataset(dataset)\n",
    "new_hf_dataset = Dataset.from_list(new_dataset)\n",
    "rot13_save_path = os.path.join(model_storage_dir, 'lm_sys_responses_rot13')\n",
    "new_hf_dataset.save_to_disk(rot13_save_path)"
   ]
  },
  {
   "cell_type": "code",
   "execution_count": 50,
   "id": "b5638903",
   "metadata": {},
   "outputs": [
    {
     "data": {
      "text/plain": [
       "np.int64(1535)"
      ]
     },
     "execution_count": 50,
     "metadata": {},
     "output_type": "execute_result"
    }
   ],
   "source": [
    "counts = content_token_counts(new_dataset, tokenizer)\n",
    "counts = np.array(counts)\n",
    "counts.max()"
   ]
  },
  {
   "cell_type": "code",
   "execution_count": 51,
   "id": "8e725d00",
   "metadata": {},
   "outputs": [
    {
     "data": {
      "text/plain": [
       "np.int64(2560)"
      ]
     },
     "execution_count": 51,
     "metadata": {},
     "output_type": "execute_result"
    }
   ],
   "source": [
    "counts = content_token_counts(new_dataset, tokenizer, role='user')\n",
    "counts = np.array(counts)\n",
    "counts.max()"
   ]
  },
  {
   "cell_type": "code",
   "execution_count": 52,
   "id": "21280a73",
   "metadata": {},
   "outputs": [
    {
     "data": {
      "text/plain": [
       "4095"
      ]
     },
     "execution_count": 52,
     "metadata": {},
     "output_type": "execute_result"
    }
   ],
   "source": [
    "2560+1535"
   ]
  },
  {
   "cell_type": "code",
   "execution_count": 54,
   "id": "97586751",
   "metadata": {},
   "outputs": [
    {
     "data": {
      "text/plain": [
       "np.float64(24.0)"
      ]
     },
     "execution_count": 54,
     "metadata": {},
     "output_type": "execute_result"
    }
   ],
   "source": [
    "np.median(counts)"
   ]
  },
  {
   "cell_type": "code",
   "execution_count": null,
   "id": "62d73bd2",
   "metadata": {},
   "outputs": [],
   "source": []
  }
 ],
 "metadata": {
  "kernelspec": {
   "display_name": "cbai",
   "language": "python",
   "name": "python3"
  },
  "language_info": {
   "codemirror_mode": {
    "name": "ipython",
    "version": 3
   },
   "file_extension": ".py",
   "mimetype": "text/x-python",
   "name": "python",
   "nbconvert_exporter": "python",
   "pygments_lexer": "ipython3",
   "version": "3.12.5"
  }
 },
 "nbformat": 4,
 "nbformat_minor": 5
}
