{
 "cells": [
  {
   "cell_type": "code",
   "execution_count": null,
   "id": "f8d8b0aa",
   "metadata": {},
   "outputs": [],
   "source": [
    "import torch\n",
    "from datasets import load_dataset, Dataset\n",
    "from transformers import AutoTokenizer\n",
    "from tqdm import tqdm\n",
    "import json\n",
    "import gc\n",
    "import os\n",
    "from datasets import load_from_disk\n",
    "import numpy as np\n",
    "import matplotlib.pyplot as plt\n",
    "import re\n",
    "\n",
    "from config import storage_dir"
   ]
  },
  {
   "cell_type": "markdown",
   "id": "3fcc8e2a",
   "metadata": {},
   "source": [
    "# Setting arguments and paths"
   ]
  },
  {
   "cell_type": "code",
   "execution_count": 241,
   "id": "465ff8e9",
   "metadata": {},
   "outputs": [],
   "source": [
    "# Main arguments\n",
    "#model_name = \"meta-llama/Llama-3.3-70B-Instruct\"\n",
    "model_name = \"Qwen/Qwen3-30B-A3B\"\n",
    "\n",
    "base_model_name = model_name.split(\"/\")[-1]\n",
    "model_storage_dir = os.path.join(storage_dir, \"lm_sys\", model_name.split(\"/\")[-1])\n",
    "response_path = os.path.join(model_storage_dir, 'lm_sys_responses')"
   ]
  },
  {
   "cell_type": "markdown",
   "id": "5c1cfb85",
   "metadata": {},
   "source": [
    "# Loading dataset and exclude bad prompts\n",
    "Specifically, there's >5K prompts that just say \"Write a single dot\""
   ]
  },
  {
   "cell_type": "code",
   "execution_count": 242,
   "id": "9c13e864",
   "metadata": {},
   "outputs": [
    {
     "name": "stdout",
     "output_type": "stream",
     "text": [
      "Dataset({\n",
      "    features: ['conversation'],\n",
      "    num_rows: 70000\n",
      "})\n"
     ]
    }
   ],
   "source": [
    "dataset = load_from_disk(response_path)\n",
    "print(dataset)"
   ]
  },
  {
   "cell_type": "code",
   "execution_count": 243,
   "id": "1135bf4c",
   "metadata": {},
   "outputs": [],
   "source": [
    "# Filter the dataset to exclude rows with \"single dot\" in user content\n",
    "filtered_dataset = [\n",
    "    {'conversation': row} for row in dataset['conversation']\n",
    "    if 'single dot' not in row[0]['content']\n",
    "]\n",
    "\n",
    "# Convert the filtered list back to a Huggingface Dataset\n",
    "filtered_hf_dataset = Dataset.from_list(filtered_dataset)"
   ]
  },
  {
   "cell_type": "code",
   "execution_count": 244,
   "id": "5e4f12a4",
   "metadata": {},
   "outputs": [
    {
     "name": "stdout",
     "output_type": "stream",
     "text": [
      "{'context_length': 512, 'start_idx': 0, 'max_samples': 10500, 'model_name': 'Qwen/Qwen3-30B-A3B'}\n"
     ]
    }
   ],
   "source": [
    "generation_params_path = os.path.join(response_path, 'generation_params.json')\n",
    "if os.path.exists(generation_params_path):\n",
    "    with open(generation_params_path, 'r') as f:\n",
    "        generation_params = json.load(f)\n",
    "    print(generation_params)"
   ]
  },
  {
   "cell_type": "code",
   "execution_count": null,
   "id": "9411e0a2",
   "metadata": {},
   "outputs": [],
   "source": [
    "def count_tokens(text, tokenizer):\n",
    "    return len(tokenizer.encode(text, add_special_tokens=False))\n",
    "\n",
    "def content_token_counts(dataset, tokenizer, role='assistant'):\n",
    "    content_idx = -1 if role == 'assistant' else 0\n",
    "    counts = []\n",
    "    for item in dataset:\n",
    "        content = item['conversation'][content_idx]['content']\n",
    "        counts.append(count_tokens(content, tokenizer))\n",
    "    return np.array(counts)\n",
    "\n",
    "tokenizer = AutoTokenizer.from_pretrained(model_name)\n",
    "asst_counts = content_token_counts(dataset, tokenizer)"
   ]
  },
  {
   "cell_type": "code",
   "execution_count": null,
   "id": "3b440e37",
   "metadata": {},
   "outputs": [
    {
     "name": "stdout",
     "output_type": "stream",
     "text": [
      "2.2222222222222223e-05\n"
     ]
    }
   ],
   "source": [
    "import numpy as np\n",
    "print(np.sum(np.array(asst_counts) == asst_counts.max())/len(asst_counts))  # Didn't reach EOS"
   ]
  },
  {
   "cell_type": "markdown",
   "id": "5513e501",
   "metadata": {},
   "source": [
    "# Conversion to ROT13"
   ]
  },
  {
   "cell_type": "code",
   "execution_count": null,
   "id": "b86c9cd5",
   "metadata": {},
   "outputs": [],
   "source": [
    "import re\n",
    "import codecs\n",
    "\n",
    "def rot13_alpha(text):\n",
    "    # Apply ROT13 only to alphabetic substrings\n",
    "    def rot13_match(match):\n",
    "        return codecs.encode(match.group(0), 'rot_13')\n",
    "    # Substitute only [A-Za-z]+ substrings\n",
    "    return re.sub(r'[A-Za-z]+', rot13_match, text)\n",
    "\n",
    "def rot13_dataset(dataset):\n",
    "    new_dataset = []\n",
    "    n_items = 0\n",
    "    for item in dataset:\n",
    "        new_item = item.copy()\n",
    "        old_content = new_item['conversation'][-1]['content']\n",
    "        new_content = rot13_alpha(old_content)\n",
    "        new_item['conversation'][-1]['content'] = new_content\n",
    "        new_dataset.append(new_item)\n",
    "        n_items += 1\n",
    "    return new_dataset"
   ]
  },
  {
   "cell_type": "code",
   "execution_count": null,
   "id": "105e90ff",
   "metadata": {},
   "outputs": [],
   "source": [
    "# Run rot13 conversion\n",
    "new_dataset = rot13_dataset(filtered_hf_dataset)\n",
    "\n",
    "# Drop rows from new_dataset that are identical to filtered_hf_dataset\n",
    "filtered_new_dataset = []\n",
    "dropped_data = []\n",
    "for new_item, original_item in zip(new_dataset, filtered_hf_dataset):\n",
    "    if new_item['conversation'][-1]['content'] == original_item['conversation'][-1]['content']:\n",
    "        dropped_data.append(new_item)\n",
    "    else:\n",
    "        filtered_new_dataset.append(new_item)"
   ]
  },
  {
   "cell_type": "code",
   "execution_count": null,
   "id": "3caa473a",
   "metadata": {},
   "outputs": [
    {
     "data": {
      "application/vnd.jupyter.widget-view+json": {
       "model_id": "f3c49523ce1f476fba21ccfd40082bfc",
       "version_major": 2,
       "version_minor": 0
      },
      "text/plain": [
       "Saving the dataset (0/1 shards):   0%|          | 0/42275 [00:00<?, ? examples/s]"
      ]
     },
     "metadata": {},
     "output_type": "display_data"
    }
   ],
   "source": [
    "new_hf_dataset = Dataset.from_list(filtered_new_dataset)\n",
    "rot13_save_path = os.path.join(model_storage_dir, 'lm_sys_responses_rot13')\n",
    "new_hf_dataset.save_to_disk(rot13_save_path)"
   ]
  },
  {
   "cell_type": "code",
   "execution_count": null,
   "id": "1ec1d875",
   "metadata": {},
   "outputs": [],
   "source": [
    "rot13_asst_counts = content_token_counts(new_dataset, tokenizer)\n",
    "rot13_user_counts = content_token_counts(new_dataset, tokenizer, role='user')"
   ]
  },
  {
   "cell_type": "code",
   "execution_count": null,
   "id": "f717f51c",
   "metadata": {},
   "outputs": [
    {
     "data": {
      "text/plain": [
       "Text(0, 0.5, 'Frequency')"
      ]
     },
     "execution_count": 231,
     "metadata": {},
     "output_type": "execute_result"
    },
    {
     "data": {
      "image/png": "[encoded data removed]",
      "text/plain": [
       "<Figure size 300x200 with 1 Axes>"
      ]
     },
     "metadata": {},
     "output_type": "display_data"
    }
   ],
   "source": [
    "rot13_total_counts = rot13_asst_counts + rot13_user_counts\n",
    "plt.figure(figsize=(3,2))\n",
    "plt.hist(rot13_total_counts, bins=100)\n",
    "plt.xlabel('ROT-13 Data Length')\n",
    "plt.ylabel('Frequency')\n"
   ]
  },
  {
   "cell_type": "code",
   "execution_count": null,
   "id": "b5638903",
   "metadata": {},
   "outputs": [
    {
     "data": {
      "text/plain": [
       "np.int64(2048)"
      ]
     },
     "execution_count": 232,
     "metadata": {},
     "output_type": "execute_result"
    },
    {
     "data": {
      "image/png": "[encoded data removed]",
      "text/plain": [
       "<Figure size 300x200 with 1 Axes>"
      ]
     },
     "metadata": {},
     "output_type": "display_data"
    }
   ],
   "source": [
    "plt.figure(figsize=(3,2))\n",
    "plt.hist(rot13_asst_counts, bins=100)\n",
    "plt.xlabel('ROT-13 Assistant Token Count')\n",
    "plt.ylabel('Frequency')\n",
    "rot13_asst_counts.max()"
   ]
  },
  {
   "cell_type": "code",
   "execution_count": null,
   "id": "8e725d00",
   "metadata": {},
   "outputs": [
    {
     "data": {
      "text/plain": [
       "np.int64(200)"
      ]
     },
     "execution_count": 233,
     "metadata": {},
     "output_type": "execute_result"
    },
    {
     "data": {
      "image/png": "[encoded data removed]",
      "text/plain": [
       "<Figure size 300x200 with 1 Axes>"
      ]
     },
     "metadata": {},
     "output_type": "display_data"
    }
   ],
   "source": [
    "plt.figure(figsize=(3,2))\n",
    "plt.hist(rot13_user_counts, bins=100)\n",
    "plt.xlabel('ROT-13 User Token Count')\n",
    "plt.ylabel('Frequency')\n",
    "rot13_user_counts.max()"
   ]
  },
  {
   "cell_type": "code",
   "execution_count": null,
   "id": "c8148b97",
   "metadata": {},
   "outputs": [
    {
     "data": {
      "text/plain": [
       "np.int64(524)"
      ]
     },
     "execution_count": 234,
     "metadata": {},
     "output_type": "execute_result"
    },
    {
     "data": {
      "image/png": "[encoded data removed]",
      "text/plain": [
       "<Figure size 300x200 with 1 Axes>"
      ]
     },
     "metadata": {},
     "output_type": "display_data"
    }
   ],
   "source": [
    "counts = content_token_counts(dataset, tokenizer)\n",
    "counts = np.array(counts)\n",
    "plt.figure(figsize=(3,2))\n",
    "plt.hist(counts, bins=100)\n",
    "plt.xlabel('Assistant Token Count')\n",
    "plt.ylabel('Frequency')\n",
    "counts.max()"
   ]
  },
  {
   "cell_type": "code",
   "execution_count": null,
   "id": "124eceb1",
   "metadata": {},
   "outputs": [
    {
     "data": {
      "text/plain": [
       "{'conversation': [{'content': 'how can identity protection services help protect me against identity theft',\n",
       "   'role': 'user'},\n",
       "  {'content': \"Vqragvgl cebgrpgvba freivprf pna uryc cebgrpg lbh ntnvafg vqragvgl gursg va frireny jnlf:\\n\\n1. **Zbavgbevat**: Gurl zbavgbe lbhe crefbany naq svanapvny vasbezngvba, fhpu nf perqvg ercbegf, onax nppbhagf, naq fbpvny zrqvn, sbe nal fhfcvpvbhf npgvivgl.\\n2. **Nyregf**: Gurl fraq lbh nyregf naq abgvsvpngvbaf vs gurl qrgrpg nal hahfhny npgvivgl, fhpu nf n arj perqvg vadhvel be n punatr va lbhe perqvg fpber.\\n3. **Perqvg Ercbeg Zbavgbevat**: Gurl zbavgbe lbhe perqvg ercbegf sebz gur guerr znwbe perqvg ohernhf (Rkcrevna, GenafHavba, naq Rdhvsnk) naq nyreg lbh gb nal punatrf be reebef.\\n4. **Qnex Jro Zbavgbevat**: Gurl fpna gur qnex jro sbe lbhe crefbany vasbezngvba, fhpu nf lbhe Fbpvny Frphevgl ahzore, qevire'f yvprafr ahzore, be cnffcbeg ahzore, gb frr vs vg'f orra pbzcebzvfrq.\\n5. **Vqragvgl Gursg Vafhenapr**: Gurl bssre vafhenapr gung pna uryc pbire gur pbfgf bs erfgbevat lbhe vqragvgl naq ercnvevat nal qnzntr pnhfrq ol vqragvgl gursg.\\n6. **Perqvg Serrmr**: Gurl pna uryc lbh cynpr n perqvg serrmr ba lbhe perqvg ercbegf, juvpu pna cerirag arj perqvg nppbhagf sebz orvat bcrarq va lbhe anzr.\\n7. **Vqragvgl Erfgbengvba**: Gurl cebivqr nffvfgnapr jvgu erfgbevat lbhe vqragvgl, vapyhqvat urycvat lbh gb qvfchgr reebef ba lbhe perqvg ercbegf, pnapryvat senhqhyrag nppbhagf, naq bognvavat arj vqragvsvpngvba qbphzragf.\\n8. **Cnffjbeq Znantrzrag**: Gurl bssre cnffjbeq znantrzrag gbbyf gb uryc lbh trarengr naq fgber havdhr, fgebat cnffjbeqf sbe nyy bs lbhe bayvar nppbhagf.\\n9. **Gjb-Snpgbe Nhguragvpngvba**: Gurl cebivqr gjb-snpgbe nhguragvpngvba (2SN) gb nqq na rkgen ynlre bs frphevgl gb lbhe bayvar nppbhagf.\\n10. **Rqhpngvba naq Erfbheprf**: Gurl cebivqr rqhpngvba naq erfbheprf gb uryc lbh haqrefgnaq ubj gb cebgrpg lbhefrys sebz vqragvgl gursg naq jung gb qb vs lbh orpbzr n ivpgvz.\\n\\nFbzr cbchyne vqragvgl cebgrpgvba freivprf vapyhqr:\\n\\n* YvsrYbpx\\n* VqragvglSbepr\\n* Rkcrevna VqragvglJbexf\\n* GenafHavba Perqvg Zbavgbevat\\n* Rdhvsnk VQ Cngeby\\n* Perqvg Xnezn\\n* Vqragvgl Thneq\\n\\nJura pubbfvat na vqragvgl cebgrpgvba freivpr, pbafvqre gur sbyybjvat snpgbef:\\n\\n* **Pbzcerurafvir zbavgbevat**: Ybbx sbe n freivpr gung zbavgbef n jvqr enatr bs crefbany naq svanapvny vasbezngvba.\\n* **Nyregf naq abgvsvpngvbaf**: Pubbfr n freivpr gung fraqf lbh nyregf naq abgvsvpngvbaf va erny-gvzr.\\n* **Vafhenapr naq erfgbengvba**: Pbafvqre n freivpr gung bssref vqragvgl gursg vafhenapr naq erfgbengvba nffvfgnapr.\\n* **Hfre vagresnpr**: Pubbfr n freivpr jvgu n hfre-sevraqyl vagresnpr gung znxrf vg rnfl gb zbavgbe lbhe vasbezngvba naq erprvir nyregf.\\n* **Pbfg**: Pbzcner gur pbfgf bs qvssrerag freivprf naq pbafvqre gur inyhr lbh erprvir sbe gur cevpr.\\n\\nErzrzore, ab vqragvgl cebgrpgvba freivpr pna pbzcyrgryl ryvzvangr\",\n",
       "   'role': 'assistant'}]}"
      ]
     },
     "execution_count": 235,
     "metadata": {},
     "output_type": "execute_result"
    }
   ],
   "source": [
    "new_hf_dataset[0]"
   ]
  },
  {
   "cell_type": "code",
   "execution_count": null,
   "id": "d077244c",
   "metadata": {},
   "outputs": [
    {
     "data": {
      "text/plain": [
       "Dataset({\n",
       "    features: ['conversation'],\n",
       "    num_rows: 42275\n",
       "})"
      ]
     },
     "execution_count": 236,
     "metadata": {},
     "output_type": "execute_result"
    }
   ],
   "source": [
    "new_hf_dataset"
   ]
  },
  {
   "cell_type": "markdown",
   "id": "d939f268",
   "metadata": {},
   "source": [
    "# Load to Huggingface"
   ]
  },
  {
   "cell_type": "code",
   "execution_count": null,
   "id": "d55e2eaf",
   "metadata": {},
   "outputs": [
    {
     "data": {
      "application/vnd.jupyter.widget-view+json": {
       "model_id": "15d50975947747759fd0496fd2851f33",
       "version_major": 2,
       "version_minor": 0
      },
      "text/plain": [
       "Uploading the dataset shards:   0%|          | 0/1 [00:00<?, ?it/s]"
      ]
     },
     "metadata": {},
     "output_type": "display_data"
    },
    {
     "data": {
      "application/vnd.jupyter.widget-view+json": {
       "model_id": "4f2ff46f39f44445b6a56dc5c7885f46",
       "version_major": 2,
       "version_minor": 0
      },
      "text/plain": [
       "Creating parquet from Arrow format:   0%|          | 0/43 [00:00<?, ?ba/s]"
      ]
     },
     "metadata": {},
     "output_type": "display_data"
    },
    {
     "data": {
      "text/plain": [
       "CommitInfo(commit_url='https://huggingface.co/datasets/chingfang17/Llama-3.3-70B-Instruct_rot13_responses/commit/8e81a7d00877d600d512c9ebb70d5cd10a3c544e', commit_message='Upload dataset', commit_description='', oid='8e81a7d00877d600d512c9ebb70d5cd10a3c544e', pr_url=None, repo_url=RepoUrl('https://huggingface.co/datasets/chingfang17/Llama-3.3-70B-Instruct_rot13_responses', endpoint='https://huggingface.co', repo_type='dataset', repo_id='chingfang17/Llama-3.3-70B-Instruct_rot13_responses'), pr_revision=None, pr_num=None)"
      ]
     },
     "execution_count": 237,
     "metadata": {},
     "output_type": "execute_result"
    }
   ],
   "source": [
    "new_hf_dataset.push_to_hub(f\"chingfang17/{base_model_name}_rot13_responses\")"
   ]
  },
  {
   "cell_type": "code",
   "execution_count": null,
   "id": "6dae0c19",
   "metadata": {},
   "outputs": [],
   "source": [
    "from datasets import load_dataset"
   ]
  },
  {
   "cell_type": "code",
   "execution_count": null,
   "id": "ac3faa11",
   "metadata": {},
   "outputs": [
    {
     "data": {
      "application/vnd.jupyter.widget-view+json": {
       "model_id": "a0acb4228adf44c481d8649f31924f6f",
       "version_major": 2,
       "version_minor": 0
      },
      "text/plain": [
       "README.md:   0%|          | 0.00/355 [00:00<?, ?B/s]"
      ]
     },
     "metadata": {},
     "output_type": "display_data"
    },
    {
     "data": {
      "application/vnd.jupyter.widget-view+json": {
       "model_id": "fe37712eef30482cbb704d5a97e12d78",
       "version_major": 2,
       "version_minor": 0
      },
      "text/plain": [
       "train-00000-of-00001.parquet:   0%|          | 0.00/35.5M [00:00<?, ?B/s]"
      ]
     },
     "metadata": {},
     "output_type": "display_data"
    },
    {
     "data": {
      "application/vnd.jupyter.widget-view+json": {
       "model_id": "2c4c0debe3a74f1ca60b72f823da1670",
       "version_major": 2,
       "version_minor": 0
      },
      "text/plain": [
       "Generating train split:   0%|          | 0/42275 [00:00<?, ? examples/s]"
      ]
     },
     "metadata": {},
     "output_type": "display_data"
    },
    {
     "data": {
      "text/plain": [
       "DatasetDict({\n",
       "    train: Dataset({\n",
       "        features: ['conversation'],\n",
       "        num_rows: 42275\n",
       "    })\n",
       "})"
      ]
     },
     "execution_count": 239,
     "metadata": {},
     "output_type": "execute_result"
    }
   ],
   "source": [
    "test = load_dataset(f\"chingfang17/{base_model_name}_rot13_responses\")\n",
    "test"
   ]
  },
  {
   "cell_type": "code",
   "execution_count": null,
   "id": "1a8010f7",
   "metadata": {},
   "outputs": [
    {
     "data": {
      "text/plain": [
       "{'conversation': [{'content': 'how can identity protection services help protect me against identity theft',\n",
       "   'role': 'user'},\n",
       "  {'content': \"Vqragvgl cebgrpgvba freivprf pna uryc cebgrpg lbh ntnvafg vqragvgl gursg va frireny jnlf:\\n\\n1. **Zbavgbevat**: Gurl zbavgbe lbhe crefbany naq svanapvny vasbezngvba, fhpu nf perqvg ercbegf, onax nppbhagf, naq fbpvny zrqvn, sbe nal fhfcvpvbhf npgvivgl.\\n2. **Nyregf**: Gurl fraq lbh nyregf naq abgvsvpngvbaf vs gurl qrgrpg nal hahfhny npgvivgl, fhpu nf n arj perqvg vadhvel be n punatr va lbhe perqvg fpber.\\n3. **Perqvg Ercbeg Zbavgbevat**: Gurl zbavgbe lbhe perqvg ercbegf sebz gur guerr znwbe perqvg ohernhf (Rkcrevna, GenafHavba, naq Rdhvsnk) naq nyreg lbh gb nal punatrf be reebef.\\n4. **Qnex Jro Zbavgbevat**: Gurl fpna gur qnex jro sbe lbhe crefbany vasbezngvba, fhpu nf lbhe Fbpvny Frphevgl ahzore, qevire'f yvprafr ahzore, be cnffcbeg ahzore, gb frr vs vg'f orra pbzcebzvfrq.\\n5. **Vqragvgl Gursg Vafhenapr**: Gurl bssre vafhenapr gung pna uryc pbire gur pbfgf bs erfgbevat lbhe vqragvgl naq ercnvevat nal qnzntr pnhfrq ol vqragvgl gursg.\\n6. **Perqvg Serrmr**: Gurl pna uryc lbh cynpr n perqvg serrmr ba lbhe perqvg ercbegf, juvpu pna cerirag arj perqvg nppbhagf sebz orvat bcrarq va lbhe anzr.\\n7. **Vqragvgl Erfgbengvba**: Gurl cebivqr nffvfgnapr jvgu erfgbevat lbhe vqragvgl, vapyhqvat urycvat lbh gb qvfchgr reebef ba lbhe perqvg ercbegf, pnapryvat senhqhyrag nppbhagf, naq bognvavat arj vqragvsvpngvba qbphzragf.\\n8. **Cnffjbeq Znantrzrag**: Gurl bssre cnffjbeq znantrzrag gbbyf gb uryc lbh trarengr naq fgber havdhr, fgebat cnffjbeqf sbe nyy bs lbhe bayvar nppbhagf.\\n9. **Gjb-Snpgbe Nhguragvpngvba**: Gurl cebivqr gjb-snpgbe nhguragvpngvba (2SN) gb nqq na rkgen ynlre bs frphevgl gb lbhe bayvar nppbhagf.\\n10. **Rqhpngvba naq Erfbheprf**: Gurl cebivqr rqhpngvba naq erfbheprf gb uryc lbh haqrefgnaq ubj gb cebgrpg lbhefrys sebz vqragvgl gursg naq jung gb qb vs lbh orpbzr n ivpgvz.\\n\\nFbzr cbchyne vqragvgl cebgrpgvba freivprf vapyhqr:\\n\\n* YvsrYbpx\\n* VqragvglSbepr\\n* Rkcrevna VqragvglJbexf\\n* GenafHavba Perqvg Zbavgbevat\\n* Rdhvsnk VQ Cngeby\\n* Perqvg Xnezn\\n* Vqragvgl Thneq\\n\\nJura pubbfvat na vqragvgl cebgrpgvba freivpr, pbafvqre gur sbyybjvat snpgbef:\\n\\n* **Pbzcerurafvir zbavgbevat**: Ybbx sbe n freivpr gung zbavgbef n jvqr enatr bs crefbany naq svanapvny vasbezngvba.\\n* **Nyregf naq abgvsvpngvbaf**: Pubbfr n freivpr gung fraqf lbh nyregf naq abgvsvpngvbaf va erny-gvzr.\\n* **Vafhenapr naq erfgbengvba**: Pbafvqre n freivpr gung bssref vqragvgl gursg vafhenapr naq erfgbengvba nffvfgnapr.\\n* **Hfre vagresnpr**: Pubbfr n freivpr jvgu n hfre-sevraqyl vagresnpr gung znxrf vg rnfl gb zbavgbe lbhe vasbezngvba naq erprvir nyregf.\\n* **Pbfg**: Pbzcner gur pbfgf bs qvssrerag freivprf naq pbafvqre gur inyhr lbh erprvir sbe gur cevpr.\\n\\nErzrzore, ab vqragvgl cebgrpgvba freivpr pna pbzcyrgryl ryvzvangr\",\n",
       "   'role': 'assistant'}]}"
      ]
     },
     "execution_count": 240,
     "metadata": {},
     "output_type": "execute_result"
    }
   ],
   "source": [
    "test['train'][0]"
   ]
  },
  {
   "cell_type": "code",
   "execution_count": null,
   "id": "b5eb6597",
   "metadata": {},
   "outputs": [],
   "source": []
  }
 ],
 "metadata": {
  "kernelspec": {
   "display_name": "cbai",
   "language": "python",
   "name": "python3"
  },
  "language_info": {
   "codemirror_mode": {
    "name": "ipython",
    "version": 3
   },
   "file_extension": ".py",
   "mimetype": "text/x-python",
   "name": "python",
   "nbconvert_exporter": "python",
   "pygments_lexer": "ipython3",
   "version": "3.12.5"
  }
 },
 "nbformat": 4,
 "nbformat_minor": 5
}
