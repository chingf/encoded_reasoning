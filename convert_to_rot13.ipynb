{
 "cells": [
  {
   "cell_type": "code",
   "execution_count": 1,
   "id": "f8d8b0aa",
   "metadata": {},
   "outputs": [
    {
     "name": "stderr",
     "output_type": "stream",
     "text": [
      "/n/home04/cfang/.conda/envs/axolotl/lib/python3.12/site-packages/tqdm/auto.py:21: TqdmWarning: IProgress not found. Please update jupyter and ipywidgets. See https://ipywidgets.readthedocs.io/en/stable/user_install.html\n",
      "  from .autonotebook import tqdm as notebook_tqdm\n"
     ]
    }
   ],
   "source": [
    "import torch\n",
    "from datasets import load_dataset, Dataset\n",
    "from transformers import AutoTokenizer\n",
    "from tqdm import tqdm\n",
    "import json\n",
    "import gc\n",
    "import os\n",
    "from datasets import load_from_disk\n",
    "\n",
    "from config import storage_dir"
   ]
  },
  {
   "cell_type": "markdown",
   "id": "3fcc8e2a",
   "metadata": {},
   "source": [
    "# Setting arguments and paths"
   ]
  },
  {
   "cell_type": "code",
   "execution_count": 2,
   "id": "465ff8e9",
   "metadata": {},
   "outputs": [],
   "source": [
    "#model_name = \"meta-llama/Llama-3.3-70B-Instruct\"\n",
    "model_name = \"Qwen/Qwen3-30B-A3B\"\n",
    "model_storage_dir = os.path.join(storage_dir, \"lm_sys\", model_name.split(\"/\")[-1])\n",
    "response_path = os.path.join(model_storage_dir, 'lm_sys_responses')"
   ]
  },
  {
   "cell_type": "markdown",
   "id": "5c1cfb85",
   "metadata": {},
   "source": [
    "# Loading and examining dataset"
   ]
  },
  {
   "cell_type": "code",
   "execution_count": 3,
   "id": "9c13e864",
   "metadata": {},
   "outputs": [
    {
     "name": "stdout",
     "output_type": "stream",
     "text": [
      "Dataset({\n",
      "    features: ['conversation'],\n",
      "    num_rows: 40020\n",
      "})\n"
     ]
    }
   ],
   "source": [
    "dataset = load_from_disk(response_path)\n",
    "print(dataset)"
   ]
  },
  {
   "cell_type": "code",
   "execution_count": 4,
   "id": "9a4be097",
   "metadata": {},
   "outputs": [
    {
     "data": {
      "text/plain": [
       "{'conversation': [{'content': \"Beside OFAC's selective sanction that target the listed individiuals and entities, please elaborate on the other types of US's sanctions, for example, comprehensive and sectoral sanctions. Please be detailed as much as possible\",\n",
       "   'role': 'user'},\n",
       "  {'content': 'The U.S. government employs a wide range of sanctions to achieve foreign policy and national security objectives. While **OFAC (Office of Foreign Assets Control)** sanctions often target specific individuals and entities (known as **\"targeted\" or \"selective\" sanctions**), the U.S. also implements **comprehensive sanctions**, **sectoral sanctions**, and other types of economic and financial restrictions. Below is a detailed explanation of the different types of U.S. sanctions, with a focus on **comprehensive** and **sectoral sanctions**, as well as other key categories.\\n\\n---\\n\\n## 1. **Selective Sanctions (Targeted Sanctions)**\\n\\nThese are the most common type of sanctions administered by OFAC. They are designed to target **specific individuals, entities, or groups** that are believed to be involved in activities that threaten U.S. national security, foreign policy, or the global financial system.\\n\\n### Key Features:\\n- **Listed entities and individuals**: Sanctions are imposed on specific people or organizations (e.g., terrorists, drug traffickers, corrupt officials, or entities involved in human rights abuses).\\n- **Freezing of assets**: The U.S. government freezes the assets of the listed individuals or entities within U.S. jurisdiction.\\n- **Prohibition on transactions**: U.S. persons are prohibited from engaging in transactions with the listed parties.\\n- **Examples**:\\n  - Sanctions on **Iranian Revolutionary Guard Corps (IRGC)** members.\\n  - Sanctions on **Russian oligarchs** under the **Magnitsky Act**.\\n  - Sanctions on **North Korean entities** involved in nuclear proliferation.\\n\\n---\\n\\n## 2. **Comprehensive Sanctions**\\n\\nComprehensive sanctions are **broad-based** and apply to **entire countries** or **large sectors of their economies**. These sanctions are typically imposed when the U.S. seeks to isolate a country or region due to serious violations of international law, human rights abuses, or threats to U',\n",
       "   'role': 'assistant'}]}"
      ]
     },
     "execution_count": 4,
     "metadata": {},
     "output_type": "execute_result"
    }
   ],
   "source": [
    "dataset[1]"
   ]
  },
  {
   "cell_type": "code",
   "execution_count": 5,
   "id": "5e4f12a4",
   "metadata": {},
   "outputs": [
    {
     "name": "stdout",
     "output_type": "stream",
     "text": [
      "{'context_length': 512, 'start_idx': 0, 'max_samples': 10500, 'model_name': 'Qwen/Qwen3-30B-A3B'}\n"
     ]
    }
   ],
   "source": [
    "generation_params_path = os.path.join(response_path, 'generation_params.json')\n",
    "if os.path.exists(generation_params_path):\n",
    "    with open(generation_params_path, 'r') as f:\n",
    "        generation_params = json.load(f)\n",
    "    print(generation_params)"
   ]
  },
  {
   "cell_type": "code",
   "execution_count": 6,
   "id": "9411e0a2",
   "metadata": {},
   "outputs": [],
   "source": [
    "def count_tokens(text, tokenizer):\n",
    "    return len(tokenizer.encode(text, add_special_tokens=False))\n",
    "\n",
    "def content_token_counts(dataset, tokenizer, role='assistant'):\n",
    "    content_idx = -1 if role == 'assistant' else 0\n",
    "    counts = []\n",
    "    for item in dataset:\n",
    "        content = item['conversation'][content_idx]['content']\n",
    "        counts.append(count_tokens(content, tokenizer))\n",
    "    return counts\n",
    "\n",
    "tokenizer = AutoTokenizer.from_pretrained(model_name)\n",
    "counts = content_token_counts(dataset, tokenizer)"
   ]
  },
  {
   "cell_type": "code",
   "execution_count": 9,
   "id": "66ab135b",
   "metadata": {},
   "outputs": [],
   "source": [
    "import numpy as np"
   ]
  },
  {
   "cell_type": "code",
   "execution_count": 10,
   "id": "ddd6c263",
   "metadata": {},
   "outputs": [],
   "source": [
    "counts = np.array(counts)"
   ]
  },
  {
   "cell_type": "code",
   "execution_count": 11,
   "id": "3b440e37",
   "metadata": {},
   "outputs": [
    {
     "name": "stdout",
     "output_type": "stream",
     "text": [
      "2.4987506246876562e-05\n"
     ]
    }
   ],
   "source": [
    "import numpy as np\n",
    "print(np.sum(np.array(counts) ==counts.max())/len(counts))  # Didn't reach EOS"
   ]
  },
  {
   "cell_type": "code",
   "execution_count": 12,
   "id": "8d5d66ea",
   "metadata": {},
   "outputs": [
    {
     "data": {
      "text/plain": [
       "np.int64(156)"
      ]
     },
     "execution_count": 12,
     "metadata": {},
     "output_type": "execute_result"
    }
   ],
   "source": [
    "counts[2]"
   ]
  },
  {
   "cell_type": "code",
   "execution_count": 13,
   "id": "1351327b",
   "metadata": {},
   "outputs": [
    {
     "data": {
      "text/plain": [
       "{'conversation': [{'content': \"You are the text completion model and you must complete the assistant answer below, only send the completion based on the system instructions.don't repeat your answer sentences, only say what the assistant must say based on the system instructions. repeating same thing in same answer not allowed.\\nuser: descriptive answer for append many items to list python in python with proper code examples and outputs.\\nassistant: \",\n",
       "   'role': 'user'},\n",
       "  {'content': 'To append many items to a list in Python, you can use the `append()` method for single items or the `extend()` method to add multiple items from an iterable. For example:\\n\\n```python\\nmy_list = [1, 2, 3]\\nmy_list.append(4)\\nprint(my_list)  # Output: [1, 2, 3, 4]\\n\\nmy_list.extend([5, 6, 7])\\nprint(my_list)  # Output: [1, 2, 3, 4, 5, 6, 7]\\n```\\n\\nThe `append()` method adds a single element to the end of the list, while `extend()` adds all elements of the given iterable to the end of the list.',\n",
       "   'role': 'assistant'}]}"
      ]
     },
     "execution_count": 13,
     "metadata": {},
     "output_type": "execute_result"
    }
   ],
   "source": [
    "dataset[2]"
   ]
  },
  {
   "cell_type": "markdown",
   "id": "5513e501",
   "metadata": {},
   "source": [
    "# Conversion to ROT13"
   ]
  },
  {
   "cell_type": "code",
   "execution_count": 14,
   "id": "b86c9cd5",
   "metadata": {},
   "outputs": [],
   "source": [
    "import re\n",
    "import codecs\n",
    "\n",
    "def rot13_alpha(text):\n",
    "    # Apply ROT13 only to alphabetic substrings\n",
    "    def rot13_match(match):\n",
    "        return codecs.encode(match.group(0), 'rot_13')\n",
    "    # Substitute only [A-Za-z]+ substrings\n",
    "    return re.sub(r'[A-Za-z]+', rot13_match, text)\n",
    "\n",
    "def rot13_dataset(dataset):\n",
    "    new_dataset = []\n",
    "    n_items = 0\n",
    "    for item in dataset:\n",
    "        new_item = item.copy()\n",
    "        old_content = new_item['conversation'][-1]['content']\n",
    "        new_content = rot13_alpha(old_content)\n",
    "        new_item['conversation'][-1]['content'] = new_content\n",
    "        new_dataset.append(new_item)\n",
    "        n_items += 1\n",
    "    return new_dataset"
   ]
  },
  {
   "cell_type": "code",
   "execution_count": 15,
   "id": "105e90ff",
   "metadata": {},
   "outputs": [],
   "source": [
    "new_dataset = rot13_dataset(dataset)\n",
    "new_hf_dataset = Dataset.from_list(new_dataset)\n",
    "rot13_save_path = os.path.join(model_storage_dir, 'lm_sys_responses_rot13')\n",
    "#new_hf_dataset.save_to_disk(rot13_save_path)"
   ]
  },
  {
   "cell_type": "code",
   "execution_count": 16,
   "id": "9bc76831",
   "metadata": {},
   "outputs": [],
   "source": [
    "import matplotlib.pyplot as plt"
   ]
  },
  {
   "cell_type": "code",
   "execution_count": 23,
   "id": "1ec1d875",
   "metadata": {},
   "outputs": [],
   "source": [
    "asst_counts = np.array(content_token_counts(new_dataset, tokenizer))\n",
    "user_counts = np.array(content_token_counts(new_dataset, tokenizer, role='user'))"
   ]
  },
  {
   "cell_type": "code",
   "execution_count": 25,
   "id": "f717f51c",
   "metadata": {},
   "outputs": [
    {
     "data": {
      "text/plain": [
       "Text(0, 0.5, 'Frequency')"
      ]
     },
     "execution_count": 25,
     "metadata": {},
     "output_type": "execute_result"
    },
    {
     "data": {
      "image/png": "[encoded data removed]",
      "text/plain": [
       "<Figure size 300x200 with 1 Axes>"
      ]
     },
     "metadata": {},
     "output_type": "display_data"
    }
   ],
   "source": [
    "total_counts = asst_counts + user_counts\n",
    "plt.figure(figsize=(3,2))\n",
    "plt.hist(total_counts, bins=100)\n",
    "plt.xlabel('ROT-13 Data Length')\n",
    "plt.ylabel('Frequency')\n"
   ]
  },
  {
   "cell_type": "code",
   "execution_count": 18,
   "id": "b5638903",
   "metadata": {},
   "outputs": [
    {
     "data": {
      "text/plain": [
       "np.int64(1195)"
      ]
     },
     "execution_count": 18,
     "metadata": {},
     "output_type": "execute_result"
    },
    {
     "data": {
      "image/png": "[encoded data removed]",
      "text/plain": [
       "<Figure size 300x200 with 1 Axes>"
      ]
     },
     "metadata": {},
     "output_type": "display_data"
    }
   ],
   "source": [
    "counts = content_token_counts(new_dataset, tokenizer)\n",
    "counts = np.array(counts)\n",
    "plt.figure(figsize=(3,2))\n",
    "plt.hist(counts, bins=100)\n",
    "plt.xlabel('ROT-13 Assistant Token Count')\n",
    "plt.ylabel('Frequency')\n",
    "counts.max()"
   ]
  },
  {
   "cell_type": "code",
   "execution_count": 19,
   "id": "8e725d00",
   "metadata": {},
   "outputs": [
    {
     "data": {
      "text/plain": [
       "np.int64(352)"
      ]
     },
     "execution_count": 19,
     "metadata": {},
     "output_type": "execute_result"
    },
    {
     "data": {
      "image/png": "[encoded data removed]",
      "text/plain": [
       "<Figure size 300x200 with 1 Axes>"
      ]
     },
     "metadata": {},
     "output_type": "display_data"
    }
   ],
   "source": [
    "counts = content_token_counts(new_dataset, tokenizer, role='user')\n",
    "counts = np.array(counts)\n",
    "plt.figure(figsize=(3,2))\n",
    "plt.hist(counts, bins=100)\n",
    "plt.xlabel('ROT-13 User Token Count')\n",
    "plt.ylabel('Frequency')\n",
    "counts.max()"
   ]
  },
  {
   "cell_type": "code",
   "execution_count": 22,
   "id": "c8148b97",
   "metadata": {},
   "outputs": [
    {
     "data": {
      "text/plain": [
       "np.int64(409)"
      ]
     },
     "execution_count": 22,
     "metadata": {},
     "output_type": "execute_result"
    },
    {
     "data": {
      "image/png": "[encoded data removed]",
      "text/plain": [
       "<Figure size 300x200 with 1 Axes>"
      ]
     },
     "metadata": {},
     "output_type": "display_data"
    }
   ],
   "source": [
    "counts = content_token_counts(dataset, tokenizer)\n",
    "counts = np.array(counts)\n",
    "plt.figure(figsize=(3,2))\n",
    "plt.hist(counts, bins=100)\n",
    "plt.xlabel('Assistant Token Count')\n",
    "plt.ylabel('Frequency')\n",
    "counts.max()"
   ]
  },
  {
   "cell_type": "code",
   "execution_count": 18,
   "id": "124eceb1",
   "metadata": {},
   "outputs": [
    {
     "data": {
      "text/plain": [
       "{'conversation': [{'content': 'how can identity protection services help protect me against identity theft',\n",
       "   'role': 'user'},\n",
       "  {'content': \"Vqragvgl cebgrpgvba freivprf pna cynl n pehpvny ebyr va urycvat lbh cebgrpg lbhefrys ntnvafg vqragvgl gursg ol zbavgbevat, qrgrpgvat, naq erfcbaqvat gb cbgragvny guerngf. Urer'f ubj gurl pna uryc:\\n\\n---\\n\\n### **1. Pbagvahbhf Zbavgbevat bs Lbhe Crefbany Vasbezngvba**\\n- **Perqvg Ercbegf:** Znal freivprf zbavgbe lbhe perqvg ercbegf sbe fhfcvpvbhf npgvivgl, fhpu nf arj nppbhagf be ybnaf bcrarq va lbhe anzr.\\n- **Qnex Jro Zbavgbevat:** Gurl fpna gur qnex jro (uvqqra cnegf bs gur vagrearg) sbe lbhe crefbany vasbezngvba, yvxr Fbpvny Frphevgl ahzoref, perqvg pneq qrgnvyf, be ybtva perqragvnyf.\\n- **Choyvp Erpbeqf:** Gurl purpx choyvp erpbeqf sbe nal hanhgubevmrq hfr bs lbhe anzr be vasbezngvba.\\n\\n---\\n\\n### **2. Rneyl Qrgrpgvba bs Senhq**\\n- **Hahfhny Npgvivgl Nyregf:** Vs fbzrbar gevrf gb bcra n arj nppbhag, nccyl sbe n ybna, be znxr n chepunfr hfvat lbhe vqragvgl, gur freivpr pna nyreg lbh vzzrqvngryl.\\n- **Perqvg Fpber Zbavgbevat:** Fbzr freivprf genpx punatrf va lbhe perqvg fpber, juvpu pna or na rneyl fvta bs vqragvgl gursg.\\n\\n---\\n\\n### **3. Vqragvgl Gursg Erfcbafr naq Erpbirel**\\n- **Senhq Nyregf:** Vs vqragvgl gursg vf qrgrpgrq, gur freivpr pna uryc lbh cynpr senhq nyregf ba lbhe perqvg ercbegf.\\n- **Perqvg Serrmr Nffvfgnapr:** Gurl znl thvqr lbh guebhtu serrmvat lbhe perqvg gb cerirag arj nppbhagf sebz orvat bcrarq va lbhe anzr.\\n- **Vqragvgl Gursg Ercbegf:** Gurl pna uryc lbh svyr na bssvpvny vqragvgl gursg ercbeg jvgu gur Srqreny Genqr Pbzzvffvba (SGP) be bgure eryrinag nhgubevgvrf.\\n- **Erpbirel Fhccbeg:** Fbzr freivprf bssre fgrc-ol-fgrc thvqnapr be rira qverpg nffvfgnapr va erpbirevat lbhe vqragvgl naq erfgbevat lbhe perqvg.\\n\\n---\\n\\n### **4. Vqragvgl Gursg Vafhenapr**\\n- Fbzr freivprf vapyhqr **vqragvgl gursg vafhenapr** gung pbiref pbfgf eryngrq gb senhq, fhpu nf yrtny srrf, ybfg jntrf, be rkcrafrf vapheerq qhevat erpbirel.\\n\\n---\\n\\n### **5. Frpher Fgbentr bs Frafvgvir Vasbezngvba**\\n- Fbzr freivprf bssre **frpher qvtvgny inhygf** jurer lbh pna fgber frafvgvir qbphzragf (r.t., Fbpvny Frphevgl pneqf, cnffcbegf) va na rapelcgrq sbezng, erqhpvat gur evfx\",\n",
       "   'role': 'assistant'}]}"
      ]
     },
     "execution_count": 18,
     "metadata": {},
     "output_type": "execute_result"
    }
   ],
   "source": [
    "new_hf_dataset[0]"
   ]
  },
  {
   "cell_type": "code",
   "execution_count": 19,
   "id": "d077244c",
   "metadata": {},
   "outputs": [
    {
     "data": {
      "text/plain": [
       "Dataset({\n",
       "    features: ['conversation'],\n",
       "    num_rows: 40020\n",
       "})"
      ]
     },
     "execution_count": 19,
     "metadata": {},
     "output_type": "execute_result"
    }
   ],
   "source": [
    "new_hf_dataset"
   ]
  },
  {
   "cell_type": "markdown",
   "id": "d939f268",
   "metadata": {},
   "source": [
    "# Load to Huggingface"
   ]
  },
  {
   "cell_type": "code",
   "execution_count": 20,
   "id": "d55e2eaf",
   "metadata": {},
   "outputs": [
    {
     "data": {
      "application/vnd.jupyter.widget-view+json": {
       "model_id": "5e9689b5e0ae46dba4bac6d8c6629151",
       "version_major": 2,
       "version_minor": 0
      },
      "text/plain": [
       "Uploading the dataset shards:   0%|          | 0/1 [00:00<?, ? shards/s]"
      ]
     },
     "metadata": {},
     "output_type": "display_data"
    },
    {
     "data": {
      "application/vnd.jupyter.widget-view+json": {
       "model_id": "83bc3b5aecc847e0a71e43f88f196e55",
       "version_major": 2,
       "version_minor": 0
      },
      "text/plain": [
       "Creating parquet from Arrow format:   0%|          | 0/41 [00:00<?, ?ba/s]"
      ]
     },
     "metadata": {},
     "output_type": "display_data"
    },
    {
     "data": {
      "text/plain": [
       "CommitInfo(commit_url='https://huggingface.co/datasets/chingfang17/qwen_rot13_responses/commit/d4b938da0c85492b7fe33381008ce60334bb58b5', commit_message='Upload dataset', commit_description='', oid='d4b938da0c85492b7fe33381008ce60334bb58b5', pr_url=None, repo_url=RepoUrl('https://huggingface.co/datasets/chingfang17/qwen_rot13_responses', endpoint='https://huggingface.co', repo_type='dataset', repo_id='chingfang17/qwen_rot13_responses'), pr_revision=None, pr_num=None)"
      ]
     },
     "execution_count": 20,
     "metadata": {},
     "output_type": "execute_result"
    }
   ],
   "source": [
    "new_hf_dataset.push_to_hub(\"chingfang17/qwen_rot13_responses\")"
   ]
  },
  {
   "cell_type": "code",
   "execution_count": 20,
   "id": "6dae0c19",
   "metadata": {},
   "outputs": [],
   "source": [
    "from datasets import load_dataset"
   ]
  },
  {
   "cell_type": "code",
   "execution_count": 21,
   "id": "ac3faa11",
   "metadata": {},
   "outputs": [
    {
     "name": "stderr",
     "output_type": "stream",
     "text": [
      "Generating train split: 100%|██████████| 40020/40020 [00:01<00:00, 36063.56 examples/s]\n"
     ]
    }
   ],
   "source": [
    "x = load_dataset(\"chingfang17/qwen_rot13_responses\")"
   ]
  },
  {
   "cell_type": "code",
   "execution_count": 24,
   "id": "1a8010f7",
   "metadata": {},
   "outputs": [
    {
     "data": {
      "text/plain": [
       "{'conversation': [{'content': 'how can identity protection services help protect me against identity theft',\n",
       "   'role': 'user'},\n",
       "  {'content': \"Vqragvgl cebgrpgvba freivprf pna cynl n pehpvny ebyr va urycvat lbh cebgrpg lbhefrys ntnvafg vqragvgl gursg ol zbavgbevat, qrgrpgvat, naq erfcbaqvat gb cbgragvny guerngf. Urer'f ubj gurl pna uryc:\\n\\n---\\n\\n### **1. Pbagvahbhf Zbavgbevat bs Lbhe Crefbany Vasbezngvba**\\n- **Perqvg Ercbegf:** Znal freivprf zbavgbe lbhe perqvg ercbegf sbe fhfcvpvbhf npgvivgl, fhpu nf arj nppbhagf be ybnaf bcrarq va lbhe anzr.\\n- **Qnex Jro Zbavgbevat:** Gurl fpna gur qnex jro (uvqqra cnegf bs gur vagrearg) sbe lbhe crefbany vasbezngvba, yvxr Fbpvny Frphevgl ahzoref, perqvg pneq qrgnvyf, be ybtva perqragvnyf.\\n- **Choyvp Erpbeqf:** Gurl purpx choyvp erpbeqf sbe nal hanhgubevmrq hfr bs lbhe anzr be vasbezngvba.\\n\\n---\\n\\n### **2. Rneyl Qrgrpgvba bs Senhq**\\n- **Hahfhny Npgvivgl Nyregf:** Vs fbzrbar gevrf gb bcra n arj nppbhag, nccyl sbe n ybna, be znxr n chepunfr hfvat lbhe vqragvgl, gur freivpr pna nyreg lbh vzzrqvngryl.\\n- **Perqvg Fpber Zbavgbevat:** Fbzr freivprf genpx punatrf va lbhe perqvg fpber, juvpu pna or na rneyl fvta bs vqragvgl gursg.\\n\\n---\\n\\n### **3. Vqragvgl Gursg Erfcbafr naq Erpbirel**\\n- **Senhq Nyregf:** Vs vqragvgl gursg vf qrgrpgrq, gur freivpr pna uryc lbh cynpr senhq nyregf ba lbhe perqvg ercbegf.\\n- **Perqvg Serrmr Nffvfgnapr:** Gurl znl thvqr lbh guebhtu serrmvat lbhe perqvg gb cerirag arj nppbhagf sebz orvat bcrarq va lbhe anzr.\\n- **Vqragvgl Gursg Ercbegf:** Gurl pna uryc lbh svyr na bssvpvny vqragvgl gursg ercbeg jvgu gur Srqreny Genqr Pbzzvffvba (SGP) be bgure eryrinag nhgubevgvrf.\\n- **Erpbirel Fhccbeg:** Fbzr freivprf bssre fgrc-ol-fgrc thvqnapr be rira qverpg nffvfgnapr va erpbirevat lbhe vqragvgl naq erfgbevat lbhe perqvg.\\n\\n---\\n\\n### **4. Vqragvgl Gursg Vafhenapr**\\n- Fbzr freivprf vapyhqr **vqragvgl gursg vafhenapr** gung pbiref pbfgf eryngrq gb senhq, fhpu nf yrtny srrf, ybfg jntrf, be rkcrafrf vapheerq qhevat erpbirel.\\n\\n---\\n\\n### **5. Frpher Fgbentr bs Frafvgvir Vasbezngvba**\\n- Fbzr freivprf bssre **frpher qvtvgny inhygf** jurer lbh pna fgber frafvgvir qbphzragf (r.t., Fbpvny Frphevgl pneqf, cnffcbegf) va na rapelcgrq sbezng, erqhpvat gur evfx\",\n",
       "   'role': 'assistant'}]}"
      ]
     },
     "execution_count": 24,
     "metadata": {},
     "output_type": "execute_result"
    }
   ],
   "source": [
    "x['train'][0]"
   ]
  },
  {
   "cell_type": "code",
   "execution_count": null,
   "id": "3cffcf67",
   "metadata": {},
   "outputs": [],
   "source": []
  }
 ],
 "metadata": {
  "kernelspec": {
   "display_name": "cbai",
   "language": "python",
   "name": "python3"
  },
  "language_info": {
   "codemirror_mode": {
    "name": "ipython",
    "version": 3
   },
   "file_extension": ".py",
   "mimetype": "text/x-python",
   "name": "python",
   "nbconvert_exporter": "python",
   "pygments_lexer": "ipython3",
   "version": "3.12.5"
  }
 },
 "nbformat": 4,
 "nbformat_minor": 5
}
