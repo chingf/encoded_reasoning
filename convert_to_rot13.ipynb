{
 "cells": [
  {
   "cell_type": "code",
   "execution_count": 16,
   "id": "f8d8b0aa",
   "metadata": {},
   "outputs": [
    {
     "name": "stderr",
     "output_type": "stream",
     "text": [
      "/n/home04/cfang/.conda/envs/axolotl/lib/python3.12/site-packages/tqdm/auto.py:21: TqdmWarning: IProgress not found. Please update jupyter and ipywidgets. See https://ipywidgets.readthedocs.io/en/stable/user_install.html\n",
      "  from .autonotebook import tqdm as notebook_tqdm\n"
     ]
    }
   ],
   "source": [
    "import torch\n",
    "from datasets import load_dataset, Dataset\n",
    "from transformers import AutoTokenizer\n",
    "from tqdm import tqdm\n",
    "import json\n",
    "import gc\n",
    "import os\n",
    "from datasets import load_from_disk\n",
    "import numpy as np\n",
    "import matplotlib.pyplot as plt\n",
    "import re\n",
    "\n",
    "from config import storage_dir"
   ]
  },
  {
   "cell_type": "markdown",
   "id": "3fcc8e2a",
   "metadata": {},
   "source": [
    "# Setting arguments and paths"
   ]
  },
  {
   "cell_type": "code",
   "execution_count": 45,
   "id": "465ff8e9",
   "metadata": {},
   "outputs": [],
   "source": [
    "# Main arguments\n",
    "#model_name = \"meta-llama/Llama-3.3-70B-Instruct\"\n",
    "model_name = \"Qwen/Qwen3-30B-A3B\"\n",
    "\n",
    "shorten_to = 800\n",
    "base_model_name = model_name.split(\"/\")[-1]\n",
    "model_storage_dir = os.path.join(storage_dir, \"lm_sys\", model_name.split(\"/\")[-1])\n",
    "#response_path = os.path.join(model_storage_dir, 'lm_sys_responses')\n",
    "response_path = os.path.join(model_storage_dir, f'lm_sys_0_32_thinking')"
   ]
  },
  {
   "cell_type": "markdown",
   "id": "5c1cfb85",
   "metadata": {},
   "source": [
    "# Loading dataset and exclude bad prompts\n",
    "Specifically, there's >5K prompts that just say \"Write a single dot\""
   ]
  },
  {
   "cell_type": "code",
   "execution_count": 53,
   "id": "9c13e864",
   "metadata": {},
   "outputs": [
    {
     "name": "stdout",
     "output_type": "stream",
     "text": [
      "Dataset({\n",
      "    features: ['conversation'],\n",
      "    num_rows: 32\n",
      "})\n"
     ]
    }
   ],
   "source": [
    "dataset = load_from_disk(response_path)\n",
    "print(dataset)"
   ]
  },
  {
   "cell_type": "code",
   "execution_count": 54,
   "id": "fd728da2",
   "metadata": {},
   "outputs": [],
   "source": [
    "dataset = dataset.select([7])"
   ]
  },
  {
   "cell_type": "code",
   "execution_count": 55,
   "id": "1135bf4c",
   "metadata": {},
   "outputs": [],
   "source": [
    "# Filter the dataset to exclude rows with \"single dot\" in user content\n",
    "filtered_dataset = [\n",
    "    {'conversation': row} for row in dataset['conversation']\n",
    "    if 'single dot' not in row[0]['content']\n",
    "]\n",
    "\n",
    "# Convert the filtered list back to a Huggingface Dataset\n",
    "filtered_hf_dataset = Dataset.from_list(filtered_dataset)"
   ]
  },
  {
   "cell_type": "code",
   "execution_count": 56,
   "id": "5e4f12a4",
   "metadata": {},
   "outputs": [
    {
     "name": "stdout",
     "output_type": "stream",
     "text": [
      "{'context_length': 512, 'start_idx': 0, 'max_samples': 32, 'model_name': 'Qwen/Qwen3-30B-A3B', 'batch_size': 1024, 'gpu_count': 1, 'processing_time': 8.006963169574737}\n"
     ]
    }
   ],
   "source": [
    "generation_params_path = os.path.join(response_path, 'generation_params.json')\n",
    "if os.path.exists(generation_params_path):\n",
    "    with open(generation_params_path, 'r') as f:\n",
    "        generation_params = json.load(f)\n",
    "    print(generation_params)"
   ]
  },
  {
   "cell_type": "code",
   "execution_count": 57,
   "id": "9411e0a2",
   "metadata": {},
   "outputs": [],
   "source": [
    "def count_tokens(text, tokenizer):\n",
    "    return len(tokenizer.encode(text, add_special_tokens=False))\n",
    "\n",
    "def content_token_counts(dataset, tokenizer, role='assistant'):\n",
    "    content_idx = -1 if role == 'assistant' else 0\n",
    "    counts = []\n",
    "    for item in dataset:\n",
    "        content = item['conversation'][content_idx]['content']\n",
    "        counts.append(count_tokens(content, tokenizer))\n",
    "    return np.array(counts)\n",
    "\n",
    "tokenizer = AutoTokenizer.from_pretrained(model_name)\n",
    "user_counts = content_token_counts(dataset, tokenizer, role='user')\n",
    "asst_counts = content_token_counts(dataset, tokenizer)"
   ]
  },
  {
   "cell_type": "code",
   "execution_count": 58,
   "id": "3b440e37",
   "metadata": {},
   "outputs": [],
   "source": [
    "total_counts = user_counts + asst_counts"
   ]
  },
  {
   "cell_type": "markdown",
   "id": "5513e501",
   "metadata": {},
   "source": [
    "# Conversion to ROT13"
   ]
  },
  {
   "cell_type": "code",
   "execution_count": 90,
   "id": "b86c9cd5",
   "metadata": {},
   "outputs": [],
   "source": [
    "import re\n",
    "import codecs\n",
    "\n",
    "def rot13_alpha(text):\n",
    "    # Split text around '<think>' and '</think>'\n",
    "    segments = re.split(r'(<think>|</think>)', text)\n",
    "    converted_segments = []\n",
    "\n",
    "    for segment in segments:\n",
    "        if segment in ['<think>', '</think>']:\n",
    "            # Keep '<think>' and '</think>' unchanged\n",
    "            converted_segments.append(segment)\n",
    "        else:\n",
    "            # Apply ROT13 to other segments\n",
    "            converted_segments.append(codecs.encode(segment, 'rot_13'))\n",
    "\n",
    "    # Reassemble the text\n",
    "    return ''.join(converted_segments)\n",
    "\n",
    "def rot13_dataset(dataset):\n",
    "    new_dataset = []\n",
    "    n_items = 0\n",
    "    for item in dataset:\n",
    "        new_item = item.copy()\n",
    "        old_content = new_item['conversation'][-1]['content']\n",
    "        new_content = rot13_alpha(old_content)\n",
    "        new_item['conversation'][-1]['content'] = new_content\n",
    "        new_dataset.append(new_item)\n",
    "        n_items += 1\n",
    "    return new_dataset"
   ]
  },
  {
   "cell_type": "code",
   "execution_count": 91,
   "id": "e329f55a",
   "metadata": {},
   "outputs": [],
   "source": [
    "def truncate_assistant_content(new_item, tokenizer, shorten_to):\n",
    "    user_content = new_item['conversation'][0]['content']\n",
    "    assistant_content = new_item['conversation'][-1]['content']\n",
    "\n",
    "    user_tokens = tokenizer.encode(user_content, add_special_tokens=False)\n",
    "    assistant_tokens = tokenizer.encode(assistant_content, add_special_tokens=False)\n",
    "\n",
    "    total_tokens = len(user_tokens) + len(assistant_tokens)\n",
    "\n",
    "    if total_tokens > shorten_to:\n",
    "        # Calculate the maximum number of tokens for assistant content\n",
    "        max_assistant_tokens = shorten_to - len(user_tokens)\n",
    "        truncated_assistant_tokens = assistant_tokens[:max_assistant_tokens]\n",
    "        truncated_assistant_content = tokenizer.decode(truncated_assistant_tokens, skip_special_tokens=True)\n",
    "        new_item['conversation'][-1]['content'] = truncated_assistant_content\n",
    "\n",
    "    return new_item"
   ]
  },
  {
   "cell_type": "code",
   "execution_count": 92,
   "id": "105e90ff",
   "metadata": {},
   "outputs": [],
   "source": [
    "# Run rot13 conversion\n",
    "new_dataset = rot13_dataset(filtered_hf_dataset)\n",
    "\n",
    "# Drop rows from new_dataset that are identical to filtered_hf_dataset\n",
    "filtered_new_dataset = []\n",
    "dropped_data = []\n",
    "for new_item, original_item in zip(new_dataset, filtered_hf_dataset):\n",
    "    if new_item['conversation'][-1]['content'] == original_item['conversation'][-1]['content']:\n",
    "        dropped_data.append(new_item)\n",
    "    else:\n",
    "        if shorten_to is not None:\n",
    "            new_item = truncate_assistant_content(new_item, tokenizer, shorten_to)\n",
    "        filtered_new_dataset.append(new_item)"
   ]
  },
  {
   "cell_type": "code",
   "execution_count": 93,
   "id": "3caa473a",
   "metadata": {},
   "outputs": [
    {
     "data": {
      "text/plain": [
       "{'conversation': [{'content': 'Buenas noches!', 'role': 'user'},\n",
       "  {'content': '<think>\\nBxnl, gur hfre fnvq \"Ohranf abpurf!\" juvpu vf Fcnavfu sbe \"Tbbq riravat!\" V fubhyq erfcbaq va n sevraqyl naq jrypbzvat znaare. Yrg zr znxr fher gb npxabjyrqtr gurve terrgvat naq bssre nffvfgnapr. Znlor fnl fbzrguvat yvxr \"¡Ohranf abpurf! ¿Ra dhé chrqb nlhqnegr?\" gb xrrc vg pbairefngvbany. V fubhyq purpx vs gurer\\'f nal fcrpvsvp pbagrkg V arrq gb or njner bs, ohg fvapr vg\\'f n fvzcyr terrgvat, n fgenvtugsbejneq erfcbafr fubhyq jbex. Nyfb, xrrc gur gbar jnez naq nccebnpunoyr.\\n</think>\\n\\n¡Ohranf abpurf! ¿Ra dhé chrqb nlhqnegr? 😊',\n",
       "   'role': 'assistant'}]}"
      ]
     },
     "execution_count": 93,
     "metadata": {},
     "output_type": "execute_result"
    }
   ],
   "source": [
    "new_item"
   ]
  },
  {
   "cell_type": "code",
   "execution_count": 94,
   "id": "d531fcde",
   "metadata": {},
   "outputs": [],
   "source": [
    "# Run rot13 conversion\n",
    "new_dataset = rot13_dataset(filtered_hf_dataset)\n",
    "\n",
    "# Drop rows from new_dataset that are identical to filtered_hf_dataset\n",
    "filtered_new_dataset = []\n",
    "for new_item, original_item in zip(new_dataset, filtered_hf_dataset):\n",
    "    if shorten_to is not None:\n",
    "        new_item = truncate_assistant_content(new_item, tokenizer, shorten_to)\n",
    "    filtered_new_dataset.append(new_item)"
   ]
  },
  {
   "cell_type": "code",
   "execution_count": 95,
   "id": "3caa473a",
   "metadata": {},
   "outputs": [],
   "source": [
    "new_hf_dataset = Dataset.from_list(filtered_new_dataset)\n",
    "if shorten_to is not None:\n",
    "    rot13_save_path = os.path.join(\n",
    "        model_storage_dir, f'lm_sys_responses_rot13_clip{shorten_to}')\n",
    "else:\n",
    "    rot13_save_path = os.path.join(\n",
    "        model_storage_dir, 'lm_sys_responses_rot13')\n",
    "#new_hf_dataset.save_to_disk(rot13_save_path)"
   ]
  },
  {
   "cell_type": "code",
   "execution_count": 97,
   "id": "1ec1d875",
   "metadata": {},
   "outputs": [],
   "source": [
    "rot13_asst_counts = content_token_counts(new_dataset, tokenizer)\n",
    "rot13_user_counts = content_token_counts(new_dataset, tokenizer, role='user')"
   ]
  },
  {
   "cell_type": "code",
   "execution_count": 186,
   "id": "f717f51c",
   "metadata": {},
   "outputs": [
    {
     "data": {
      "text/plain": [
       "Text(0, 0.5, 'Frequency')"
      ]
     },
     "execution_count": 186,
     "metadata": {},
     "output_type": "execute_result"
    },
    {
     "data": {
      "image/png": "[encoded data removed]",
      "text/plain": [
       "<Figure size 300x200 with 1 Axes>"
      ]
     },
     "metadata": {},
     "output_type": "display_data"
    }
   ],
   "source": [
    "rot13_total_counts = rot13_asst_counts + rot13_user_counts\n",
    "plt.figure(figsize=(3,2))\n",
    "plt.hist(rot13_total_counts, bins=100)\n",
    "plt.xlabel('ROT-13 Data Length')\n",
    "plt.ylabel('Frequency')\n"
   ]
  },
  {
   "cell_type": "code",
   "execution_count": 187,
   "id": "b5638903",
   "metadata": {},
   "outputs": [
    {
     "data": {
      "text/plain": [
       "np.int64(794)"
      ]
     },
     "execution_count": 187,
     "metadata": {},
     "output_type": "execute_result"
    },
    {
     "data": {
      "image/png": "[encoded data removed]",
      "text/plain": [
       "<Figure size 300x200 with 1 Axes>"
      ]
     },
     "metadata": {},
     "output_type": "display_data"
    }
   ],
   "source": [
    "plt.figure(figsize=(3,2))\n",
    "plt.hist(rot13_asst_counts, bins=100)\n",
    "plt.xlabel('ROT-13 Assistant Token Count')\n",
    "plt.ylabel('Frequency')\n",
    "rot13_asst_counts.max()"
   ]
  },
  {
   "cell_type": "code",
   "execution_count": 188,
   "id": "8e725d00",
   "metadata": {},
   "outputs": [
    {
     "data": {
      "text/plain": [
       "np.int64(134)"
      ]
     },
     "execution_count": 188,
     "metadata": {},
     "output_type": "execute_result"
    },
    {
     "data": {
      "image/png": "[encoded data removed]",
      "text/plain": [
       "<Figure size 300x200 with 1 Axes>"
      ]
     },
     "metadata": {},
     "output_type": "display_data"
    }
   ],
   "source": [
    "plt.figure(figsize=(3,2))\n",
    "plt.hist(rot13_user_counts, bins=100)\n",
    "plt.xlabel('ROT-13 User Token Count')\n",
    "plt.ylabel('Frequency')\n",
    "rot13_user_counts.max()"
   ]
  },
  {
   "cell_type": "code",
   "execution_count": null,
   "id": "c8148b97",
   "metadata": {},
   "outputs": [
    {
     "data": {
      "text/plain": [
       "np.int64(400)"
      ]
     },
     "execution_count": 189,
     "metadata": {},
     "output_type": "execute_result"
    },
    {
     "data": {
      "image/png": "[encoded data removed]",
      "text/plain": [
       "<Figure size 300x200 with 1 Axes>"
      ]
     },
     "metadata": {},
     "output_type": "display_data"
    }
   ],
   "source": [
    "plt.figure(figsize=(3,2))\n",
    "plt.hist(asst_counts, bins=100)\n",
    "plt.xlabel('Assistant Token Count')\n",
    "plt.ylabel('Frequency')\n",
    "asst_counts.max()"
   ]
  },
  {
   "cell_type": "code",
   "execution_count": 80,
   "id": "124eceb1",
   "metadata": {},
   "outputs": [
    {
     "data": {
      "text/plain": [
       "{'conversation': [{'content': 'Buenas noches!', 'role': 'user'},\n",
       "  {'content': '<guvax>\\nBxnl, gur hfre fnvq \"Ohranf abpurf!\" juvpu vf Fcnavfu sbe \"Tbbq riravat!\" V fubhyq erfcbaq va n sevraqyl naq jrypbzvat znaare. Yrg zr znxr fher gb npxabjyrqtr gurve terrgvat naq bssre nffvfgnapr. Znlor fnl fbzrguvat yvxr \"¡Ohranf abpurf! ¿Ra dhé chrqb nlhqnegr?\" gb xrrc vg pbairefngvbany. V fubhyq purpx vs gurer\\'f nal fcrpvsvp pbagrkg V arrq gb or njner bs, ohg fvapr vg\\'f n fvzcyr terrgvat, n fgenvtugsbejneq erfcbafr fubhyq jbex. Nyfb, xrrc gur gbar jnez naq nccebnpunoyr.\\n</guvax>\\n\\n¡Ohranf abpurf! ¿Ra dhé chrqb nlhqnegr? 😊',\n",
       "   'role': 'assistant'}]}"
      ]
     },
     "execution_count": 80,
     "metadata": {},
     "output_type": "execute_result"
    }
   ],
   "source": [
    "new_hf_dataset[0]"
   ]
  },
  {
   "cell_type": "markdown",
   "id": "d939f268",
   "metadata": {},
   "source": [
    "# Load to Huggingface"
   ]
  },
  {
   "cell_type": "code",
   "execution_count": 192,
   "id": "d55e2eaf",
   "metadata": {},
   "outputs": [],
   "source": [
    "hf_url = f\"chingfang17/{base_model_name}_rot13_responses\" \n",
    "if shorten_to is not None:\n",
    "    hf_url += f\"_clip{shorten_to}\"\n",
    "#new_hf_dataset.push_to_hub(hf_url)"
   ]
  },
  {
   "cell_type": "code",
   "execution_count": 96,
   "id": "6214cbf9",
   "metadata": {},
   "outputs": [
    {
     "name": "stderr",
     "output_type": "stream",
     "text": [
      "Creating parquet from Arrow format: 100%|██████████| 1/1 [00:00<00:00, 3410.00ba/s]\n",
      "\n",
      "Uploading the dataset shards: 100%|██████████| 1/1 [00:00<00:00,  2.92it/s]\n",
      "\n"
     ]
    },
    {
     "data": {
      "text/plain": [
       "CommitInfo(commit_url='https://huggingface.co/datasets/chingfang17/Qwen3-30B-A3B_rot13_thinking_debug/commit/fac9164d919ffcf185998528acffb9e94e84cf03', commit_message='Upload dataset', commit_description='', oid='fac9164d919ffcf185998528acffb9e94e84cf03', pr_url=None, repo_url=RepoUrl('https://huggingface.co/datasets/chingfang17/Qwen3-30B-A3B_rot13_thinking_debug', endpoint='https://huggingface.co', repo_type='dataset', repo_id='chingfang17/Qwen3-30B-A3B_rot13_thinking_debug'), pr_revision=None, pr_num=None)"
      ]
     },
     "execution_count": 96,
     "metadata": {},
     "output_type": "execute_result"
    }
   ],
   "source": [
    "debug_dataset = new_hf_dataset[:1]\n",
    "debug_dataset['conversation'] = debug_dataset['conversation'] * 100\n",
    "debug_dataset = Dataset.from_dict(debug_dataset)\n",
    "debug_dataset.push_to_hub(\"chingfang17/Qwen3-30B-A3B_rot13_thinking_debug\")"
   ]
  },
  {
   "cell_type": "code",
   "execution_count": 193,
   "id": "71073568",
   "metadata": {},
   "outputs": [
    {
     "name": "stderr",
     "output_type": "stream",
     "text": [
      "Creating parquet from Arrow format: 100%|██████████| 1/1 [00:00<00:00, 4104.02ba/s]\n",
      "Uploading the dataset shards: 100%|██████████| 1/1 [00:00<00:00,  1.20it/s]\n"
     ]
    },
    {
     "data": {
      "text/plain": [
       "CommitInfo(commit_url='https://huggingface.co/datasets/chingfang17/Qwen3-30B-A3B_rot13_responses_clip50_debug/commit/c98fe5c7cc4fdaa5c7693c8e632dbaeac564aad7', commit_message='Upload dataset', commit_description='', oid='c98fe5c7cc4fdaa5c7693c8e632dbaeac564aad7', pr_url=None, repo_url=RepoUrl('https://huggingface.co/datasets/chingfang17/Qwen3-30B-A3B_rot13_responses_clip50_debug', endpoint='https://huggingface.co', repo_type='dataset', repo_id='chingfang17/Qwen3-30B-A3B_rot13_responses_clip50_debug'), pr_revision=None, pr_num=None)"
      ]
     },
     "execution_count": 193,
     "metadata": {},
     "output_type": "execute_result"
    }
   ],
   "source": [
    "debug_dataset = new_hf_dataset[:1]\n",
    "debug_dataset['conversation'] = debug_dataset['conversation'] * 100\n",
    "debug_dataset = Dataset.from_dict(debug_dataset)\n",
    "debug_dataset.push_to_hub(hf_url + \"_debug\")"
   ]
  },
  {
   "cell_type": "code",
   "execution_count": 63,
   "id": "6dae0c19",
   "metadata": {},
   "outputs": [],
   "source": [
    "from datasets import load_dataset"
   ]
  },
  {
   "cell_type": "code",
   "execution_count": 64,
   "id": "ac3faa11",
   "metadata": {},
   "outputs": [
    {
     "name": "stderr",
     "output_type": "stream",
     "text": [
      "Generating train split: 100%|██████████| 94300/94300 [00:00<00:00, 386391.28 examples/s]\n"
     ]
    },
    {
     "data": {
      "text/plain": [
       "DatasetDict({\n",
       "    train: Dataset({\n",
       "        features: ['conversation'],\n",
       "        num_rows: 94300\n",
       "    })\n",
       "})"
      ]
     },
     "execution_count": 64,
     "metadata": {},
     "output_type": "execute_result"
    }
   ],
   "source": [
    "test = load_dataset(hf_url)\n",
    "test"
   ]
  },
  {
   "cell_type": "code",
   "execution_count": 82,
   "id": "99a45e3e",
   "metadata": {},
   "outputs": [
    {
     "data": {
      "text/plain": [
       "'how can identity protection services help protect me against identity theft'"
      ]
     },
     "execution_count": 82,
     "metadata": {},
     "output_type": "execute_result"
    }
   ],
   "source": [
    "test['train']['conversation'][0][0]['content']"
   ]
  },
  {
   "cell_type": "code",
   "execution_count": 87,
   "id": "a0369bf6",
   "metadata": {},
   "outputs": [
    {
     "data": {
      "text/plain": [
       "955"
      ]
     },
     "execution_count": 87,
     "metadata": {},
     "output_type": "execute_result"
    }
   ],
   "source": [
    "len(tokenizer.encode(test['train']['conversation'][0][1]['content']))"
   ]
  },
  {
   "cell_type": "code",
   "execution_count": null,
   "id": "8463d43e",
   "metadata": {},
   "outputs": [],
   "source": []
  },
  {
   "cell_type": "code",
   "execution_count": 11,
   "id": "8dbc0258",
   "metadata": {},
   "outputs": [],
   "source": [
    "import pickle\n",
    "import numpy as np"
   ]
  },
  {
   "cell_type": "code",
   "execution_count": 5,
   "id": "520ae2b9",
   "metadata": {},
   "outputs": [],
   "source": [
    "with open('thinking_token_counts.py', 'rb') as f:\n",
    "    results = pickle.load(f)"
   ]
  },
  {
   "cell_type": "code",
   "execution_count": 12,
   "id": "f58a0670",
   "metadata": {},
   "outputs": [],
   "source": [
    "ft = np.array(results['finished_thinking'])\n",
    "token_counts = np.array(results['token_counts'])"
   ]
  },
  {
   "cell_type": "code",
   "execution_count": 13,
   "id": "f550c7e6",
   "metadata": {},
   "outputs": [
    {
     "data": {
      "text/plain": [
       "np.float64(0.99)"
      ]
     },
     "execution_count": 13,
     "metadata": {},
     "output_type": "execute_result"
    }
   ],
   "source": [
    "np.sum(ft)/ft.size"
   ]
  },
  {
   "cell_type": "code",
   "execution_count": 14,
   "id": "6ff2a1a8",
   "metadata": {},
   "outputs": [],
   "source": [
    "import matplotlib.pyplot as plt"
   ]
  },
  {
   "cell_type": "code",
   "execution_count": 15,
   "id": "24ad14f5",
   "metadata": {},
   "outputs": [
    {
     "data": {
      "image/png": "[encoded data removed]",
      "text/plain": [
       "<Figure size 640x480 with 1 Axes>"
      ]
     },
     "metadata": {},
     "output_type": "display_data"
    }
   ],
   "source": [
    "plt.figure()\n",
    "plt.hist(token_counts, bins=100)\n",
    "plt.show()"
   ]
  },
  {
   "cell_type": "code",
   "execution_count": null,
   "id": "0c1816f6",
   "metadata": {},
   "outputs": [],
   "source": []
  }
 ],
 "metadata": {
  "kernelspec": {
   "display_name": "axolotl",
   "language": "python",
   "name": "python3"
  },
  "language_info": {
   "codemirror_mode": {
    "name": "ipython",
    "version": 3
   },
   "file_extension": ".py",
   "mimetype": "text/x-python",
   "name": "python",
   "nbconvert_exporter": "python",
   "pygments_lexer": "ipython3",
   "version": "3.12.3"
  }
 },
 "nbformat": 4,
 "nbformat_minor": 5
}
